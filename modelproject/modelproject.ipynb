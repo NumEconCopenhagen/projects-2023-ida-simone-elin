{
 "cells": [
  {
   "attachments": {},
   "cell_type": "markdown",
   "metadata": {},
   "source": [
    "# The Solow model with climate change"
   ]
  },
  {
   "cell_type": "markdown",
   "metadata": {},
   "source": [
    "Imports and set magics:"
   ]
  },
  {
   "cell_type": "code",
   "execution_count": 1,
   "metadata": {},
   "outputs": [],
   "source": [
    "import numpy as np\n",
    "from scipy import optimize\n",
    "import sympy as sm\n",
    "import matplotlib.pyplot as plt\n",
    "from sympy.solvers import solve\n",
    "from sympy import Symbol, symbols, Eq, solve\n",
    "import ipywidgets as widgets\n",
    "from ipywidgets import interact, interactive, fixed, interact_manual\n",
    "\n",
    "from tabulate import tabulate\n",
    "\n",
    "# autoreload modules when code is run\n",
    "%load_ext autoreload\n",
    "%autoreload 2\n",
    "\n",
    "# local modules\n",
    "import modelproject\n",
    "from modelproject import SolowModelClass \n",
    "model = SolowModelClass()"
   ]
  },
  {
   "cell_type": "markdown",
   "metadata": {},
   "source": [
    "# Model description"
   ]
  },
  {
   "attachments": {},
   "cell_type": "markdown",
   "metadata": {},
   "source": [
    "Our model project is greatly inspired by the exam in Macroeconomics I from 09 January 2020. The exam looks at the classic Solow model with technological growth and explores different levels of climate change, that cause damage to the production output with the fraction D. "
   ]
  },
  {
   "attachments": {},
   "cell_type": "markdown",
   "metadata": {},
   "source": [
    "$$\n",
    "\\begin{aligned}\n",
    "Y_t &= [1-D]K_t^\\alpha (A_t L_t)^{1-\\alpha}, 0 <\\alpha<1\\\\\n",
    "D &= 1-\\frac{1}{1+\\sigma{(\\Delta T)}^2}, \\sigma > 0 \\\\\n",
    "K_{t+1} &= s Y_t+(1-\\delta) K_t, 0<s<1,0<\\delta<1,K_0>0 \\\\\n",
    "A_{t+1} &=(1+g)A_t, A_0>0 \\\\\n",
    "L_{t+1} &=(1+n)A_t, L_0>0\n",
    "\\end{aligned}\n",
    "$$"
   ]
  },
  {
   "attachments": {},
   "cell_type": "markdown",
   "metadata": {},
   "source": [
    "The first equation is a Cobb-Douglas production function describing total output $(Y_t)$ as a function of physical capital $(K_t)$, population size $(L_t)$ and technology level $(A_t)$. We assume that climate change reduces output by share D; i.e. a part of output $(DY_t)$ is destroyed and only the share $1-D$ of output can be used for consumption and investment. The damage from climate change is given by the second equation, where $T$ measures change in temperature. Capital accumulation is described by the third equation, where $s$ is the saving rate and $\\delta$ is the attrition rate. The last two equations indicate how the level of technology $(A_t)$ and the population $(L_t)$ evolve over time.\n",
    "\n",
    "We define $\\tilde y_t=\\frac{Y_t}{A_tL_t}$ and $\\tilde k_t = \\frac{K_t}{A_tL_t}$."
   ]
  },
  {
   "cell_type": "markdown",
   "metadata": {},
   "source": [
    "## Analytical solution"
   ]
  },
  {
   "attachments": {},
   "cell_type": "markdown",
   "metadata": {},
   "source": [
    "We find the transition equation for capital per worker:"
   ]
  },
  {
   "attachments": {},
   "cell_type": "markdown",
   "metadata": {},
   "source": [
    "$$\n",
    "\\begin{aligned}\n",
    "\\frac{K_{t+1}}{A_{t+1} L_{t+1}} & =\\frac{s Y_t+(1-\\delta) K_t}{(1+g)(1+n) A_t L_t} \\Leftrightarrow \\\\\n",
    "\\tilde{k}_{t+1} & =\\frac{1}{(1+n)(1+g)}\\left(s \\tilde{y}_t+(1-\\delta) \\tilde{k}_t\\right) \\Leftrightarrow \\\\\n",
    "\\tilde{k}_{t+1} & =\\frac{1}{(1+n)(1+g)}\\left(s[1-D] \\tilde{k}_t^\\alpha+(1-\\delta) \\tilde{k}_t\\right)\n",
    "\\end{aligned}\n",
    "$$"
   ]
  },
  {
   "attachments": {},
   "cell_type": "markdown",
   "metadata": {},
   "source": [
    "In steady state $\\tilde{k}_{t+1}=\\tilde{k}_{t}=\\tilde{k}^*$. We then find the steady state for capital to be: "
   ]
  },
  {
   "cell_type": "code",
   "execution_count": 9,
   "metadata": {},
   "outputs": [
    {
     "data": {
      "text/latex": [
       "$\\displaystyle \\left(\\frac{- \\delta - g n - g - n}{s \\left(D - 1\\right)}\\right)^{\\frac{1}{\\alpha - 1}}$"
      ],
      "text/plain": [
       "((-delta - g*n - g - n)/(s*(D - 1)))**(1/(alpha - 1))"
      ]
     },
     "execution_count": 9,
     "metadata": {},
     "output_type": "execute_result"
    }
   ],
   "source": [
    "model.solve_analytical_ss()"
   ]
  },
  {
   "attachments": {},
   "cell_type": "markdown",
   "metadata": {},
   "source": [
    "The transition equation can be shown in a phase diagram, where we see that the model converges to it's steady state value, irrespective of starting value."
   ]
  },
  {
   "cell_type": "code",
   "execution_count": 10,
   "metadata": {},
   "outputs": [
    {
     "data": {
      "application/vnd.jupyter.widget-view+json": {
       "model_id": "efac4008fe4b4c9ebdcc6e6beec98de9",
       "version_major": 2,
       "version_minor": 0
      },
      "text/plain": [
       "interactive(children=(FloatSlider(value=0.0, description='D', max=1.0), IntSlider(value=10, description='Time'…"
      ]
     },
     "metadata": {},
     "output_type": "display_data"
    },
    {
     "data": {
      "text/plain": [
       "<function __main__.phasediagram(d, T)>"
      ]
     },
     "execution_count": 10,
     "metadata": {},
     "output_type": "execute_result"
    }
   ],
   "source": [
    "def phasediagram(d,T) :\n",
    "    val = model.val\n",
    "\n",
    "    # Create lists\n",
    "    kt1_list = []\n",
    "    diagonal_list = []\n",
    "\n",
    "        \n",
    "    for t in range(0,T):\n",
    "        k_t1 = (val.s*(1-d)*t**val.alpha+(1-val.delta)*t)/((1+val.n)*(1+val.g))\n",
    "        kt1_list.append(k_t1)\n",
    "\n",
    "    for t in range(0,T):\n",
    "        diagonal = t\n",
    "        diagonal_list.append(diagonal)             \n",
    "            \n",
    "    #Steadystate\n",
    "    #ss = model.solve_num_ss()\n",
    "\n",
    "\n",
    "    # Plot\n",
    "    plt.figure(figsize=(5,5))\n",
    "    plt.plot(diagonal_list, kt1_list, label=r'$\\tilde k_{t+1}$', color = 'red')\n",
    "    plt.plot(diagonal_list, diagonal_list, label='45 degree line', color = 'black')\n",
    "    #plt.scatter(model.D_vector.k_ss_list, model.D_vector.k_ss_list, c='g', linewidths=3, label='Steady State')\n",
    "    #plt.text(ss, ss, '({}, {})'.format(round(ss,2), round(ss,2)))\n",
    "    plt.xlim(0,T)\n",
    "    plt.ylim(0,T)\n",
    "    plt.ylabel(r'$\\tilde k_{t+1}$')\n",
    "    plt.xlabel(r'$\\tilde k_t$')\n",
    "    plt.grid(True)\n",
    "    plt.legend()\n",
    "    plt.title('Figure 1: Phase diagram')\n",
    "    return plt.show()\n",
    "\n",
    "widgets.interact(phasediagram, \n",
    "                        d     =  widgets.FloatSlider(description = 'D' , min = 0 ,    max = 1 , step = 0.1 , value = 0.0),\n",
    "                        T     = widgets.IntSlider(description='Time' ,          min = 0,     max = 50, step = 1,    value = 10))\n"
   ]
  },
  {
   "cell_type": "markdown",
   "metadata": {},
   "source": [
    "## Numerical solution"
   ]
  },
  {
   "cell_type": "markdown",
   "metadata": {},
   "source": [
    "You can always solve a model numerically. \n",
    "\n",
    "Define first the set of parameters you need. \n",
    "\n",
    "Then choose one of the optimization algorithms that we have gone through in the lectures based on what you think is most fitting for your model.\n",
    "\n",
    "Are there any problems with convergence? Does the model converge for all starting values? Make a lot of testing to figure these things out. "
   ]
  },
  {
   "cell_type": "code",
   "execution_count": null,
   "metadata": {},
   "outputs": [],
   "source": [
    "model.solve_num_ss()"
   ]
  },
  {
   "attachments": {},
   "cell_type": "markdown",
   "metadata": {},
   "source": [
    "We vary the amount of climate changes D: "
   ]
  },
  {
   "cell_type": "code",
   "execution_count": null,
   "metadata": {},
   "outputs": [],
   "source": [
    "model.D_vector()"
   ]
  },
  {
   "cell_type": "markdown",
   "metadata": {},
   "source": [
    "# Further analysis"
   ]
  },
  {
   "cell_type": "markdown",
   "metadata": {},
   "source": [
    "Make detailed vizualizations of how your model changes with parameter values. \n",
    "\n",
    "Try to make an extension of the model. "
   ]
  },
  {
   "attachments": {},
   "cell_type": "markdown",
   "metadata": {},
   "source": [
    "### Simulation"
   ]
  },
  {
   "attachments": {},
   "cell_type": "markdown",
   "metadata": {},
   "source": [
    "In the following we wish to simulate the development in..."
   ]
  },
  {
   "cell_type": "code",
   "execution_count": 12,
   "metadata": {},
   "outputs": [
    {
     "name": "stdout",
     "output_type": "stream",
     "text": [
      "sigma = 0.013258\n"
     ]
    }
   ],
   "source": [
    "model.solve_sigma()"
   ]
  },
  {
   "cell_type": "code",
   "execution_count": 13,
   "metadata": {},
   "outputs": [],
   "source": [
    "model = SolowModelClass()\n",
    "sim = model.sim\n",
    "model.simulate()\n",
    "model.simulate2()\n",
    "model.simulate3()"
   ]
  },
  {
   "cell_type": "code",
   "execution_count": 14,
   "metadata": {},
   "outputs": [
    {
     "data": {
      "text/plain": [
       "(0.5, 8.0)"
      ]
     },
     "execution_count": 14,
     "metadata": {},
     "output_type": "execute_result"
    },
    {
     "data": {
      "image/png": "[encoded data removed]",
      "text/plain": [
       "<Figure size 640x480 with 1 Axes>"
      ]
     },
     "metadata": {},
     "output_type": "display_data"
    }
   ],
   "source": [
    "fig = plt.figure()\n",
    "ax = fig.add_subplot(1,1,1)\n",
    "ax.plot(np.arange(model.par.simT),sim.fracY,label='Relative GDP',c='darkred')\n",
    "ax.plot(np.arange(model.par.simT),sim.fracYD,label='Relative GDP with climate change',c='grey')\n",
    "ax.plot(np.arange(model.par.simT),sim.fracYDgrowth,label='Relative GDP with increasing climate change',c='orange')\n",
    "ax.set_xlabel('time')\n",
    "ax.set_title('Figure 2: Simulation',pad=15)\n",
    "ax.legend(frameon=True);\n",
    "plt.ylim([0.5,8])"
   ]
  },
  {
   "attachments": {},
   "cell_type": "markdown",
   "metadata": {},
   "source": [
    "### Extension"
   ]
  },
  {
   "cell_type": "markdown",
   "metadata": {},
   "source": [
    "# Conclusion"
   ]
  },
  {
   "cell_type": "markdown",
   "metadata": {},
   "source": []
  },
  {
   "cell_type": "markdown",
   "metadata": {},
   "source": [
    "Add concise conclusion. "
   ]
  },
  {
   "cell_type": "markdown",
   "metadata": {},
   "source": []
  }
 ],
 "metadata": {
  "kernelspec": {
   "display_name": "base",
   "language": "python",
   "name": "python3"
  },
  "language_info": {
   "codemirror_mode": {
    "name": "ipython",
    "version": 3
   },
   "file_extension": ".py",
   "mimetype": "text/x-python",
   "name": "python",
   "nbconvert_exporter": "python",
   "pygments_lexer": "ipython3",
   "version": "3.9.13"
  },
  "toc-autonumbering": true,
  "vscode": {
   "interpreter": {
    "hash": "a08668cbea4845e995468df5c9bd6d65f7b71debe4a0fed0e65bd522ad3a74b1"
   }
  }
 },
 "nbformat": 4,
 "nbformat_minor": 4
}
