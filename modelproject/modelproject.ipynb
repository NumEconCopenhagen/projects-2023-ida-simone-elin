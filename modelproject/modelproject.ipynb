{
 "cells": [
  {
   "attachments": {},
   "cell_type": "markdown",
   "metadata": {},
   "source": [
    "# The Solow model with climate change"
   ]
  },
  {
   "cell_type": "markdown",
   "metadata": {},
   "source": [
    "Imports and set magics:"
   ]
  },
  {
   "cell_type": "code",
   "execution_count": 20,
   "metadata": {},
   "outputs": [
    {
     "name": "stdout",
     "output_type": "stream",
     "text": [
      "The autoreload extension is already loaded. To reload it, use:\n",
      "  %reload_ext autoreload\n"
     ]
    }
   ],
   "source": [
    "import numpy as np\n",
    "from scipy import optimize\n",
    "import sympy as sm\n",
    "import matplotlib.pyplot as plt\n",
    "from sympy.solvers import solve\n",
    "from sympy import Symbol, symbols, Eq, solve\n",
    "import ipywidgets as widgets\n",
    "from ipywidgets import interact, interactive, fixed, interact_manual\n",
    "\n",
    "from tabulate import tabulate\n",
    "\n",
    "# autoreload modules when code is run\n",
    "%load_ext autoreload\n",
    "%autoreload 2\n",
    "\n",
    "# local modules\n",
    "import modelproject\n",
    "from modelproject import SolowModelClass \n",
    "model = SolowModelClass()"
   ]
  },
  {
   "cell_type": "markdown",
   "metadata": {},
   "source": [
    "# Model description"
   ]
  },
  {
   "attachments": {},
   "cell_type": "markdown",
   "metadata": {},
   "source": [
    "Our model project is inspired by the exam in Macroeconomics I from the 9th of January 2020. The exam looks at the classic Solow model with technological growth and explores different levels of climate change, that cause damage to the production output with the fraction D. "
   ]
  },
  {
   "attachments": {},
   "cell_type": "markdown",
   "metadata": {},
   "source": [
    "$$\n",
    "\\begin{aligned}\n",
    "Y_t &= [1-D]K_t^\\alpha (A_t L_t)^{1-\\alpha}, 0 <\\alpha<1\\\\\n",
    "D &= 1-\\frac{1}{1+\\sigma{(\\Delta T)}^2}, \\sigma > 0 \\\\\n",
    "K_{t+1} &= s Y_t+(1-\\delta) K_t, 0<s<1,0<\\delta<1,K_0>0 \\\\\n",
    "A_{t+1} &=(1+g)A_t, A_0>0 \\\\\n",
    "L_{t+1} &=(1+n)A_t, L_0>0\n",
    "\\end{aligned}\n",
    "$$"
   ]
  },
  {
   "attachments": {},
   "cell_type": "markdown",
   "metadata": {},
   "source": [
    "The first equation is a Cobb-Douglas production function describing total output $(Y_t)$ as a function of physical capital $(K_t)$, population size $(L_t)$ and technology level $(A_t)$. We assume that climate change reduces output by share D; i.e. a part of output $(DY_t)$ is destroyed and only the share $1-D$ of output can be used for consumption and investment. The damage from climate change is given by the second equation, where $\\Delta T$ measures change in temperature. Capital accumulation is described by the third equation, where $s$ is the saving rate and $\\delta$ is the attrition rate. The last two equations indicate how the level of technology $(A_t)$ and the population $(L_t)$ evolve over time.\n",
    "\n",
    "We define $\\tilde y_t=\\frac{Y_t}{A_tL_t}$ and $\\tilde k_t = \\frac{K_t}{A_tL_t}$."
   ]
  },
  {
   "cell_type": "markdown",
   "metadata": {},
   "source": [
    "## Analytical solution"
   ]
  },
  {
   "attachments": {},
   "cell_type": "markdown",
   "metadata": {},
   "source": [
    "We find the transition equation for capital per worker:"
   ]
  },
  {
   "attachments": {},
   "cell_type": "markdown",
   "metadata": {},
   "source": [
    "$$\n",
    "\\begin{aligned}\n",
    "\\frac{K_{t+1}}{A_{t+1} L_{t+1}} & =\\frac{s Y_t+(1-\\delta) K_t}{(1+g)(1+n) A_t L_t} \\Leftrightarrow \\\\\n",
    "\\tilde{k}_{t+1} & =\\frac{1}{(1+n)(1+g)}\\left(s \\tilde{y}_t+(1-\\delta) \\tilde{k}_t\\right) \\Leftrightarrow \\\\\n",
    "\\tilde{k}_{t+1} & =\\frac{1}{(1+n)(1+g)}\\left(s[1-D] \\tilde{k}_t^\\alpha+(1-\\delta) \\tilde{k}_t\\right)\n",
    "\\end{aligned}\n",
    "$$"
   ]
  },
  {
   "attachments": {},
   "cell_type": "markdown",
   "metadata": {},
   "source": [
    "In steady state $\\tilde{k}_{t+1}=\\tilde{k}_{t}=\\tilde{k}^*$, which we use sympy to solve for. This is done in the py-file. We then find the steady state for capital to be: "
   ]
  },
  {
   "cell_type": "code",
   "execution_count": 9,
   "metadata": {},
   "outputs": [
    {
     "data": {
      "text/latex": [
       "$\\displaystyle \\left(\\frac{- \\delta - g n - g - n}{s \\left(D - 1\\right)}\\right)^{\\frac{1}{\\alpha - 1}}$"
      ],
      "text/plain": [
       "((-delta - g*n - g - n)/(s*(D - 1)))**(1/(alpha - 1))"
      ]
     },
     "execution_count": 9,
     "metadata": {},
     "output_type": "execute_result"
    }
   ],
   "source": [
    "model.solve_analytical_ss()"
   ]
  },
  {
   "attachments": {},
   "cell_type": "markdown",
   "metadata": {},
   "source": [
    "The transition equation can be shown in a phase diagram, where we see that the model converges to it's steady state value, irrespective of starting value.\n",
    "\n",
    "We create a widget figure, where we vary the phase diagram for different values of the climate change damange D and time T. "
   ]
  },
  {
   "cell_type": "code",
   "execution_count": 16,
   "metadata": {},
   "outputs": [
    {
     "data": {
      "application/vnd.jupyter.widget-view+json": {
       "model_id": "2f7f420b99334451ac96cd6c2e33ca42",
       "version_major": 2,
       "version_minor": 0
      },
      "text/plain": [
       "interactive(children=(FloatSlider(value=0.0, description='D', max=1.0), IntSlider(value=10, description='Time'…"
      ]
     },
     "metadata": {},
     "output_type": "display_data"
    },
    {
     "data": {
      "text/plain": [
       "<function __main__.phasediagram(d, T)>"
      ]
     },
     "execution_count": 16,
     "metadata": {},
     "output_type": "execute_result"
    }
   ],
   "source": [
    "#We create a function for the phase diagram:\n",
    "def phasediagram(d,T) :\n",
    "\n",
    "    #We call for the model parameters \n",
    "    val = model.val\n",
    "\n",
    "    #We create two listsm in which we will store the values of k_t+1 and the 45 degree line (diagonal). \n",
    "    kt1_list = []\n",
    "    diagonal_list = []\n",
    "\n",
    "    #We loop over the time T to find the different values of k_t+1 and append it to the list. \n",
    "    for t in range(0,T):\n",
    "        k_t1 = (val.s*(1-d)*t**val.alpha+(1-val.delta)*t)/((1+val.n)*(1+val.g))\n",
    "        kt1_list.append(k_t1)\n",
    "\n",
    "    #We loop over the time T to create the 45 degree line\n",
    "    for t in range(0,T):\n",
    "        diagonal = t\n",
    "        diagonal_list.append(diagonal)             \n",
    "            \n",
    "    #Steadystate\n",
    "    #ss = model.solve_num_ss()\n",
    "\n",
    "    #We create a plot with the two functions:\n",
    "    plt.figure(figsize=(5,5))\n",
    "    plt.plot(diagonal_list, kt1_list, label=r'$\\tilde k_{t+1}$', color = 'red')\n",
    "    plt.plot(diagonal_list, diagonal_list, label='45 degree line', color = 'black')\n",
    "    #plt.scatter(model.D_vector.k_ss_list, model.D_vector.k_ss_list, c='g', linewidths=3, label='Steady State')\n",
    "    #plt.text(ss, ss, '({}, {})'.format(round(ss,2), round(ss,2)))\n",
    "    \n",
    "    #We set limits and labels on the axis:\n",
    "    plt.xlim(0,T)\n",
    "    plt.ylim(0,T)\n",
    "    plt.ylabel(r'$\\tilde k_{t+1}$')\n",
    "    plt.xlabel(r'$\\tilde k_t$')\n",
    "    \n",
    "    #We set a title, grid and a legend\n",
    "    plt.title('Figure 1: Phase diagram')\n",
    "    plt.grid()\n",
    "    plt.legend()\n",
    "    return plt.show()\n",
    "\n",
    "#We create a widget that slides through the values of D and T. \n",
    "widgets.interact(phasediagram, \n",
    "                        d     =  widgets.FloatSlider(description = 'D' , min = 0 ,    max = 1 , step = 0.1 , value = 0.0),\n",
    "                        T     = widgets.IntSlider(description='Time' ,          min = 0,     max = 50, step = 1,    value = 10))\n"
   ]
  },
  {
   "attachments": {},
   "cell_type": "markdown",
   "metadata": {},
   "source": [
    "Our phase diagram shows the intersection between $\\tilde{k}_{t+1}$ and $\\tilde{k}_{t}$ which is the steady state of capital in the model. The level of capital in the steady state decreases as we introduce climate change in the model, as it reduces the production. "
   ]
  },
  {
   "cell_type": "markdown",
   "metadata": {},
   "source": [
    "## Numerical solution"
   ]
  },
  {
   "attachments": {},
   "cell_type": "markdown",
   "metadata": {},
   "source": [
    "We solve the model numerically in our py-file, where we have defined the models parameter values as in the Macroeconomics I exam (question 2.4). This optimization is done with the root scalar optimizer.\n",
    "\n",
    "We start by solving the model with D = 0 and there are thus no climate change in the model."
   ]
  },
  {
   "cell_type": "code",
   "execution_count": 22,
   "metadata": {},
   "outputs": [
    {
     "data": {
      "text/plain": [
       "(7.1638190350558375, 1.915127622038289)"
      ]
     },
     "execution_count": 22,
     "metadata": {},
     "output_type": "execute_result"
    }
   ],
   "source": [
    "model.val.d = 0\n",
    "model.solve_num_ss()"
   ]
  },
  {
   "attachments": {},
   "cell_type": "markdown",
   "metadata": {},
   "source": [
    "The steady state level of capital pr. capita in the model without climate change is $\\tilde{k}^*=7.164$ and the steady state level of GDP pr. capita is $\\tilde{y}^*=1.915$"
   ]
  },
  {
   "attachments": {},
   "cell_type": "markdown",
   "metadata": {},
   "source": [
    "We now want to solve the model nummerically when varing the amount of climate changes D. We print our results in a table to see the effects of climate change in different degrees "
   ]
  },
  {
   "cell_type": "code",
   "execution_count": 25,
   "metadata": {},
   "outputs": [
    {
     "name": "stdout",
     "output_type": "stream",
     "text": [
      "╒═════╤══════════╤═══════════╤═══════════════════════════╕\n",
      "│   D │     K_ss │      Y_ss │   Relative Y_ss compared  │\n",
      "│     │          │           │       to situation where  │\n",
      "│     │          │           │           D = 0 (in pct.) │\n",
      "╞═════╪══════════╪═══════════╪═══════════════════════════╡\n",
      "│ 0   │ 7.16382  │ 1.91513   │                 100       │\n",
      "├─────┼──────────┼───────────┼───────────────────────────┤\n",
      "│ 0.1 │ 6.12139  │ 1.63645   │                  85.4487  │\n",
      "├─────┼──────────┼───────────┼───────────────────────────┤\n",
      "│ 0.2 │ 5.13455  │ 1.37264   │                  71.6734  │\n",
      "├─────┼──────────┼───────────┼───────────────────────────┤\n",
      "│ 0.3 │ 4.20676  │ 1.12461   │                  58.7223  │\n",
      "├─────┼──────────┼───────────┼───────────────────────────┤\n",
      "│ 0.4 │ 3.34216  │ 0.89347   │                  46.6533  │\n",
      "├─────┼──────────┼───────────┼───────────────────────────┤\n",
      "│ 0.5 │ 2.54593  │ 0.680611  │                  35.5387  │\n",
      "├─────┼──────────┼───────────┼───────────────────────────┤\n",
      "│ 0.6 │ 1.82475  │ 0.487818  │                  25.4718  │\n",
      "├─────┼──────────┼───────────┼───────────────────────────┤\n",
      "│ 0.7 │ 1.18776  │ 0.317528  │                  16.58    │\n",
      "├─────┼──────────┼───────────┼───────────────────────────┤\n",
      "│ 0.8 │ 0.648494 │ 0.173364  │                   9.05235 │\n",
      "├─────┼──────────┼───────────┼───────────────────────────┤\n",
      "│ 0.9 │ 0.230466 │ 0.0616113 │                   3.21709 │\n",
      "╘═════╧══════════╧═══════════╧═══════════════════════════╛\n"
     ]
    }
   ],
   "source": [
    "#We refer to the definition in our py-file\n",
    "model.D_vector()"
   ]
  },
  {
   "attachments": {},
   "cell_type": "markdown",
   "metadata": {},
   "source": [
    "It's clear to see, that for increasing climate change capital pr. capita and thus GDP pr. capita decreases "
   ]
  },
  {
   "cell_type": "markdown",
   "metadata": {},
   "source": [
    "# Further analysis"
   ]
  },
  {
   "attachments": {},
   "cell_type": "markdown",
   "metadata": {},
   "source": [
    "### Simulation"
   ]
  },
  {
   "attachments": {},
   "cell_type": "markdown",
   "metadata": {},
   "source": [
    "In the following, we wish to simulate evolution of relative output pr. capita for different scenarios of climate change and compare the levels of growth in output. \n",
    "\n",
    "We look at 3 scenarios:\n",
    "- A situation without climate change $D = 0$\n",
    "- A situation with sudden constant climate change $D = 0.175$ from period $t=1$\n",
    "- A situation with increase climate change based on the damage function \n"
   ]
  },
  {
   "attachments": {},
   "cell_type": "markdown",
   "metadata": {},
   "source": [
    "To make our simulation, we need to calculate the parameter value of $\\sigma$. We use sympy to find an expression for $\\sigma$ and then solve it with the parameter values $t=100$, $D_{100} = 0.175$, and $\\Delta T_{year} = 0.04$, as it's assumed that the temperature increases $0.04^{\\circ}C$ pr. year."
   ]
  },
  {
   "cell_type": "code",
   "execution_count": 27,
   "metadata": {},
   "outputs": [
    {
     "data": {
      "text/latex": [
       "$\\displaystyle - \\frac{D}{dT^{2} \\left(D - 1\\right)}$"
      ],
      "text/plain": [
       "-D/(dT**2*(D - 1))"
      ]
     },
     "execution_count": 27,
     "metadata": {},
     "output_type": "execute_result"
    }
   ],
   "source": [
    "model.solve_sigma_expression()"
   ]
  },
  {
   "cell_type": "code",
   "execution_count": 12,
   "metadata": {},
   "outputs": [
    {
     "name": "stdout",
     "output_type": "stream",
     "text": [
      "sigma = 0.013258\n"
     ]
    }
   ],
   "source": [
    "model.solve_sigma()"
   ]
  },
  {
   "attachments": {},
   "cell_type": "markdown",
   "metadata": {},
   "source": [
    "We make our simulation "
   ]
  },
  {
   "cell_type": "code",
   "execution_count": 13,
   "metadata": {},
   "outputs": [],
   "source": [
    "#We run our 3 different simulations from the py-file: \n",
    "model = SolowModelClass()\n",
    "sim = model.sim\n",
    "model.simulate()\n",
    "model.simulate2()\n",
    "model.simulate3()"
   ]
  },
  {
   "cell_type": "code",
   "execution_count": 34,
   "metadata": {},
   "outputs": [
    {
     "data": {
      "image/png": "[encoded data removed]",
      "text/plain": [
       "<Figure size 640x480 with 1 Axes>"
      ]
     },
     "metadata": {},
     "output_type": "display_data"
    }
   ],
   "source": [
    "#We plot our simulations: \n",
    "fig = plt.figure()\n",
    "ax = fig.add_subplot(1,1,1)\n",
    "ax.plot(np.arange(model.par.simT),sim.fracY,label='Relative GDP',c='darkred')\n",
    "ax.plot(np.arange(model.par.simT),sim.fracYD,label='Relative GDP with climate change',c='grey')\n",
    "ax.plot(np.arange(model.par.simT),sim.fracYDgrowth,label='Relative GDP with increasing climate change',c='orange')\n",
    "plt.ylim([0.5,8]) \n",
    "\n",
    "#We set axis labels, title and legend\n",
    "ax.set_xlabel('time')\n",
    "ax.set_ylabel(r'$\\frac{y_t}{y_0}$')\n",
    "ax.set_title('Figure 2: Simulation',pad=15)\n",
    "ax.legend();"
   ]
  },
  {
   "attachments": {},
   "cell_type": "markdown",
   "metadata": {},
   "source": [
    "Our simulation shows that climate change in any form affects the relative output pr. capita negatively. \n",
    "For the sudden temperature change the damages on output pr. capita are more substantial than if we impose slowly increasing temperatures, which is also the more realistic scenario. However, this scenario does show increasingly negative effects on the output growth."
   ]
  },
  {
   "attachments": {},
   "cell_type": "markdown",
   "metadata": {},
   "source": [
    "### Extension of the model"
   ]
  },
  {
   "cell_type": "markdown",
   "metadata": {},
   "source": [
    "# Conclusion"
   ]
  },
  {
   "cell_type": "markdown",
   "metadata": {},
   "source": []
  }
 ],
 "metadata": {
  "kernelspec": {
   "display_name": "base",
   "language": "python",
   "name": "python3"
  },
  "language_info": {
   "codemirror_mode": {
    "name": "ipython",
    "version": 3
   },
   "file_extension": ".py",
   "mimetype": "text/x-python",
   "name": "python",
   "nbconvert_exporter": "python",
   "pygments_lexer": "ipython3",
   "version": "3.9.13"
  },
  "toc-autonumbering": true,
  "vscode": {
   "interpreter": {
    "hash": "a08668cbea4845e995468df5c9bd6d65f7b71debe4a0fed0e65bd522ad3a74b1"
   }
  }
 },
 "nbformat": 4,
 "nbformat_minor": 4
}
