{
 "cells": [
  {
   "attachments": {},
   "cell_type": "markdown",
   "metadata": {},
   "source": [
    "# The Solow model with climate change"
   ]
  },
  {
   "attachments": {},
   "cell_type": "markdown",
   "metadata": {},
   "source": [
    "Imports and set magics:"
   ]
  },
  {
   "cell_type": "code",
   "execution_count": 1,
   "metadata": {},
   "outputs": [],
   "source": [
    "import numpy as np\n",
    "from scipy import optimize\n",
    "import sympy as sm\n",
    "import matplotlib.pyplot as plt\n",
    "from sympy.solvers import solve\n",
    "from sympy import Symbol, symbols, Eq, solve\n",
    "import ipywidgets as widgets\n",
    "from ipywidgets import interact, interactive, fixed, interact_manual\n",
    "\n",
    "from tabulate import tabulate\n",
    "\n",
    "# autoreload modules when code is run\n",
    "%load_ext autoreload\n",
    "%autoreload 2\n",
    "\n",
    "# local modules\n",
    "import modelproject\n",
    "from modelproject import SolowModelClass \n",
    "model = SolowModelClass()"
   ]
  },
  {
   "attachments": {},
   "cell_type": "markdown",
   "metadata": {},
   "source": [
    "# Model description"
   ]
  },
  {
   "attachments": {},
   "cell_type": "markdown",
   "metadata": {},
   "source": [
    "Our model project is based on the exam in Macroeconomics I from the 9th of January 2020. The exam looks at the classic Solow Model with technological growth and explores different levels of climate change, that cause damage to the production output with the fraction D. The model considered can be described by the following equations:"
   ]
  },
  {
   "attachments": {},
   "cell_type": "markdown",
   "metadata": {},
   "source": [
    "$$\n",
    "\\begin{aligned}\n",
    "Y_t &= [1-D]K_t^\\alpha (A_t L_t)^{1-\\alpha}, 0 <\\alpha<1\\\\\n",
    "D &= 1-\\frac{1}{1+\\sigma{(\\Delta T)}^2}, \\sigma > 0 \\\\\n",
    "K_{t+1} &= s Y_t+(1-\\delta) K_t, 0<s<1,0<\\delta<1,K_0>0 \\\\\n",
    "A_{t+1} &=(1+g)A_t, A_0>0 \\\\\n",
    "L_{t+1} &=(1+n)A_t, L_0>0\n",
    "\\end{aligned}\n",
    "$$"
   ]
  },
  {
   "attachments": {},
   "cell_type": "markdown",
   "metadata": {},
   "source": [
    "The first equation is a Cobb-Douglas production function describing total output $(Y_t)$ as a function of physical capital $(K_t)$, population size $(L_t)$ and technology level $(A_t)$. We assume that climate change reduces output by a share D; i.e. a part of output $(DY_t)$ is destroyed and only the share $1-D$ of output can be used for consumption and investment. The damage from climate change is given by the second equation, where $\\Delta T$ measures change in temperature. Capital accumulation is described by the third equation, where $s$ is the saving rate and $\\delta$ is the depreciation rate. The last two equations indicate how the level of technology $(A_t)$ and the population $(L_t)$ evolve over time, based on the technological growth $g$ and the growth of the population $n$ respectively.\n",
    "\n",
    "We define $\\tilde y_t=\\frac{Y_t}{A_tL_t}$ and $\\tilde k_t = \\frac{K_t}{A_tL_t}$ as the effective output and capital per capita."
   ]
  },
  {
   "attachments": {},
   "cell_type": "markdown",
   "metadata": {},
   "source": [
    "## Analytical solution"
   ]
  },
  {
   "attachments": {},
   "cell_type": "markdown",
   "metadata": {},
   "source": [
    "First, we derive the transition equation for capital per capita:"
   ]
  },
  {
   "attachments": {},
   "cell_type": "markdown",
   "metadata": {},
   "source": [
    "$$\n",
    "\\begin{aligned}\n",
    "\\frac{K_{t+1}}{A_{t+1} L_{t+1}} & =\\frac{s Y_t+(1-\\delta) K_t}{(1+g)(1+n) A_t L_t} \\Leftrightarrow \\\\\n",
    "\\tilde{k}_{t+1} & =\\frac{1}{(1+n)(1+g)}\\left(s \\tilde{y}_t+(1-\\delta) \\tilde{k}_t\\right) \\Leftrightarrow \\\\\n",
    "\\tilde{k}_{t+1} & =\\frac{1}{(1+n)(1+g)}\\left(s[1-D] \\tilde{k}_t^\\alpha+(1-\\delta) \\tilde{k}_t\\right)\n",
    "\\end{aligned}\n",
    "$$"
   ]
  },
  {
   "attachments": {},
   "cell_type": "markdown",
   "metadata": {},
   "source": [
    "In steady state $\\tilde{k}_{t+1}=\\tilde{k}_{t}=\\tilde{k}^*$. Using this information, we define a function in the py-file (solve_analytical_ss) which analytically solves for the steady state value for capital, $\\tilde k^*$. Finally we insert this into the output equation and find the steady state output $\\tilde y^*$. "
   ]
  },
  {
   "cell_type": "code",
   "execution_count": 2,
   "metadata": {},
   "outputs": [
    {
     "data": {
      "text/latex": [
       "$\\displaystyle \\tilde{k}^{*} = \\left(\\frac{- \\delta - g n - g - n}{s \\left(D - 1\\right)}\\right)^{\\frac{1}{\\alpha - 1}}$"
      ],
      "text/plain": [
       "Eq(ktilde^*, ((-delta - g*n - g - n)/(s*(D - 1)))**(1/(alpha - 1)))"
      ]
     },
     "execution_count": 2,
     "metadata": {},
     "output_type": "execute_result"
    }
   ],
   "source": [
    "#solving for steady state capital pr. effective worker\n",
    "steadystate_k = sm.Eq(model.par.kss,model.solve_analytical_ss())\n",
    "steadystate_k"
   ]
  },
  {
   "cell_type": "code",
   "execution_count": 3,
   "metadata": {},
   "outputs": [
    {
     "data": {
      "text/latex": [
       "$\\displaystyle \\tilde{y}^{*} = \\left(1 - D\\right) \\left(\\left(\\frac{- \\delta - g n - g - n}{s \\left(D - 1\\right)}\\right)^{\\frac{1}{\\alpha - 1}}\\right)^{\\alpha}$"
      ],
      "text/plain": [
       "Eq(ytilde^*, (1 - D)*(((-delta - g*n - g - n)/(s*(D - 1)))**(1/(alpha - 1)))**alpha)"
      ]
     },
     "execution_count": 3,
     "metadata": {},
     "output_type": "execute_result"
    }
   ],
   "source": [
    "#substituting steady state capital into y pr. effective worker\n",
    "y = (1-model.par.d)*model.par.k**model.par.alpha\n",
    "steadystate_y = sm.Eq(model.par.yss,y.subs(model.par.k, model.solve_analytical_ss()))\n",
    "steadystate_y"
   ]
  },
  {
   "attachments": {},
   "cell_type": "markdown",
   "metadata": {},
   "source": [
    "From this it must be the case that $\\tilde y^* = [1-D]^\\frac{1}{1-\\alpha} (\\frac{s}{n+g+\\delta +ng})^\\frac{\\alpha}{1-\\alpha}$."
   ]
  },
  {
   "attachments": {},
   "cell_type": "markdown",
   "metadata": {},
   "source": [
    "## Numerical solution"
   ]
  },
  {
   "attachments": {},
   "cell_type": "markdown",
   "metadata": {},
   "source": [
    "The transition equation can be shown in a phase diagram, from which we see that the model converges to it's steady state value, irrespective of starting value.\n",
    "\n",
    "The phase diagram is created as a widget figure, with the possibility of varying the climate change damange D, as well as the time period T. "
   ]
  },
  {
   "cell_type": "code",
   "execution_count": 4,
   "metadata": {},
   "outputs": [
    {
     "data": {
      "application/vnd.jupyter.widget-view+json": {
       "model_id": "b8bdb882f58444d28eef657dd42a024a",
       "version_major": 2,
       "version_minor": 0
      },
      "text/plain": [
       "interactive(children=(FloatSlider(value=0.0, description='D', max=0.9), IntSlider(value=10, description='T', m…"
      ]
     },
     "metadata": {},
     "output_type": "display_data"
    }
   ],
   "source": [
    "#We create a function for the phase diagram:\n",
    "def phasediagram(d,T) :\n",
    "    \"\"\"function that creates a phasediagram\"\"\"\n",
    "\n",
    "    #We call for the model parameters \n",
    "    val = model.val\n",
    "\n",
    "    #We create two lists in which we will store the values of k_t+1 and the 45 degree line (diagonal). \n",
    "    kt1_list = []\n",
    "    diagonal_list = []\n",
    "    k_ss_list = []\n",
    "\n",
    "    for t in range(0,T):\n",
    "        #We loop over the time T to create the 45 degree line\n",
    "        diagonal = t\n",
    "        diagonal_list.append(diagonal) \n",
    "\n",
    "        #We loop over the time T to find the different values of k_t+1 and append it to the list. \n",
    "        k_t1 = (val.s*(1-d)*t**val.alpha+(1-val.delta)*t)/((1+val.n)*(1+val.g))\n",
    "        kt1_list.append(k_t1)\n",
    "\n",
    "        #We loop over time T to find the different steady state values to plot\n",
    "        y = lambda k: (1-d)*k**val.alpha\n",
    "        obj_kss = lambda kss: kss - (val.s*y(kss) + (1-val.delta)*kss)/((1+val.g)*(1+val.n))    \n",
    "        result = optimize.root_scalar(obj_kss,bracket=[0.1,100],method='brentq')\n",
    "        k_ss = result.root\n",
    "        k_ss_list.append(k_ss)\n",
    "\n",
    "    #We create a plot with the two functions:\n",
    "    plt.figure(figsize=(5,5))\n",
    "    plt.plot(diagonal_list, kt1_list, label=r'$\\tilde k_{t+1}$', color = 'red')\n",
    "    plt.plot(diagonal_list, diagonal_list, label='45 degree line', color = 'blue')\n",
    "    plt.scatter(k_ss_list,k_ss_list, c='g', linewidths=3, label='Steady State')\n",
    "    \n",
    "    #We set limits and labels on the axis:\n",
    "    plt.xlim(0,T)\n",
    "    plt.ylim(0,T)\n",
    "    plt.ylabel(r'$\\tilde k_{t+1}$')\n",
    "    plt.xlabel(r'$\\tilde k_t$')\n",
    "    \n",
    "    #We set a title, grid and a legend\n",
    "    plt.title('Figure 1: Phase diagram')\n",
    "    plt.grid()\n",
    "    plt.legend()\n",
    "    return plt.show()\n",
    "\n",
    "#We create a widget that slides through the values of D and T. \n",
    "widgets.interact(phasediagram, \n",
    "                        d     = widgets.FloatSlider(description = 'D' , min = 0 ,    max = 0.9 , step = 0.1 , value = 0.0),\n",
    "                        T     = widgets.IntSlider(description ='T' ,  min = 1,     max = 50, step = 1,    value = 10));\n"
   ]
  },
  {
   "attachments": {},
   "cell_type": "markdown",
   "metadata": {},
   "source": [
    "Our phase diagram shows the intersection between $\\tilde{k}_{t+1}$ and $\\tilde{k}_{t}$ which is the steady state of capital in the model. The level of capital in the steady state decreases as we introduce climate change in the model, as it reduces the production. This is illustrated with the green odt marking the intersection of the transition equation and the 45 degree line for different values of damage D. "
   ]
  },
  {
   "attachments": {},
   "cell_type": "markdown",
   "metadata": {},
   "source": [
    "We solve the model numerically in our py-file, where we have defined the models parameter values as in the Macroeconomics I exam (question 2.4). This optimization is done with the root scalar optimizer.\n",
    "\n",
    "We start by solving the model for $D=0$ i.e. with no climate change damage:"
   ]
  },
  {
   "cell_type": "code",
   "execution_count": null,
   "metadata": {},
   "outputs": [],
   "source": [
    "model.val.d = 0 # sets parameter value\n",
    "print(f'The steady state capital is {model.solve_num_ss()[0]:.3f} and the steady state output is {model.solve_num_ss()[1]:.3f}' )\n"
   ]
  },
  {
   "attachments": {},
   "cell_type": "markdown",
   "metadata": {},
   "source": [
    "The steady state level of capital pr. capita in the model without climate change is $\\tilde{k}^*=7.164$ and the steady state level of GDP pr. capita is $\\tilde{y}^*=1.915$"
   ]
  },
  {
   "attachments": {},
   "cell_type": "markdown",
   "metadata": {},
   "source": [
    "We now want to solve the model nummerically when varing the amount of climate changes D. We print our results in a table to see the effects of climate change on both $\\tilde y^*$ and $\\tilde k^*$:"
   ]
  },
  {
   "cell_type": "code",
   "execution_count": null,
   "metadata": {},
   "outputs": [],
   "source": [
    "# we refer to the definition in our py-file\n",
    "model.D_vector()"
   ]
  },
  {
   "attachments": {},
   "cell_type": "markdown",
   "metadata": {},
   "source": [
    "It's clear to see, that for increasing climate change capital pr. capita and thus output pr. capita decreases. "
   ]
  },
  {
   "attachments": {},
   "cell_type": "markdown",
   "metadata": {},
   "source": [
    "# Further analysis"
   ]
  },
  {
   "attachments": {},
   "cell_type": "markdown",
   "metadata": {},
   "source": [
    "### Simulation"
   ]
  },
  {
   "attachments": {},
   "cell_type": "markdown",
   "metadata": {},
   "source": [
    "In the following, we wish to simulate evolution of relative output pr. capita for different scenarios of climate change and compare the levels of growth in output. The simulation is made assuming that the economy is on the balanced growth path at time $t=0$. \n",
    "\n",
    "We look at 3 scenarios:\n",
    "- Scenario 1: a situation without climate change $D = 0$\n",
    "- Scenario 2: a situation with sudden constant climate change $D = 0.175$ from period $t=1$\n",
    "- Scenatio 3: a situation with increase climate change based on the damage function \n"
   ]
  },
  {
   "attachments": {},
   "cell_type": "markdown",
   "metadata": {},
   "source": [
    "To make our simulation, we need to calculate the parameter value of $\\sigma$. We use sympy to find an expression for $\\sigma$ and then solve it with the parameter values $t=100$, $D_{100} = 0.175$, and $\\Delta T_{year} = 0.04$, as it's assumed that the temperature increases $0.04^{\\circ}C$ pr. year."
   ]
  },
  {
   "cell_type": "code",
   "execution_count": null,
   "metadata": {},
   "outputs": [],
   "source": [
    "#solving for an expression for sigma under our assumption\n",
    "sigma = sm.Eq(model.par.sigma,model.solve_sigma_expression())\n",
    "sigma"
   ]
  },
  {
   "cell_type": "code",
   "execution_count": null,
   "metadata": {},
   "outputs": [],
   "source": [
    "# solving for a value for sigma \n",
    "model.solve_sigma()"
   ]
  },
  {
   "attachments": {},
   "cell_type": "markdown",
   "metadata": {},
   "source": [
    "We make our simulation "
   ]
  },
  {
   "cell_type": "code",
   "execution_count": null,
   "metadata": {},
   "outputs": [],
   "source": [
    "# we run our 3 simulations from the py-file: \n",
    "sim = model.sim\n",
    "model.simulate(D_param=0)\n",
    "model.simulate(D_param=0.175)\n",
    "model.simulate(D_param='growth')"
   ]
  },
  {
   "cell_type": "code",
   "execution_count": null,
   "metadata": {},
   "outputs": [],
   "source": [
    "# we plot all three simulations in the same figure\n",
    "fig = plt.figure()\n",
    "ax = fig.add_subplot(1,1,1)\n",
    "ax.plot(np.arange(model.par.simT),sim.fracY,label='Relative GDP',c='darkred')\n",
    "ax.plot(np.arange(model.par.simT),sim.fracYD,label='Relative GDP with climate change',c='grey')\n",
    "ax.plot(np.arange(model.par.simT),sim.fracYDgrowth,label='Relative GDP with increasing climate change',c='orange')\n",
    "plt.ylim([0.5,8]) \n",
    "\n",
    "# we set axis labels, title and legend\n",
    "ax.set_xlabel('time')\n",
    "ax.set_ylabel(r'$\\frac{y_t}{y_0}$')\n",
    "ax.set_title('Figure 2: Simulation',pad=15)\n",
    "ax.legend();"
   ]
  },
  {
   "attachments": {},
   "cell_type": "markdown",
   "metadata": {},
   "source": [
    "Our simulation shows that climate change in any form affects the relative output pr. capita negatively. \n",
    "For the sudden temperature change the damages on output pr. capita are more substantial than if we impose slowly increasing temperatures, which is also the more realistic scenario. However, this scenario does show increasingly negative effects on the output growth."
   ]
  },
  {
   "attachments": {},
   "cell_type": "markdown",
   "metadata": {},
   "source": [
    "### Extension of the model"
   ]
  },
  {
   "attachments": {},
   "cell_type": "markdown",
   "metadata": {},
   "source": [
    "As an extension to the model we assume that the depreciation rate of capital is increasing with climate changes (here: $\\Delta T$). We therefore add a new equation for $\\delta$ allowing it to vary with the temperature change. The intuition behind, is that increasing tempteratures correlate with extreme weather conditions which has a negative impact on capital accumulation as it ruins more capital. "
   ]
  },
  {
   "attachments": {},
   "cell_type": "markdown",
   "metadata": {},
   "source": [
    "$$\n",
    "\\begin{aligned}\n",
    "Y_t &= [1-D]K_t^\\alpha (A_t L_t)^{1-\\alpha}, 0 <\\alpha<1\\\\\n",
    "D &= 1-\\frac{1}{1+\\sigma{(\\Delta T)}^2}, \\sigma > 0 \\\\\n",
    "K_{t+1} &= s Y_t+(1-\\delta) K_t, 0<s<1,0<\\delta<1,K_0>0 \\\\\n",
    "\\delta &= \\delta_0 + \\delta_1 \\Delta T_t\\\\\n",
    "A_{t+1} &=(1+g)A_t, A_0>0 \\\\\n",
    "L_{t+1} &=(1+n)A_t, L_0>0\n",
    "\\end{aligned}\n",
    "$$"
   ]
  },
  {
   "attachments": {},
   "cell_type": "markdown",
   "metadata": {},
   "source": [
    "In the simulation we set $\\delta_1 =0.01$ and $\\delta_0=0.05$ indicating an 1% percent increase in depreciation rate per $1^{\\circ}C$  temperature increase as well as an initial depreciation rate of 0.05 (as in the original model). "
   ]
  },
  {
   "attachments": {},
   "cell_type": "markdown",
   "metadata": {},
   "source": [
    "We can solve the new model numerically and find the following solution:"
   ]
  },
  {
   "cell_type": "code",
   "execution_count": null,
   "metadata": {},
   "outputs": [],
   "source": [
    "print(f'The steady state capital is {model.solve_num_extension()[0]:.3f} and the steady state output is {model.solve_num_extension()[1]:.3f}' )"
   ]
  },
  {
   "attachments": {},
   "cell_type": "markdown",
   "metadata": {},
   "source": [
    "The new steady state value of capital is $\\tilde{k}^*=2.939$ and the steady state level of output is $\\tilde{y}^*=1.177$ (assuming that $\\Delta T = 4$). We now run the new simulation and plot it together with the baseline scenario ($D = 0$) and the scenario from before (increasing climate changes)."
   ]
  },
  {
   "cell_type": "code",
   "execution_count": null,
   "metadata": {},
   "outputs": [],
   "source": [
    "# we run the simulation\n",
    "model.extension()"
   ]
  },
  {
   "cell_type": "code",
   "execution_count": null,
   "metadata": {},
   "outputs": [],
   "source": [
    "# we plot our simulations\n",
    "fig = plt.figure()\n",
    "ax = fig.add_subplot(1,1,1)\n",
    "ax.plot(np.arange(model.par.simT),sim.fracY,label='Relative GDP',c='darkred')\n",
    "ax.plot(np.arange(model.par.simT),sim.fracYDgrowth,label='Relative GDP with increasing climate change',c='orange')\n",
    "ax.plot(np.arange(model.par.simT),sim.fracY_ext,label='Relative GDP with increased depreciation rate ',c='green')\n",
    "\n",
    "plt.ylim([0.5,8]) \n",
    "\n",
    "# we set axis labels, title and legend\n",
    "ax.set_xlabel('time')\n",
    "ax.set_ylabel(r'$\\frac{y_t}{y_0}$')\n",
    "ax.set_title('Figure 3: Simulation (extension)',pad=15)\n",
    "ax.legend();"
   ]
  },
  {
   "attachments": {},
   "cell_type": "markdown",
   "metadata": {},
   "source": [
    "The simulation shows that implementing the increased depreciation rate to the simulation, reduces the relative GDP further, compared to the scenario with incresing climate changes. "
   ]
  },
  {
   "attachments": {},
   "cell_type": "markdown",
   "metadata": {},
   "source": [
    "# Conclusion"
   ]
  },
  {
   "attachments": {},
   "cell_type": "markdown",
   "metadata": {},
   "source": [
    "In this project we investigate the classic Solow model with technological growth and climate changes. Both an analytical and numerical solution is found stating that $\\tilde k^* = (\\frac{s[1-D]}{n+g+\\delta + ng})^\\frac{1}{1-\\alpha} = 7.164$ and $\\tilde y^* = [1-D]^\\frac{1}{1-\\alpha}(\\frac{s}{n+g+\\delta + ng})^\\frac{\\alpha}{1-\\alpha} = 1.915$. By calculating $\\tilde k^*$ and $\\tilde y^*$ for different values of D (that is the fraction of production that is lost due to climate changes) we conclude that increasing climate changes reduces both capital - and GDP per capita. \n",
    "\n",
    "As a further analysis we simulate the relative GDP ($\\frac{y_t}{y_0}$) in 3 different scenarios. In the first scenario we consider a situation without climate changes ($D = 0$). The second simulation is made assuming constant climate changes from period $t = 1$ ($D = 0.175$) and lastly we model a situation with increasing climate changes.\n",
    "The simulation (figure 2) illustrates a negative effect from climate changes in all three scenarios. Further it seems that slowly increasing temperatur (scenario 3) is less damaging than the sudden temperature increase in scenario 2. \n",
    "\n",
    "We extend the model by assuming that the depreciation rate of capital is increasing with climate changes. More specific we add the following equation to our model: $\\delta = \\delta_0 + \\delta_1 \\Delta T_t$. The new simulation (figure 3) shows that allowing $\\delta$ to vary with the temperature reduces the relative GDP further, when comparing to the previos scenario. \n",
    " "
   ]
  }
 ],
 "metadata": {
  "kernelspec": {
   "display_name": "base",
   "language": "python",
   "name": "python3"
  },
  "language_info": {
   "codemirror_mode": {
    "name": "ipython",
    "version": 3
   },
   "file_extension": ".py",
   "mimetype": "text/x-python",
   "name": "python",
   "nbconvert_exporter": "python",
   "pygments_lexer": "ipython3",
   "version": "3.9.13"
  },
  "toc-autonumbering": true,
  "vscode": {
   "interpreter": {
    "hash": "a08668cbea4845e995468df5c9bd6d65f7b71debe4a0fed0e65bd522ad3a74b1"
   }
  }
 },
 "nbformat": 4,
 "nbformat_minor": 4
}
