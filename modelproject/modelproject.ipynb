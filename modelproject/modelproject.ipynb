{
 "cells": [
  {
   "attachments": {},
   "cell_type": "markdown",
   "metadata": {},
   "source": [
    "# The Solow model with climate change"
   ]
  },
  {
   "cell_type": "markdown",
   "metadata": {},
   "source": [
    "Imports and set magics:"
   ]
  },
  {
   "cell_type": "code",
   "execution_count": 1,
   "metadata": {},
   "outputs": [
    {
     "data": {
      "application/vnd.jupyter.widget-view+json": {
       "model_id": "da75a801a4834937a93006a0816c4e45",
       "version_major": 2,
       "version_minor": 0
      },
      "text/plain": [
       "interactive(children=(FloatSlider(value=0.3, description='s', max=0.5, step=0.01), FloatSlider(value=0.0, desc…"
      ]
     },
     "metadata": {},
     "output_type": "display_data"
    },
    {
     "name": "stdout",
     "output_type": "stream",
     "text": [
      "initializing the model:\n",
      "calling .setup()\n"
     ]
    }
   ],
   "source": [
    "import numpy as np\n",
    "from scipy import optimize\n",
    "import sympy as sm\n",
    "import matplotlib.pyplot as plt\n",
    "from sympy.solvers import solve\n",
    "from sympy import Symbol\n",
    "import ipywidgets as widgets\n",
    "from ipywidgets import interact, interactive, fixed, interact_manual\n",
    "\n",
    "#pip install tabulate\n",
    "from tabulate import tabulate\n",
    "\n",
    "# autoreload modules when code is run\n",
    "%load_ext autoreload\n",
    "%autoreload 2\n",
    "\n",
    "# local modules\n",
    "import modelproject\n",
    "from modelproject import SolowModelClass \n",
    "model = SolowModelClass()"
   ]
  },
  {
   "cell_type": "markdown",
   "metadata": {},
   "source": [
    "# Model description"
   ]
  },
  {
   "attachments": {},
   "cell_type": "markdown",
   "metadata": {},
   "source": [
    "Our model project is greatly inspired by the exam in Macroeconomics I from 09 January 2020. The exam looks at the classic Solow model with technological growth and explores different levels of climate change, that cause damage to the production output with the fraction D. "
   ]
  },
  {
   "attachments": {},
   "cell_type": "markdown",
   "metadata": {},
   "source": [
    "$$\n",
    "\\begin{aligned}\n",
    "Y_t &= [1-D]K_t^\\alpha (A_t L_t)^{1-\\alpha}, 0 <\\alpha<1\\\\\n",
    "D &= 1-\\frac{1}{1+\\sigma{(\\Delta T)}^2}, \\sigma > 0 \\\\\n",
    "K_{t+1} &= s Y_t+(1-\\delta) K_t, 0<s<1,0<\\delta<1,K_0>0 \\\\\n",
    "A_{t+1} &=(1+g)A_t, A_0>0 \\\\\n",
    "L_{t+1} &=(1+n)A_t, L_0>0\n",
    "\\end{aligned}\n",
    "$$"
   ]
  },
  {
   "attachments": {},
   "cell_type": "markdown",
   "metadata": {},
   "source": [
    "The first equation is a Cobb-Douglas production function describing total output $(Y_t)$ as a function of physical capital $(K_t)$, population size $(L_t)$ and technology level $(A_t)$. We assume that climate change reduces output by share D; i.e. a part of output $(DY_t)$ is destroyed and only the share $1-D$ of output can be used for consumption and investment. The damage from climate change is given by the second equation, where $T$ measures change in temperature. Capital accumulation is described by the third equation, where $s$ is the saving rate and $\\delta$ is the attrition rate. The last two equations indicate how the level of technology $(A_t)$ and the population $(L_t)$ evolve over time.\n",
    "\n",
    "We define $\\tilde y_t=\\frac{Y_t}{A_tL_t}$ and $\\tilde k_t = \\frac{K_t}{A_tL_t}$."
   ]
  },
  {
   "cell_type": "markdown",
   "metadata": {},
   "source": [
    "## Analytical solution"
   ]
  },
  {
   "cell_type": "markdown",
   "metadata": {},
   "source": [
    "If your model allows for an analytical solution, you should provide here.\n",
    "\n",
    "You may use Sympy for this. Then you can characterize the solution as a function of a parameter of the model.\n",
    "\n",
    "To characterize the solution, first derive a steady state equation as a function of a parameter using Sympy.solve and then turn it into a python function by Sympy.lambdify. See the lecture notes for details. "
   ]
  },
  {
   "attachments": {},
   "cell_type": "markdown",
   "metadata": {},
   "source": [
    "We find the transition equation for capital per worker:"
   ]
  },
  {
   "attachments": {},
   "cell_type": "markdown",
   "metadata": {},
   "source": [
    "$$\n",
    "\\begin{aligned}\n",
    "\\frac{K_{t+1}}{A_{t+1} L_{t+1}} & =\\frac{s Y_t+(1-\\delta) K_t}{(1+g)(1+n) A_t L_t} \\Leftrightarrow \\\\\n",
    "\\tilde{k}_{t+1} & =\\frac{1}{(1+n)(1+g)}\\left(s \\tilde{y}_t+(1-\\delta) \\tilde{k}_t\\right) \\Leftrightarrow \\\\\n",
    "\\tilde{k}_{t+1} & =\\frac{1}{(1+n)(1+g)}\\left(s[1-D] \\tilde{k}_t^\\alpha+(1-\\delta) \\tilde{k}_t\\right)\n",
    "\\end{aligned}\n",
    "$$"
   ]
  },
  {
   "attachments": {},
   "cell_type": "markdown",
   "metadata": {},
   "source": [
    "This can be shown in a phase diagram, where we see that the model converges to it's steady state value, irrespective of starting value."
   ]
  },
  {
   "cell_type": "code",
   "execution_count": 2,
   "metadata": {},
   "outputs": [
    {
     "data": {
      "text/latex": [
       "$\\displaystyle - \\frac{D}{dT^{2} \\left(D - 1\\right)}$"
      ],
      "text/plain": [
       "-D/(dT**2*(D - 1))"
      ]
     },
     "execution_count": 2,
     "metadata": {},
     "output_type": "execute_result"
    }
   ],
   "source": [
    "model.solve_sigma()\n"
   ]
  },
  {
   "cell_type": "code",
   "execution_count": 3,
   "metadata": {},
   "outputs": [
    {
     "ename": "AttributeError",
     "evalue": "'function' object has no attribute 'sigmavalue'",
     "output_type": "error",
     "traceback": [
      "\u001b[0;31m---------------------------------------------------------------------------\u001b[0m",
      "\u001b[0;31mAttributeError\u001b[0m                            Traceback (most recent call last)",
      "\u001b[0;32m/var/folders/qv/pb7dpxz14wl35c78zxg1rrzw0000gn/T/ipykernel_50829/3524944185.py\u001b[0m in \u001b[0;36m<module>\u001b[0;34m\u001b[0m\n\u001b[0;32m----> 1\u001b[0;31m \u001b[0msigma_func\u001b[0m \u001b[0;34m=\u001b[0m \u001b[0msm\u001b[0m\u001b[0;34m.\u001b[0m\u001b[0mlambdify\u001b[0m\u001b[0;34m(\u001b[0m\u001b[0;34m(\u001b[0m\u001b[0mmodel\u001b[0m\u001b[0;34m.\u001b[0m\u001b[0mpar\u001b[0m\u001b[0;34m.\u001b[0m\u001b[0md\u001b[0m\u001b[0;34m,\u001b[0m\u001b[0mmodel\u001b[0m\u001b[0;34m.\u001b[0m\u001b[0mpar\u001b[0m\u001b[0;34m.\u001b[0m\u001b[0mdT\u001b[0m\u001b[0;34m)\u001b[0m\u001b[0;34m,\u001b[0m\u001b[0mmodel\u001b[0m\u001b[0;34m.\u001b[0m\u001b[0msolve_sigma\u001b[0m\u001b[0;34m.\u001b[0m\u001b[0msigmavalue\u001b[0m\u001b[0;34m)\u001b[0m\u001b[0;34m\u001b[0m\u001b[0;34m\u001b[0m\u001b[0m\n\u001b[0m",
      "\u001b[0;31mAttributeError\u001b[0m: 'function' object has no attribute 'sigmavalue'"
     ]
    }
   ],
   "source": [
    "sigma_func = sm.lambdify((model.par.d,model.par.dT),model.solve_sigma.sigmavalue)"
   ]
  },
  {
   "cell_type": "code",
   "execution_count": 4,
   "metadata": {},
   "outputs": [
    {
     "data": {
      "image/png": "[encoded data removed]",
      "text/plain": [
       "<Figure size 640x480 with 1 Axes>"
      ]
     },
     "metadata": {},
     "output_type": "display_data"
    }
   ],
   "source": [
    "# calling model parameters \n",
    "val = model.val\n",
    "\n",
    "# define the transition equation with the production function integrated\n",
    "kt1 = lambda k:(val.s*(1-val.d)*k**val.alpha + (1-val.delta)*k)/((1+val.g)*(1+val.n))\n",
    "\n",
    "# generate a range of values for kt1\n",
    "kt1_range = np.linspace(0, 10, 100)\n",
    "\n",
    "# create a plot of the transition equation function\n",
    "plt.plot(kt1_range, kt1(kt1_range))\n",
    "\n",
    "# plot a line with slope 1 to represent the 45-degree line\n",
    "plt.plot([0, 8], [0, 8], color='r')\n",
    "\n",
    "# set the x and y limits\n",
    "plt.xlim(0, 7)\n",
    "plt.ylim(0, 7)\n",
    "\n",
    "# label the axes\n",
    "plt.xlabel(r'$\\tilde k_t$')\n",
    "plt.ylabel(r'$\\tilde k_{t+1}$')\n",
    "\n",
    "# set title\n",
    "plt.title('Phase diagram')\n",
    "\n",
    "# show the plot\n",
    "plt.show()"
   ]
  },
  {
   "cell_type": "code",
   "execution_count": 5,
   "metadata": {},
   "outputs": [
    {
     "ename": "TypeError",
     "evalue": "phasediagram() missing 6 required positional arguments: 'd', 'n', 'g', 'alpha', 'delta', and 'T'",
     "output_type": "error",
     "traceback": [
      "\u001b[0;31m---------------------------------------------------------------------------\u001b[0m",
      "\u001b[0;31mTypeError\u001b[0m                                 Traceback (most recent call last)",
      "\u001b[0;32m/var/folders/qv/pb7dpxz14wl35c78zxg1rrzw0000gn/T/ipykernel_50829/2770438899.py\u001b[0m in \u001b[0;36m<module>\u001b[0;34m\u001b[0m\n\u001b[0;32m----> 1\u001b[0;31m \u001b[0mmodel\u001b[0m\u001b[0;34m.\u001b[0m\u001b[0mphasediagram\u001b[0m\u001b[0;34m(\u001b[0m\u001b[0;34m)\u001b[0m\u001b[0;34m\u001b[0m\u001b[0;34m\u001b[0m\u001b[0m\n\u001b[0m",
      "\u001b[0;31mTypeError\u001b[0m: phasediagram() missing 6 required positional arguments: 'd', 'n', 'g', 'alpha', 'delta', and 'T'"
     ]
    }
   ],
   "source": [
    "model.phasediagram()"
   ]
  },
  {
   "attachments": {},
   "cell_type": "markdown",
   "metadata": {},
   "source": [
    "In steady state $\\tilde{k}_{t+1}=\\tilde{k}_{t}=\\tilde{k}^*$. We then find the steady state for capital to be: "
   ]
  },
  {
   "cell_type": "code",
   "execution_count": 6,
   "metadata": {},
   "outputs": [
    {
     "data": {
      "text/latex": [
       "$\\displaystyle \\left(\\frac{- \\delta - g n - g - n}{s \\left(D - 1\\right)}\\right)^{\\frac{1}{\\alpha - 1}}$"
      ],
      "text/plain": [
       "((-delta - g*n - g - n)/(s*(D - 1)))**(1/(alpha - 1))"
      ]
     },
     "execution_count": 6,
     "metadata": {},
     "output_type": "execute_result"
    }
   ],
   "source": [
    "model.solve_analytical_ss()"
   ]
  },
  {
   "cell_type": "markdown",
   "metadata": {},
   "source": [
    "## Numerical solution"
   ]
  },
  {
   "cell_type": "markdown",
   "metadata": {},
   "source": [
    "You can always solve a model numerically. \n",
    "\n",
    "Define first the set of parameters you need. \n",
    "\n",
    "Then choose one of the optimization algorithms that we have gone through in the lectures based on what you think is most fitting for your model.\n",
    "\n",
    "Are there any problems with convergence? Does the model converge for all starting values? Make a lot of testing to figure these things out. "
   ]
  },
  {
   "cell_type": "code",
   "execution_count": 23,
   "metadata": {},
   "outputs": [
    {
     "data": {
      "text/plain": [
       "(7.1638190350558375, 1.915127622038289)"
      ]
     },
     "execution_count": 23,
     "metadata": {},
     "output_type": "execute_result"
    }
   ],
   "source": [
    "model.solve_num_ss()"
   ]
  },
  {
   "cell_type": "markdown",
   "metadata": {},
   "source": [
    "# Further analysis"
   ]
  },
  {
   "cell_type": "markdown",
   "metadata": {},
   "source": [
    "Make detailed vizualizations of how your model changes with parameter values. \n",
    "\n",
    "Try to make an extension of the model. "
   ]
  },
  {
   "attachments": {},
   "cell_type": "markdown",
   "metadata": {},
   "source": [
    "We vary the amount of climate changes D: "
   ]
  },
  {
   "cell_type": "code",
   "execution_count": 8,
   "metadata": {},
   "outputs": [
    {
     "data": {
      "application/vnd.jupyter.widget-view+json": {
       "model_id": "bdfc94a9cd4644ee9932d3350080bd39",
       "version_major": 2,
       "version_minor": 0
      },
      "text/plain": [
       "Dropdown(description='Select d:', options=(0, 0.2, 0.4, 0.6, 0.8), value=0)"
      ]
     },
     "metadata": {},
     "output_type": "display_data"
    }
   ],
   "source": [
    "# create a list of values for d\n",
    "d_vec = [0,0.2,0.4,0.6,0.8]\n",
    "\n",
    "# create an empty list to store the results\n",
    "k_ss_list = []\n",
    "y_ss_list = []\n",
    "relative_y_ss_list = []\n",
    "\n",
    "for d in d_vec:\n",
    "    model.val.d = d\n",
    "    k_ss, y_ss = model.solve_num_ss()\n",
    "    k_ss_list.append(k_ss)\n",
    "    y_ss_list.append(y_ss)\n",
    "    rel_y_ss = y_ss/y_ss_list[0]*100\n",
    "    relative_y_ss_list.append(rel_y_ss)\n",
    "\n",
    "# define dropdown menu\n",
    "d_dropdown = widgets.Dropdown(\n",
    "    options=list(d_vec),\n",
    "    description='Select d:',\n",
    "    value=d_vec[0])\n",
    "\n",
    "# define a function to print the text for dropdown\n",
    "def print_text_dropdown(d):\n",
    "    index = list(d_vec).index(d)\n",
    "    print(f'd = {d:.1f}: \\n Steady state for k is {k_ss_list[index]:.1f} \\n steady state for y is {y_ss_list[index]:.1f} \\n Steady state output per worker relative to a world without climate change is {relative_y_ss_list[index]:.1f}% \\n')\n",
    "\n",
    "# create an event handler to call the print_text function when the value of the dropdown menu changes\n",
    "def on_dropdown_change(change):\n",
    "    if change['type'] == 'change' and change['name'] == 'value':\n",
    "        print_text_dropdown(change['new'])\n",
    "\n",
    "d_dropdown.observe(on_dropdown_change)\n",
    "\n",
    "# show dropdown menu\n",
    "display(d_dropdown)"
   ]
  },
  {
   "cell_type": "code",
   "execution_count": 7,
   "metadata": {},
   "outputs": [
    {
     "name": "stdout",
     "output_type": "stream",
     "text": [
      "╒═════╤══════════╤══════════╕\n",
      "│   D │     K_ss │     Y_ss │\n",
      "╞═════╪══════════╪══════════╡\n",
      "│ 0   │ 7.16382  │ 1.91513  │\n",
      "├─────┼──────────┼──────────┤\n",
      "│ 0.2 │ 5.13455  │ 1.37264  │\n",
      "├─────┼──────────┼──────────┤\n",
      "│ 0.4 │ 3.34216  │ 0.89347  │\n",
      "├─────┼──────────┼──────────┤\n",
      "│ 0.6 │ 1.82475  │ 0.487818 │\n",
      "├─────┼──────────┼──────────┤\n",
      "│ 0.8 │ 0.648494 │ 0.173364 │\n",
      "╘═════╧══════════╧══════════╛\n"
     ]
    }
   ],
   "source": [
    "model.D_vector()"
   ]
  },
  {
   "attachments": {},
   "cell_type": "markdown",
   "metadata": {},
   "source": [
    "COMMENT: MORE D SMALLER K AND Y"
   ]
  },
  {
   "attachments": {},
   "cell_type": "markdown",
   "metadata": {},
   "source": [
    "### Simulation"
   ]
  },
  {
   "attachments": {},
   "cell_type": "markdown",
   "metadata": {},
   "source": [
    "In the following we wish to simulate the development in..."
   ]
  },
  {
   "cell_type": "code",
   "execution_count": 28,
   "metadata": {},
   "outputs": [
    {
     "name": "stdout",
     "output_type": "stream",
     "text": [
      "initializing the model:\n",
      "calling .setup()\n"
     ]
    }
   ],
   "source": [
    "model = SolowModelClass()\n",
    "sim = model.sim\n",
    "model.simulate()\n",
    "model.simulate2()\n",
    "model.simulate3()"
   ]
  },
  {
   "cell_type": "code",
   "execution_count": 30,
   "metadata": {},
   "outputs": [
    {
     "data": {
      "text/plain": [
       "(0.5, 8.0)"
      ]
     },
     "execution_count": 30,
     "metadata": {},
     "output_type": "execute_result"
    },
    {
     "data": {
      "image/png": "[encoded data removed]",
      "text/plain": [
       "<Figure size 640x480 with 1 Axes>"
      ]
     },
     "metadata": {},
     "output_type": "display_data"
    }
   ],
   "source": [
    "fig = plt.figure()\n",
    "ax = fig.add_subplot(1,1,1)\n",
    "ax.plot(np.arange(model.par.simT),sim.fracY,label='Relative BNP',c='darkred')\n",
    "ax.plot(np.arange(model.par.simT),sim.fracYD,label='Relative BNP with climate change',c='grey')\n",
    "ax.plot(np.arange(model.par.simT),sim.fracYDgrowth,label='Relative BNP with increasing climate change',c='orange')\n",
    "ax.set_xlabel('time')\n",
    "ax.set_title('Figure 2: Simulation',pad=15)\n",
    "ax.legend(frameon=True);\n",
    "plt.ylim([0.5,8])"
   ]
  },
  {
   "cell_type": "code",
   "execution_count": 20,
   "metadata": {},
   "outputs": [
    {
     "ename": "TypeError",
     "evalue": "unsupported operand type(s) for -: 'int' and 'list'",
     "output_type": "error",
     "traceback": [
      "\u001b[0;31m---------------------------------------------------------------------------\u001b[0m",
      "\u001b[0;31mTypeError\u001b[0m                                 Traceback (most recent call last)",
      "\u001b[0;32m/var/folders/h0/y0qvwgrx3cgbctfpylz6ksgc0000gn/T/ipykernel_17132/566093778.py\u001b[0m in \u001b[0;36m<module>\u001b[0;34m\u001b[0m\n\u001b[0;32m----> 1\u001b[0;31m \u001b[0mmodel\u001b[0m\u001b[0;34m.\u001b[0m\u001b[0msimulatesamlet\u001b[0m\u001b[0;34m(\u001b[0m\u001b[0;34m)\u001b[0m\u001b[0;34m\u001b[0m\u001b[0;34m\u001b[0m\u001b[0m\n\u001b[0m",
      "\u001b[0;32m~/OneDrive - Københavns Universitet/projects-2023-ida-simone-elin/modelproject/modelproject.py\u001b[0m in \u001b[0;36msimulatesamlet\u001b[0;34m(self)\u001b[0m\n\u001b[1;32m    223\u001b[0m                     \u001b[0mL_lag\u001b[0m \u001b[0;34m=\u001b[0m \u001b[0;36m1\u001b[0m\u001b[0;34m\u001b[0m\u001b[0;34m\u001b[0m\u001b[0m\n\u001b[1;32m    224\u001b[0m                     \u001b[0mA_lag\u001b[0m \u001b[0;34m=\u001b[0m \u001b[0;36m1\u001b[0m\u001b[0;34m\u001b[0m\u001b[0;34m\u001b[0m\u001b[0m\n\u001b[0;32m--> 225\u001b[0;31m                     \u001b[0mY_lag\u001b[0m \u001b[0;34m=\u001b[0m \u001b[0;34m(\u001b[0m\u001b[0;36m1\u001b[0m\u001b[0;34m-\u001b[0m\u001b[0md_list\u001b[0m\u001b[0;34m)\u001b[0m\u001b[0;34m*\u001b[0m\u001b[0mK_lag\u001b[0m\u001b[0;34m**\u001b[0m\u001b[0mval\u001b[0m\u001b[0;34m.\u001b[0m\u001b[0malpha\u001b[0m\u001b[0;34m*\u001b[0m\u001b[0;34m(\u001b[0m\u001b[0mA_lag\u001b[0m\u001b[0;34m*\u001b[0m\u001b[0mL_lag\u001b[0m\u001b[0;34m)\u001b[0m\u001b[0;34m**\u001b[0m\u001b[0;34m(\u001b[0m\u001b[0;36m1\u001b[0m\u001b[0;34m-\u001b[0m\u001b[0mval\u001b[0m\u001b[0;34m.\u001b[0m\u001b[0malpha\u001b[0m\u001b[0;34m)\u001b[0m\u001b[0;34m\u001b[0m\u001b[0;34m\u001b[0m\u001b[0m\n\u001b[0m\u001b[1;32m    226\u001b[0m \u001b[0;34m\u001b[0m\u001b[0m\n\u001b[1;32m    227\u001b[0m                     \u001b[0mL\u001b[0m \u001b[0;34m=\u001b[0m \u001b[0msim\u001b[0m\u001b[0;34m.\u001b[0m\u001b[0mL\u001b[0m\u001b[0;34m[\u001b[0m\u001b[0mt\u001b[0m\u001b[0;34m]\u001b[0m \u001b[0;34m=\u001b[0m \u001b[0mL_lag\u001b[0m\u001b[0;34m\u001b[0m\u001b[0;34m\u001b[0m\u001b[0m\n",
      "\u001b[0;31mTypeError\u001b[0m: unsupported operand type(s) for -: 'int' and 'list'"
     ]
    }
   ],
   "source": [
    "model.simulatesamlet()"
   ]
  },
  {
   "cell_type": "markdown",
   "metadata": {},
   "source": [
    "# Conclusion"
   ]
  },
  {
   "cell_type": "markdown",
   "metadata": {},
   "source": []
  },
  {
   "cell_type": "markdown",
   "metadata": {},
   "source": [
    "Add concise conclusion. "
   ]
  },
  {
   "cell_type": "markdown",
   "metadata": {},
   "source": []
  }
 ],
 "metadata": {
  "kernelspec": {
   "display_name": "base",
   "language": "python",
   "name": "python3"
  },
  "language_info": {
   "codemirror_mode": {
    "name": "ipython",
    "version": 3
   },
   "file_extension": ".py",
   "mimetype": "text/x-python",
   "name": "python",
   "nbconvert_exporter": "python",
   "pygments_lexer": "ipython3",
   "version": "3.9.13"
  },
  "toc-autonumbering": true,
  "vscode": {
   "interpreter": {
    "hash": "a08668cbea4845e995468df5c9bd6d65f7b71debe4a0fed0e65bd522ad3a74b1"
   }
  }
 },
 "nbformat": 4,
 "nbformat_minor": 4
}
