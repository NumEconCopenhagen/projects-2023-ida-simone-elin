{
 "cells": [
  {
   "attachments": {},
   "cell_type": "markdown",
   "metadata": {},
   "source": [
    "# The Solow model with climate change"
   ]
  },
  {
   "cell_type": "markdown",
   "metadata": {},
   "source": [
    "Imports and set magics:"
   ]
  },
  {
   "cell_type": "code",
   "execution_count": 1,
   "metadata": {},
   "outputs": [
    {
     "name": "stdout",
     "output_type": "stream",
     "text": [
      "initializing the model:\n",
      "calling .setup()\n"
     ]
    }
   ],
   "source": [
    "import numpy as np\n",
    "from scipy import optimize\n",
    "import sympy as sm\n",
    "import matplotlib.pyplot as plt\n",
    "from sympy.solvers import solve\n",
    "from sympy import Symbol\n",
    "\n",
    "#pip install tabulate\n",
    "from tabulate import tabulate\n",
    "\n",
    "# autoreload modules when code is run\n",
    "%load_ext autoreload\n",
    "%autoreload 2\n",
    "\n",
    "# local modules\n",
    "import modelproject\n",
    "from modelproject import SolowModelClass \n",
    "model = SolowModelClass()"
   ]
  },
  {
   "cell_type": "markdown",
   "metadata": {},
   "source": [
    "# Model description"
   ]
  },
  {
   "attachments": {},
   "cell_type": "markdown",
   "metadata": {},
   "source": [
    "Our model project is greatly inspired by the exam in Macroeconomics I from 09 January 2020. The exam looks at the classic Solow model with technological growth and explores different levels of climate change, that cause damage to the production output with the fraction D. "
   ]
  },
  {
   "attachments": {},
   "cell_type": "markdown",
   "metadata": {},
   "source": [
    "We focus on a version of the Solow model, where climate change causes damage to output. "
   ]
  },
  {
   "attachments": {},
   "cell_type": "markdown",
   "metadata": {},
   "source": [
    "$Y_t = [1-D]K_t^\\alpha (A_t L_t)^{1-\\alpha}, 0 <\\alpha<1$\n",
    "\n",
    "$D=1-\\frac{1}{1+\\sigma{(\\Delta T)}^2}, \\sigma > 0$\n",
    "\n",
    "$K_{t+1}=s Y_t+(1-\\delta) K_t, 0<s<1,0<\\delta<1,K_0>0$\n",
    "\n",
    "$A_{t+1}=(1+g)A_t, A_0>0$\n",
    "\n",
    "$L_{t+1}=(1+n)A_t, L_0>0$"
   ]
  },
  {
   "attachments": {},
   "cell_type": "markdown",
   "metadata": {},
   "source": [
    "The first equation is a Cobb-Douglas production function describing total output $(Y_t)$ as a function of physical capital $(K_t)$, population size $(L_t)$ and technology level $(A_t)$. We assume that climate change reduces output by share D; i.e. a part of output $(DY_t)$ is destroyed and only the share $1-D$ of output can be used for consumption and investment. The damage from climate change is given by the second equation, where $T$ measures change in temperature. Capital accumulation is described by the third equation, where $s$ is the saving rate and $\\delta$ is the attrition rate. The last two equations indicate how the level of technology $(A_t)$ and the population $(L_t)$ evolve over time.\n",
    "\n",
    "We define $\\tilde y_t=\\frac{Y_t}{A_tL_t}$ and $\\tilde k_t = \\frac{K_t}{A_tL_t}$."
   ]
  },
  {
   "attachments": {},
   "cell_type": "markdown",
   "metadata": {},
   "source": [
    "Udledning af transistionsligning \n",
    "Fase diagram"
   ]
  },
  {
   "cell_type": "markdown",
   "metadata": {},
   "source": [
    "## Analytical solution"
   ]
  },
  {
   "cell_type": "markdown",
   "metadata": {},
   "source": [
    "If your model allows for an analytical solution, you should provide here.\n",
    "\n",
    "You may use Sympy for this. Then you can characterize the solution as a function of a parameter of the model.\n",
    "\n",
    "To characterize the solution, first derive a steady state equation as a function of a parameter using Sympy.solve and then turn it into a python function by Sympy.lambdify. See the lecture notes for details. "
   ]
  },
  {
   "attachments": {},
   "cell_type": "markdown",
   "metadata": {},
   "source": [
    "We find the transition equation for capital per worker:"
   ]
  },
  {
   "attachments": {},
   "cell_type": "markdown",
   "metadata": {},
   "source": [
    "$$\n",
    "\\begin{aligned}\n",
    "\\frac{K_{t+1}}{A_{t+1} L_{t+1}} & =\\frac{s Y_t+(1-\\delta) K_t}{(1+g)(1+n) A_t L_t} \\Leftrightarrow \\\\\n",
    "\\tilde{k}_{t+1} & =\\frac{1}{(1+n)(1+g)}\\left(s \\tilde{y}_t+(1-\\delta) \\tilde{k}_t\\right) \\Leftrightarrow \\\\\n",
    "\\tilde{k}_{t+1} & =\\frac{1}{(1+n)(1+g)}\\left(s[1-D] \\tilde{k}_t^\\alpha+(1-\\delta) \\tilde{k}_t\\right)\n",
    "\\end{aligned}\n",
    "$$"
   ]
  },
  {
   "attachments": {},
   "cell_type": "markdown",
   "metadata": {},
   "source": [
    "This can be shown in a phase diagram, where we see that the model converges to it's steady state value, irrespective of starting value."
   ]
  },
  {
   "cell_type": "code",
   "execution_count": null,
   "metadata": {},
   "outputs": [],
   "source": [
    "model.solve_sigma()\n"
   ]
  },
  {
   "cell_type": "code",
   "execution_count": null,
   "metadata": {},
   "outputs": [],
   "source": [
    "sigma_func = sm.lambdify((d,dT),sigmavalue)"
   ]
  },
  {
   "cell_type": "code",
   "execution_count": null,
   "metadata": {},
   "outputs": [],
   "source": [
    "# calling model parameters \n",
    "val = model.val\n",
    "\n",
    "# define the transition equation with the production function integrated\n",
    "kt1 = lambda k:(val.s*(1-val.d)*k**val.alpha + (1-val.delta)*k)/((1+val.g)*(1+val.n))\n",
    "\n",
    "# generate a range of values for kt1\n",
    "kt1_range = np.linspace(0, 10, 100)\n",
    "\n",
    "# create a plot of the transition equation function\n",
    "plt.plot(kt1_range, kt1(kt1_range))\n",
    "\n",
    "# plot a line with slope 1 to represent the 45-degree line\n",
    "plt.plot([0, 1.5], [0, 1.5], color='r')\n",
    "\n",
    "# set the x and y limits\n",
    "plt.xlim(0, 1.5)\n",
    "plt.ylim(0, 1.5)\n",
    "\n",
    "# label the axes\n",
    "plt.xlabel(r'$\\tilde k_t$')\n",
    "plt.ylabel(r'$\\tilde k_{t+1}$')\n",
    "\n",
    "# set title\n",
    "plt.title('Phase diagram')\n",
    "\n",
    "# show the plot\n",
    "plt.show()"
   ]
  },
  {
   "attachments": {},
   "cell_type": "markdown",
   "metadata": {},
   "source": [
    "In steady state $\\tilde{k}_{t+1}=\\tilde{k}_{t}=\\tilde{k}^*$. We then find the steady state for capital to be: "
   ]
  },
  {
   "cell_type": "code",
   "execution_count": null,
   "metadata": {},
   "outputs": [],
   "source": [
    "model.solve_analytical_ss()"
   ]
  },
  {
   "cell_type": "markdown",
   "metadata": {},
   "source": [
    "## Numerical solution"
   ]
  },
  {
   "cell_type": "markdown",
   "metadata": {},
   "source": [
    "You can always solve a model numerically. \n",
    "\n",
    "Define first the set of parameters you need. \n",
    "\n",
    "Then choose one of the optimization algorithms that we have gone through in the lectures based on what you think is most fitting for your model.\n",
    "\n",
    "Are there any problems with convergence? Does the model converge for all starting values? Make a lot of testing to figure these things out. "
   ]
  },
  {
   "cell_type": "code",
   "execution_count": null,
   "metadata": {},
   "outputs": [],
   "source": [
    "model.solve_num_ss()"
   ]
  },
  {
   "cell_type": "markdown",
   "metadata": {},
   "source": [
    "# Further analysis"
   ]
  },
  {
   "cell_type": "markdown",
   "metadata": {},
   "source": [
    "Make detailed vizualizations of how your model changes with parameter values. \n",
    "\n",
    "Try to make an extension of the model. "
   ]
  },
  {
   "attachments": {},
   "cell_type": "markdown",
   "metadata": {},
   "source": [
    "We vary the amount of climate changes D: "
   ]
  },
  {
   "cell_type": "code",
   "execution_count": null,
   "metadata": {},
   "outputs": [],
   "source": [
    "model.D_vector()"
   ]
  },
  {
   "attachments": {},
   "cell_type": "markdown",
   "metadata": {},
   "source": [
    "COMMENT: MORE D SMALLER K AND Y"
   ]
  },
  {
   "attachments": {},
   "cell_type": "markdown",
   "metadata": {},
   "source": [
    "### Simulation"
   ]
  },
  {
   "attachments": {},
   "cell_type": "markdown",
   "metadata": {},
   "source": [
    "In the following we wish to simulate the development in..."
   ]
  },
  {
   "cell_type": "code",
   "execution_count": 33,
   "metadata": {},
   "outputs": [
    {
     "name": "stdout",
     "output_type": "stream",
     "text": [
      "initializing the model:\n",
      "calling .setup()\n"
     ]
    }
   ],
   "source": [
    "model = SolowModelClass()\n",
    "sim = model.sim\n",
    "model.simulate()\n",
    "model.simulate2()\n",
    "model.simulate3()"
   ]
  },
  {
   "cell_type": "code",
   "execution_count": 34,
   "metadata": {},
   "outputs": [
    {
     "data": {
      "text/plain": [
       "array([1.        , 1.01932155, 1.03905163, 1.05919774, 1.07976749,\n",
       "       1.10076871, 1.12220939, 1.14409769, 1.16644196, 1.18925074,\n",
       "       1.21253276, 1.23629693, 1.26055236, 1.28530835, 1.31057443,\n",
       "       1.3363603 , 1.3626759 , 1.38953136, 1.41693704, 1.44490352,\n",
       "       1.47344161, 1.50256232, 1.53227694, 1.56259695, 1.59353411,\n",
       "       1.62510041, 1.65730809, 1.69016965, 1.72369784, 1.75790569,\n",
       "       1.7928065 , 1.82841383, 1.86474154, 1.90180377, 1.93961493,\n",
       "       1.97818976, 2.01754329, 2.05769085, 2.09864809, 2.14043098,\n",
       "       2.18305583, 2.22653926, 2.27089825, 2.31615011, 2.36231251,\n",
       "       2.40940348, 2.45744142, 2.50644509, 2.55643365, 2.60742663,\n",
       "       2.65944397, 2.71250601, 2.76663349, 2.82184759, 2.8781699 ,\n",
       "       2.93562246, 2.99422775, 3.0540087 , 3.11498871, 3.17719164,\n",
       "       3.24064183, 3.30536414, 3.3713839 , 3.43872696, 3.50741969,\n",
       "       3.57748899, 3.64896229, 3.7218676 , 3.79623347, 3.87208903,\n",
       "       3.949464  , 4.02838868, 4.108894  , 4.19101149, 4.27477334,\n",
       "       4.36021237, 4.44736205, 4.53625654, 4.62693066, 4.71941996,\n",
       "       4.81376069, 4.90998981, 5.00814504, 5.10826486, 5.2103885 ,\n",
       "       5.314556  , 5.42080818, 5.52918671, 5.63973405, 5.75249354,\n",
       "       5.8675094 , 5.9848267 , 6.10449144, 6.22655053, 6.35105182,\n",
       "       6.47804412, 6.60757723, 6.73970191, 6.87446999, 7.01193428])"
      ]
     },
     "execution_count": 34,
     "metadata": {},
     "output_type": "execute_result"
    }
   ],
   "source": [
    "sim.fracY"
   ]
  },
  {
   "cell_type": "code",
   "execution_count": 35,
   "metadata": {},
   "outputs": [
    {
     "data": {
      "text/plain": [
       "array([1.        , 0.84094028, 0.85343425, 0.86630137, 0.87954644,\n",
       "       0.89317436, 0.90719013, 0.92159886, 0.93640576, 0.95161617,\n",
       "       0.96723555, 0.98326951, 0.99972376, 1.01660418, 1.03391679,\n",
       "       1.05166776, 1.06986341, 1.08851026, 1.10761494, 1.1271843 ,\n",
       "       1.14722535, 1.16774527, 1.18875145, 1.21025146, 1.23225307,\n",
       "       1.25476423, 1.27779312, 1.30134812, 1.32543782, 1.35007103,\n",
       "       1.37525677, 1.4010043 , 1.42732312, 1.45422292, 1.48171368,\n",
       "       1.50980559, 1.5385091 , 1.56783491, 1.59779396, 1.62839747,\n",
       "       1.65965692, 1.69158406, 1.7241909 , 1.75748975, 1.79149318,\n",
       "       1.82621406, 1.86166557, 1.89786116, 1.93481459, 1.97253994,\n",
       "       2.01105159, 2.05036425, 2.09049296, 2.13145307, 2.17326029,\n",
       "       2.21593065, 2.25948055, 2.30392673, 2.3492863 , 2.39557672,\n",
       "       2.44281586, 2.49102193, 2.54021355, 2.59040975, 2.64162992,\n",
       "       2.69389391, 2.74722194, 2.80163469, 2.85715325, 2.91379917,\n",
       "       2.97159443, 3.03056149, 3.09072326, 3.15210313, 3.21472497,\n",
       "       3.27861315, 3.34379253, 3.41028851, 3.47812698, 3.54733437,\n",
       "       3.61793768, 3.68996442, 3.76344269, 3.83840116, 3.91486908,\n",
       "       3.99287631, 4.07245329, 4.15363111, 4.23644148, 4.32091674,\n",
       "       4.40708992, 4.49499468, 4.5846654 , 4.67613714, 4.76944565,\n",
       "       4.86462744, 4.96171973, 5.06076052, 5.16178853, 5.26484332])"
      ]
     },
     "execution_count": 35,
     "metadata": {},
     "output_type": "execute_result"
    }
   ],
   "source": [
    "sim.fracYD"
   ]
  },
  {
   "cell_type": "code",
   "execution_count": null,
   "metadata": {},
   "outputs": [],
   "source": []
  },
  {
   "cell_type": "code",
   "execution_count": 36,
   "metadata": {},
   "outputs": [
    {
     "data": {
      "text/plain": [
       "(0.5, 8.0)"
      ]
     },
     "execution_count": 36,
     "metadata": {},
     "output_type": "execute_result"
    },
    {
     "data": {
      "image/png": "[encoded data removed]",
      "text/plain": [
       "<Figure size 640x480 with 1 Axes>"
      ]
     },
     "metadata": {},
     "output_type": "display_data"
    }
   ],
   "source": [
    "fig = plt.figure()\n",
    "ax = fig.add_subplot(1,1,1)\n",
    "ax.plot(np.arange(model.par.simT),sim.fracY,label='Relative BNP')\n",
    "ax.plot(np.arange(model.par.simT),sim.fracYD,label='Relative BNP with climate change')\n",
    "ax.plot(np.arange(model.par.simT),sim.fracYDgrowth,label='Relative BNP with increasing climate change')\n",
    "ax.set_xlabel('time')\n",
    "ax.set_title('Figure 2: Simulation',pad=15)\n",
    "ax.legend(frameon=True);\n",
    "plt.ylim([0.5,8])"
   ]
  },
  {
   "cell_type": "code",
   "execution_count": 20,
   "metadata": {},
   "outputs": [
    {
     "ename": "TypeError",
     "evalue": "unsupported operand type(s) for -: 'int' and 'list'",
     "output_type": "error",
     "traceback": [
      "\u001b[0;31m---------------------------------------------------------------------------\u001b[0m",
      "\u001b[0;31mTypeError\u001b[0m                                 Traceback (most recent call last)",
      "\u001b[0;32m/var/folders/h0/y0qvwgrx3cgbctfpylz6ksgc0000gn/T/ipykernel_17132/566093778.py\u001b[0m in \u001b[0;36m<module>\u001b[0;34m\u001b[0m\n\u001b[0;32m----> 1\u001b[0;31m \u001b[0mmodel\u001b[0m\u001b[0;34m.\u001b[0m\u001b[0msimulatesamlet\u001b[0m\u001b[0;34m(\u001b[0m\u001b[0;34m)\u001b[0m\u001b[0;34m\u001b[0m\u001b[0;34m\u001b[0m\u001b[0m\n\u001b[0m",
      "\u001b[0;32m~/OneDrive - Københavns Universitet/projects-2023-ida-simone-elin/modelproject/modelproject.py\u001b[0m in \u001b[0;36msimulatesamlet\u001b[0;34m(self)\u001b[0m\n\u001b[1;32m    223\u001b[0m                     \u001b[0mL_lag\u001b[0m \u001b[0;34m=\u001b[0m \u001b[0;36m1\u001b[0m\u001b[0;34m\u001b[0m\u001b[0;34m\u001b[0m\u001b[0m\n\u001b[1;32m    224\u001b[0m                     \u001b[0mA_lag\u001b[0m \u001b[0;34m=\u001b[0m \u001b[0;36m1\u001b[0m\u001b[0;34m\u001b[0m\u001b[0;34m\u001b[0m\u001b[0m\n\u001b[0;32m--> 225\u001b[0;31m                     \u001b[0mY_lag\u001b[0m \u001b[0;34m=\u001b[0m \u001b[0;34m(\u001b[0m\u001b[0;36m1\u001b[0m\u001b[0;34m-\u001b[0m\u001b[0md_list\u001b[0m\u001b[0;34m)\u001b[0m\u001b[0;34m*\u001b[0m\u001b[0mK_lag\u001b[0m\u001b[0;34m**\u001b[0m\u001b[0mval\u001b[0m\u001b[0;34m.\u001b[0m\u001b[0malpha\u001b[0m\u001b[0;34m*\u001b[0m\u001b[0;34m(\u001b[0m\u001b[0mA_lag\u001b[0m\u001b[0;34m*\u001b[0m\u001b[0mL_lag\u001b[0m\u001b[0;34m)\u001b[0m\u001b[0;34m**\u001b[0m\u001b[0;34m(\u001b[0m\u001b[0;36m1\u001b[0m\u001b[0;34m-\u001b[0m\u001b[0mval\u001b[0m\u001b[0;34m.\u001b[0m\u001b[0malpha\u001b[0m\u001b[0;34m)\u001b[0m\u001b[0;34m\u001b[0m\u001b[0;34m\u001b[0m\u001b[0m\n\u001b[0m\u001b[1;32m    226\u001b[0m \u001b[0;34m\u001b[0m\u001b[0m\n\u001b[1;32m    227\u001b[0m                     \u001b[0mL\u001b[0m \u001b[0;34m=\u001b[0m \u001b[0msim\u001b[0m\u001b[0;34m.\u001b[0m\u001b[0mL\u001b[0m\u001b[0;34m[\u001b[0m\u001b[0mt\u001b[0m\u001b[0;34m]\u001b[0m \u001b[0;34m=\u001b[0m \u001b[0mL_lag\u001b[0m\u001b[0;34m\u001b[0m\u001b[0;34m\u001b[0m\u001b[0m\n",
      "\u001b[0;31mTypeError\u001b[0m: unsupported operand type(s) for -: 'int' and 'list'"
     ]
    }
   ],
   "source": [
    "model.simulatesamlet()"
   ]
  },
  {
   "cell_type": "markdown",
   "metadata": {},
   "source": [
    "# Conclusion"
   ]
  },
  {
   "cell_type": "markdown",
   "metadata": {},
   "source": []
  },
  {
   "cell_type": "markdown",
   "metadata": {},
   "source": [
    "Add concise conclusion. "
   ]
  },
  {
   "cell_type": "markdown",
   "metadata": {},
   "source": []
  }
 ],
 "metadata": {
  "kernelspec": {
   "display_name": "base",
   "language": "python",
   "name": "python3"
  },
  "language_info": {
   "codemirror_mode": {
    "name": "ipython",
    "version": 3
   },
   "file_extension": ".py",
   "mimetype": "text/x-python",
   "name": "python",
   "nbconvert_exporter": "python",
   "pygments_lexer": "ipython3",
   "version": "3.9.13"
  },
  "toc-autonumbering": true,
  "vscode": {
   "interpreter": {
    "hash": "81ba5019e37842368fc49be8de08a0e006194f34fe1ed2c457994b200a6baabe"
   }
  }
 },
 "nbformat": 4,
 "nbformat_minor": 4
}
