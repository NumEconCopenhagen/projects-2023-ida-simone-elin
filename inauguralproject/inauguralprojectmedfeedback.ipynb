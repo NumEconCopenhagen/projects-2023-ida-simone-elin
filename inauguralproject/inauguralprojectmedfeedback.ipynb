{
 "cells": [
  {
   "attachments": {},
   "cell_type": "markdown",
   "metadata": {},
   "source": [
    "# Inaugural Project"
   ]
  },
  {
   "attachments": {},
   "cell_type": "markdown",
   "metadata": {},
   "source": [
    "Imports and set magics:"
   ]
  },
  {
   "cell_type": "code",
   "execution_count": 1,
   "metadata": {},
   "outputs": [],
   "source": [
    "import numpy as np\n",
    "\n",
    "from types import SimpleNamespace\n",
    "from scipy import optimize\n",
    "from scipy.optimize import minimize\n",
    "import pandas as pd \n",
    "import matplotlib.pyplot as plt\n",
    "import math\n",
    "from matplotlib import ticker\n",
    "\n",
    "#We immport autoreload modules when code is run, to make sure our notebook has the recent changes from the Python file. \n",
    "%load_ext autoreload\n",
    "%autoreload 2\n",
    "\n",
    "#We import our python file, where we have set up our model.\n",
    "import inauguralproject\n",
    "from inauguralproject import *\n",
    "\n",
    "#We import our class and name it \"model\".\n",
    "from inauguralproject import HouseholdClass \n",
    "model = HouseholdClass()\n"
   ]
  },
  {
   "cell_type": "markdown",
   "metadata": {},
   "source": [
    "# Question 1"
   ]
  },
  {
   "attachments": {},
   "cell_type": "markdown",
   "metadata": {},
   "source": [
    "In question 1, we want to solve the model discretely, and illustrate how the relative hours worked at home for men and women $\\frac{H_F}{H_M}$ change for different values of $\\alpha$ and $\\sigma$. \n",
    "\n",
    "Based on the provided code, we alter the definition of consumption of home goods H in inauguralproject.py, to allow for $\\sigma\\neq1$. \n",
    "\n",
    "Following this, we solve the model discretely, and find the intial optimal working hours for men and women, in the the market and at home for $\\alpha=0.5$ and $\\sigma=1$"
   ]
  },
  {
   "cell_type": "code",
   "execution_count": 2,
   "metadata": {},
   "outputs": [
    {
     "name": "stderr",
     "output_type": "stream",
     "text": [
      "/Users/idahougaard/OneDrive - Københavns Universitet/projects-2023-ida-simone-elin/inauguralproject/inauguralproject.py:80: RuntimeWarning: invalid value encountered in reciprocal\n",
      "  utility = np.fmax(Q,1e-8)**(1-par.rho)/(1-par.rho)\n"
     ]
    },
    {
     "name": "stdout",
     "output_type": "stream",
     "text": [
      "The initial optimal hours working at home for women is HF = 4.5\n",
      "The initial optimal hours working at home for men is HM = 4.5\n",
      "The initial optimal hours working at the market for women is LF = 4.5\n",
      "The initial optimal hours working at the market for men is LM = 4.5\n"
     ]
    }
   ],
   "source": [
    "#We initiate and solve the discrete model. \n",
    "initial = model.solve_discrete()\n",
    "\n",
    "#Printing the results\n",
    "print(f'The initial optimal hours working at home for women is HF = {initial.HF:.1f}' '\\n'f'The initial optimal hours working at home for men is HM = {initial.HM:.1f}''\\n'f'The initial optimal hours working at the market for women is LF = {initial.LF:.1f}' '\\n'f'The initial optimal hours working at the market for men is LM = {initial.LM:.1f}' )\n"
   ]
  },
  {
   "attachments": {},
   "cell_type": "markdown",
   "metadata": {},
   "source": [
    "In the following, we show how relative optimal working hours at home between men and women change dependent on different values of $\\sigma$ and $\\alpha$. We illustrate this in a table. "
   ]
  },
  {
   "attachments": {},
   "cell_type": "markdown",
   "metadata": {},
   "source": [
    "____"
   ]
  },
  {
   "cell_type": "code",
   "execution_count": 3,
   "metadata": {},
   "outputs": [
    {
     "name": "stderr",
     "output_type": "stream",
     "text": [
      "/Users/idahougaard/OneDrive - Københavns Universitet/projects-2023-ida-simone-elin/inauguralproject/inauguralproject.py:76: RuntimeWarning: divide by zero encountered in reciprocal\n",
      "  H = ((1-par.alpha) * HM**((par.sigma-1)/par.sigma) + par.alpha * HF**((par.sigma-1)/par.sigma))**(par.sigma/(par.sigma-1))\n",
      "/Users/idahougaard/OneDrive - Københavns Universitet/projects-2023-ida-simone-elin/inauguralproject/inauguralproject.py:76: RuntimeWarning: invalid value encountered in reciprocal\n",
      "  H = ((1-par.alpha) * HM**((par.sigma-1)/par.sigma) + par.alpha * HF**((par.sigma-1)/par.sigma))**(par.sigma/(par.sigma-1))\n"
     ]
    },
    {
     "name": "stdout",
     "output_type": "stream",
     "text": [
      "Alpha/Sigma |    0.50    1.00    1.50\n",
      "----------------------------------------\n",
      "    0.25    |    0.55    0.31    0.21\n",
      "    0.50    |    1.00    1.00    1.00\n",
      "    0.75    |    1.83    3.25    4.67\n"
     ]
    }
   ],
   "source": [
    "#We unpack the model parameters\n",
    "par = model.par\n",
    "\n",
    "#We define vectors with the values of alpha and sigma.\n",
    "alpha_vec = [0.25,0.5,0.75]\n",
    "sigma_vec = [0.5,1,1.5]\n",
    "\n",
    "#We create a table with the logarithm of the relative hours worked at home for men and women. \n",
    "def print_table():\n",
    "    \n",
    "    #We define an empty text string\n",
    "    text = ''\n",
    "    \n",
    "    # Creating the top header of the table, we loop over the different values of sigma in the vector\n",
    "    text += f'{\"Alpha/Sigma |\":3s}'\n",
    "    for j, sigma in enumerate(sigma_vec): \n",
    "       model.par.sigma=sigma\n",
    "       text += f'{sigma:8.2f}' \n",
    "    text += '\\n' + \"-\"*40 + \"\\n\" #We create a line shift and a line to divide the header from the rest of the table. \n",
    "    \n",
    "    # Creating the body of the table. We loop over the different values of alpha in the vector and fill the table with the optimal relative at home working hours defined as \"initial\"\n",
    "    for i, alpha in enumerate(alpha_vec): \n",
    "        model.par.alpha=alpha\n",
    "        if i > 0:\n",
    "            text += '\\n' #We create a line shift\n",
    "        text += f'{alpha:8.2f}    |' #Creating the left header with a line to divide it from the rest of the table. \n",
    "        for j, sigma in enumerate(sigma_vec):\n",
    "            model.par.sigma=sigma\n",
    "            disc = model.solve_discrete()\n",
    "            text += f'{disc.HF/disc.HM:8.2f}' \n",
    "    \n",
    "    # Print\n",
    "    print(text)\n",
    "\n",
    "#We print the table: \n",
    "print_table()"
   ]
  },
  {
   "attachments": {},
   "cell_type": "markdown",
   "metadata": {},
   "source": [
    "For $\\alpha=0.5$ men and women are equally productive in the home production, why the relative hours spend on home production are the same regardsless of $\\sigma$. The higher $\\alpha$, the more productive women are in the home compared to men, thus the more women will work at home relative to men. As the elasticity of substitution $\\sigma$ increases, what happens to the relative working hours at home differs depending on $\\alpha$.  "
   ]
  },
  {
   "attachments": {},
   "cell_type": "markdown",
   "metadata": {},
   "source": [
    "We now want to illustrate the results in a 3D plot"
   ]
  },
  {
   "cell_type": "code",
   "execution_count": 4,
   "metadata": {},
   "outputs": [
    {
     "data": {
      "image/png": "[encoded data removed]",
      "text/plain": [
       "<Figure size 640x480 with 2 Axes>"
      ]
     },
     "metadata": {},
     "output_type": "display_data"
    }
   ],
   "source": [
    "# We create 2D meshgrids of the alpha and sigma vectors\n",
    "alpha_grid, sigma_grid = np.meshgrid(alpha_vec,sigma_vec)\n",
    "\n",
    "# We want to create a matrix of log(HF/HM). We fill our the log_rel_hours matrix with a nested loop through the grids of alpha and sigma. \n",
    "log_rel_hours= np.zeros([3,3]) #we create a zero filled matrix the size of the meshgrids of alpha and sigma\n",
    "for i in range(alpha_grid.shape[1]): #we loop through the columns\n",
    "    for j in range(sigma_grid.shape[0]): #we loop through the rows \n",
    "        model.par.alpha = alpha_grid[i,j] #defining alpha values as the values from the grid\n",
    "        model.par.sigma = sigma_grid[i,j] #defining sigma values as the values from the grid \n",
    "        disc = model.solve_discrete() \n",
    "        log_rel_hours[i,j] = disc.HF/disc.HM\n",
    "\n",
    "# We create a 3D figure\n",
    "fig = plt.figure()\n",
    "ax = fig.add_subplot(1,1,1,projection='3d')\n",
    "fig1 = ax.plot_surface(alpha_grid,sigma_grid,log_rel_hours,cmap='Wistia')\n",
    "ax.set(xlim=(0.25, 0.75), ylim=(0.5,1.5), zlim=(0,5))\n",
    "ax.set_title(\"Figure 1: \" r\"$log(\\frac{HF}{HM})$\" \" for different values of \" r\"$\\alpha$\" \" and \" r\"$\\sigma$\" )\n",
    "ax.invert_xaxis()\n",
    "\n",
    "#We add the colourbar \n",
    "cbar=fig.colorbar(fig1, shrink=0.5, aspect=5 ,pad = 0.15)\n",
    "cbar.ax.locator_params(nbins=10)\n",
    "\n",
    "#We add labels \n",
    "ax.set_xlabel(r\"$\\alpha$\", fontsize=14)\n",
    "ax.set_ylabel(r\"$\\sigma$\", fontsize=14)\n",
    "ax.set_zlabel(r\"$log(\\frac{HF}{HM})$\", fontsize=12)\n",
    "\n",
    "#We change the decimals on the axis\n",
    "ax.xaxis.set_major_formatter(ticker.StrMethodFormatter(\"{x:.2f}\"))\n",
    "ax.yaxis.set_major_formatter(ticker.StrMethodFormatter(\"{x:.2f}\"))\n",
    "ax.zaxis.set_major_formatter(ticker.StrMethodFormatter(\"{x:.2f}\"))"
   ]
  },
  {
   "cell_type": "markdown",
   "metadata": {},
   "source": [
    "# Question 2"
   ]
  },
  {
   "attachments": {},
   "cell_type": "markdown",
   "metadata": {},
   "source": [
    "We now return to $\\alpha=0.5$ and $\\sigma=1$. \n",
    "We vary the female wage $w_F$ and illustrate how it changes $log\\frac{H_F}{H_M}$ and $log\\frac{w_F}{w_M}$."
   ]
  },
  {
   "cell_type": "code",
   "execution_count": 5,
   "metadata": {},
   "outputs": [],
   "source": [
    "#We make sure our alpha and sigma parameters are set back to the original values\n",
    "par = model.par\n",
    "model.par.alpha=0.5\n",
    "model.par.sigma=1\n",
    "\n",
    "#Using the solution vectors defined in the py-file we calculate the logarithm of the relative working hours\n",
    "model.solve_wF_vec(discrete=True)\n",
    "log_rel_hours_disc = np.log(model.sol.HF_vec/model.sol.HM_vec)\n",
    "\n",
    "#We then calculate the relative wages depending on the female wage vector\n",
    "log_rel_wage=np.log(par.wF_vec/par.wM)"
   ]
  },
  {
   "attachments": {},
   "cell_type": "markdown",
   "metadata": {},
   "source": [
    "We now want to illustrate this in a scatterplot."
   ]
  },
  {
   "cell_type": "code",
   "execution_count": 6,
   "metadata": {},
   "outputs": [
    {
     "ename": "NameError",
     "evalue": "name 'log_rel_hours_cont' is not defined",
     "output_type": "error",
     "traceback": [
      "\u001b[0;31m---------------------------------------------------------------------------\u001b[0m",
      "\u001b[0;31mNameError\u001b[0m                                 Traceback (most recent call last)",
      "\u001b[0;32m/var/folders/h0/y0qvwgrx3cgbctfpylz6ksgc0000gn/T/ipykernel_64283/3505099897.py\u001b[0m in \u001b[0;36m<module>\u001b[0;34m\u001b[0m\n\u001b[1;32m      1\u001b[0m \u001b[0mx\u001b[0m \u001b[0;34m=\u001b[0m \u001b[0mlog_rel_wage\u001b[0m\u001b[0;34m\u001b[0m\u001b[0;34m\u001b[0m\u001b[0m\n\u001b[0;32m----> 2\u001b[0;31m \u001b[0my\u001b[0m \u001b[0;34m=\u001b[0m \u001b[0;34m[\u001b[0m\u001b[0mlog_rel_hours_disc\u001b[0m\u001b[0;34m,\u001b[0m\u001b[0mlog_rel_hours_cont\u001b[0m\u001b[0;34m]\u001b[0m\u001b[0;34m\u001b[0m\u001b[0;34m\u001b[0m\u001b[0m\n\u001b[0m\u001b[1;32m      3\u001b[0m \u001b[0mtitle\u001b[0m \u001b[0;34m=\u001b[0m \u001b[0;34m[\u001b[0m\u001b[0;34m'Figure 2: Relative working hours in home given relative wages, discrete'\u001b[0m\u001b[0;34m,\u001b[0m\u001b[0;34m'Figure 3: Relative working hours at home given relative wages, continuous'\u001b[0m\u001b[0;34m]\u001b[0m\u001b[0;34m\u001b[0m\u001b[0;34m\u001b[0m\u001b[0m\n\u001b[1;32m      4\u001b[0m \u001b[0;34m\u001b[0m\u001b[0m\n\u001b[1;32m      5\u001b[0m \u001b[0mfigure\u001b[0m\u001b[0;34m(\u001b[0m\u001b[0mx\u001b[0m\u001b[0;34m,\u001b[0m\u001b[0my\u001b[0m\u001b[0;34m[\u001b[0m\u001b[0;36m0\u001b[0m\u001b[0;34m]\u001b[0m\u001b[0;34m,\u001b[0m\u001b[0;34m'Figure 2: Relative working hours in home given relative wages, discrete'\u001b[0m\u001b[0;34m)\u001b[0m\u001b[0;34m\u001b[0m\u001b[0;34m\u001b[0m\u001b[0m\n",
      "\u001b[0;31mNameError\u001b[0m: name 'log_rel_hours_cont' is not defined"
     ]
    }
   ],
   "source": [
    "x = log_rel_wage\n",
    "y = [log_rel_hours_disc,log_rel_hours_cont]\n",
    "title = ['Figure 2: Relative working hours in home given relative wages, discrete','Figure 3: Relative working hours at home given relative wages, continuous']\n",
    "\n",
    "figure(x,y[0],'Figure 2: Relative working hours in home given relative wages, discrete')\n"
   ]
  },
  {
   "attachments": {},
   "cell_type": "markdown",
   "metadata": {},
   "source": [
    "# Question 3"
   ]
  },
  {
   "attachments": {},
   "cell_type": "markdown",
   "metadata": {},
   "source": [
    "Now, the model is continuous.\n",
    "We vary the female wage $w_F$ and illustrate how it changes $log\\frac{H_F}{H_M}$ and $log\\frac{w_F}{w_M}$.\n",
    "We solve the model continuously in inauguralproject.py with $\\alpha=0.5$ and $\\sigma=1$"
   ]
  },
  {
   "cell_type": "code",
   "execution_count": 7,
   "metadata": {},
   "outputs": [
    {
     "name": "stderr",
     "output_type": "stream",
     "text": [
      "/Users/idahougaard/opt/anaconda3/lib/python3.9/site-packages/scipy/optimize/_minimize.py:569: RuntimeWarning: Method Nelder-Mead cannot handle constraints.\n",
      "  warn('Method %s cannot handle constraints.' % method,\n"
     ]
    }
   ],
   "source": [
    "#We refer to the class\n",
    "model_cont = HouseholdClass() \n",
    "\n",
    "#We define the continuous solution\n",
    "cont = model_cont.solve_continuous()"
   ]
  },
  {
   "cell_type": "code",
   "execution_count": 8,
   "metadata": {},
   "outputs": [
    {
     "name": "stdout",
     "output_type": "stream",
     "text": [
      "The initial optimal hours working at home for women is HF = 4.45\n",
      "The initial optimal hours working at home for men is HM = 4.45\n",
      "The initial optimal hours working at the market for women is LF = 4.45\n",
      "The initial optimal hours working at the market for men is LM = 4.45\n"
     ]
    }
   ],
   "source": [
    "#We print the results of the continuous model\n",
    "print(f'The initial optimal hours working at home for women is HF = {cont.HF:.2f}' '\\n'f'The initial optimal hours working at home for men is HM = {cont.HM:.2f}''\\n'f'The initial optimal hours working at the market for women is LF = {cont.LF:.2f}' '\\n'f'The initial optimal hours working at the market for men is LM = {cont.LM:.2f}' )"
   ]
  },
  {
   "attachments": {},
   "cell_type": "markdown",
   "metadata": {},
   "source": [
    "We now want to vary the female wage wF."
   ]
  },
  {
   "cell_type": "code",
   "execution_count": 9,
   "metadata": {},
   "outputs": [],
   "source": [
    "#We make sure our alpha and sigma parameters are set back to the original values\n",
    "par = model.par\n",
    "model.par.alpha=0.5\n",
    "model.par.sigma=1\n",
    "\n",
    "#Using the solution vectors defined in the py-file we calculate the logarithm of the relative working hours\n",
    "model.solve_wF_vec(discrete=False)\n",
    "log_rel_hours_cont = np.log(model.sol.HF_vec/model.sol.HM_vec)\n"
   ]
  },
  {
   "attachments": {},
   "cell_type": "markdown",
   "metadata": {},
   "source": [
    "We create a scatterplot of the results."
   ]
  },
  {
   "cell_type": "code",
   "execution_count": 10,
   "metadata": {},
   "outputs": [
    {
     "ename": "NameError",
     "evalue": "name 'y' is not defined",
     "output_type": "error",
     "traceback": [
      "\u001b[0;31m---------------------------------------------------------------------------\u001b[0m",
      "\u001b[0;31mNameError\u001b[0m                                 Traceback (most recent call last)",
      "\u001b[0;32m/var/folders/h0/y0qvwgrx3cgbctfpylz6ksgc0000gn/T/ipykernel_64283/3930278142.py\u001b[0m in \u001b[0;36m<module>\u001b[0;34m\u001b[0m\n\u001b[1;32m      1\u001b[0m \u001b[0;31m#We refer to the function defined in the py-file in line 318-328 and plot our figure\u001b[0m\u001b[0;34m\u001b[0m\u001b[0;34m\u001b[0m\u001b[0m\n\u001b[0;32m----> 2\u001b[0;31m \u001b[0mfigure\u001b[0m\u001b[0;34m(\u001b[0m\u001b[0mx\u001b[0m\u001b[0;34m,\u001b[0m\u001b[0my\u001b[0m\u001b[0;34m[\u001b[0m\u001b[0;36m1\u001b[0m\u001b[0;34m]\u001b[0m\u001b[0;34m,\u001b[0m\u001b[0;34m'Figure 3: Relative working hours at home given relative wages, continuous'\u001b[0m\u001b[0;34m)\u001b[0m\u001b[0;34m\u001b[0m\u001b[0;34m\u001b[0m\u001b[0m\n\u001b[0m",
      "\u001b[0;31mNameError\u001b[0m: name 'y' is not defined"
     ]
    }
   ],
   "source": [
    "#We refer to the function defined in the py-file in line 318-328 and plot our figure\n",
    "figure(x,y[1],'Figure 3: Relative working hours at home given relative wages, continuous')"
   ]
  },
  {
   "attachments": {},
   "cell_type": "markdown",
   "metadata": {},
   "source": [
    "# Question 4\n"
   ]
  },
  {
   "attachments": {},
   "cell_type": "markdown",
   "metadata": {},
   "source": [
    "We solve the continuous model for each value of the female wage $w_F$ and save our solutions for HF, HM, LF, LM in vectors. We use these vectors to run the regression on our data and find $\\hat\\beta_0$ and $\\hat\\beta_1$. This is done in inauguralproject.py."
   ]
  },
  {
   "cell_type": "code",
   "execution_count": null,
   "metadata": {},
   "outputs": [],
   "source": [
    "#We solve the model for each value of female wage wF\n",
    "model.solve_wF_vec(discrete=False)\n",
    "\n",
    "#We run the regression\n",
    "model.run_regression()"
   ]
  },
  {
   "attachments": {},
   "cell_type": "markdown",
   "metadata": {},
   "source": [
    "Then we find the values of $\\sigma$ and $\\alpha$ that minimises the squared error given by $(\\beta_0-\\hat\\beta_0)^2+(\\beta_1-\\hat\\beta_1)^2$, thus mimicking the results found in the article by Siminski and Yetsenga (2022)."
   ]
  },
  {
   "cell_type": "code",
   "execution_count": null,
   "metadata": {},
   "outputs": [],
   "source": [
    "#We run the results of the minimization\n",
    "model.estimate()\n",
    "\n",
    "#Print results\n",
    "print(f'The values of sigma and alpha that minimize the squared errors are sigma = {model.sol.sigma:.3f} and alpha={model.sol.alpha:.3f}.')\n",
    "print(f'With these parameters, our model beta_0 = {model.sol.beta0:.3f} and our model beta_1 ={model.sol.beta1:.3f}.')"
   ]
  },
  {
   "attachments": {},
   "cell_type": "markdown",
   "metadata": {},
   "source": [
    "An $\\alpha=0.982$ implies that females are more productive when working in the home when compared to men. Men and women are equally productive when $\\alpha=0.5$.\n",
    "\n",
    "A $\\sigma=0.100$ implies that a low degree of substitution between men and women.\n",
    "\n",
    "$\\beta_1=-0.1$ implies that a 1% change in the relative wages between women and men, will result in a 0,1% change in the relative working hours between men and women. Thus, as women earn relatively more on the labor market their hours spent working a home will fall. However, due a low degree of substitution, an increase in relative wages does not correspond in an equal change in relative working hours at home.\n",
    "\n",
    "If the relative wages are the same the second term in the regression equation in Siminski and Yetsenga (2022) becomes zero. So if wages are the same for men and women, women will still work more in the home than men, as $log(\\frac{H_F}{H_M})=\\beta_0=0.4>0$. "
   ]
  },
  {
   "attachments": {},
   "cell_type": "markdown",
   "metadata": {},
   "source": [
    "We now want to plot how well the model from Siminski and Yetsenga (2022) fits the data."
   ]
  },
  {
   "cell_type": "code",
   "execution_count": null,
   "metadata": {},
   "outputs": [],
   "source": [
    "#We define the regression from Siminski and Yetsenga\n",
    "y = par.beta0_target+par.beta1_target*log_rel_wage\n",
    "\n",
    "#We find and save the vector of optimal relative working hours, when alpha = 0,982 and sigma = 0,1\n",
    "log_rel_hours4 = np.log(model.sol.HF_vec/model.sol.HM_vec)"
   ]
  },
  {
   "cell_type": "code",
   "execution_count": null,
   "metadata": {},
   "outputs": [],
   "source": [
    "#We create our figure\n",
    "fig,ax = plt.subplots(figsize=(6,4))\n",
    "ax.plot(log_rel_wage,y, label=\"The model from Siminski and Yetsenga\", c='steelblue')\n",
    "ax.plot(log_rel_wage,log_rel_hours4, '.',markersize=12, c='sienna', label=r\"The data, $\\alpha$ = 0.982 and $\\sigma$ = 0.1\")\n",
    "ax.set(xlabel=r\"$log(\\frac{wF}{wM})$\",ylabel=r\"$log(\\frac{HF}{HM})$\")\n",
    "ax.legend()\n",
    "ax.set_title('Figure 4: Comparison to Siminski and Yetsenga',pad=15)\n",
    "ax.grid()\n"
   ]
  },
  {
   "attachments": {},
   "cell_type": "markdown",
   "metadata": {},
   "source": [
    "We find that the model fits our data perfectly, when we have minimized the errors. "
   ]
  },
  {
   "attachments": {},
   "cell_type": "markdown",
   "metadata": {},
   "source": [
    "# Question 5"
   ]
  },
  {
   "attachments": {},
   "cell_type": "markdown",
   "metadata": {},
   "source": [
    "We imagine a reform, where men are forced to work twice as much at home than at the market. We change the relative time spent working at the market and at home for men $T_M$. We reset the $\\alpha$ and $\\sigma$ parameters. "
   ]
  },
  {
   "cell_type": "code",
   "execution_count": null,
   "metadata": {},
   "outputs": [],
   "source": [
    "model.par.alpha=0.5\n",
    "model.par.sigma=1"
   ]
  },
  {
   "attachments": {},
   "cell_type": "markdown",
   "metadata": {},
   "source": [
    "We solve the model for the different female wages with the extension"
   ]
  },
  {
   "cell_type": "code",
   "execution_count": null,
   "metadata": {},
   "outputs": [],
   "source": [
    "# We unpack the model parameters\n",
    "par = model.par\n",
    "sol = model.sol\n",
    "\n",
    "# We create an empty list\n",
    "log_rel_hours_ext_list=[]\n",
    "\n",
    "# Looping over wF values\n",
    "for wage in par.wF_vec:\n",
    "    \n",
    "    # Setting value\n",
    "    par.wF = wage\n",
    "\n",
    "    # Solving for continuous optimal choice\n",
    "    opt_ext = model.solve_continuous_ext()\n",
    "\n",
    "    # We create log(HM/HF)\n",
    "    rel_hours_ext = opt_ext.HF_vec_ext/opt_ext.HM_vec_ext\n",
    "    log_rel_hours_ext = np.log(rel_hours_ext)\n",
    "\n",
    "    # We create log(wF/wM)\n",
    "    log_rel_wage = np.log(par.wF_vec)\n",
    "\n",
    "    #We append the results to the empty list\n",
    "    log_rel_hours_ext_list = np.append(log_rel_hours_ext_list, log_rel_hours_ext)\n",
    "\n",
    "    #Append results to vectors of solutions\n",
    "    sol.LM_vec_ext = np.append(sol.LM_vec_ext, opt_ext.LM_vec_ext)\n",
    "    sol.HM_vec_ext = np.append(sol.HM_vec_ext, opt_ext.HM_vec_ext)\n",
    "    sol.LF_vec_ext = np.append(sol.LF_vec_ext, opt_ext.LF_vec_ext)\n",
    "    sol.HF_vec_ext = np.append(sol.HF_vec_ext, opt_ext.HF_vec_ext)"
   ]
  },
  {
   "cell_type": "code",
   "execution_count": null,
   "metadata": {},
   "outputs": [],
   "source": [
    "#We create the scatterplot, set labels, title, grid etc. \n",
    "fig,ax = plt.subplots(figsize=(7,6))\n",
    "ax.scatter(x=log_rel_wage,y=log_rel_hours_ext_list, label=\"Our extension\")\n",
    "ax.scatter(x=log_rel_wage,y=log_rel_hours_cont, label=\"Original model\")\n",
    "ax.plot(log_rel_wage,y, label=\"The model from Siminski and Yetsenga\", c='steelblue')\n",
    "ax.set(xlabel=r\"$log(\\frac{wF}{wM})$\",ylabel=r\"$log(\\frac{HF}{HM})$\")\n",
    "ax.set_title('Figure 5: Extension',pad=15)\n",
    "ax.xaxis.set_major_formatter(ticker.StrMethodFormatter(\"{x:.2f}\"))\n",
    "ax.yaxis.set_major_formatter(ticker.StrMethodFormatter(\"{x:.2f}\"))\n",
    "ax.grid()\n",
    "fig.legend(loc='lower left')"
   ]
  },
  {
   "attachments": {},
   "cell_type": "markdown",
   "metadata": {},
   "source": [
    "The extension did not make the data fit "
   ]
  }
 ],
 "metadata": {
  "kernelspec": {
   "display_name": "base",
   "language": "python",
   "name": "python3"
  },
  "language_info": {
   "codemirror_mode": {
    "name": "ipython",
    "version": 3
   },
   "file_extension": ".py",
   "mimetype": "text/x-python",
   "name": "python",
   "nbconvert_exporter": "python",
   "pygments_lexer": "ipython3",
   "version": "3.9.13"
  },
  "toc-autonumbering": true,
  "vscode": {
   "interpreter": {
    "hash": "f81c7524182f736e06fe6438bbdeb4ef8892e0ad0cde6f11de6e944c253ed7c1"
   }
  }
 },
 "nbformat": 4,
 "nbformat_minor": 4
}
