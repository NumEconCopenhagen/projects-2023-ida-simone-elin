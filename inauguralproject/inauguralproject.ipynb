{
 "cells": [
  {
   "cell_type": "markdown",
   "metadata": {},
   "source": [
    "# Inaugural Project"
   ]
  },
  {
   "cell_type": "markdown",
   "metadata": {},
   "source": [
    "Imports and set magics:"
   ]
  },
  {
   "cell_type": "code",
   "execution_count": 21,
   "metadata": {},
   "outputs": [
    {
     "name": "stdout",
     "output_type": "stream",
     "text": [
      "The autoreload extension is already loaded. To reload it, use:\n",
      "  %reload_ext autoreload\n"
     ]
    }
   ],
   "source": [
    "import numpy as np\n",
    "\n",
    "from types import SimpleNamespace\n",
    "from scipy import optimize\n",
    "from scipy.optimize import minimize\n",
    "import pandas as pd \n",
    "import matplotlib.pyplot as plt\n",
    "import math\n",
    "\n",
    "# autoreload modules when code is run. Otherwise, python will not see recent changes. \n",
    "%load_ext autoreload\n",
    "%autoreload 2\n",
    "\n",
    "# Import your own code\n",
    "import inauguralproject\n",
    "\n",
    "from inauguralproject import HouseholdClass \n",
    "model = HouseholdClass()\n",
    "\n"
   ]
  },
  {
   "cell_type": "markdown",
   "metadata": {},
   "source": [
    "# Question 1"
   ]
  },
  {
   "attachments": {},
   "cell_type": "markdown",
   "metadata": {},
   "source": [
    "Based on the provided code, we alter the definition of consumption of home goods in inauguralproject.py, to allow for $\\sigma\\neq1$. \n",
    "\n",
    "Following this, we solve the model discretely, and find the intial optimal working hours for men and women, in the the market and at home for $\\alpha=0.5$ and $\\sigma=1$"
   ]
  },
  {
   "cell_type": "code",
   "execution_count": 10,
   "metadata": {},
   "outputs": [
    {
     "name": "stdout",
     "output_type": "stream",
     "text": [
      "The initial optimal hours working at home for women is HF = 4.5\n",
      "The initial optimal hours working at home for men is HM = 4.5\n",
      "The initial optimal hours working at the market for women is LF = 4.5\n",
      "The initial optimal hours working at the market for men is LM = 4.5\n"
     ]
    },
    {
     "name": "stderr",
     "output_type": "stream",
     "text": [
      "/Users/simoneruthflindhardt/Documents/Universitetet/8 semester/Programming/projects-2023-ida-simone-elin/inauguralproject/inauguralproject.py:73: RuntimeWarning: invalid value encountered in reciprocal\n",
      "  utility = np.fmax(Q,1e-8)**(1-par.rho)/(1-par.rho)\n"
     ]
    }
   ],
   "source": [
    "#We initiate and solve the discrete model. \n",
    "model = HouseholdClass()\n",
    "initial = model.solve_discrete()\n",
    "\n",
    "#Printing the results\n",
    "print(f'The initial optimal hours working at home for women is HF = {initial.HF:.1f}' '\\n'f'The initial optimal hours working at home for men is HM = {initial.HM:.1f}''\\n'f'The initial optimal hours working at the market for women is LF = {initial.LF:.1f}' '\\n'f'The initial optimal hours working at the market for men is LM = {initial.LM:.1f}' )\n"
   ]
  },
  {
   "attachments": {},
   "cell_type": "markdown",
   "metadata": {},
   "source": [
    "In the following, we show how relative optimal working hours at home between men and women change dependent on different values of $\\sigma$ and $\\alpha$. We illustrate this in a table. "
   ]
  },
  {
   "attachments": {},
   "cell_type": "markdown",
   "metadata": {},
   "source": [
    "____"
   ]
  },
  {
   "cell_type": "code",
   "execution_count": 11,
   "metadata": {},
   "outputs": [
    {
     "name": "stderr",
     "output_type": "stream",
     "text": [
      "/Users/simoneruthflindhardt/Documents/Universitetet/8 semester/Programming/projects-2023-ida-simone-elin/inauguralproject/inauguralproject.py:69: RuntimeWarning: divide by zero encountered in reciprocal\n",
      "  H = ((1-par.alpha) * HM**((par.sigma-1)/par.sigma) + par.alpha * HF**((par.sigma-1)/par.sigma))**(par.sigma/(par.sigma-1))\n",
      "/Users/simoneruthflindhardt/Documents/Universitetet/8 semester/Programming/projects-2023-ida-simone-elin/inauguralproject/inauguralproject.py:69: RuntimeWarning: invalid value encountered in reciprocal\n",
      "  H = ((1-par.alpha) * HM**((par.sigma-1)/par.sigma) + par.alpha * HF**((par.sigma-1)/par.sigma))**(par.sigma/(par.sigma-1))\n"
     ]
    },
    {
     "name": "stdout",
     "output_type": "stream",
     "text": [
      "Alpha/Sigma    0.50    1.00    1.50\n",
      "----------------------------------------\n",
      "    0.25    |   0.55   0.31   0.21\n",
      "    0.50    |   1.00   1.00   1.00\n",
      "    0.75    |   1.83   3.25   4.67\n"
     ]
    }
   ],
   "source": [
    "#We unpack the model parameters\n",
    "par = model.par\n",
    "\n",
    "#We define vectors with the values of alpha and sigma.\n",
    "alpha_vec = [0.25,0.5,0.75]\n",
    "sigma_vec = [0.5,1,1.5]\n",
    "\n",
    "#We create a table with the results of the loop. The values in the table is the logarithm of the relative hours worked at home for men and women. \n",
    "def print_table():\n",
    "    \n",
    "    #We define an empty text string\n",
    "    text = ''\n",
    "    \n",
    "    # Creating the top header\n",
    "    text += f'{\"Alpha/Sigma\":3s}'\n",
    "    for j, sigma in enumerate(sigma_vec):\n",
    "       model.par.sigma=sigma\n",
    "       text += f'{sigma:8.2f}' \n",
    "    text += '\\n' + \"-\"*40 + \"\\n\" # creating a line shift \n",
    "    \n",
    "    # Creating the body of the table\n",
    "    for i, alpha in enumerate(alpha_vec):\n",
    "        model.par.alpha=alpha\n",
    "        if i > 0:\n",
    "            text += '\\n' # creating a line shift\n",
    "        text += f'{alpha:8.2f}    |' # creating the left header\n",
    "        for j, sigma in enumerate(sigma_vec):\n",
    "            model.par.sigma=sigma\n",
    "            opt = model.solve_discrete()\n",
    "            text += f'{opt.HF/opt.HM:7.2f}'\n",
    "    \n",
    "    # Print\n",
    "    print(text)\n",
    "\n",
    "#We print the table: \n",
    "print_table()"
   ]
  },
  {
   "cell_type": "markdown",
   "metadata": {},
   "source": [
    "# Question 2"
   ]
  },
  {
   "attachments": {},
   "cell_type": "markdown",
   "metadata": {},
   "source": [
    "We now return to $\\alpha=0.5$ and $\\sigma=1$. \n",
    "We vary the female wage $w_F$ and illustrate how it changes $log\\frac{H_F}{H_M}$ and $log\\frac{w_F}{w_M}$."
   ]
  },
  {
   "cell_type": "code",
   "execution_count": 37,
   "metadata": {},
   "outputs": [
    {
     "name": "stderr",
     "output_type": "stream",
     "text": [
      "/Users/simoneruthflindhardt/Documents/Universitetet/8 semester/Programming/projects-2023-ida-simone-elin/inauguralproject/inauguralproject.py:73: RuntimeWarning: invalid value encountered in reciprocal\n",
      "  utility = np.fmax(Q,1e-8)**(1-par.rho)/(1-par.rho)\n"
     ]
    },
    {
     "name": "stdout",
     "output_type": "stream",
     "text": [
      "When womens wage is 0.8 and mens wage is wM = 1.0, the optimal working hours at home are 5.0 for women and 4.0 for men. Thus, their relative working hours are 1.250. Taking the log of this fraction, we find log(HF/HM) = 0.223.\n",
      "\n",
      "When womens wage is 0.9 and mens wage is wM = 1.0, the optimal working hours at home are 4.5 for women and 4.5 for men. Thus, their relative working hours are 1.000. Taking the log of this fraction, we find log(HF/HM) = 0.000.\n",
      "\n",
      "When womens wage is 1.0 and mens wage is wM = 1.0, the optimal working hours at home are 4.5 for women and 4.5 for men. Thus, their relative working hours are 1.000. Taking the log of this fraction, we find log(HF/HM) = 0.000.\n",
      "\n",
      "When womens wage is 1.1 and mens wage is wM = 1.0, the optimal working hours at home are 4.0 for women and 4.5 for men. Thus, their relative working hours are 0.889. Taking the log of this fraction, we find log(HF/HM) = -0.118.\n",
      "\n",
      "When womens wage is 1.2 and mens wage is wM = 1.0, the optimal working hours at home are 4.0 for women and 5.0 for men. Thus, their relative working hours are 0.800. Taking the log of this fraction, we find log(HF/HM) = -0.223.\n",
      "\n"
     ]
    }
   ],
   "source": [
    "#We initiate a new model\n",
    "model2 = HouseholdClass()\n",
    "\n",
    "#We unpack the model parameters\n",
    "par = model2.par\n",
    "\n",
    "#We construct a list to hold the log value of the relative hours between men and women\n",
    "log_rel_hours_list=[]\n",
    "\n",
    "#We run a loop over the model where we change women's wage for each iteration\n",
    "for wage in par.wF_vec:\n",
    "    par.wF = wage\n",
    "    opt = model2.solve_discrete()    \n",
    "\n",
    "    #We calculate the model results for each iteration\n",
    "    rel_hours = opt.HF/opt.HM\n",
    "    log_rel_hours = np.log(rel_hours)\n",
    "\n",
    "    log_rel_wage = np.log(par.wF_vec)\n",
    "\n",
    "    #We append the results to our list of log values\n",
    "    log_rel_hours_list = np.append(log_rel_hours_list, log_rel_hours)\n",
    " \n",
    "    #We print our results\n",
    "    print(f'When womens wage is {wage:.1f} and mens wage is wM = {par.wM:.1f}, the optimal working hours at home are {opt.HF:.1f} for women and {opt.HM:.1f} for men. Thus, their relative working hours are {rel_hours:.3f}. Taking the log of this fraction, we find log(HF/HM) = {log_rel_hours:.3f}.''\\n')"
   ]
  },
  {
   "cell_type": "code",
   "execution_count": 13,
   "metadata": {},
   "outputs": [
    {
     "data": {
      "image/png": "[encoded data removed]",
      "text/plain": [
       "<Figure size 640x480 with 1 Axes>"
      ]
     },
     "metadata": {},
     "output_type": "display_data"
    }
   ],
   "source": [
    "#We define the log of relative wages\n",
    "log_rel_wage_list=np.log(par.wF_vec/par.wM)\n",
    "\n",
    "#Plot log(HF/HM) against log(wF/wM() for the vector of female wages.\n",
    "plt.scatter(log_rel_wage_list,log_rel_hours_list)\n",
    "plt.title('Relative working hours in home given relative wages')\n",
    "plt.xlabel('log(wF/wM)')\n",
    "plt.ylabel('Log(HF/HM)')\n",
    "plt.grid()\n",
    "\n",
    "#for i in range(par.wF_vec):\n",
    "    #plt.text(log_rel_wage_list[i], log_rel_hours_list[i], f\"wF={par.wF_vec[i]}\")\n",
    "plt.show()"
   ]
  },
  {
   "attachments": {},
   "cell_type": "markdown",
   "metadata": {},
   "source": [
    "# Question 3"
   ]
  },
  {
   "attachments": {},
   "cell_type": "markdown",
   "metadata": {},
   "source": [
    "Now, the model is continuous.\n",
    "We vary the female wage $w_F$ and illustrate how it changes $log\\frac{H_F}{H_M}$ and $log\\frac{w_F}{w_M}$."
   ]
  },
  {
   "cell_type": "code",
   "execution_count": 14,
   "metadata": {},
   "outputs": [],
   "source": [
    "#We refer to the class\n",
    "model_cont = HouseholdClass() \n",
    "\n",
    "#We define the continuous solution\n",
    "cont = model_cont.solve_continuous()"
   ]
  },
  {
   "cell_type": "code",
   "execution_count": 15,
   "metadata": {},
   "outputs": [
    {
     "name": "stdout",
     "output_type": "stream",
     "text": [
      "The initial optimal hours working at home for women is HF = 4.45\n",
      "The initial optimal hours working at home for men is HM = 4.45\n",
      "The initial optimal hours working at the market for women is LF = 4.45\n",
      "The initial optimal hours working at the market for men is LM = 4.45\n"
     ]
    }
   ],
   "source": [
    "#We print the results of the continuous model\n",
    "print(f'The initial optimal hours working at home for women is HF = {cont.HF:.2f}' '\\n'f'The initial optimal hours working at home for men is HM = {cont.HM:.2f}''\\n'f'The initial optimal hours working at the market for women is LF = {cont.LF:.2f}' '\\n'f'The initial optimal hours working at the market for men is LM = {cont.LM:.2f}' )"
   ]
  },
  {
   "cell_type": "code",
   "execution_count": 16,
   "metadata": {},
   "outputs": [
    {
     "data": {
      "text/plain": [
       "namespace(LM_vec=array([0., 0., 0., 0., 0.]),\n",
       "          HM_vec=array([0., 0., 0., 0., 0.]),\n",
       "          LF_vec=array([0., 0., 0., 0., 0.]),\n",
       "          HF_vec=array([0., 0., 0., 0., 0.]),\n",
       "          beta0=nan,\n",
       "          beta1=nan)"
      ]
     },
     "execution_count": 16,
     "metadata": {},
     "output_type": "execute_result"
    }
   ],
   "source": [
    "model_cont = HouseholdClass()\n",
    "model.solve_wF_vec(discrete=True)\n",
    "model_cont.sol"
   ]
  },
  {
   "cell_type": "code",
   "execution_count": 36,
   "metadata": {},
   "outputs": [
    {
     "name": "stdout",
     "output_type": "stream",
     "text": [
      "When womens wage is 0.80 and mens wage is wM = 1.00, the optimal working hours at home are 5.12 for women and 4.09 for men. Thus, their relative working hours are 1.250. Taking the log of this fraction, we find log(HF/HM) = 0.223.\n",
      "\n",
      "When womens wage is 0.90 and mens wage is wM = 1.00, the optimal working hours at home are 4.75 for women and 4.27 for men. Thus, their relative working hours are 1.111. Taking the log of this fraction, we find log(HF/HM) = 0.105.\n",
      "\n",
      "When womens wage is 1.00 and mens wage is wM = 1.00, the optimal working hours at home are 4.45 for women and 4.45 for men. Thus, their relative working hours are 1.000. Taking the log of this fraction, we find log(HF/HM) = 0.000.\n",
      "\n",
      "When womens wage is 1.10 and mens wage is wM = 1.00, the optimal working hours at home are 4.22 for women and 4.64 for men. Thus, their relative working hours are 0.909. Taking the log of this fraction, we find log(HF/HM) = -0.095.\n",
      "\n",
      "When womens wage is 1.20 and mens wage is wM = 1.00, the optimal working hours at home are 4.03 for women and 4.83 for men. Thus, their relative working hours are 0.833. Taking the log of this fraction, we find log(HF/HM) = -0.182.\n",
      "\n"
     ]
    },
    {
     "name": "stderr",
     "output_type": "stream",
     "text": [
      "/Users/simoneruthflindhardt/opt/anaconda3/lib/python3.9/site-packages/scipy/optimize/_minimize.py:569: RuntimeWarning: Method Nelder-Mead cannot handle constraints.\n",
      "  warn('Method %s cannot handle constraints.' % method,\n"
     ]
    }
   ],
   "source": [
    "# Using the model to calculate optimal HF and HM\n",
    "model_cont = HouseholdClass()\n",
    "\n",
    "# We unpack the model parameters\n",
    "par = model_cont.par\n",
    "sol = model_cont.sol\n",
    "\n",
    "# We create an empty list\n",
    "log_rel_hours_cont_list=[]\n",
    "\n",
    "# Looping over wF values\n",
    "for wage in par.wF_vec:\n",
    "    \n",
    "    # Setting value\n",
    "    par.wF = wage\n",
    "\n",
    "    # Solving for continuous optimal choice\n",
    "    opt_cont = model_cont.solve_continuous()\n",
    "\n",
    "    # We create log(HM/HF)\n",
    "    rel_hours_cont = opt_cont.HF/opt_cont.HM\n",
    "    log_rel_hours_cont = np.log(rel_hours_cont)\n",
    "\n",
    "    # We create log(wF/wM)\n",
    "    log_rel_wage = np.log(par.wF_vec)\n",
    "\n",
    "    #We append the results to the empty list\n",
    "    log_rel_hours_cont_list = np.append(log_rel_hours_cont_list, log_rel_hours_cont)\n",
    "\n",
    "    #Append results to vectors of solutions\n",
    "    sol.LM_vec = np.append(sol.LM_vec, opt_cont.LM)\n",
    "    sol.HM_vec = np.append(sol.HM_vec, opt_cont.HM)\n",
    "    sol.LF_vec = np.append(sol.LF_vec, opt_cont.LF)\n",
    "    sol.HF_vec = np.append(sol.LF_vec, opt_cont.HF)\n",
    "\n",
    "    #We print our results\n",
    "    print(f'When womens wage is {wage:.2f} and mens wage is wM = {par.wM:.2f}, the optimal working hours at home are {opt_cont.HF:.2f} for women and {opt_cont.HM:.2f} for men. Thus, their relative working hours are {rel_hours_cont:.3f}. Taking the log of this fraction, we find log(HF/HM) = {log_rel_hours_cont:.3f}.''\\n')\n"
   ]
  },
  {
   "cell_type": "code",
   "execution_count": 18,
   "metadata": {},
   "outputs": [
    {
     "data": {
      "text/plain": [
       "array([0.        , 0.        , 0.        , 0.        , 0.        ,\n",
       "       2.86983092, 3.74922892, 4.45448181, 5.02200461, 5.47962267,\n",
       "       4.02719881])"
      ]
     },
     "metadata": {},
     "output_type": "display_data"
    }
   ],
   "source": [
    "display(sol.HF_vec)"
   ]
  },
  {
   "cell_type": "code",
   "execution_count": 19,
   "metadata": {},
   "outputs": [
    {
     "data": {
      "image/png": "[encoded data removed]",
      "text/plain": [
       "<Figure size 640x480 with 1 Axes>"
      ]
     },
     "metadata": {},
     "output_type": "display_data"
    }
   ],
   "source": [
    "#We plot the results\n",
    "#We define the log of relative wages\n",
    "log_rel_wage_cont_list=np.log(par.wF_vec/par.wM)\n",
    "\n",
    "plt.scatter(log_rel_wage,log_rel_hours_cont_list)\n",
    "plt.title('Relative working hours in home given relative wages')\n",
    "plt.xlabel('log(wF/wM)')\n",
    "plt.ylabel('Log(HF/HM)')\n",
    "plt.grid()"
   ]
  },
  {
   "attachments": {},
   "cell_type": "markdown",
   "metadata": {},
   "source": [
    "# Question 4\n"
   ]
  },
  {
   "attachments": {},
   "cell_type": "markdown",
   "metadata": {},
   "source": [
    "We solve the continuous model for each value of the female wage $w_F$."
   ]
  },
  {
   "cell_type": "code",
   "execution_count": 27,
   "metadata": {},
   "outputs": [],
   "source": [
    "#Solve continuous model for each value of female wage\n",
    "model.solve_wF_vec(discrete=False)"
   ]
  },
  {
   "attachments": {},
   "cell_type": "markdown",
   "metadata": {},
   "source": [
    "Now, we run the proposed regression on our data and find $\\hat\\beta_0$ and $\\hat\\beta_1$."
   ]
  },
  {
   "cell_type": "code",
   "execution_count": 28,
   "metadata": {},
   "outputs": [
    {
     "data": {
      "text/plain": [
       "namespace(LM_vec=array([5.88922406, 5.16772131, 4.45447205, 3.75975434, 3.08975351]),\n",
       "          HM_vec=array([4.09256025, 4.27104739, 4.45449074, 4.6420016 , 4.83262967]),\n",
       "          LF_vec=array([2.86983092, 3.74922892, 4.45448181, 5.02200461, 5.47962267]),\n",
       "          HF_vec=array([5.11561184, 4.74567029, 4.4545075 , 4.21994127, 4.02719881]),\n",
       "          beta0=-2.4426029762781795e-06,\n",
       "          beta1=-0.999987086464245)"
      ]
     },
     "execution_count": 28,
     "metadata": {},
     "output_type": "execute_result"
    }
   ],
   "source": [
    "#Run regression on our data from the continuous model\n",
    "model.run_regression()\n",
    "\n",
    "#Print beta0 and beta1\n",
    "model.sol"
   ]
  },
  {
   "attachments": {},
   "cell_type": "markdown",
   "metadata": {},
   "source": [
    "Finally, we minimise the squared differences of the artice's beta's and our model beta's, by varying sigma and alpha."
   ]
  },
  {
   "cell_type": "code",
   "execution_count": 35,
   "metadata": {},
   "outputs": [
    {
     "ename": "ValueError",
     "evalue": "The user-provided objective function must return a scalar value.",
     "output_type": "error",
     "traceback": [
      "\u001b[0;31m---------------------------------------------------------------------------\u001b[0m",
      "\u001b[0;31mValueError\u001b[0m                                Traceback (most recent call last)",
      "\u001b[0;32m~/opt/anaconda3/lib/python3.9/site-packages/scipy/optimize/_optimize.py\u001b[0m in \u001b[0;36mfunction_wrapper\u001b[0;34m(x, *wrapper_args)\u001b[0m\n\u001b[1;32m    501\u001b[0m             \u001b[0;32mtry\u001b[0m\u001b[0;34m:\u001b[0m\u001b[0;34m\u001b[0m\u001b[0;34m\u001b[0m\u001b[0m\n\u001b[0;32m--> 502\u001b[0;31m                 \u001b[0mfx\u001b[0m \u001b[0;34m=\u001b[0m \u001b[0mnp\u001b[0m\u001b[0;34m.\u001b[0m\u001b[0masarray\u001b[0m\u001b[0;34m(\u001b[0m\u001b[0mfx\u001b[0m\u001b[0;34m)\u001b[0m\u001b[0;34m.\u001b[0m\u001b[0mitem\u001b[0m\u001b[0;34m(\u001b[0m\u001b[0;34m)\u001b[0m\u001b[0;34m\u001b[0m\u001b[0;34m\u001b[0m\u001b[0m\n\u001b[0m\u001b[1;32m    503\u001b[0m             \u001b[0;32mexcept\u001b[0m \u001b[0;34m(\u001b[0m\u001b[0mTypeError\u001b[0m\u001b[0;34m,\u001b[0m \u001b[0mValueError\u001b[0m\u001b[0;34m)\u001b[0m \u001b[0;32mas\u001b[0m \u001b[0me\u001b[0m\u001b[0;34m:\u001b[0m\u001b[0;34m\u001b[0m\u001b[0;34m\u001b[0m\u001b[0m\n",
      "\u001b[0;31mValueError\u001b[0m: can only convert an array of size 1 to a Python scalar",
      "\nThe above exception was the direct cause of the following exception:\n",
      "\u001b[0;31mValueError\u001b[0m                                Traceback (most recent call last)",
      "\u001b[0;32m/var/folders/7l/ds0r5wcs2pz7_scg8504fft00000gn/T/ipykernel_24367/3155874443.py\u001b[0m in \u001b[0;36m<module>\u001b[0;34m\u001b[0m\n\u001b[0;32m----> 1\u001b[0;31m \u001b[0mmodel\u001b[0m\u001b[0;34m.\u001b[0m\u001b[0mestimate\u001b[0m\u001b[0;34m(\u001b[0m\u001b[0;34m)\u001b[0m\u001b[0;34m\u001b[0m\u001b[0;34m\u001b[0m\u001b[0m\n\u001b[0m",
      "\u001b[0;32m~/Documents/Universitetet/8 semester/Programming/projects-2023-ida-simone-elin/inauguralproject/inauguralproject.py\u001b[0m in \u001b[0;36mestimate\u001b[0;34m(self, alpha, sigma)\u001b[0m\n\u001b[1;32m    212\u001b[0m         \u001b[0mobjective\u001b[0m \u001b[0;34m=\u001b[0m \u001b[0;32mlambda\u001b[0m \u001b[0mx\u001b[0m\u001b[0;34m:\u001b[0m \u001b[0mself\u001b[0m\u001b[0;34m.\u001b[0m\u001b[0mobjective\u001b[0m\u001b[0;34m(\u001b[0m\u001b[0mx\u001b[0m\u001b[0;34m)\u001b[0m\u001b[0;34m\u001b[0m\u001b[0;34m\u001b[0m\u001b[0m\n\u001b[1;32m    213\u001b[0m \u001b[0;34m\u001b[0m\u001b[0m\n\u001b[0;32m--> 214\u001b[0;31m         \u001b[0moptimal_result\u001b[0m \u001b[0;34m=\u001b[0m \u001b[0mminimize\u001b[0m\u001b[0;34m(\u001b[0m\u001b[0mobjective\u001b[0m\u001b[0;34m,\u001b[0m \u001b[0mguess_estimate\u001b[0m\u001b[0;34m,\u001b[0m \u001b[0mmethod\u001b[0m\u001b[0;34m=\u001b[0m\u001b[0;34m'Nelder-Mead'\u001b[0m\u001b[0;34m)\u001b[0m\u001b[0;34m\u001b[0m\u001b[0;34m\u001b[0m\u001b[0m\n\u001b[0m\u001b[1;32m    215\u001b[0m \u001b[0;34m\u001b[0m\u001b[0m\n\u001b[1;32m    216\u001b[0m         \u001b[0;31m# results\u001b[0m\u001b[0;34m\u001b[0m\u001b[0;34m\u001b[0m\u001b[0m\n",
      "\u001b[0;32m~/opt/anaconda3/lib/python3.9/site-packages/scipy/optimize/_minimize.py\u001b[0m in \u001b[0;36mminimize\u001b[0;34m(fun, x0, args, method, jac, hess, hessp, bounds, constraints, tol, callback, options)\u001b[0m\n\u001b[1;32m    685\u001b[0m \u001b[0;34m\u001b[0m\u001b[0m\n\u001b[1;32m    686\u001b[0m     \u001b[0;32mif\u001b[0m \u001b[0mmeth\u001b[0m \u001b[0;34m==\u001b[0m \u001b[0;34m'nelder-mead'\u001b[0m\u001b[0;34m:\u001b[0m\u001b[0;34m\u001b[0m\u001b[0;34m\u001b[0m\u001b[0m\n\u001b[0;32m--> 687\u001b[0;31m         res = _minimize_neldermead(fun, x0, args, callback, bounds=bounds,\n\u001b[0m\u001b[1;32m    688\u001b[0m                                    **options)\n\u001b[1;32m    689\u001b[0m     \u001b[0;32melif\u001b[0m \u001b[0mmeth\u001b[0m \u001b[0;34m==\u001b[0m \u001b[0;34m'powell'\u001b[0m\u001b[0;34m:\u001b[0m\u001b[0;34m\u001b[0m\u001b[0;34m\u001b[0m\u001b[0m\n",
      "\u001b[0;32m~/opt/anaconda3/lib/python3.9/site-packages/scipy/optimize/_optimize.py\u001b[0m in \u001b[0;36m_minimize_neldermead\u001b[0;34m(func, x0, args, callback, maxiter, maxfev, disp, return_all, initial_simplex, xatol, fatol, adaptive, bounds, **unknown_options)\u001b[0m\n\u001b[1;32m    770\u001b[0m     \u001b[0;32mtry\u001b[0m\u001b[0;34m:\u001b[0m\u001b[0;34m\u001b[0m\u001b[0;34m\u001b[0m\u001b[0m\n\u001b[1;32m    771\u001b[0m         \u001b[0;32mfor\u001b[0m \u001b[0mk\u001b[0m \u001b[0;32min\u001b[0m \u001b[0mrange\u001b[0m\u001b[0;34m(\u001b[0m\u001b[0mN\u001b[0m \u001b[0;34m+\u001b[0m \u001b[0;36m1\u001b[0m\u001b[0;34m)\u001b[0m\u001b[0;34m:\u001b[0m\u001b[0;34m\u001b[0m\u001b[0;34m\u001b[0m\u001b[0m\n\u001b[0;32m--> 772\u001b[0;31m             \u001b[0mfsim\u001b[0m\u001b[0;34m[\u001b[0m\u001b[0mk\u001b[0m\u001b[0;34m]\u001b[0m \u001b[0;34m=\u001b[0m \u001b[0mfunc\u001b[0m\u001b[0;34m(\u001b[0m\u001b[0msim\u001b[0m\u001b[0;34m[\u001b[0m\u001b[0mk\u001b[0m\u001b[0;34m]\u001b[0m\u001b[0;34m)\u001b[0m\u001b[0;34m\u001b[0m\u001b[0;34m\u001b[0m\u001b[0m\n\u001b[0m\u001b[1;32m    773\u001b[0m     \u001b[0;32mexcept\u001b[0m \u001b[0m_MaxFuncCallError\u001b[0m\u001b[0;34m:\u001b[0m\u001b[0;34m\u001b[0m\u001b[0;34m\u001b[0m\u001b[0m\n\u001b[1;32m    774\u001b[0m         \u001b[0;32mpass\u001b[0m\u001b[0;34m\u001b[0m\u001b[0;34m\u001b[0m\u001b[0m\n",
      "\u001b[0;32m~/opt/anaconda3/lib/python3.9/site-packages/scipy/optimize/_optimize.py\u001b[0m in \u001b[0;36mfunction_wrapper\u001b[0;34m(x, *wrapper_args)\u001b[0m\n\u001b[1;32m    502\u001b[0m                 \u001b[0mfx\u001b[0m \u001b[0;34m=\u001b[0m \u001b[0mnp\u001b[0m\u001b[0;34m.\u001b[0m\u001b[0masarray\u001b[0m\u001b[0;34m(\u001b[0m\u001b[0mfx\u001b[0m\u001b[0;34m)\u001b[0m\u001b[0;34m.\u001b[0m\u001b[0mitem\u001b[0m\u001b[0;34m(\u001b[0m\u001b[0;34m)\u001b[0m\u001b[0;34m\u001b[0m\u001b[0;34m\u001b[0m\u001b[0m\n\u001b[1;32m    503\u001b[0m             \u001b[0;32mexcept\u001b[0m \u001b[0;34m(\u001b[0m\u001b[0mTypeError\u001b[0m\u001b[0;34m,\u001b[0m \u001b[0mValueError\u001b[0m\u001b[0;34m)\u001b[0m \u001b[0;32mas\u001b[0m \u001b[0me\u001b[0m\u001b[0;34m:\u001b[0m\u001b[0;34m\u001b[0m\u001b[0;34m\u001b[0m\u001b[0m\n\u001b[0;32m--> 504\u001b[0;31m                 raise ValueError(\"The user-provided objective function \"\n\u001b[0m\u001b[1;32m    505\u001b[0m                                  \"must return a scalar value.\") from e\n\u001b[1;32m    506\u001b[0m         \u001b[0;32mreturn\u001b[0m \u001b[0mfx\u001b[0m\u001b[0;34m\u001b[0m\u001b[0;34m\u001b[0m\u001b[0m\n",
      "\u001b[0;31mValueError\u001b[0m: The user-provided objective function must return a scalar value."
     ]
    }
   ],
   "source": [
    "model.estimate()\n"
   ]
  },
  {
   "cell_type": "code",
   "execution_count": null,
   "metadata": {},
   "outputs": [],
   "source": []
  },
  {
   "cell_type": "code",
   "execution_count": null,
   "metadata": {},
   "outputs": [],
   "source": []
  }
 ],
 "metadata": {
  "kernelspec": {
   "display_name": "base",
   "language": "python",
   "name": "python3"
  },
  "language_info": {
   "codemirror_mode": {
    "name": "ipython",
    "version": 3
   },
   "file_extension": ".py",
   "mimetype": "text/x-python",
   "name": "python",
   "nbconvert_exporter": "python",
   "pygments_lexer": "ipython3",
   "version": "3.9.13"
  },
  "toc-autonumbering": true,
  "vscode": {
   "interpreter": {
    "hash": "81ba5019e37842368fc49be8de08a0e006194f34fe1ed2c457994b200a6baabe"
   }
  }
 },
 "nbformat": 4,
 "nbformat_minor": 4
}
