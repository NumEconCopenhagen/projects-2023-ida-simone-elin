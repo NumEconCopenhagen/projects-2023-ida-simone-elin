{
 "cells": [
  {
   "cell_type": "markdown",
   "metadata": {},
   "source": [
    "# Inaugural Project"
   ]
  },
  {
   "cell_type": "markdown",
   "metadata": {},
   "source": [
    "Imports and set magics:"
   ]
  },
  {
   "cell_type": "code",
   "execution_count": 27,
   "metadata": {},
   "outputs": [
    {
     "name": "stdout",
     "output_type": "stream",
     "text": [
      "The autoreload extension is already loaded. To reload it, use:\n",
      "  %reload_ext autoreload\n"
     ]
    }
   ],
   "source": [
    "import numpy as np\n",
    "\n",
    "from types import SimpleNamespace\n",
    "from scipy import optimize\n",
    "import pandas as pd \n",
    "import matplotlib.pyplot as plt\n",
    "import math\n",
    "\n",
    "# autoreload modules when code is run. Otherwise, python will not see recent changes. \n",
    "%load_ext autoreload\n",
    "%autoreload 2\n",
    "\n",
    "# Import your own code\n",
    "import inauguralproject\n",
    "\n",
    "from inauguralproject import HouseholdClass "
   ]
  },
  {
   "cell_type": "markdown",
   "metadata": {},
   "source": [
    "# Question 1"
   ]
  },
  {
   "cell_type": "markdown",
   "metadata": {},
   "source": [
    "**Explain how you solve the model**"
   ]
  },
  {
   "attachments": {},
   "cell_type": "markdown",
   "metadata": {},
   "source": [
    "We have changed the definition of consumption of home goods in line 58-65 in inauguralproject.py, to allow for sigma not being equal to 1.\n",
    "\n",
    "Following this, we solve the model discretely, and find the intial optimal working hours for men and women, in the the market and at home."
   ]
  },
  {
   "cell_type": "code",
   "execution_count": 28,
   "metadata": {},
   "outputs": [
    {
     "name": "stderr",
     "output_type": "stream",
     "text": [
      "/Users/idahougaard/OneDrive - Københavns Universitet/projects-2023-ida-simone-elin/inauguralproject/inauguralproject.py:71: RuntimeWarning: invalid value encountered in reciprocal\n",
      "  utility = np.fmax(Q,1e-8)**(1-par.rho)/(1-par.rho)\n"
     ]
    },
    {
     "name": "stdout",
     "output_type": "stream",
     "text": [
      "namespace(LM=4.5, HM=4.5, LF=4.5, HF=4.5)\n"
     ]
    }
   ],
   "source": [
    "model = HouseholdClass()\n",
    "initial = model.solve_discrete()\n",
    "print(initial)"
   ]
  },
  {
   "attachments": {},
   "cell_type": "markdown",
   "metadata": {},
   "source": [
    "In the following, we describe how optimal hours in the market and in the home changes dependent on different values of sigma and alpha. We also report the relative relationsship between hours worked at home for men and women."
   ]
  },
  {
   "cell_type": "code",
   "execution_count": 29,
   "metadata": {},
   "outputs": [
    {
     "name": "stderr",
     "output_type": "stream",
     "text": [
      "/Users/idahougaard/OneDrive - Københavns Universitet/projects-2023-ida-simone-elin/inauguralproject/inauguralproject.py:67: RuntimeWarning: divide by zero encountered in reciprocal\n",
      "  H = ((1-par.alpha) * HM**((par.sigma-1)/par.sigma) + par.alpha * HF**((par.sigma-1)/par.sigma))**(par.sigma/(par.sigma-1))\n",
      "/Users/idahougaard/OneDrive - Københavns Universitet/projects-2023-ida-simone-elin/inauguralproject/inauguralproject.py:67: RuntimeWarning: invalid value encountered in reciprocal\n",
      "  H = ((1-par.alpha) * HM**((par.sigma-1)/par.sigma) + par.alpha * HF**((par.sigma-1)/par.sigma))**(par.sigma/(par.sigma-1))\n"
     ]
    },
    {
     "name": "stdout",
     "output_type": "stream",
     "text": [
      " if sigma = 0.50 and alpha = 0.25     H_F / H_M is 0.55\n",
      " if sigma = 0.50 and alpha = 0.50     H_F / H_M is 1.00\n",
      " if sigma = 0.50 and alpha = 0.75     H_F / H_M is 1.83\n",
      " if sigma = 1.00 and alpha = 0.25     H_F / H_M is 0.31\n",
      " if sigma = 1.00 and alpha = 0.50     H_F / H_M is 1.00\n",
      " if sigma = 1.00 and alpha = 0.75     H_F / H_M is 3.25\n",
      " if sigma = 1.50 and alpha = 0.25     H_F / H_M is 0.21\n",
      " if sigma = 1.50 and alpha = 0.50     H_F / H_M is 1.00\n",
      " if sigma = 1.50 and alpha = 0.75     H_F / H_M is 4.67\n",
      "[0.5454545454545454, 1.0, 1.8333333333333333, 0.3076923076923077, 1.0, 3.25, 0.21428571428571427, 1.0, 4.666666666666667]\n"
     ]
    }
   ],
   "source": [
    "par = model.par\n",
    "\n",
    "alpha_vec = [0.25,0.5,0.75]\n",
    "sigma_vec = [0.5,1,1.5]\n",
    "\n",
    "loop=[]\n",
    "for i in sigma_vec:\n",
    "    par.sigma = i\n",
    "    for j in alpha_vec:\n",
    "        par.alpha = j\n",
    "        opt = model.solve_discrete()\n",
    "\n",
    "        fraction = opt.HF/opt.HM\n",
    "        loop.append(fraction)\n",
    "        print(f' if sigma = {par.sigma:.2f} and alpha = {par.alpha:.2f}     H_F / H_M is {fraction:.2f}')\n",
    "\n",
    "\n",
    "print(loop)"
   ]
  },
  {
   "attachments": {},
   "cell_type": "markdown",
   "metadata": {},
   "source": [
    "____"
   ]
  },
  {
   "cell_type": "code",
   "execution_count": 42,
   "metadata": {},
   "outputs": [
    {
     "ename": "NameError",
     "evalue": "name 'frac' is not defined",
     "output_type": "error",
     "traceback": [
      "\u001b[0;31m---------------------------------------------------------------------------\u001b[0m",
      "\u001b[0;31mNameError\u001b[0m                                 Traceback (most recent call last)",
      "\u001b[0;32m/var/folders/7l/ds0r5wcs2pz7_scg8504fft00000gn/T/ipykernel_90724/4096624408.py\u001b[0m in \u001b[0;36m<module>\u001b[0;34m\u001b[0m\n\u001b[1;32m     21\u001b[0m     \u001b[0mprint\u001b[0m\u001b[0;34m(\u001b[0m\u001b[0mtext\u001b[0m\u001b[0;34m)\u001b[0m\u001b[0;34m\u001b[0m\u001b[0;34m\u001b[0m\u001b[0m\n\u001b[1;32m     22\u001b[0m \u001b[0;34m\u001b[0m\u001b[0m\n\u001b[0;32m---> 23\u001b[0;31m \u001b[0mprint_table\u001b[0m\u001b[0;34m(\u001b[0m\u001b[0malpha_vec\u001b[0m\u001b[0;34m,\u001b[0m\u001b[0msigma_vec\u001b[0m\u001b[0;34m)\u001b[0m\u001b[0;34m\u001b[0m\u001b[0;34m\u001b[0m\u001b[0m\n\u001b[0m",
      "\u001b[0;32m/var/folders/7l/ds0r5wcs2pz7_scg8504fft00000gn/T/ipykernel_90724/4096624408.py\u001b[0m in \u001b[0;36mprint_table\u001b[0;34m(alpha_vec, sigma_vec)\u001b[0m\n\u001b[1;32m     16\u001b[0m         \u001b[0mtext\u001b[0m \u001b[0;34m+=\u001b[0m \u001b[0;34mf'{i:3d} '\u001b[0m \u001b[0;31m# left header\u001b[0m\u001b[0;34m\u001b[0m\u001b[0;34m\u001b[0m\u001b[0m\n\u001b[1;32m     17\u001b[0m         \u001b[0;32mfor\u001b[0m \u001b[0mj\u001b[0m\u001b[0;34m,\u001b[0m \u001b[0msigma\u001b[0m \u001b[0;32min\u001b[0m \u001b[0menumerate\u001b[0m\u001b[0;34m(\u001b[0m\u001b[0msigma_vec\u001b[0m\u001b[0;34m)\u001b[0m\u001b[0;34m:\u001b[0m\u001b[0;34m\u001b[0m\u001b[0;34m\u001b[0m\u001b[0m\n\u001b[0;32m---> 18\u001b[0;31m             \u001b[0mtext\u001b[0m \u001b[0;34m+=\u001b[0m \u001b[0;34mf'{frac(alpha,sigma):6.3f}'\u001b[0m\u001b[0;34m\u001b[0m\u001b[0;34m\u001b[0m\u001b[0m\n\u001b[0m\u001b[1;32m     19\u001b[0m \u001b[0;34m\u001b[0m\u001b[0m\n\u001b[1;32m     20\u001b[0m     \u001b[0;31m# d. print\u001b[0m\u001b[0;34m\u001b[0m\u001b[0;34m\u001b[0m\u001b[0m\n",
      "\u001b[0;31mNameError\u001b[0m: name 'frac' is not defined"
     ]
    }
   ],
   "source": [
    "def print_table(alpha_vec,sigma_vec): # brøken i opg 1\n",
    "    \n",
    "    # a. empty text\n",
    "    text = ''\n",
    "    \n",
    "    # b. top header\n",
    "    text += f'{\"\":3s}'\n",
    "    for j, sigma in enumerate(sigma_vec):\n",
    "       text += f'{j:6d}' \n",
    "    text += '\\n' # line shift\n",
    "    \n",
    "    # c. body\n",
    "    for i,alpha in enumerate(alpha_vec):\n",
    "        if i > 0:\n",
    "            text += '\\n' # line shift\n",
    "        text += f'{i:3d} ' # left header\n",
    "        for j, sigma in enumerate(sigma_vec):\n",
    "            text += f'{frac(alpha,sigma):6.3f}'\n",
    "    \n",
    "    # d. print\n",
    "    print(text)\n",
    "\n",
    "print_table(alpha_vec,sigma_vec)"
   ]
  },
  {
   "cell_type": "code",
   "execution_count": 30,
   "metadata": {},
   "outputs": [
    {
     "ename": "NameError",
     "evalue": "name 'frac' is not defined",
     "output_type": "error",
     "traceback": [
      "\u001b[0;31m---------------------------------------------------------------------------\u001b[0m",
      "\u001b[0;31mNameError\u001b[0m                                 Traceback (most recent call last)",
      "\u001b[0;32m/var/folders/h0/y0qvwgrx3cgbctfpylz6ksgc0000gn/T/ipykernel_92827/484942939.py\u001b[0m in \u001b[0;36m<module>\u001b[0;34m\u001b[0m\n\u001b[1;32m      1\u001b[0m \u001b[0;31m# evaluate utility function\u001b[0m\u001b[0;34m\u001b[0m\u001b[0;34m\u001b[0m\u001b[0m\n\u001b[1;32m      2\u001b[0m \u001b[0malpha_grid\u001b[0m\u001b[0;34m,\u001b[0m\u001b[0msigma_grid\u001b[0m \u001b[0;34m=\u001b[0m \u001b[0mnp\u001b[0m\u001b[0;34m.\u001b[0m\u001b[0mmeshgrid\u001b[0m\u001b[0;34m(\u001b[0m\u001b[0malpha_vec\u001b[0m\u001b[0;34m,\u001b[0m\u001b[0msigma_vec\u001b[0m\u001b[0;34m,\u001b[0m\u001b[0mindexing\u001b[0m\u001b[0;34m=\u001b[0m\u001b[0;34m'ij'\u001b[0m\u001b[0;34m)\u001b[0m\u001b[0;34m\u001b[0m\u001b[0;34m\u001b[0m\u001b[0m\n\u001b[0;32m----> 3\u001b[0;31m \u001b[0mfrac_grid\u001b[0m \u001b[0;34m=\u001b[0m \u001b[0mfrac\u001b[0m\u001b[0;34m(\u001b[0m\u001b[0malpha_grid\u001b[0m\u001b[0;34m,\u001b[0m\u001b[0msigma_grid\u001b[0m\u001b[0;34m)\u001b[0m\u001b[0;34m\u001b[0m\u001b[0;34m\u001b[0m\u001b[0m\n\u001b[0m\u001b[1;32m      4\u001b[0m \u001b[0;34m\u001b[0m\u001b[0m\n\u001b[1;32m      5\u001b[0m \u001b[0;31m# a. plot\u001b[0m\u001b[0;34m\u001b[0m\u001b[0;34m\u001b[0m\u001b[0m\n",
      "\u001b[0;31mNameError\u001b[0m: name 'frac' is not defined"
     ]
    }
   ],
   "source": [
    "# evaluate utility function\n",
    "alpha_grid,sigma_grid = np.meshgrid(alpha_vec,sigma_vec,indexing='ij')\n",
    "frac_grid = frac(alpha_grid,sigma_grid)\n",
    "\n",
    "# a. plot\n",
    "fig = plt.figure()\n",
    "ax = fig.add_subplot(1,1,1,projection='3d')\n",
    "ax.plot_surface(alpha_grid,sigma_grid,frac_grid,cmap=cm.jet)\n",
    "\n",
    "# b. add labels\n",
    "ax.set_xlabel('$alpha$')\n",
    "ax.set_ylabel('$sigma$')\n",
    "ax.set_zlabel('$frac,HF/HM$')\n",
    "\n",
    "# c. invert xaxis\n",
    "ax.invert_xaxis()"
   ]
  },
  {
   "cell_type": "markdown",
   "metadata": {},
   "source": [
    "# Question 2"
   ]
  },
  {
   "cell_type": "markdown",
   "metadata": {},
   "source": [
    "Explain your code and procedure"
   ]
  },
  {
   "cell_type": "code",
   "execution_count": 31,
   "metadata": {},
   "outputs": [
    {
     "name": "stdout",
     "output_type": "stream",
     "text": [
      "rel_hours = 1.250     log_rel_hours = 0.223     wF = 0.800   HF = 5.000   HM = 4.000   wM = 1.000\n",
      "rel_hours = 1.000     log_rel_hours = 0.000     wF = 0.900   HF = 4.500   HM = 4.500   wM = 1.000\n",
      "rel_hours = 1.000     log_rel_hours = 0.000     wF = 1.000   HF = 4.500   HM = 4.500   wM = 1.000\n",
      "rel_hours = 0.889     log_rel_hours = -0.118     wF = 1.100   HF = 4.000   HM = 4.500   wM = 1.000\n",
      "rel_hours = 0.800     log_rel_hours = -0.223     wF = 1.200   HF = 4.000   HM = 5.000   wM = 1.000\n",
      "[ 0.22314355  0.          0.         -0.11778304 -0.22314355]\n",
      "[array([0.8, 0.9, 1. , 1.1, 1.2])]\n"
     ]
    }
   ],
   "source": [
    "model2 = HouseholdClass()\n",
    "\n",
    "par = model2.par\n",
    "\n",
    "log_rel_hours_list=[]\n",
    "#log_rel_wage_list=[]\n",
    "\n",
    "for wage in par.wF_vec:\n",
    "    par.wF = wage\n",
    "    opt = model2.solve_discrete()    \n",
    "\n",
    "    rel_hours = opt.HF/opt.HM\n",
    "    log_rel_hours = np.log(rel_hours)\n",
    "\n",
    "    log_rel_wage = np.log(par.wF_vec)\n",
    "\n",
    "    log_rel_hours_list = np.append(log_rel_hours_list, log_rel_hours)\n",
    "    #log_rel_wage_list = np.append(log_rel_wage_list, log_rel_wage)   \n",
    "    print(f'rel_hours = {rel_hours:.3f}     log_rel_hours = {log_rel_hours:.3f}     wF = {wage:.3f}   HF = {opt.HF:.3f}   HM = {opt.HM:.3f}   wM = {par.wM:.3f}')\n",
    "\n",
    "\n",
    "print(log_rel_hours_list)\n",
    "\n",
    "log_rel_wage_list=[par.wF_vec/par.wM]\n",
    "print(log_rel_wage_list)"
   ]
  },
  {
   "cell_type": "code",
   "execution_count": 32,
   "metadata": {},
   "outputs": [
    {
     "data": {
      "image/png": "[encoded data removed]",
      "text/plain": [
       "<Figure size 600x600 with 1 Axes>"
      ]
     },
     "metadata": {},
     "output_type": "display_data"
    }
   ],
   "source": [
    "fig,ax = plt.subplots(figsize=(6,6))\n",
    "\n",
    "from matplotlib import ticker\n",
    "ax.scatter(x=log_rel_wage_list,y=log_rel_hours_list)\n",
    "ax.set(xlabel=\"Log_rel_wage\",ylabel=\"Log_rel_hours\")\n",
    "ax.xaxis.set_major_formatter(ticker.StrMethodFormatter(\"{x:.2f}\"))\n",
    "ax.yaxis.set_major_formatter(ticker.StrMethodFormatter(\"{x:.2f}\"))"
   ]
  },
  {
   "cell_type": "markdown",
   "metadata": {},
   "source": [
    "Explain your code and procedure"
   ]
  },
  {
   "cell_type": "code",
   "execution_count": 6,
   "metadata": {},
   "outputs": [],
   "source": [
    "\n",
    "model.par.alpha = 0.5\n",
    "model.par.sigma = 1"
   ]
  },
  {
   "cell_type": "code",
   "execution_count": 7,
   "metadata": {},
   "outputs": [
    {
     "name": "stdout",
     "output_type": "stream",
     "text": [
      "1\n"
     ]
    }
   ],
   "source": [
    "print(model.par.sigma)"
   ]
  },
  {
   "attachments": {},
   "cell_type": "markdown",
   "metadata": {},
   "source": [
    "# Question 3"
   ]
  },
  {
   "cell_type": "code",
   "execution_count": 24,
   "metadata": {},
   "outputs": [],
   "source": [
    "kont = model.solve()"
   ]
  },
  {
   "cell_type": "code",
   "execution_count": 25,
   "metadata": {},
   "outputs": [
    {
     "data": {
      "text/plain": [
       "namespace(rho=2.0,\n",
       "          nu=0.001,\n",
       "          epsilon=1.0,\n",
       "          omega=0.5,\n",
       "          alpha=0.5,\n",
       "          sigma=1,\n",
       "          wM=1.0,\n",
       "          wF=1.0,\n",
       "          wF_vec=array([0.8, 0.9, 1. , 1.1, 1.2]),\n",
       "          beta0_target=0.4,\n",
       "          beta1_target=-0.1)"
      ]
     },
     "execution_count": 25,
     "metadata": {},
     "output_type": "execute_result"
    }
   ],
   "source": [
    "model.par"
   ]
  },
  {
   "cell_type": "code",
   "execution_count": 26,
   "metadata": {},
   "outputs": [
    {
     "name": "stdout",
     "output_type": "stream",
     "text": [
      "     fun: 0.2381105465540478\n",
      "     jac: array([3.41217965e-05, 3.41199338e-05, 3.41236591e-05, 3.41236591e-05])\n",
      " message: 'Optimization terminated successfully'\n",
      "    nfev: 55\n",
      "     nit: 11\n",
      "    njev: 11\n",
      "  status: 0\n",
      " success: True\n",
      "       x: array([4.46018781, 4.46018781, 4.46018782, 4.46018782])\n"
     ]
    }
   ],
   "source": [
    "print(kont)"
   ]
  },
  {
   "attachments": {},
   "cell_type": "markdown",
   "metadata": {},
   "source": [
    "# Question 4\n"
   ]
  },
  {
   "cell_type": "code",
   "execution_count": null,
   "metadata": {},
   "outputs": [],
   "source": [
    "model4 = HouseholdClass()\n",
    "model4.run_regression()"
   ]
  },
  {
   "cell_type": "markdown",
   "metadata": {},
   "source": [
    "# Question 5"
   ]
  },
  {
   "cell_type": "markdown",
   "metadata": {},
   "source": [
    "ADD CONCISE CONLUSION."
   ]
  }
 ],
 "metadata": {
  "kernelspec": {
   "display_name": "base",
   "language": "python",
   "name": "python3"
  },
  "language_info": {
   "codemirror_mode": {
    "name": "ipython",
    "version": 3
   },
   "file_extension": ".py",
   "mimetype": "text/x-python",
   "name": "python",
   "nbconvert_exporter": "python",
   "pygments_lexer": "ipython3",
   "version": "3.9.13"
  },
  "toc-autonumbering": true,
  "vscode": {
   "interpreter": {
    "hash": "81ba5019e37842368fc49be8de08a0e006194f34fe1ed2c457994b200a6baabe"
   }
  }
 },
 "nbformat": 4,
 "nbformat_minor": 4
}
