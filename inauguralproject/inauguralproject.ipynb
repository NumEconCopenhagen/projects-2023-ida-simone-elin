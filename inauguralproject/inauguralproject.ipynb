{
 "cells": [
  {
   "cell_type": "markdown",
   "metadata": {},
   "source": [
    "# Inaugural Project"
   ]
  },
  {
   "cell_type": "markdown",
   "metadata": {},
   "source": [
    "Imports and set magics:"
   ]
  },
  {
   "cell_type": "code",
   "execution_count": 1,
   "metadata": {},
   "outputs": [],
   "source": [
    "import numpy as np\n",
    "\n",
    "from types import SimpleNamespace\n",
    "from scipy import optimize\n",
    "from scipy.optimize import minimize\n",
    "import pandas as pd \n",
    "import matplotlib.pyplot as plt\n",
    "import math\n",
    "\n",
    "# autoreload modules when code is run. Otherwise, python will not see recent changes. \n",
    "%load_ext autoreload\n",
    "%autoreload 2\n",
    "\n",
    "# Import your own code\n",
    "import inauguralproject\n",
    "\n",
    "from inauguralproject import HouseholdClass "
   ]
  },
  {
   "cell_type": "markdown",
   "metadata": {},
   "source": [
    "# Question 1"
   ]
  },
  {
   "attachments": {},
   "cell_type": "markdown",
   "metadata": {},
   "source": [
    "Based on the provided code, we alter the definition of consumption of home goods in inauguralproject.py, to allow for $\\sigma\\neq1$. \n",
    "\n",
    "Following this, we solve the model discretely, and find the intial optimal working hours for men and women, in the the market and at home for $\\alpha=0.5$ and $\\sigma=1$"
   ]
  },
  {
   "cell_type": "code",
   "execution_count": 2,
   "metadata": {},
   "outputs": [
    {
     "name": "stderr",
     "output_type": "stream",
     "text": [
      "/Users/idahougaard/OneDrive - Københavns Universitet/projects-2023-ida-simone-elin/inauguralproject/inauguralproject.py:72: RuntimeWarning: invalid value encountered in reciprocal\n",
      "  utility = np.fmax(Q,1e-8)**(1-par.rho)/(1-par.rho)\n"
     ]
    },
    {
     "name": "stdout",
     "output_type": "stream",
     "text": [
      "The initial optimal hours working at home for women is HF = 4.5\n",
      "The initial optimal hours working at home for men is HM = 4.5\n",
      "The initial optimal hours working at the market for women is LF = 4.5\n",
      "The initial optimal hours working at the market for men is LM = 4.5\n"
     ]
    }
   ],
   "source": [
    "#We initiate and solve the discrete model. \n",
    "model = HouseholdClass()\n",
    "initial = model.solve_discrete()\n",
    "\n",
    "#Printing the results\n",
    "print(f'The initial optimal hours working at home for women is HF = {initial.HF:.1f}' '\\n'f'The initial optimal hours working at home for men is HM = {initial.HM:.1f}''\\n'f'The initial optimal hours working at the market for women is LF = {initial.LF:.1f}' '\\n'f'The initial optimal hours working at the market for men is LM = {initial.LM:.1f}' )\n"
   ]
  },
  {
   "attachments": {},
   "cell_type": "markdown",
   "metadata": {},
   "source": [
    "In the following, we show how relative optimal working hours at home between men and women change dependent on different values of $\\sigma$ and $\\alpha$. We illustrate this in a table. "
   ]
  },
  {
   "attachments": {},
   "cell_type": "markdown",
   "metadata": {},
   "source": [
    "____"
   ]
  },
  {
   "cell_type": "code",
   "execution_count": 3,
   "metadata": {},
   "outputs": [
    {
     "name": "stderr",
     "output_type": "stream",
     "text": [
      "/Users/idahougaard/OneDrive - Københavns Universitet/projects-2023-ida-simone-elin/inauguralproject/inauguralproject.py:68: RuntimeWarning: divide by zero encountered in reciprocal\n",
      "  H = ((1-par.alpha) * HM**((par.sigma-1)/par.sigma) + par.alpha * HF**((par.sigma-1)/par.sigma))**(par.sigma/(par.sigma-1))\n",
      "/Users/idahougaard/OneDrive - Københavns Universitet/projects-2023-ida-simone-elin/inauguralproject/inauguralproject.py:68: RuntimeWarning: invalid value encountered in reciprocal\n",
      "  H = ((1-par.alpha) * HM**((par.sigma-1)/par.sigma) + par.alpha * HF**((par.sigma-1)/par.sigma))**(par.sigma/(par.sigma-1))\n"
     ]
    },
    {
     "name": "stdout",
     "output_type": "stream",
     "text": [
      "Alpha/Sigma    0.50    1.00    1.50\n",
      "----------------------------------------\n",
      "    0.25    |   0.55   0.31   0.21\n",
      "    0.50    |   1.00   1.00   1.00\n",
      "    0.75    |   1.83   3.25   4.67\n"
     ]
    }
   ],
   "source": [
    "#We unpack the model parameters\n",
    "par = model.par\n",
    "\n",
    "#We define vectors with the values of alpha and sigma.\n",
    "alpha_vec = [0.25,0.5,0.75]\n",
    "sigma_vec = [0.5,1,1.5]\n",
    "\n",
    "#We create a table with the results of the loop. The values in the table is the logarithm of the relative hours worked at home for men and women. \n",
    "def print_table():\n",
    "    \n",
    "    #We define an empty text string\n",
    "    text = ''\n",
    "    \n",
    "    # Creating the top header\n",
    "    text += f'{\"Alpha/Sigma\":3s}'\n",
    "    for j, sigma in enumerate(sigma_vec):\n",
    "       model.par.sigma=sigma\n",
    "       text += f'{sigma:8.2f}' \n",
    "    text += '\\n' + \"-\"*40 + \"\\n\" # creating a line shift \n",
    "    \n",
    "    # Creating the body of the table\n",
    "    for i, alpha in enumerate(alpha_vec):\n",
    "        model.par.alpha=alpha\n",
    "        if i > 0:\n",
    "            text += '\\n' # creating a line shift\n",
    "        text += f'{alpha:8.2f}    |' # creating the left header\n",
    "        for j, sigma in enumerate(sigma_vec):\n",
    "            model.par.sigma=sigma\n",
    "            opt = model.solve_discrete()\n",
    "            text += f'{opt.HF/opt.HM:7.2f}'\n",
    "    \n",
    "    # Print\n",
    "    print(text)\n",
    "\n",
    "#We print the table: \n",
    "print_table()"
   ]
  },
  {
   "cell_type": "markdown",
   "metadata": {},
   "source": [
    "# Question 2"
   ]
  },
  {
   "attachments": {},
   "cell_type": "markdown",
   "metadata": {},
   "source": [
    "We now return to $\\alpha=0.5$ and $\\sigma=1$. \n",
    "We vary the female wage $w_F$ and illustrate how it changes $log\\frac{H_F}{H_M}$ and $log\\frac{w_F}{w_M}$"
   ]
  },
  {
   "cell_type": "code",
   "execution_count": 4,
   "metadata": {},
   "outputs": [
    {
     "name": "stdout",
     "output_type": "stream",
     "text": [
      "When womens wage is 0.8 and mens wage is wM = 1.0, the optimal working hours at home are 5.0 for women and 4.0 for men. Thus, their relative working hours are 1.250. Taking the log of this fraction, we find log(HF/HM) = 0.223.\n",
      "When womens wage is 0.9 and mens wage is wM = 1.0, the optimal working hours at home are 4.5 for women and 4.5 for men. Thus, their relative working hours are 1.000. Taking the log of this fraction, we find log(HF/HM) = 0.000.\n",
      "When womens wage is 1.0 and mens wage is wM = 1.0, the optimal working hours at home are 4.5 for women and 4.5 for men. Thus, their relative working hours are 1.000. Taking the log of this fraction, we find log(HF/HM) = 0.000.\n",
      "When womens wage is 1.1 and mens wage is wM = 1.0, the optimal working hours at home are 4.0 for women and 4.5 for men. Thus, their relative working hours are 0.889. Taking the log of this fraction, we find log(HF/HM) = -0.118.\n",
      "When womens wage is 1.2 and mens wage is wM = 1.0, the optimal working hours at home are 4.0 for women and 5.0 for men. Thus, their relative working hours are 0.800. Taking the log of this fraction, we find log(HF/HM) = -0.223.\n"
     ]
    }
   ],
   "source": [
    "#We initiate a new model\n",
    "model2 = HouseholdClass()\n",
    "\n",
    "#We unpack the model parameters\n",
    "par = model2.par\n",
    "\n",
    "#We construct a list to hold the log value of the relative hours between men and women\n",
    "log_rel_hours_list=[]\n",
    "\n",
    "#We run a loop over the model where we change women's wage for each iteration\n",
    "for wage in par.wF_vec:\n",
    "    par.wF = wage\n",
    "    opt = model2.solve_discrete()    \n",
    "\n",
    "    #We calculate the model results for each iteration\n",
    "    rel_hours = opt.HF/opt.HM\n",
    "    log_rel_hours = np.log(rel_hours)\n",
    "\n",
    "    log_rel_wage = np.log(par.wF_vec)\n",
    "\n",
    "    #We append the results to our list of log values\n",
    "    log_rel_hours_list = np.append(log_rel_hours_list, log_rel_hours)\n",
    " \n",
    "    #We print our results\n",
    "    print(f'When womens wage is {wage:.1f} and mens wage is wM = {par.wM:.1f}, the optimal working hours at home are {opt.HF:.1f} for women and {opt.HM:.1f} for men. Thus, their relative working hours are {rel_hours:.3f}. Taking the log of this fraction, we find log(HF/HM) = {log_rel_hours:.3f}.')"
   ]
  },
  {
   "cell_type": "code",
   "execution_count": 10,
   "metadata": {},
   "outputs": [
    {
     "data": {
      "image/png": "[encoded data removed]",
      "text/plain": [
       "<Figure size 640x480 with 1 Axes>"
      ]
     },
     "metadata": {},
     "output_type": "display_data"
    }
   ],
   "source": [
    "#We define the log of relative wages\n",
    "log_rel_wage_list=np.log(par.wF_vec/par.wM)\n",
    "\n",
    "#Plot log(HF/HM) against log(wF/wM() for the vector of female wages.\n",
    "plt.scatter(log_rel_wage_list,log_rel_hours_list)\n",
    "plt.title('Relative working hours in home given relative wages')\n",
    "plt.xlabel('log(wF/wM)')\n",
    "plt.ylabel('Log(HF/HM)')\n",
    "plt.grid()\n",
    "\n",
    "plt.show()"
   ]
  },
  {
   "cell_type": "code",
   "execution_count": 7,
   "metadata": {},
   "outputs": [],
   "source": [
    "\n",
    "model.par.alpha = 0.5\n",
    "model.par.sigma = 1"
   ]
  },
  {
   "attachments": {},
   "cell_type": "markdown",
   "metadata": {},
   "source": [
    "# Question 3"
   ]
  },
  {
   "cell_type": "markdown",
   "metadata": {},
   "source": [
    "We now solve the continuous model. The optimization of the model is in inauguralproject.py. \n",
    "We then repeat the process of question 2 with the continuous model. "
   ]
  },
  {
   "cell_type": "code",
   "execution_count": 20,
   "metadata": {},
   "outputs": [],
   "source": [
    "#We setup the continuous model and save it as cont\n",
    "model_cont = HouseholdClass()\n",
    "opt_cont = model_cont.solve_continuous()"
   ]
  },
  {
   "cell_type": "code",
   "execution_count": 21,
   "metadata": {},
   "outputs": [
    {
     "name": "stdout",
     "output_type": "stream",
     "text": [
      "The initial optimal hours working at home for women is HF = 4.46\n",
      "The initial optimal hours working at home for men is HM = 4.46\n",
      "The initial optimal hours working at the market for women is LF = 4.46\n",
      "The initial optimal hours working at the market for men is LM = 4.46\n"
     ]
    }
   ],
   "source": [
    "#We print the solution of the continuous model\n",
    "print(f'The initial optimal hours working at home for women is HF = {opt_cont.HF:.2f}' '\\n'f'The initial optimal hours working at home for men is HM = {opt_cont.HM:.2f}''\\n'f'The initial optimal hours working at the market for women is LF = {opt_cont.LF:.2f}' '\\n'f'The initial optimal hours working at the market for men is LM = {opt_cont.LM:.2f}' )\n"
   ]
  },
  {
   "cell_type": "code",
   "execution_count": 26,
   "metadata": {},
   "outputs": [
    {
     "name": "stdout",
     "output_type": "stream",
     "text": [
      "When womens wage is 0.80 and mens wage is wM = 1.00, the optimal working hours at home are 5.06 for women and 4.04 for men. Thus, their relative working hours are 0.800. Taking the log of this fraction, we find log(HF/HM) = 0.225.\n",
      "When womens wage is 0.90 and mens wage is wM = 1.00, the optimal working hours at home are 4.49 for women and 4.49 for men. Thus, their relative working hours are 0.800. Taking the log of this fraction, we find log(HF/HM) = 0.000.\n",
      "When womens wage is 1.00 and mens wage is wM = 1.00, the optimal working hours at home are 4.46 for women and 4.46 for men. Thus, their relative working hours are 0.800. Taking the log of this fraction, we find log(HF/HM) = 0.000.\n",
      "When womens wage is 1.10 and mens wage is wM = 1.00, the optimal working hours at home are 4.42 for women and 4.42 for men. Thus, their relative working hours are 0.800. Taking the log of this fraction, we find log(HF/HM) = -0.000.\n",
      "When womens wage is 1.20 and mens wage is wM = 1.00, the optimal working hours at home are 3.99 for women and 4.81 for men. Thus, their relative working hours are 0.800. Taking the log of this fraction, we find log(HF/HM) = -0.187.\n"
     ]
    }
   ],
   "source": [
    "# Using the model to calculate optimal HF and HM\n",
    "model_cont = HouseholdClass()\n",
    "\n",
    "#We unpack the model parameters\n",
    "par = model_cont.par\n",
    "\n",
    "#We create an empty list\n",
    "log_rel_hours_cont_list=[]\n",
    "\n",
    "# Looping over wF values\n",
    "for wage in par.wF_vec:\n",
    "    \n",
    "    # Setting value\n",
    "    par.wF = wage\n",
    "\n",
    "    # Solving for continuous optimal choice\n",
    "    opt_cont= model_cont.solve_continuous()\n",
    "\n",
    "    #We create the log(HF/HM)\n",
    "    rel_hours_cont = opt_cont.HF/opt_cont.HM\n",
    "    log_rel_hours_cont = np.log(rel_hours_cont)\n",
    "    \n",
    "    #We create the log(wF/wM)\n",
    "    log_rel_wage = np.log(par.wF_vec)\n",
    "\n",
    "    #We append the results of the loop to our empty list\n",
    "    log_rel_hours_cont_list = np.append(log_rel_hours_cont_list, log_rel_hours_cont)\n",
    "\n",
    "    #We print the results\n",
    "    print(f'When womens wage is {wage:.2f} and mens wage is wM = {par.wM:.2f}, the optimal working hours at home are {opt_cont.HF:.2f} for women and {opt_cont.HM:.2f} for men. Thus, their relative working hours are {rel_hours:.3f}. Taking the log of this fraction, we find log(HF/HM) = {log_rel_hours_cont:.3f}.')\n"
   ]
  },
  {
   "cell_type": "code",
   "execution_count": 28,
   "metadata": {},
   "outputs": [
    {
     "data": {
      "image/png": "[encoded data removed]",
      "text/plain": [
       "<Figure size 640x480 with 1 Axes>"
      ]
     },
     "metadata": {},
     "output_type": "display_data"
    }
   ],
   "source": [
    "#Plot log(HF/HM) against log(wF/wM() for the vector of female wages in the continuous model\n",
    "plt.scatter(log_rel_wage, log_rel_hours_cont_list)\n",
    "plt.title('Relative working hours in home given relative wages, continuous')\n",
    "plt.xlabel('log(wF/wM)')\n",
    "plt.ylabel('Log(HF/HM)')\n",
    "plt.grid()\n",
    "plt.show()"
   ]
  },
  {
   "attachments": {},
   "cell_type": "markdown",
   "metadata": {},
   "source": [
    "# Question 4\n"
   ]
  },
  {
   "cell_type": "code",
   "execution_count": null,
   "metadata": {},
   "outputs": [],
   "source": [
    "model4 = HouseholdClass()\n",
    "model4.run_regression()"
   ]
  },
  {
   "cell_type": "markdown",
   "metadata": {},
   "source": [
    "# Question 5"
   ]
  },
  {
   "cell_type": "markdown",
   "metadata": {},
   "source": [
    "ADD CONCISE CONLUSION."
   ]
  }
 ],
 "metadata": {
  "kernelspec": {
   "display_name": "base",
   "language": "python",
   "name": "python3"
  },
  "language_info": {
   "codemirror_mode": {
    "name": "ipython",
    "version": 3
   },
   "file_extension": ".py",
   "mimetype": "text/x-python",
   "name": "python",
   "nbconvert_exporter": "python",
   "pygments_lexer": "ipython3",
   "version": "3.9.13"
  },
  "toc-autonumbering": true,
  "vscode": {
   "interpreter": {
    "hash": "81ba5019e37842368fc49be8de08a0e006194f34fe1ed2c457994b200a6baabe"
   }
  }
 },
 "nbformat": 4,
 "nbformat_minor": 4
}
