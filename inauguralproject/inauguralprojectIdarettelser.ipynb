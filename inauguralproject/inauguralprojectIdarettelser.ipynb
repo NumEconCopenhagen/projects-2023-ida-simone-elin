{
 "cells": [
  {
   "cell_type": "markdown",
   "metadata": {},
   "source": [
    "# Inaugural Project"
   ]
  },
  {
   "cell_type": "markdown",
   "metadata": {},
   "source": [
    "Imports and set magics:"
   ]
  },
  {
   "cell_type": "code",
   "execution_count": 1,
   "metadata": {},
   "outputs": [],
   "source": [
    "import numpy as np\n",
    "\n",
    "from types import SimpleNamespace\n",
    "from scipy import optimize\n",
    "from scipy.optimize import minimize\n",
    "import pandas as pd \n",
    "import matplotlib.pyplot as plt\n",
    "import math\n",
    "\n",
    "#We immport autoreload modules when code is run, to make sure our notebook has the recent changes from the Python file. \n",
    "%load_ext autoreload\n",
    "%autoreload 2\n",
    "\n",
    "#We import our python file, where we have set up our model.\n",
    "import inauguralproject\n",
    "\n",
    "#We import our class and name it \"model\".\n",
    "from inauguralproject import HouseholdClass \n",
    "model = HouseholdClass()\n"
   ]
  },
  {
   "cell_type": "code",
   "execution_count": null,
   "metadata": {},
   "outputs": [],
   "source": [
    "res = model.estimate()\n",
    "res"
   ]
  },
  {
   "cell_type": "markdown",
   "metadata": {},
   "source": [
    "# Question 1"
   ]
  },
  {
   "attachments": {},
   "cell_type": "markdown",
   "metadata": {},
   "source": [
    "In question 1, we want to solve the model discretely, and illustrate how the relative hours worked at home for men and women $\\frac{H_F}{H_M}$ change for different values of $\\alpha$ and $\\sigma$. \n",
    "\n",
    "Based on the provided code, we alter the definition of consumption of home goods H in inauguralproject.py, to allow for $\\sigma\\neq1$. \n",
    "\n",
    "Following this, we solve the model discretely, and find the intial optimal working hours for men and women, in the the market and at home for $\\alpha=0.5$ and $\\sigma=1$"
   ]
  },
  {
   "cell_type": "code",
   "execution_count": 2,
   "metadata": {},
   "outputs": [
    {
     "name": "stderr",
     "output_type": "stream",
     "text": [
      "/Users/idahougaard/OneDrive - Københavns Universitet/projects-2023-ida-simone-elin/inauguralproject/inauguralproject.py:73: RuntimeWarning: invalid value encountered in reciprocal\n",
      "  utility = np.fmax(Q,1e-8)**(1-par.rho)/(1-par.rho)\n"
     ]
    },
    {
     "name": "stdout",
     "output_type": "stream",
     "text": [
      "The initial optimal hours working at home for women is HF = 4.5\n",
      "The initial optimal hours working at home for men is HM = 4.5\n",
      "The initial optimal hours working at the market for women is LF = 4.5\n",
      "The initial optimal hours working at the market for men is LM = 4.5\n"
     ]
    }
   ],
   "source": [
    "#We solve the discrete model for the initial values of sigma and alpha\n",
    "model.par.alpha = 0.5\n",
    "model.par.sigma = 1\n",
    "disc = model.solve_discrete()\n",
    "\n",
    "#Printing the results\n",
    "print(f'The initial optimal hours working at home for women is HF = {disc.HF:.1f}' '\\n'f'The initial optimal hours working at home for men is HM = {disc.HM:.1f}''\\n'f'The initial optimal hours working at the market for women is LF = {disc.LF:.1f}' '\\n'f'The initial optimal hours working at the market for men is LM = {disc.LM:.1f}' )\n"
   ]
  },
  {
   "attachments": {},
   "cell_type": "markdown",
   "metadata": {},
   "source": [
    "In the following, we show how relative optimal working hours at home between men and women change dependent on different values of $\\sigma$ and $\\alpha$. We illustrate this in a table. "
   ]
  },
  {
   "attachments": {},
   "cell_type": "markdown",
   "metadata": {},
   "source": [
    "____"
   ]
  },
  {
   "cell_type": "code",
   "execution_count": 3,
   "metadata": {},
   "outputs": [
    {
     "name": "stderr",
     "output_type": "stream",
     "text": [
      "/Users/idahougaard/OneDrive - Københavns Universitet/projects-2023-ida-simone-elin/inauguralproject/inauguralproject.py:69: RuntimeWarning: divide by zero encountered in reciprocal\n",
      "  H = ((1-par.alpha) * HM**((par.sigma-1)/par.sigma) + par.alpha * HF**((par.sigma-1)/par.sigma))**(par.sigma/(par.sigma-1))\n",
      "/Users/idahougaard/OneDrive - Københavns Universitet/projects-2023-ida-simone-elin/inauguralproject/inauguralproject.py:69: RuntimeWarning: invalid value encountered in reciprocal\n",
      "  H = ((1-par.alpha) * HM**((par.sigma-1)/par.sigma) + par.alpha * HF**((par.sigma-1)/par.sigma))**(par.sigma/(par.sigma-1))\n"
     ]
    },
    {
     "name": "stdout",
     "output_type": "stream",
     "text": [
      "Alpha/Sigma    0.50    1.00    1.50\n",
      "----------------------------------------\n",
      "    0.25    |   0.55   0.31   0.21\n",
      "    0.50    |   1.00   1.00   1.00\n",
      "    0.75    |   1.83   3.25   4.67\n"
     ]
    }
   ],
   "source": [
    "#We unpack the model parameters\n",
    "par = model.par\n",
    "\n",
    "#We define vectors with the values of alpha and sigma.\n",
    "alpha_vec = [0.25,0.5,0.75]\n",
    "sigma_vec = [0.5,1,1.5]\n",
    "\n",
    "#We create a table with the logarithm of the relative hours worked at home for men and women. \n",
    "def print_table():\n",
    "    \n",
    "    #We define an empty text string\n",
    "    text = ''\n",
    "    \n",
    "    # Creating the top header of the table, we loop over the different values of sigma in the vector\n",
    "    text += f'{\"Alpha/Sigma\":3s}'\n",
    "    for j, sigma in enumerate(sigma_vec): \n",
    "       model.par.sigma=sigma\n",
    "       text += f'{sigma:8.2f}' \n",
    "    text += '\\n' + \"-\"*40 + \"\\n\" #We create a line shift and a line to divide the header from the rest of the table. \n",
    "    \n",
    "    # Creating the body of the table. We loop over the different values of alpha in the vector and fill the table with the optimal relative at home working hours defined as \"initial\"\n",
    "    for i, alpha in enumerate(alpha_vec): \n",
    "        model.par.alpha=alpha\n",
    "        if i > 0:\n",
    "            text += '\\n' #We create a line shift\n",
    "        text += f'{alpha:8.2f}    |' #Creating the left header with a line to divide it from the rest of the table. \n",
    "        for j, sigma in enumerate(sigma_vec):\n",
    "            model.par.sigma=sigma\n",
    "            disc = model.solve_discrete()\n",
    "            text += f'{disc.HF/disc.HM:7.2f}' \n",
    "    \n",
    "    # Print\n",
    "    print(text)\n",
    "\n",
    "#We print the table: \n",
    "print_table()"
   ]
  },
  {
   "cell_type": "code",
   "execution_count": 51,
   "metadata": {},
   "outputs": [
    {
     "name": "stderr",
     "output_type": "stream",
     "text": [
      "/Users/idahougaard/OneDrive - Københavns Universitet/projects-2023-ida-simone-elin/inauguralproject/inauguralproject.py:69: RuntimeWarning: divide by zero encountered in reciprocal\n",
      "  H = ((1-par.alpha) * HM**((par.sigma-1)/par.sigma) + par.alpha * HF**((par.sigma-1)/par.sigma))**(par.sigma/(par.sigma-1))\n",
      "/Users/idahougaard/OneDrive - Københavns Universitet/projects-2023-ida-simone-elin/inauguralproject/inauguralproject.py:69: RuntimeWarning: invalid value encountered in reciprocal\n",
      "  H = ((1-par.alpha) * HM**((par.sigma-1)/par.sigma) + par.alpha * HF**((par.sigma-1)/par.sigma))**(par.sigma/(par.sigma-1))\n",
      "/Users/idahougaard/OneDrive - Københavns Universitet/projects-2023-ida-simone-elin/inauguralproject/inauguralproject.py:73: RuntimeWarning: invalid value encountered in reciprocal\n",
      "  utility = np.fmax(Q,1e-8)**(1-par.rho)/(1-par.rho)\n"
     ]
    },
    {
     "data": {
      "text/plain": [
       "Text(0.5, 0, 'HF/HM')"
      ]
     },
     "execution_count": 51,
     "metadata": {},
     "output_type": "execute_result"
    },
    {
     "data": {
      "image/png": "[encoded data removed]",
      "text/plain": [
       "<Figure size 640x480 with 1 Axes>"
      ]
     },
     "metadata": {},
     "output_type": "display_data"
    }
   ],
   "source": [
    "# We create a 2D grid of alpha and sigma\n",
    "alpha_grid, sigma_grid = np.meshgrid(alpha_vec,sigma_vec)\n",
    "\n",
    "# We want to create a matrix of HF/HM and loop through the grids of alpha and sigma. \n",
    "relative_hours= np.zeros([3,3])\n",
    "for i in range(alpha_grid.shape[0]):\n",
    "    for j in range(sigma_grid.shape[0]):\n",
    "        model.par.alpha = alpha_grid[i,j]\n",
    "        model.par.sigma = sigma_grid[i,j]\n",
    "        disc = model.solve_discrete()\n",
    "        relative_hours[i,j] = disc.HF/disc.HM\n",
    "\n",
    "# We create a 3D figure\n",
    "fig = plt.figure()\n",
    "ax = fig.add_subplot(1,1,1,projection='3d')\n",
    "ax.plot_surface(alpha_grid,sigma_grid,relative_hours)\n",
    "\n",
    "ax.set_xlabel(\"Alpha\")\n",
    "ax.set_ylabel(\"Sigma\")\n",
    "ax.set_zlabel(\"HF/HM\")"
   ]
  },
  {
   "cell_type": "markdown",
   "metadata": {},
   "source": [
    "# Question 2"
   ]
  },
  {
   "attachments": {},
   "cell_type": "markdown",
   "metadata": {},
   "source": [
    "We now return to $\\alpha=0.5$ and $\\sigma=1$. \n",
    "We vary the female wage $w_F$ and illustrate how it changes $log\\frac{H_F}{H_M}$ and $log\\frac{w_F}{w_M}$."
   ]
  },
  {
   "cell_type": "code",
   "execution_count": null,
   "metadata": {},
   "outputs": [],
   "source": [
    "#We initiate a new model\n",
    "model2 = HouseholdClass()\n",
    "\n",
    "#We unpack the model parameters\n",
    "par = model2.par\n",
    "\n",
    "#We construct a list to hold the log value of the relative hours between men and women\n",
    "log_rel_hours_list=[]\n",
    "\n",
    "#We run a loop over the model where we change women's wage for each iteration\n",
    "for wage in par.wF_vec:\n",
    "    par.wF = wage\n",
    "    opt = model2.solve_discrete()    \n",
    "\n",
    "    #We calculate the model results for each iteration\n",
    "    rel_hours = opt.HF/opt.HM\n",
    "    log_rel_hours = np.log(rel_hours)\n",
    "\n",
    "    log_rel_wage = np.log(par.wF_vec)\n",
    "\n",
    "    #We append the results to our list of log values\n",
    "    log_rel_hours_list = np.append(log_rel_hours_list, log_rel_hours)\n",
    " \n",
    "    #We print our results\n",
    "    print(f'When womens wage is {wage:.1f} and mens wage is wM = {par.wM:.1f}, the optimal working hours at home are {opt.HF:.1f} for women and {opt.HM:.1f} for men. Thus, their relative working hours are {rel_hours:.3f}. Taking the log of this fraction, we find log(HF/HM) = {log_rel_hours:.3f}.''\\n')"
   ]
  },
  {
   "cell_type": "code",
   "execution_count": null,
   "metadata": {},
   "outputs": [],
   "source": [
    "#We define the log of relative wages\n",
    "log_rel_wage_list=np.log(par.wF_vec/par.wM)\n",
    "\n",
    "#Plot log(HF/HM) against log(wF/wM() for the vector of female wages.\n",
    "plt.scatter(log_rel_wage_list,log_rel_hours_list)\n",
    "plt.title('Relative working hours in home given relative wages')\n",
    "plt.xlabel('log(wF/wM)')\n",
    "plt.ylabel('Log(HF/HM)')\n",
    "plt.grid()\n",
    "\n",
    "#for i in range(par.wF_vec):\n",
    "    #plt.text(log_rel_wage_list[i], log_rel_hours_list[i], f\"wF={par.wF_vec[i]}\")\n",
    "plt.show()"
   ]
  },
  {
   "attachments": {},
   "cell_type": "markdown",
   "metadata": {},
   "source": [
    "# Question 3"
   ]
  },
  {
   "attachments": {},
   "cell_type": "markdown",
   "metadata": {},
   "source": [
    "Now, the model is continuous.\n",
    "We vary the female wage $w_F$ and illustrate how it changes $log\\frac{H_F}{H_M}$ and $log\\frac{w_F}{w_M}$."
   ]
  },
  {
   "cell_type": "code",
   "execution_count": null,
   "metadata": {},
   "outputs": [],
   "source": [
    "#We refer to the class\n",
    "model_cont = HouseholdClass() \n",
    "\n",
    "#We define the continuous solution\n",
    "cont = model_cont.solve_continuous()"
   ]
  },
  {
   "cell_type": "code",
   "execution_count": null,
   "metadata": {},
   "outputs": [],
   "source": [
    "#We print the results of the continuous model\n",
    "print(f'The initial optimal hours working at home for women is HF = {cont.HF:.2f}' '\\n'f'The initial optimal hours working at home for men is HM = {cont.HM:.2f}''\\n'f'The initial optimal hours working at the market for women is LF = {cont.LF:.2f}' '\\n'f'The initial optimal hours working at the market for men is LM = {cont.LM:.2f}' )"
   ]
  },
  {
   "cell_type": "code",
   "execution_count": null,
   "metadata": {},
   "outputs": [],
   "source": [
    "# Using the model to calculate optimal HF and HM\n",
    "model_cont = HouseholdClass()\n",
    "\n",
    "# We unpack the model parameters\n",
    "par = model_cont.par\n",
    "sol = model_cont.sol\n",
    "\n",
    "# We create an empty list\n",
    "log_rel_hours_cont_list=[]\n",
    "\n",
    "# Looping over wF values\n",
    "for wage in par.wF_vec:\n",
    "    \n",
    "    # Setting value\n",
    "    par.wF = wage\n",
    "\n",
    "    # Solving for continuous optimal choice\n",
    "    opt_cont = model_cont.solve_continuous()\n",
    "\n",
    "    # We create log(HM/HF)\n",
    "    rel_hours_cont = opt_cont.HF/opt_cont.HM\n",
    "    log_rel_hours_cont = np.log(rel_hours_cont)\n",
    "\n",
    "    # We create log(wF/wM)\n",
    "    log_rel_wage = np.log(par.wF_vec)\n",
    "\n",
    "    #We append the results to the empty list\n",
    "    log_rel_hours_cont_list = np.append(log_rel_hours_cont_list, log_rel_hours_cont)\n",
    "\n",
    "    #Append results to vectors of solutions\n",
    "    sol.LM_vec = np.append(sol.LM_vec, opt_cont.LM)\n",
    "    sol.HM_vec = np.append(sol.HM_vec, opt_cont.HM)\n",
    "    sol.LF_vec = np.append(sol.LF_vec, opt_cont.LF)\n",
    "    sol.HF_vec = np.append(sol.LF_vec, opt_cont.HF)\n",
    "\n",
    "    #We print our results\n",
    "    print(f'When womens wage is {wage:.2f} and mens wage is wM = {par.wM:.2f}, the optimal working hours at home are {opt_cont.HF:.2f} for women and {opt_cont.HM:.2f} for men. Thus, their relative working hours are {rel_hours_cont:.3f}. Taking the log of this fraction, we find log(HF/HM) = {log_rel_hours_cont:.3f}.''\\n')\n"
   ]
  },
  {
   "cell_type": "code",
   "execution_count": null,
   "metadata": {},
   "outputs": [],
   "source": [
    "#We plot the results\n",
    "#We define the log of relative wages\n",
    "log_rel_wage_cont_list=np.log(par.wF_vec/par.wM)\n",
    "\n",
    "plt.scatter(log_rel_wage,log_rel_hours_cont_list)\n",
    "plt.title('Relative working hours in home given relative wages')\n",
    "plt.xlabel('log(wF/wM)')\n",
    "plt.ylabel('Log(HF/HM)')\n",
    "plt.grid()"
   ]
  },
  {
   "attachments": {},
   "cell_type": "markdown",
   "metadata": {},
   "source": [
    "# Question 4\n"
   ]
  },
  {
   "attachments": {},
   "cell_type": "markdown",
   "metadata": {},
   "source": [
    "We solve the continuous model for each value of the female wage $w_F$."
   ]
  },
  {
   "cell_type": "code",
   "execution_count": null,
   "metadata": {},
   "outputs": [],
   "source": [
    "model_cont = HouseholdClass()\n",
    "model.solve_wF_vec(discrete=False)\n",
    "model_cont.sol"
   ]
  },
  {
   "cell_type": "code",
   "execution_count": null,
   "metadata": {},
   "outputs": [],
   "source": [
    "model.par.alpha = 0.5\n",
    "model.par.sigma = 1"
   ]
  },
  {
   "cell_type": "code",
   "execution_count": null,
   "metadata": {},
   "outputs": [],
   "source": [
    "#Solve continuous model for each value of female wage\n",
    "model.solve_wF_vec(discrete=False)\n",
    "model.run_regression()\n",
    "model.sol"
   ]
  },
  {
   "cell_type": "code",
   "execution_count": null,
   "metadata": {},
   "outputs": [],
   "source": [
    "model.estimate()"
   ]
  },
  {
   "cell_type": "code",
   "execution_count": null,
   "metadata": {},
   "outputs": [],
   "source": [
    "model.sol.LM_vec"
   ]
  },
  {
   "attachments": {},
   "cell_type": "markdown",
   "metadata": {},
   "source": [
    "Now, we run the proposed regression on our data and find $\\hat\\beta_0$ and $\\hat\\beta_1$."
   ]
  },
  {
   "cell_type": "code",
   "execution_count": null,
   "metadata": {},
   "outputs": [],
   "source": [
    "#Run regression on our data from the continuous model\n",
    "model.run_regression()\n",
    "\n",
    "#Print beta0 and beta1\n",
    "model.sol"
   ]
  },
  {
   "attachments": {},
   "cell_type": "markdown",
   "metadata": {},
   "source": [
    "Finally, we minimise the squared differences of the artice's beta's and our model beta's, by varying sigma and alpha."
   ]
  },
  {
   "cell_type": "code",
   "execution_count": null,
   "metadata": {},
   "outputs": [],
   "source": [
    "model.estimate()\n"
   ]
  },
  {
   "cell_type": "code",
   "execution_count": null,
   "metadata": {},
   "outputs": [],
   "source": []
  },
  {
   "cell_type": "code",
   "execution_count": null,
   "metadata": {},
   "outputs": [],
   "source": []
  }
 ],
 "metadata": {
  "kernelspec": {
   "display_name": "base",
   "language": "python",
   "name": "python3"
  },
  "language_info": {
   "codemirror_mode": {
    "name": "ipython",
    "version": 3
   },
   "file_extension": ".py",
   "mimetype": "text/x-python",
   "name": "python",
   "nbconvert_exporter": "python",
   "pygments_lexer": "ipython3",
   "version": "3.9.13"
  },
  "toc-autonumbering": true,
  "vscode": {
   "interpreter": {
    "hash": "81ba5019e37842368fc49be8de08a0e006194f34fe1ed2c457994b200a6baabe"
   }
  }
 },
 "nbformat": 4,
 "nbformat_minor": 4
}
