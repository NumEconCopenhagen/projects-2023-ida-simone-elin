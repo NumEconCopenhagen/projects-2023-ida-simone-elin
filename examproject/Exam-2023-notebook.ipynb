{
 "cells": [
  {
   "attachments": {},
   "cell_type": "markdown",
   "metadata": {},
   "source": [
    "**Table of contents**<a id='toc0_'></a>    \n",
    "- 1. [Problem 1: Optimal taxation with government consumption](#toc1_)    \n",
    "- 2. [Problem 2: Labor adjustment costs](#toc2_)    \n",
    "- 3. [Problem 3: Global optimizer with refined multi-start](#toc3_)    \n",
    "\n",
    "<!-- vscode-jupyter-toc-config\n",
    "\tnumbering=true\n",
    "\tanchor=true\n",
    "\tflat=false\n",
    "\tminLevel=2\n",
    "\tmaxLevel=6\n",
    "\t/vscode-jupyter-toc-config -->\n",
    "<!-- THIS CELL WILL BE REPLACED ON TOC UPDATE. DO NOT WRITE YOUR TEXT IN THIS CELL -->"
   ]
  },
  {
   "cell_type": "code",
   "execution_count": null,
   "metadata": {},
   "outputs": [],
   "source": [
    "# imports and sets magics\n",
    "import sympy as sm\n",
    "import numpy as np\n",
    "import matplotlib.pyplot as plt\n",
    "from scipy import optimize\n",
    "from scipy.optimize import minimize_scalar, fsolve\n",
    "from scipy import interpolate\n",
    "from ipywidgets import interact\n",
    "\n",
    "# autoreload modules when code is run\n",
    "%load_ext autoreload\n",
    "%autoreload 2"
   ]
  },
  {
   "attachments": {},
   "cell_type": "markdown",
   "metadata": {},
   "source": [
    "## 1. <a id='toc1_'></a>[Problem 1: Optimal taxation with government consumption](#toc0_)"
   ]
  },
  {
   "attachments": {},
   "cell_type": "markdown",
   "metadata": {},
   "source": [
    "\n",
    "Consider a worker choosing hours of labor, $L\\in[0,24]$, to maximize utility: \n",
    "\n",
    "$$\n",
    "\\begin{align*}\n",
    "V(w,\\tau,G)&=\\max_{L\\in[0,24]}\\ln\\left(C^{\\alpha}G^{1-\\alpha}\\right)-\\nu\\frac{L^{2}}{2}\\\\&\\text{s.t.}\\\\&C=\\kappa+(1-\\tau)wL\n",
    "\\end{align*}\n",
    "$$\n",
    "\n",
    "where \n",
    "\n",
    "* $C$ is *private* consumption with weight $\\alpha\\in(0,1)$.\n",
    "* $\\kappa > 0$ is the *free private* consumption component.\n",
    "* $C = (1-\\tau)wL$ is the *costly private* consumption component.\n",
    "* $w > 0 $ is the real wage.\n",
    "* $\\tau \\in (0,1)$ is the labor-income tax rate.\n",
    "* $G > 0 $ is *government* consumption with weight $1-\\alpha$.\n",
    "* $\\nu > 0$ is the disutility of labor scaling factor"
   ]
  },
  {
   "attachments": {},
   "cell_type": "markdown",
   "metadata": {},
   "source": [
    "\n",
    "The baseline parameters are:\n",
    "\n",
    "$$\n",
    "\\begin{align*}\n",
    "\\alpha &= 0.5\\\\\n",
    "\\kappa &= 1.0\\\\\n",
    "\\nu &= \\frac{1}{2\\cdot16^2} \\\\\n",
    "w &= 1.0 \\\\ \n",
    "\\tau &= 0.30 \\\\\n",
    "\\end{align*}\n",
    "$$"
   ]
  },
  {
   "attachments": {},
   "cell_type": "markdown",
   "metadata": {},
   "source": [
    "**Question 1:** Verify that the optimal labor supply choice is $L^{\\star}(\\tilde{w}) =\\frac{-\\kappa+\\sqrt{\\kappa^{2}+4\\frac{\\alpha}{\\nu}\\tilde{w}^2}}{2\\tilde{w}}$, where $\\tilde{w} = (1-\\tau)w$, for $G\\in\\left\\{1.0 , 2.0\\right\\}$."
   ]
  },
  {
   "cell_type": "code",
   "execution_count": null,
   "metadata": {},
   "outputs": [],
   "source": [
    "# creating symbols\n",
    "C = sm.symbols('C') \n",
    "k = sm.symbols('kappa')\n",
    "w = sm.symbols('omega')\n",
    "t = sm.symbols('tau')\n",
    "G = sm.symbols('G')\n",
    "v = sm.symbols('nu')\n",
    "L = sm.symbols('L')\n",
    "a = sm.symbols('alpha')\n",
    "w_tilde = sm.symbols('omegatilde')\n",
    "L_star = sm.symbols('L^*')"
   ]
  },
  {
   "cell_type": "code",
   "execution_count": null,
   "metadata": {},
   "outputs": [],
   "source": [
    "# defining the utility function in symbols\n",
    "utility = sm.log(C**a*G**(1-a))-v*(L**2)/2\n",
    "utility"
   ]
  },
  {
   "cell_type": "code",
   "execution_count": null,
   "metadata": {},
   "outputs": [],
   "source": [
    "# defining the budget constraint as an equality in symbols\n",
    "consumption_constraint = sm.Eq(k+w_tilde*L,C)\n",
    "consumption_constraint"
   ]
  },
  {
   "cell_type": "code",
   "execution_count": null,
   "metadata": {},
   "outputs": [],
   "source": [
    "# isolating C in the budget constraint\n",
    "C_from_constraint = sm.solve(consumption_constraint,C)\n",
    "C_from_constraint[0]"
   ]
  },
  {
   "cell_type": "code",
   "execution_count": null,
   "metadata": {},
   "outputs": [],
   "source": [
    "# substituting C from the budget constraint into the utility function\n",
    "utility_subs = utility.subs(C,C_from_constraint[0])\n",
    "utility_subs"
   ]
  },
  {
   "cell_type": "code",
   "execution_count": null,
   "metadata": {},
   "outputs": [],
   "source": [
    "# calculating the first order condition\n",
    "foc = sm.diff(utility_subs, L)\n",
    "foc"
   ]
  },
  {
   "cell_type": "code",
   "execution_count": null,
   "metadata": {},
   "outputs": [],
   "source": [
    "# solving for optimal labour supply\n",
    "sol = sm.solve(sm.Eq(foc,0), L)[1] # Since the results is symmetric, we choose the first element to get the positive solution\n",
    "sol_opt = sm.Eq(L_star,sol)\n",
    "sol_opt"
   ]
  },
  {
   "attachments": {},
   "cell_type": "markdown",
   "metadata": {},
   "source": [
    "This can be re-written to the given expression from the question.\n",
    "$$L^{\\star}(\\tilde{w})=\\frac{- \\kappa \\nu + \\sqrt{\\nu \\left(4 \\alpha \\tilde{\\omega}^{2} + \\kappa^{2} \\nu\\right)}}{2 \\nu \\tilde{\\omega}}=\\frac{- \\kappa + \\frac{\\sqrt{4 \\alpha \\tilde{\\omega}^{2} + \\kappa^{2} \\nu}}{\\sqrt{\\nu}}}{2 \\tilde{\\omega}} = \\frac{- \\kappa + \\sqrt{\\frac{4 \\alpha \\tilde{\\omega}^{2} + \\kappa^{2} \\nu}{\\nu}}}{2 \\tilde{\\omega}}=\\frac{-\\kappa+\\sqrt{\\kappa^{2}+4\\frac{\\alpha}{\\nu}\\tilde{w}^2}}{2\\tilde{w}},$$\n",
    "\n",
    "where $\\tilde{w} = (1-\\tau)w$."
   ]
  },
  {
   "attachments": {},
   "cell_type": "markdown",
   "metadata": {},
   "source": [
    "**Question 2:** Illustrate how $L^{\\star}(\\tilde{w})$ depends on $w$."
   ]
  },
  {
   "cell_type": "markdown",
   "metadata": {},
   "source": [
    "Mathematically:"
   ]
  },
  {
   "cell_type": "code",
   "execution_count": null,
   "metadata": {},
   "outputs": [],
   "source": [
    "# defining w_tilde\n",
    "w_tilde_eq = (1-t)*w\n",
    "\n",
    "#substituting the expression for w_tilde into the optimal labour supply\n",
    "L_star_subs = sol.subs(w_tilde,w_tilde_eq)\n",
    "L_star_subs_opt = sm.Eq(L_star, L_star_subs)\n",
    "L_star_subs_opt\n"
   ]
  },
  {
   "cell_type": "markdown",
   "metadata": {},
   "source": [
    "Illustration:"
   ]
  },
  {
   "cell_type": "code",
   "execution_count": null,
   "metadata": {},
   "outputs": [],
   "source": [
    "# we lambdify the labour supply equation\n",
    "labour_supply_function = sm.lambdify((w,v,k,a,t),L_star_subs)"
   ]
  },
  {
   "cell_type": "code",
   "execution_count": null,
   "metadata": {},
   "outputs": [],
   "source": [
    "#creating a vector of omega-values\n",
    "w_vec = np.linspace(0.1,200,100)\n",
    "\n",
    "# adding value to parameters\n",
    "a_val = 0.5\n",
    "k_val = 1\n",
    "v_val = 1/(2*16**2)\n",
    "w_val = 1\n",
    "t_val = 0.3\n",
    "\n",
    "# find optimal labour supply given a vector of omega-values\n",
    "labour_supply_vec = labour_supply_function(w_vec,v_val, k_val, a_val, t_val)\n",
    "\n",
    "# plot optimal labour supply given omega\n",
    "fig = plt.figure()\n",
    "ax = fig.add_subplot(1,1,1)\n",
    "ax.plot(w_vec,labour_supply_vec)\n",
    "ax.spines['top'].set_visible(False)\n",
    "ax.spines['right'].set_visible(False)\n",
    "plt.xlabel(r\"$\\omega$\")\n",
    "plt.ylabel(\"L\")\n",
    "plt.title(\"Optimal labour supply\")"
   ]
  },
  {
   "attachments": {},
   "cell_type": "markdown",
   "metadata": {},
   "source": [
    "We see that optimal labour supply is positive and concave increasing in $\\omega$. "
   ]
  },
  {
   "attachments": {},
   "cell_type": "markdown",
   "metadata": {},
   "source": [
    "\n",
    "We now consider a government, who chooses $\\tau$ and spend all of the taxes on government consumption so:\n",
    "\n",
    "$$\n",
    "G = \\tau w L^{\\star}((1-\\tau)w)\n",
    "$$\n",
    "\n",
    "**Question 3:** Plot the implied $L$, $G$ and worker utility for a grid of $\\tau$-values.\n"
   ]
  },
  {
   "cell_type": "code",
   "execution_count": null,
   "metadata": {},
   "outputs": [],
   "source": [
    "# creating vector of tau-values\n",
    "t_vec = np.linspace(0.1,0.9,100)\n",
    "\n",
    "# find optimal labour supply, government spending and utility given tau\n",
    "optimal_L = labour_supply_function(w_val,v_val, k_val, a_val, t_vec)\n",
    "\n",
    "optimal_G = t_vec*w_val*optimal_L\n",
    "\n",
    "optimal_U = np.log((k_val+(1-t_vec)*w_val*optimal_L)**a_val*optimal_G**(1-a_val))-v_val*optimal_L**2/2\n",
    "\n",
    "# find tau values that maximises labour supply, government spending and utility\n",
    "opt_L_val = t_vec[np.argmax(optimal_L)]\n",
    "opt_G_val = t_vec[np.argmax(optimal_G)]\n",
    "opt_t_val = t_vec[np.argmax(optimal_U)]\n",
    "\n",
    "# plotting\n",
    "fig = plt.figure(figsize=(15,5))\n",
    "ax = fig.add_subplot(1,3,1)\n",
    "ax.plot(t_vec,optimal_L, c=\"orange\")\n",
    "plt.xlabel(r\"$\\tau$\")\n",
    "plt.ylabel(\"L\")\n",
    "plt.title(\"Optimal labour\")\n",
    "plt.axvline(x=opt_L_val, color='r', linestyle='--', label=f\"Optimal tau: {opt_L_val:.3f}\")\n",
    "plt.legend()\n",
    "\n",
    "ax = fig.add_subplot(1,3,2)\n",
    "ax.plot(t_vec,optimal_G, c=\"green\")\n",
    "plt.xlabel(r\"$\\tau$\")\n",
    "plt.ylabel(\"G\")\n",
    "plt.title(\"Optimal government spending\")\n",
    "plt.axvline(x=opt_G_val, color='r', linestyle='--', label=f\"Optimal tau: {opt_G_val:.3f}\")\n",
    "plt.legend()\n",
    "\n",
    "ax = fig.add_subplot(1,3,3)\n",
    "ax.plot(t_vec,optimal_U,  c=\"blue\")\n",
    "plt.xlabel(r\"$\\tau$\")\n",
    "plt.ylabel(\"V\")\n",
    "plt.title(\"Optimal utility\")\n",
    "plt.axvline(x=opt_t_val, color='r', linestyle='--', label=f\"Optimal tau: {opt_t_val:.3f}\")\n",
    "plt.legend()\n"
   ]
  },
  {
   "attachments": {},
   "cell_type": "markdown",
   "metadata": {},
   "source": [
    "We note that...\n",
    "*   labour is concavely decreasing in $\\tau$, as income per labour input decreases when the income tax increases.\n",
    "*   optimal government spending increases with tax income up to a certain point whereafter it decreases, because of the negative behavioural effect of workers substituting away from labour. This is the Laffer curve.\n",
    "*   optimal utility depends on both labour and government spending which have an inverse relationsship as $\\tau$ increases. Thus utility is shaped like an upside down parabola with a maximum."
   ]
  },
  {
   "attachments": {},
   "cell_type": "markdown",
   "metadata": {},
   "source": [
    "**Question 4:** Find the socially optimal tax rate $\\tau^{\\star}\\in(0,1)$ maximizing worker utility. Illustrate your result."
   ]
  },
  {
   "attachments": {},
   "cell_type": "markdown",
   "metadata": {},
   "source": [
    "We find the optimal tax rate:\n"
   ]
  },
  {
   "cell_type": "code",
   "execution_count": null,
   "metadata": {},
   "outputs": [],
   "source": [
    "# defining utility function\n",
    "def utility_function(tau, L):\n",
    "    U = np.log((k_val + (1 - tau) * w_val * L)**a_val * (tau*w_val*(labour_supply_function(w_val,v_val, k_val, a_val, tau)))**(1 - a_val)) - v_val * L**2 / 2\n",
    "    return U\n",
    "\n",
    "# defining objective function\n",
    "obj_func = lambda x: -utility_function(x[0], x[1])\n",
    "\n",
    "# defining bounds\n",
    "bound = [(0.1, 0.9), (0, 24)]\n",
    "\n",
    "# defining initial values\n",
    "x0 = [0.4, 16]\n",
    "\n",
    "# calling optimizer\n",
    "result = optimize.minimize(obj_func, x0, method='SLSQP', bounds=bound, options={'disp': True})\n",
    "\n",
    "# retrieving optimized values\n",
    "tau_opt = result.x[0]\n",
    "L_opt = result.x[1]\n",
    "\n",
    "# printing results\n",
    "print('\\n tau =', tau_opt)\n",
    "print('\\n L =', L_opt)\n"
   ]
  },
  {
   "cell_type": "markdown",
   "metadata": {},
   "source": [
    "We illustrate labour and utility given the optimal tax rate:"
   ]
  },
  {
   "cell_type": "code",
   "execution_count": null,
   "metadata": {},
   "outputs": [],
   "source": [
    "# plotting\n",
    "fig = plt.figure(figsize=(15,7))\n",
    "ax = fig.add_subplot(2,1,1)\n",
    "ax.plot(t_vec,optimal_L, c=\"orange\")\n",
    "plt.xlabel(r\"$\\tau$\")\n",
    "plt.ylabel(\"L\")\n",
    "plt.title(\"Labour and utility given the socially optimal tax rate \")\n",
    "plt.axvline(x=opt_t_val, color='r', linestyle='--', label=f\"Optimal tau: {opt_t_val:.3f}\")\n",
    "plt.legend()\n",
    "\n",
    "ax = fig.add_subplot(2,1,2)\n",
    "ax.plot(t_vec,optimal_U,  c=\"blue\")\n",
    "plt.xlabel(r\"$\\tau$\")\n",
    "plt.ylabel(\"V\")\n",
    "plt.axvline(x=opt_t_val, color='r', linestyle='--', label=f\"Optimal tau: {opt_t_val:.3f}\")"
   ]
  },
  {
   "attachments": {},
   "cell_type": "markdown",
   "metadata": {},
   "source": [
    "A more general preference formulation for the worker is:\n",
    "\n",
    "$$\n",
    "\\begin{align*}\n",
    "\\mathcal{V}(w,\\tau,G)&=\\max_{L\\in[0,24]}\\frac{\\left[ \\left( \\alpha C^{\\frac{\\sigma-1}{\\sigma}}+(1-\\alpha) G^{\\frac{\\sigma-1}{\\sigma}} \\right)^{\\frac{\\sigma}{\\sigma-1} }\\right]^{1-\\rho}-1}{1-\\rho}- \\nu\\frac{L^{1+\\varepsilon}}{1+\\varepsilon},\\,\\,\\,\\varepsilon,\\rho,\\sigma>0,\\,\\,\\,\\rho,\\sigma\\neq1\\\\&\\text{s.t.}\\\\&C=\\kappa+(1-\\tau)wL\n",
    "\\end{align*}    \n",
    "$$\n",
    "\n",
    "Optimal labor supply is now $L^{\\star}(\\tilde{w},G)$.\n",
    "Questions 5 and 6 must be answered with the general formulation, and for 2 different set of parameters:\n",
    "\n",
    "- Set 1:  $\\sigma = 1.001$, $\\rho = 1.001$ and $\\varepsilon = 1.0$.\n",
    "- Set 2:  $\\sigma = 1.5$, $\\rho = 1.5$ and $\\varepsilon = 1.0 $.\n"
   ]
  },
  {
   "cell_type": "markdown",
   "metadata": {},
   "source": [
    "\n",
    "**Question 5:** Find the $G$ that solves $G = \\tau w L^{\\star}((1-\\tau)w,G)$ using the $\\tau$ found in question 4.\n",
    "\n",
    "*Hint: First write code that solves the worker problem for given values of $G$ and $\\tau$. Then find the correct G based on this.*"
   ]
  },
  {
   "cell_type": "code",
   "execution_count": null,
   "metadata": {},
   "outputs": [],
   "source": [
    "#defining our optimal tau\n",
    "t_val_opt = tau_opt\n",
    "\n",
    "# parameters for set 1\n",
    "sigma_val = 1.001\n",
    "rho_val = 1.001\n",
    "epsilon_val = 1.0\n",
    "\n",
    "# parameters for set 2\n",
    "sigma_val2 = 1.5\n",
    "rho_val2 = 1.5\n",
    "epsilon_val2 = 1.0"
   ]
  },
  {
   "attachments": {},
   "cell_type": "markdown",
   "metadata": {},
   "source": [
    "Set 1:"
   ]
  },
  {
   "cell_type": "code",
   "execution_count": null,
   "metadata": {},
   "outputs": [],
   "source": [
    "# defining the new utility function\n",
    "def utility_function(L):\n",
    "    U = (((a_val * (k_val+(1-t_val_opt)*w_val*L)**((sigma_val - 1) / sigma_val) + (1 - a_val) * G**((sigma_val - 1) / sigma_val))**(sigma_val / (sigma_val - 1)))**(1 - rho_val) - 1) / (1 - rho_val) - v_val * L**(1 + epsilon_val) / (1 + epsilon_val)\n",
    "    return U\n",
    "\n",
    "# defining the objective function for maximization problem\n",
    "def obj_func(L):\n",
    "    return -utility_function(L)\n",
    "\n",
    "# solving for L star\n",
    "def solve_utility():\n",
    "    result = minimize_scalar(obj_func, bounds=(0, 24), method='bounded')\n",
    "    return result.x\n",
    "\n",
    "# defining the equation for G\n",
    "def G_eq(G):\n",
    "    L_star = solve_utility()\n",
    "    return G - t_val_opt * w_val * L_star"
   ]
  },
  {
   "cell_type": "code",
   "execution_count": null,
   "metadata": {},
   "outputs": [],
   "source": [
    "# creating vectors for G, L and utility\n",
    "G_vec = np.linspace(0, 10, 101)\n",
    "L_vec = np.linspace(0, 1, 101)  \n",
    "utility_vec = np.zeros((len(G_vec), len(L_vec)))\n",
    "\n",
    "# looping over G and L to fill out the utility vector\n",
    "for i, G in enumerate(G_vec):\n",
    "    for j, L in enumerate(L_vec):\n",
    "        utility_vec[i, j] = utility_function(L)\n",
    "\n",
    "# creating the interpolar\n",
    "interp = interpolate.RegularGridInterpolator([G_vec, L_vec], utility_vec, bounds_error=False, fill_value=None)\n",
    "\n",
    "# we solve for G*\n",
    "G_star = fsolve(G_eq, 1.0)\n",
    "\n",
    "# saving the L* solution\n",
    "L_star = solve_utility()\n",
    "\n",
    "# filling the optimal utility function\n",
    "utility_vec = interp([G_star[0], L_star])\n",
    "\n",
    "# printing the results\n",
    "print(f\"Results for set 1: \\nG* = {G_star[0]:.3f} \\nL* = {L_star:.3f} \\nV* = {utility_vec[0]:.3f}\")"
   ]
  },
  {
   "attachments": {},
   "cell_type": "markdown",
   "metadata": {},
   "source": [
    "Set 2:"
   ]
  },
  {
   "cell_type": "code",
   "execution_count": null,
   "metadata": {},
   "outputs": [],
   "source": [
    "# defining the new utility function\n",
    "def utility_function2(L):\n",
    "    U = (((a_val * (k_val+(1-t_val_opt)*w_val*L)**((sigma_val2 - 1) / sigma_val2) + (1 - a_val) * G**((sigma_val2 - 1) / sigma_val2))**(sigma_val2 / (sigma_val2 - 1)))**(1 - rho_val2) - 1) / (1 - rho_val2) - v_val * L**(1 + epsilon_val2) / (1 + epsilon_val2)\n",
    "    return U\n",
    "\n",
    "# defining the objective function for maximization problem\n",
    "def obj_func2(L):\n",
    "    return -utility_function2(L)\n",
    "\n",
    "# solving for L star\n",
    "def solve_utility2():\n",
    "    result = minimize_scalar(obj_func2, bounds=(0, 24), method='bounded')\n",
    "    return result.x\n",
    "\n",
    "# defining the equation for G\n",
    "def G_eq2(G):\n",
    "    L_star = solve_utility2()\n",
    "    return G - t_val_opt * w_val * L_star"
   ]
  },
  {
   "cell_type": "code",
   "execution_count": null,
   "metadata": {},
   "outputs": [],
   "source": [
    "# creating vectors for G, L and utility\n",
    "G_vec = np.linspace(0, 10, 101)\n",
    "L_vec = np.linspace(0, 1, 101)  \n",
    "utility_vec2 = np.zeros((len(G_vec), len(L_vec)))\n",
    "\n",
    "# looping over G and L to fill out the utility vector\n",
    "for i, G in enumerate(G_vec):\n",
    "    for j, L in enumerate(L_vec):\n",
    "        utility_vec2[i, j] = utility_function2(L)\n",
    "\n",
    "# creating the interpolar\n",
    "interp = interpolate.RegularGridInterpolator([G_vec, L_vec], utility_vec2, bounds_error=False, fill_value=None)\n",
    "\n",
    "# we solve for G*\n",
    "G_star2 = fsolve(G_eq2, 1.0)\n",
    "\n",
    "# saving the L* solution\n",
    "L_star2 = solve_utility2()\n",
    "\n",
    "# filling the optimal utility function\n",
    "utility_vec2 = interp([G_star2[0], L_star])\n"
   ]
  },
  {
   "attachments": {},
   "cell_type": "markdown",
   "metadata": {},
   "source": [
    "The results are given below:"
   ]
  },
  {
   "cell_type": "code",
   "execution_count": null,
   "metadata": {},
   "outputs": [],
   "source": [
    "# printing the results\n",
    "print(f\"Results for set 1: \\nG* = {G_star[0]:.3f} \\nL* = {L_star:.3f} \\nV* = {utility_vec[0]:.3f}\\n\")\n",
    "print(f\"Results for set 2: \\nG* = {G_star2[0]:.3f} \\nL* = {L_star2:.3f} \\nV* = {utility_vec2[0]:.3f}\")\n"
   ]
  },
  {
   "attachments": {},
   "cell_type": "markdown",
   "metadata": {},
   "source": [
    "**Question 6:** Find the socially optimal tax rate, $\\tau^{\\star}$, maximizing worker utility, while keeping $G = \\tau w L^{\\star}((1-\\tau)w,G)$."
   ]
  },
  {
   "attachments": {},
   "cell_type": "markdown",
   "metadata": {},
   "source": [
    "Set 1:"
   ]
  },
  {
   "cell_type": "code",
   "execution_count": null,
   "metadata": {},
   "outputs": [],
   "source": [
    "# saving the previous solution for set 1\n",
    "lstar = solve_utility()"
   ]
  },
  {
   "cell_type": "code",
   "execution_count": null,
   "metadata": {},
   "outputs": [],
   "source": [
    "# defining the utility function \n",
    "def q6_u(tau,L):\n",
    "    U = (((a_val * (k_val+(1-tau)*w_val*L)**((sigma_val - 1) / sigma_val) + (1 - a_val) * (tau*w_val*lstar)**((sigma_val - 1) / sigma_val))**(sigma_val / (sigma_val - 1)))**(1 - rho_val) - 1) / (1 - rho_val) - (v_val * L **(1 + epsilon_val) / (1 + epsilon_val))\n",
    "    return U\n",
    "\n",
    "# defining the objective function\n",
    "obj_funcq6 = lambda x: -q6_u(x[0],x[1])\n",
    "\n",
    "# defining bounds for tau and L\n",
    "bound = [(0.1, 0.9),(0,24)]\n",
    "\n",
    "# guessing on values for tau and L\n",
    "x0 = [0.5,16]\n",
    "\n",
    "# calling the optimizer \n",
    "resultq6 = optimize.minimize(obj_funcq6, x0, method='SLSQP', bounds=bound, options={'disp': True})\n",
    "\n",
    "# defining the results \n",
    "tau_star = resultq6.x[0]\n",
    "lst = resultq6.x[1]\n",
    "\n",
    "# printing the results \n",
    "print('\\n tau* =', tau_star)\n",
    "print('\\n L* =', lst)"
   ]
  },
  {
   "attachments": {},
   "cell_type": "markdown",
   "metadata": {},
   "source": [
    "Set 2:"
   ]
  },
  {
   "cell_type": "code",
   "execution_count": null,
   "metadata": {},
   "outputs": [],
   "source": [
    "# saving the previous solution for set 2\n",
    "lstar2 = solve_utility()"
   ]
  },
  {
   "cell_type": "code",
   "execution_count": null,
   "metadata": {},
   "outputs": [],
   "source": [
    "# defining the utility function \n",
    "def q62_u(tau,L):\n",
    "    U = (((a_val * (k_val+(1-tau)*w_val*L)**((sigma_val2 - 1) / sigma_val2) + (1 - a_val) * (tau*w_val*lstar2)**((sigma_val2 - 1) / sigma_val2))**(sigma_val2 / (sigma_val2 - 1)))**(1 - rho_val2) - 1) / (1 - rho_val2) - (v_val * L **(1 + epsilon_val2) / (1 + epsilon_val2))\n",
    "    return U\n",
    "\n",
    "# defining the objective function\n",
    "obj_funcq62 = lambda x: -q62_u(x[0],x[1])\n",
    "\n",
    "# defining bounds for tau and L\n",
    "bound = [(0.1, 0.9),(0,24)]\n",
    "\n",
    "# guessing on values for tau and L\n",
    "x0 = [0.5,16]\n",
    "\n",
    "# calling the optimizer \n",
    "resultq62 = optimize.minimize(obj_funcq62, x0, method='SLSQP', bounds=bound, options={'disp': True})\n",
    "\n",
    "# defining the results \n",
    "tau_star2 = resultq62.x[0]\n",
    "lst2 = resultq62.x[1]\n",
    "\n",
    "# printing the results \n",
    "print('\\n tau* =', tau_star2)\n",
    "print('\\n l* =', lst2)"
   ]
  },
  {
   "attachments": {},
   "cell_type": "markdown",
   "metadata": {},
   "source": [
    "## 2. <a id='toc2_'></a>[Problem 2: Labor adjustment costs](#toc0_)"
   ]
  },
  {
   "attachments": {},
   "cell_type": "markdown",
   "metadata": {},
   "source": [
    "You own a hair salon. You employ hairdressers, $\\ell_t$, to produce haircuts, $y_t = \\ell_t$.\n",
    "\n",
    "The wage for each haridresser is $w$.\n",
    "\n",
    "The demand for haircuts implies that the price of haircuts you can charge is $p_t = \\kappa_t y_t^{-\\eta}$, where $\\kappa_t$ is a demand-shock and $\\eta \\in (0,1)$ measures the elasticity of demand.\n",
    "\n",
    "Profits are:\n",
    "\n",
    "$$\n",
    "\\Pi_t = p_t y_t - w \\ell_t = \\kappa_t \\ell_t^{1-\\eta} - w \\ell_t\n",
    "$$\n",
    "Baseline parameters are:\n",
    "- $\\eta = 0.5$\n",
    "- $w = 1.0$"
   ]
  },
  {
   "attachments": {},
   "cell_type": "markdown",
   "metadata": {},
   "source": [
    "**Question 1:** Verify numerically that $\\ell_{t}=\\left(\\frac{(1-\\eta)\\kappa_{t}}{w}\\right)^{\\frac{1}{\\eta}}$ maximises profits, for $\\kappa\\in\\left\\{1.0 , 2.0\\right\\}$."
   ]
  },
  {
   "attachments": {},
   "cell_type": "markdown",
   "metadata": {},
   "source": [
    "We verify the expression for $\\ell_{t}$ mathematically:"
   ]
  },
  {
   "cell_type": "code",
   "execution_count": null,
   "metadata": {},
   "outputs": [],
   "source": [
    "# defining parameters\n",
    "kappa = sm.symbols('kappa_t') \n",
    "n = sm.symbols('eta')\n",
    "l = sm.symbols('l_t')\n",
    "w = sm.symbols('omega')\n",
    "l_star = sm.symbols('l^*')\n",
    "\n",
    "# defining profit function\n",
    "pi = kappa*l**(1-n)-w*l\n",
    "\n",
    "# calculating foc\n",
    "foc = sm.diff(pi, l)\n",
    "\n",
    "# maximising profit\n",
    "sol = sm.solve(sm.Eq(foc,0), l)[0]\n",
    "sol_opt = sm.Eq(l_star,sol)\n",
    "sol_opt"
   ]
  },
  {
   "attachments": {},
   "cell_type": "markdown",
   "metadata": {},
   "source": [
    "The we illustrate it graphically:"
   ]
  },
  {
   "cell_type": "code",
   "execution_count": null,
   "metadata": {},
   "outputs": [],
   "source": [
    "# defining baseline parameters\n",
    "eta = 0.5 \n",
    "w = 1.0  \n",
    "\n",
    "# defining l values\n",
    "l_values = np.linspace(0, 5, 100) \n",
    "\n",
    "def plot_profit(kappa):\n",
    "    # calculating profit for given value of kappa\n",
    "    profit = kappa * (l_values**(1-eta)) - w*l_values\n",
    "\n",
    "    # finding optimal profit\n",
    "    opt_l = ((1-eta) * kappa/w) ** (1/eta) # calculate optimal l given in question\n",
    "    max_profit = np.max(profit) # calculate max profit\n",
    "    max_profit_point = (opt_l, max_profit) # define maximum profit as point\n",
    "\n",
    "    # plotting profit as function of l\n",
    "    plt.plot(l_values, profit, label=f'$\\kappa$ = {kappa}')\n",
    "    plt.plot(max_profit_point[0], max_profit_point[1], 'ro', label='Profit at given $\\ell$')\n",
    "    plt.xlabel('$l$')\n",
    "    plt.ylabel('Profit')\n",
    "    plt.title('Profit as a function of $\\ell$ for different values of $\\kappa$')\n",
    "    plt.grid(True)\n",
    "    plt.legend()\n",
    "    plt.show()\n",
    "\n",
    "# creating interactive widget for kappa\n",
    "interact(plot_profit, kappa=(1.0, 2.0, 0.1))"
   ]
  },
  {
   "attachments": {},
   "cell_type": "markdown",
   "metadata": {},
   "source": [
    "In the graph above, we see that the given expression for $\\ell$ maximises profits for all values of $\\kappa\\in\\left\\{1.0 , 2.0\\right\\}$."
   ]
  },
  {
   "attachments": {},
   "cell_type": "markdown",
   "metadata": {},
   "source": [
    "We now consider a *dynamic* version of the model.\n",
    "\n",
    "* The demand-shock is a so-called AR(1) in logs, \n",
    "\n",
    "$$\n",
    "\\log \\kappa_{t} = \\rho \\log \\kappa_{t-1} + \\epsilon_{t},\\,\\,\\, \\epsilon_{t+1} \\sim \\mathcal{N}(-0.5\\sigma_{\\epsilon}^2,\\sigma_{\\epsilon})\n",
    "$$\n",
    "\n",
    "* Any hiring or firing implies a fixed adjustment cost, $\\iota > 0 $.\n",
    "* Future profits are discounted with a monthly factor of $R \\in (0,1)$.\n",
    "\n",
    "The initial demand shock is $\\kappa_{-1} = 1$ and the planning horizon is 10 years, i.e. 120 months so $t \\in \\{0,1,2,\\dots,119\\}$. Initially you don't have any employees, $\\ell_{-1}=0$\n",
    "\n",
    "The *ex post* value of the salon is *conditional* on the shock series is:\n",
    "\n",
    "$$\n",
    "h(\\epsilon_0,\\epsilon_1,\\dots,\\epsilon_{119}) = \\left[\\sum_{t=0}^{119}R^{-t}\\left[\\kappa_{t}\\ell_{t}^{1-\\eta}-w\\ell_{t}-\\boldsymbol{1}_{\\ell_{t}\\neq\\ell_{t-1}}\\iota\\right]\\right]\n",
    "$$\n",
    "\n",
    "The *ex ante* expected value of the salon can be approximated by\n",
    "\n",
    "$$\n",
    "H = \\mathbb{E}[h(\\epsilon_0,\\epsilon_1,\\dots,\\epsilon_{119})] \\approx \\frac{1}{K}\\sum_{k=0}^{K} h(\\epsilon_0^k,\\epsilon_1^k,\\dots,\\epsilon_{119}^k)\n",
    "$$\n",
    "\n",
    "where each $k\\in\\{0,1,\\dots,K-1\\}$ is a random shock series. Maximizing profitability means maximizing $H$.\n",
    "\n",
    "Baseline parameters are: \n",
    "\n",
    "- $\\rho = 0.90$\n",
    "- $\\iota = 0.01$\n",
    "- $\\sigma_{\\epsilon} = 0.10$\n",
    "- $R = \\left(1+0.01\\right)^{1/12}$"
   ]
  },
  {
   "attachments": {},
   "cell_type": "markdown",
   "metadata": {},
   "source": [
    "**Question 2:** Calculate $H$ if the policy  $\\ell_{t}=\\left(\\frac{(1-\\eta)\\kappa_{t}}{w}\\right)^{\\frac{1}{\\eta}}$ from question 1 is followed. Choose $K$ so the approximation is good enough to not affect your results substantially."
   ]
  },
  {
   "cell_type": "code",
   "execution_count": null,
   "metadata": {},
   "outputs": [],
   "source": [
    "# define the parameters\n",
    "rho = 0.90\n",
    "iota = 0.01\n",
    "sigma_epsilon = 0.10\n",
    "R = (1 + 0.01) ** (1 / 12)\n",
    "eta = 0.5\n",
    "w = 1.0\n",
    "K = 10000  # number of shock series for approximation\n",
    "\n",
    "# generating K random shock series\n",
    "np.random.seed(2023)  # setting a seed for reproducibility\n",
    "epsilon_list = np.random.normal(loc=-0.5 * sigma_epsilon ** 2, scale=sigma_epsilon, size=(K, 120))\n",
    "\n",
    "# function to calculate h(epsilon_0, epsilon_1, ..., epsilon_119)\n",
    "def calculate_h(epsilon):\n",
    "    kappa_t_minus_1 = 1  # Initial demand shock\n",
    "    l_t_minus_1 = 0  # Initial number of employees\n",
    "    h_value = 0  # Accumulator for h function\n",
    "\n",
    "    for t in range(120):\n",
    "        epsilon_t = epsilon[t]\n",
    "        log_kappa_t = rho * np.log(kappa_t_minus_1) + epsilon_t\n",
    "        kappa_t = np.exp(log_kappa_t)\n",
    "\n",
    "        # calculate l_t\n",
    "        l_t = ((1 - eta) * kappa_t / w) ** (1 / eta)\n",
    "\n",
    "        # calculate the h function value for this period\n",
    "        h_value += R ** (-t) * (kappa_t * l_t ** (1 - eta) - w * l_t - (l_t != l_t_minus_1) * iota)\n",
    "\n",
    "        # update the variables for the next period\n",
    "        kappa_t_minus_1 = kappa_t\n",
    "        l_t_minus_1 = l_t\n",
    "\n",
    "    return h_value\n",
    "\n",
    "# calculating the ex ante expected value of the salon\n",
    "H = np.mean([calculate_h(epsilon) for epsilon in epsilon_list])\n",
    "print(\"Expected value of the salon (H) =\", H)\n"
   ]
  },
  {
   "attachments": {},
   "cell_type": "markdown",
   "metadata": {},
   "source": [
    "Next, we consider policies on the form:\n",
    "\n",
    "$$\n",
    "\n",
    "\\ell_{t}=\\begin{cases}\n",
    "\\ell_t^{\\ast}  & \\text{if }\\left|\\ell_{t-1}-\\ell_t^{\\ast} \\right|>\\Delta\\\\\n",
    "\\ell_{t-1} & \\text{else }\n",
    "\\end{cases}\n",
    "\\\\\n",
    "\\text{where}\\,\\,\\ell_t^{\\ast} = \\left(\\frac{(1-\\eta)\\kappa_{t}}{w}\\right)^{\\frac{1}{\\eta}} \\\\\n",
    "\n",
    "$$\n",
    "With $\\Delta \\geq 0$ and $\\Delta = 0$ being the previous policy.\n"
   ]
  },
  {
   "attachments": {},
   "cell_type": "markdown",
   "metadata": {},
   "source": [
    "\n",
    "**Question 3:** Calculate $H$ if the policy above was followed with $\\Delta = 0.05$. Does it improve profitability?"
   ]
  },
  {
   "cell_type": "code",
   "execution_count": null,
   "metadata": {},
   "outputs": [],
   "source": [
    "# defining parameter\n",
    "delta = 0.05\n",
    "\n",
    "# function to calculate h(epsilon_0, epsilon_1, ..., epsilon_119)\n",
    "def calculate_h_delta(epsilon, delta):\n",
    "    kappa_t_minus_1 = 1  # Initial demand shock\n",
    "    l_t_minus_1 = 0  # Initial number of employees\n",
    "    h_value = 0  # Accumulator for h function\n",
    "\n",
    "    for t in range(120):\n",
    "        epsilon_t = epsilon[t]\n",
    "        log_kappa_t = rho * np.log(kappa_t_minus_1) + epsilon_t\n",
    "        kappa_t = np.exp(log_kappa_t)\n",
    "\n",
    "        # calculating l_t b\n",
    "        l_t_star = ((1 - eta) * kappa_t / w) ** (1 / eta)\n",
    "\n",
    "        # implementing policy\n",
    "        if np.abs(l_t_minus_1 - l_t_star) > delta:\n",
    "            l_t = l_t_star\n",
    "        else:\n",
    "            l_t = l_t_minus_1\n",
    "\n",
    "        # calculating the h function value for this period\n",
    "        h_value += R ** (-t) * (kappa_t * l_t ** (1 - eta) - w * l_t - (l_t != l_t_minus_1) * iota)\n",
    "\n",
    "        # updating the variables for the next period\n",
    "        kappa_t_minus_1 = kappa_t\n",
    "        l_t_minus_1 = l_t\n",
    "\n",
    "    return h_value\n",
    "\n",
    "# calculating the ex ante expected value of the salon\n",
    "H = np.mean([calculate_h_delta(epsilon, delta) for epsilon in epsilon_list])\n",
    "print(\"Expected value of the salon (H) with the policy =\", H)\n"
   ]
  },
  {
   "attachments": {},
   "cell_type": "markdown",
   "metadata": {},
   "source": [
    "We see that profitability is increased with the new policy, $H_{original}=27.75<H_{policy}=28.43$, as the total adjustments costs are lowered."
   ]
  },
  {
   "attachments": {},
   "cell_type": "markdown",
   "metadata": {},
   "source": [
    "**Question 4:** Find the optimal $\\Delta$ maximizing $H$. Illustrate your result."
   ]
  },
  {
   "cell_type": "code",
   "execution_count": null,
   "metadata": {},
   "outputs": [],
   "source": [
    "# defining parameter vector\n",
    "delta_vec = np.linspace(0.01, 0.5, 10)\n",
    "\n",
    "# calculating H for each delta value\n",
    "H_vec = []\n",
    "for delta in delta_vec:\n",
    "    H = np.mean([calculate_h_delta(epsilon, delta) for epsilon in epsilon_list])\n",
    "    H_vec.append(H)\n",
    "\n",
    "# finding the optimal delta value\n",
    "optimal_delta = delta_vec[np.argmax(H_vec)]\n",
    "max_H = np.max(H_vec)\n"
   ]
  },
  {
   "cell_type": "code",
   "execution_count": null,
   "metadata": {},
   "outputs": [],
   "source": [
    "# plotting the results\n",
    "plt.plot(delta_vec, H_vec)\n",
    "plt.xlabel(\"Delta (Δ)\")\n",
    "plt.ylabel(\"Expected Value of the Salon (H)\")\n",
    "plt.title(\"Optimization of Delta\")\n",
    "plt.axvline(x=optimal_delta, color='r', linestyle='--', label=f\"Optimal Δ: {optimal_delta:.3f}\")\n",
    "plt.legend()\n",
    "plt.show()\n",
    "\n",
    "print(\"Optimal Delta (Δ):\", optimal_delta)\n",
    "print(\"Maximum Expected Value of the Salon (H):\", max_H)"
   ]
  },
  {
   "attachments": {},
   "cell_type": "markdown",
   "metadata": {},
   "source": [
    "With the optimal policy, we again note a higher profitability,  $H_{optimal-policy}=28.48>H_{policy}=28.43>H_{original}=27.75$."
   ]
  },
  {
   "attachments": {},
   "cell_type": "markdown",
   "metadata": {},
   "source": [
    "\n",
    "**Question 5:** Suggest an alternative policy you believe might improve profitability. Implement and test your policy.\n",
    "\n"
   ]
  },
  {
   "attachments": {},
   "cell_type": "markdown",
   "metadata": {},
   "source": [
    "When a negative demand shock hits, labour is decreased, and when a positive demand shock hits, labour increases. Since we assume that is is costlier to fire people than hire people, we model an alternative policy where the effect on adjustment costs from demand shocks is assymetrical. Thus the shocks will have an absolute smaller effect when the demand shock is positive than negative."
   ]
  },
  {
   "cell_type": "code",
   "execution_count": null,
   "metadata": {},
   "outputs": [],
   "source": [
    "# function to calculate h(epsilon_0, epsilon_1, ..., epsilon_119)\n",
    "def calculate_h_iota(epsilon, iota):\n",
    "    kappa_t_minus_1 = 1  # Initial demand shock\n",
    "    l_t_minus_1 = 0  # Initial number of employees\n",
    "    h_value = 0  # Accumulator for h function\n",
    "\n",
    "    for t in range(120):\n",
    "        epsilon_t = epsilon[t]\n",
    "        log_kappa_t = rho * np.log(kappa_t_minus_1) + epsilon_t\n",
    "        kappa_t = np.exp(log_kappa_t)\n",
    "\n",
    "        # Calculate l_t based on the policy\n",
    "        l_t = ((1 - eta) * kappa_t / w) ** (1 / eta)\n",
    "\n",
    "        if kappa_t >= 0:\n",
    "            iota = 0.01*kappa_t**0.5\n",
    "        else:\n",
    "            iota = 0.01*-kappa_t\n",
    "\n",
    "        # Calculate the h function value for this period\n",
    "        h_value += R ** (-t) * (kappa_t * l_t ** (1 - eta) - w * l_t - (l_t != l_t_minus_1) * iota)\n",
    "\n",
    "        # Update the variables for the next period\n",
    "        kappa_t_minus_1 = kappa_t\n",
    "        l_t_minus_1 = l_t\n",
    "\n",
    "    return h_value\n",
    "\n",
    "H = np.mean([calculate_h_iota(epsilon, iota) for epsilon in epsilon_list])\n",
    "print(\"Expected value of the salon (H) with the policy =\", H)\n"
   ]
  },
  {
   "attachments": {},
   "cell_type": "markdown",
   "metadata": {},
   "source": [
    "We note that this assymetrical policy did not increase profitability compared to the policy implemented in question 3 and 4. It is however slightly more profitable than the case in question 2:\n",
    "$$H_{optimal-policy}=28.48>H_{policy}=28.43>H_{asymetrical-policy}=27.77>H_{original}=27.75$$"
   ]
  },
  {
   "attachments": {},
   "cell_type": "markdown",
   "metadata": {},
   "source": [
    "## 3. <a id='toc3_'></a>[Problem 3: Global optimizer with refined multi-start](#toc0_)"
   ]
  },
  {
   "attachments": {},
   "cell_type": "markdown",
   "metadata": {},
   "source": [
    "We consider the Griewank function:\n",
    "\n",
    "$$ f(\\boldsymbol{x}) = \\sum^n_{i=1} \\frac{x^2_i}{4000}-\\prod^n_{i=1}\\cos\\left(\\frac{x_i}{\\sqrt{i}}\\right)+1$$\n",
    "\n",
    "The **global minimum** of this function is $f(0,0) = 0$ (remember: $\\cos(0)=1$).<br>\n",
    "But the function also have a lot of **local minima**."
   ]
  },
  {
   "cell_type": "code",
   "execution_count": null,
   "metadata": {},
   "outputs": [],
   "source": [
    "def griewank(x):\n",
    "    return griewank_(x[0],x[1])\n",
    "    \n",
    "def griewank_(x1,x2):\n",
    "    A = x1**2/4000 + x2**2/4000\n",
    "    B = np.cos(x1/np.sqrt(1))*np.cos(x2/np.sqrt(2))\n",
    "    return A-B+1"
   ]
  },
  {
   "attachments": {},
   "cell_type": "markdown",
   "metadata": {},
   "source": [
    "A **refined global optimizer with multi-start** is:\n",
    "\n",
    "1. Choose *bounds* for $\\mathbf{x}$ and *tolerance* $\\tau > 0$.\n",
    "2. Choose number of *warm-up iterations*, $\\underline{K} > 0$ and *maximum number of iterations*, $K > \\underline{K}$.\n",
    "3. In each iteration for $k \\in \\{0,1,\\dots,K-1\\}$:\n",
    "\n",
    "    A. Draw random $\\mathbf{x}^k$ uniformly within chosen bounds.\n",
    "\n",
    "    B. If $k < \\underline{K}$ go to step E.\n",
    "\n",
    "    C. Calculate $\\chi^k = 0.50\\cdot\\frac{2}{1+\\exp((k-\\underline{K})/100)}$  \n",
    "\n",
    "    D. Set $\\mathbf{x}^{k0} = \\chi^k \\mathbf{x}^k + (1-\\chi^k)\\mathbf{x}^{\\ast} $\n",
    "\n",
    "    E. Run optimizer with $\\mathbf{x}^{k0}$ as initial guess and $\\mathbf{x}^{k\\ast}$ as result.\n",
    "\n",
    "    F. Set $\\mathbf{x}^{\\ast} = \\mathbf{x}^{k\\ast}$ if $k = 0$ or $f(\\mathbf{x}^{k\\ast}) < f(\\mathbf{x}^{\\ast})$\n",
    "\n",
    "    G. If $f(\\mathbf{x}^{\\ast}) < \\tau$ go to step 4.\n",
    "\n",
    "4. Return the result $\\mathbf{x}^{\\ast}$.\n",
    "As settings we choose:\n",
    "\n",
    "* $x_1,x_2 \\in  [-600,600]$\n",
    "* $\\tau = 10^{-8}$\n",
    "* $\\underline{K}=10$\n",
    "* $K=1000$\n",
    "\n",
    "The optimizer in Step 3.E is `BFGS` with a tolerance of $\\tau$."
   ]
  },
  {
   "attachments": {},
   "cell_type": "markdown",
   "metadata": {},
   "source": [
    "**Question 1:** Implement the refined global optimizer with multi-start. Illustrate how the effective initial guesses $\\mathbf{x}^{k0}$ vary with the iteration counter $k$."
   ]
  },
  {
   "cell_type": "code",
   "execution_count": null,
   "metadata": {},
   "outputs": [],
   "source": [
    "# defining the refined global optimizer with multi-start\n",
    "def multi_start():\n",
    "\n",
    "    # step 1\n",
    "    x_min, x_max = [-600,600] # bounds\n",
    "    tau = 1e-8 # tolerance\n",
    "    np.random.seed(1998)\n",
    "\n",
    "    # step 2\n",
    "    K_warm = 10 # warm-up iterations\n",
    "    K = 1000 # maximum nb. of iterations\n",
    "\n",
    "    # step 3\n",
    "    # A\n",
    "    x_opt = np.random.uniform(x_min, x_max, size=2) # initial best solution\n",
    "    f_opt = griewank(x_opt) # function evaluated at best solution\n",
    "    f_opt_store1 = [f_opt]  # storing best solutions\n",
    "\n",
    "    for k in range(K):\n",
    "        x = np.random.uniform(x_min, x_max, size=2) # generate random solution\n",
    "\n",
    "        # B\n",
    "        if k < K_warm:\n",
    "            x_k0 = x\n",
    "        else:\n",
    "            # C: calculate chi\n",
    "            Chi_k = 0.50 * 2 / (1 + np.exp((k - K_warm) / 100)) \n",
    "            # D: refine initial guess\n",
    "            x_k0 = Chi_k * x + (1 - Chi_k) * x_opt \n",
    "\n",
    "        # E: optimize with x_k0 as initial guess\n",
    "        result = optimize.minimize(griewank, x_k0, method='BFGS', tol=tau)\n",
    "        x_k_star = result.x # optimized solution\n",
    "\n",
    "        # F: updating best solution (x_opt) if necessary\n",
    "        f_k_star = griewank(x_k_star)\n",
    "        if f_k_star < f_opt:\n",
    "            x_opt = x_k_star\n",
    "            f_opt = f_k_star\n",
    "\n",
    "        # G: check tolerance\n",
    "        if f_opt < tau:\n",
    "            break\n",
    "\n",
    "        f_opt_store1.append(f_opt)  # storing best objective for each iteration\n",
    "\n",
    "    # step 4 \n",
    "    return x_opt, f_opt_store1 # return result and stored history\n",
    "\n",
    "#printing results\n",
    "result, f_opt_store1 = multi_start()\n",
    "print(\"The optimal solution is:\", result)\n",
    "print(\"And the objective value is:\", griewank(result))\n",
    "\n",
    "# plotting the best objective value as a function of iteration counter\n",
    "iterations = range(len(f_opt_store1))\n",
    "plt.plot(iterations, f_opt_store1, c='blue')\n",
    "plt.xlabel(\"Iteration count\")\n",
    "plt.ylabel(\"Function Value\")\n",
    "plt.title(\"Effectiveness of Initial Guesses\")\n",
    "plt.show()"
   ]
  },
  {
   "attachments": {},
   "cell_type": "markdown",
   "metadata": {},
   "source": [
    "Implementing the refined global optimizer with multistart indicates that the best objective value is zero after about 150 iterations (when using the chosen seed). "
   ]
  },
  {
   "attachments": {},
   "cell_type": "markdown",
   "metadata": {},
   "source": [
    "**Question 2:** Is it a better idea to set $\\underline{K} = 100$? Is the convergence faster?"
   ]
  },
  {
   "cell_type": "code",
   "execution_count": null,
   "metadata": {},
   "outputs": [],
   "source": [
    "# defining the refined global optimizer with multi-start\n",
    "def multi_start_new():\n",
    "\n",
    "    # step 1\n",
    "    x_min, x_max = [-600,600] # bounds\n",
    "    tau = 1e-8 # tolerance\n",
    "    np.random.seed(1998)\n",
    "\n",
    "    # step 2\n",
    "    K_warm = 100 # warm-up iterations\n",
    "    K = 1000 # maximum nb. of iterations\n",
    "\n",
    "    # step 3\n",
    "    # A\n",
    "    x_opt = np.random.uniform(x_min, x_max, size=2) # initial best solution\n",
    "    f_opt = griewank(x_opt) # function evaluated at best solution\n",
    "    f_opt_store2 = [f_opt]  # storing best solutions\n",
    "\n",
    "    for k in range(K):\n",
    "        x = np.random.uniform(x_min, x_max, size=2) # generate random solution\n",
    "\n",
    "        # B\n",
    "        if k < K_warm:\n",
    "            x_k0 = x\n",
    "        else:\n",
    "            # C: calculate chi\n",
    "            Chi_k = 0.50 * 2 / (1 + np.exp((k - K_warm) / 100)) \n",
    "            # D: refine initial guess\n",
    "            x_k0 = Chi_k * x + (1 - Chi_k) * x_opt \n",
    "\n",
    "        # E: optimize with x_k0 as initial guess\n",
    "        result = optimize.minimize(griewank, x_k0, method='BFGS', tol=tau)\n",
    "        x_k_star = result.x # optimized solution\n",
    "\n",
    "        # F: updating best solution (x_opt) if necessary\n",
    "        f_k_star = griewank(x_k_star)\n",
    "        if f_k_star < f_opt:\n",
    "            x_opt = x_k_star\n",
    "            f_opt = f_k_star\n",
    "\n",
    "        # G: check tolerance\n",
    "        if f_opt < tau:\n",
    "            break\n",
    "\n",
    "        f_opt_store2.append(f_opt)  # storing best objective for each iteration\n",
    "\n",
    "    # step 4 \n",
    "    return x_opt, f_opt_store2 # return result and stored history\n",
    "\n",
    "#printing results\n",
    "result, f_opt_store2 = multi_start_new()\n",
    "print(\"The optimal solution is:\", result)\n",
    "print(\"And the objective value is:\", griewank(result))\n",
    "\n",
    "# plotting the best objective value as a function of iteration counter\n",
    "iterations1 = range(len(f_opt_store1))\n",
    "iterations2 = range(len(f_opt_store2))\n",
    "\n",
    "plt.plot(iterations1, f_opt_store1, c='blue', label='K_warm-up=10')\n",
    "plt.plot(iterations2, f_opt_store2, c='red', label='K_warm-up=100')\n",
    "\n",
    "plt.xlabel(\"Iteration count\")\n",
    "plt.ylabel(\"Function Value\")\n",
    "plt.title(\"Effectiveness of Initial Guesses\")\n",
    "plt.legend()\n",
    "plt.show()"
   ]
  },
  {
   "attachments": {},
   "cell_type": "markdown",
   "metadata": {},
   "source": [
    "We see that setting a higher value of $\\underline{K}$ makes the convergence slower compared to the first case where $\\underline{K} = 10$. \n",
    "\n",
    "The griewank function is multimodal and has many local and global optima, making it challenging for optimisation algorithms. The more warm-up iterations are used, the larger a a portion of the search space is explored by the algorithm before looking further into the more promising regions. However this also increases the time spent and lowers the speed of convergence. This is the exploration vs. exploitation trade-off. "
   ]
  }
 ],
 "metadata": {
  "kernelspec": {
   "display_name": "base",
   "language": "python",
   "name": "python3"
  },
  "language_info": {
   "codemirror_mode": {
    "name": "ipython",
    "version": 3
   },
   "file_extension": ".py",
   "mimetype": "text/x-python",
   "name": "python",
   "nbconvert_exporter": "python",
   "pygments_lexer": "ipython3",
   "version": "3.9.13"
  },
  "orig_nbformat": 4,
  "vscode": {
   "interpreter": {
    "hash": "81ba5019e37842368fc49be8de08a0e006194f34fe1ed2c457994b200a6baabe"
   }
  }
 },
 "nbformat": 4,
 "nbformat_minor": 2
}
