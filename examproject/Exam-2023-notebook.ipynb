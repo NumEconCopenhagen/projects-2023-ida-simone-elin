{
 "cells": [
  {
   "attachments": {},
   "cell_type": "markdown",
   "metadata": {},
   "source": [
    "**Table of contents**<a id='toc0_'></a>    \n",
    "- 1. [Problem 1: Optimal taxation with government consumption](#toc1_)    \n",
    "- 2. [Problem 2: Labor adjustment costs](#toc2_)    \n",
    "- 3. [Problem 3: Global optimizer with refined multi-start](#toc3_)    \n",
    "\n",
    "<!-- vscode-jupyter-toc-config\n",
    "\tnumbering=true\n",
    "\tanchor=true\n",
    "\tflat=false\n",
    "\tminLevel=2\n",
    "\tmaxLevel=6\n",
    "\t/vscode-jupyter-toc-config -->\n",
    "<!-- THIS CELL WILL BE REPLACED ON TOC UPDATE. DO NOT WRITE YOUR TEXT IN THIS CELL -->"
   ]
  },
  {
   "cell_type": "code",
   "execution_count": 1,
   "metadata": {},
   "outputs": [],
   "source": [
    "import sympy as sm\n",
    "import numpy as np\n",
    "import matplotlib.pyplot as plt\n",
    "from scipy import optimize\n",
    "\n",
    "# autoreload modules when code is run\n",
    "%load_ext autoreload\n",
    "%autoreload 2"
   ]
  },
  {
   "attachments": {},
   "cell_type": "markdown",
   "metadata": {},
   "source": [
    "## 1. <a id='toc1_'></a>[Problem 1: Optimal taxation with government consumption](#toc0_)"
   ]
  },
  {
   "attachments": {},
   "cell_type": "markdown",
   "metadata": {},
   "source": [
    "\n",
    "Consider a worker choosing hours of labor, $L\\in[0,24]$, to maximize utility: \n",
    "\n",
    "$$\n",
    "\\begin{align*}\n",
    "V(w,\\tau,G)&=\\max_{L\\in[0,24]}\\ln\\left(C^{\\alpha}G^{1-\\alpha}\\right)-\\nu\\frac{L^{2}}{2}\\\\&\\text{s.t.}\\\\&C=\\kappa+(1-\\tau)wL\n",
    "\\end{align*}\n",
    "$$\n",
    "\n",
    "where \n",
    "\n",
    "* $C$ is *private* consumption with weight $\\alpha\\in(0,1)$.\n",
    "* $\\kappa > 0$ is the *free private* consumption component.\n",
    "* $C = (1-\\tau)wL$ is the *costly private* consumption component.\n",
    "* $w > 0 $ is the real wage.\n",
    "* $\\tau \\in (0,1)$ is the labor-income tax rate.\n",
    "* $G > 0 $ is *government* consumption with weight $1-\\alpha$.\n",
    "* $\\nu > 0$ is the disutility of labor scaling factor"
   ]
  },
  {
   "attachments": {},
   "cell_type": "markdown",
   "metadata": {},
   "source": [
    "\n",
    "The baseline parameters are:\n",
    "\n",
    "$$\n",
    "\\begin{align*}\n",
    "\\alpha &= 0.5\\\\\n",
    "\\kappa &= 1.0\\\\\n",
    "\\nu &= \\frac{1}{2\\cdot16^2} \\\\\n",
    "w &= 1.0 \\\\ \n",
    "\\tau &= 0.30 \\\\\n",
    "\\end{align*}\n",
    "$$"
   ]
  },
  {
   "attachments": {},
   "cell_type": "markdown",
   "metadata": {},
   "source": [
    "**Question 1:** Verify that the optimal labor supply choice is $L^{\\star}(\\tilde{w}) =\\frac{-\\kappa+\\sqrt{\\kappa^{2}+4\\frac{\\alpha}{\\nu}\\tilde{w}^2}}{2\\tilde{w}}$, where $\\tilde{w} = (1-\\tau)w$, for $G\\in\\left\\{1.0 , 2.0\\right\\}$."
   ]
  },
  {
   "cell_type": "code",
   "execution_count": 2,
   "metadata": {},
   "outputs": [],
   "source": [
    "# creating symbols\n",
    "C = sm.symbols('C') \n",
    "k = sm.symbols('kappa')\n",
    "w = sm.symbols('omega')\n",
    "t = sm.symbols('tau')\n",
    "G = sm.symbols('G')\n",
    "v = sm.symbols('nu')\n",
    "L = sm.symbols('L')\n",
    "a = sm.symbols('alpha')\n",
    "w_tilde = sm.symbols('omegatilde')\n",
    "L_star = sm.symbols('L^*')\n",
    "\n",
    "#q1_solution = sm.Eq((-k+(k**2+4*a/v*w_tilde**2)**0.5)/(2*w_tilde),L_star)\n",
    "#q1_solution"
   ]
  },
  {
   "cell_type": "code",
   "execution_count": 3,
   "metadata": {},
   "outputs": [
    {
     "data": {
      "text/latex": [
       "$\\displaystyle - \\frac{L^{2} \\nu}{2} + \\log{\\left(C^{\\alpha} G^{1 - \\alpha} \\right)}$"
      ],
      "text/plain": [
       "-L**2*nu/2 + log(C**alpha*G**(1 - alpha))"
      ]
     },
     "execution_count": 3,
     "metadata": {},
     "output_type": "execute_result"
    }
   ],
   "source": [
    "# defining the utility function\n",
    "utility = sm.log(C**a*G**(1-a))-v*(L**2)/2\n",
    "utility"
   ]
  },
  {
   "cell_type": "code",
   "execution_count": 4,
   "metadata": {},
   "outputs": [
    {
     "data": {
      "text/latex": [
       "$\\displaystyle L \\tilde{\\omega} + \\kappa = C$"
      ],
      "text/plain": [
       "Eq(L*omegatilde + kappa, C)"
      ]
     },
     "execution_count": 4,
     "metadata": {},
     "output_type": "execute_result"
    }
   ],
   "source": [
    "# defining the budget constraint as an equality\n",
    "consumption_constraint = sm.Eq(k+w_tilde*L,C)\n",
    "consumption_constraint"
   ]
  },
  {
   "cell_type": "code",
   "execution_count": 5,
   "metadata": {},
   "outputs": [
    {
     "data": {
      "text/latex": [
       "$\\displaystyle L \\tilde{\\omega} + \\kappa$"
      ],
      "text/plain": [
       "L*omegatilde + kappa"
      ]
     },
     "execution_count": 5,
     "metadata": {},
     "output_type": "execute_result"
    }
   ],
   "source": [
    "# isolating C in the budget constraint\n",
    "C_from_constraint = sm.solve(consumption_constraint,C)\n",
    "C_from_constraint[0]"
   ]
  },
  {
   "cell_type": "code",
   "execution_count": 6,
   "metadata": {},
   "outputs": [
    {
     "data": {
      "text/latex": [
       "$\\displaystyle - \\frac{L^{2} \\nu}{2} + \\log{\\left(G^{1 - \\alpha} \\left(L \\tilde{\\omega} + \\kappa\\right)^{\\alpha} \\right)}$"
      ],
      "text/plain": [
       "-L**2*nu/2 + log(G**(1 - alpha)*(L*omegatilde + kappa)**alpha)"
      ]
     },
     "execution_count": 6,
     "metadata": {},
     "output_type": "execute_result"
    }
   ],
   "source": [
    "# substituting C from the constraint into the utility function\n",
    "utility_subs = utility.subs(C,C_from_constraint[0])\n",
    "utility_subs"
   ]
  },
  {
   "cell_type": "code",
   "execution_count": 7,
   "metadata": {},
   "outputs": [
    {
     "data": {
      "text/latex": [
       "$\\displaystyle \\frac{G^{1 - \\alpha} G^{\\alpha - 1} \\alpha \\tilde{\\omega}}{L \\tilde{\\omega} + \\kappa} - L \\nu$"
      ],
      "text/plain": [
       "G**(1 - alpha)*G**(alpha - 1)*alpha*omegatilde/(L*omegatilde + kappa) - L*nu"
      ]
     },
     "execution_count": 7,
     "metadata": {},
     "output_type": "execute_result"
    }
   ],
   "source": [
    "# calculating the foc\n",
    "foc = sm.diff(utility_subs, L)\n",
    "foc"
   ]
  },
  {
   "cell_type": "code",
   "execution_count": 8,
   "metadata": {},
   "outputs": [
    {
     "data": {
      "text/latex": [
       "$\\displaystyle L^{*} = \\frac{- \\kappa \\nu + \\sqrt{\\nu \\left(4 \\alpha \\tilde{\\omega}^{2} + \\kappa^{2} \\nu\\right)}}{2 \\nu \\tilde{\\omega}}$"
      ],
      "text/plain": [
       "Eq(L^*, (-kappa*nu + sqrt(nu*(4*alpha*omegatilde**2 + kappa**2*nu)))/(2*nu*omegatilde))"
      ]
     },
     "execution_count": 8,
     "metadata": {},
     "output_type": "execute_result"
    }
   ],
   "source": [
    "# solving for optimal labour supply\n",
    "sol = sm.solve(sm.Eq(foc,0), L)[1]\n",
    "sol_opt = sm.Eq(L_star,sol)\n",
    "sol_opt"
   ]
  },
  {
   "attachments": {},
   "cell_type": "markdown",
   "metadata": {},
   "source": [
    "**Question 2:** Illustrate how $L^{\\star}(\\tilde{w})$ depends on $w$."
   ]
  },
  {
   "cell_type": "code",
   "execution_count": 9,
   "metadata": {},
   "outputs": [
    {
     "data": {
      "text/latex": [
       "$\\displaystyle L^{*} = \\frac{- \\kappa \\nu + \\sqrt{\\nu \\left(4 \\alpha \\omega^{2} \\left(1 - \\tau\\right)^{2} + \\kappa^{2} \\nu\\right)}}{2 \\nu \\omega \\left(1 - \\tau\\right)}$"
      ],
      "text/plain": [
       "Eq(L^*, (-kappa*nu + sqrt(nu*(4*alpha*omega**2*(1 - tau)**2 + kappa**2*nu)))/(2*nu*omega*(1 - tau)))"
      ]
     },
     "execution_count": 9,
     "metadata": {},
     "output_type": "execute_result"
    }
   ],
   "source": [
    "# defining w_tilde\n",
    "w_tilde_eq = (1-t)*w\n",
    "\n",
    "#substituting the expression for w_tilde into the optimal labour supply\n",
    "L_star_subs = sol.subs(w_tilde,w_tilde_eq)\n",
    "L_star_subs_opt = sm.Eq(L_star, L_star_subs)\n",
    "L_star_subs_opt\n"
   ]
  },
  {
   "cell_type": "code",
   "execution_count": 10,
   "metadata": {},
   "outputs": [],
   "source": [
    "# we lambdify the labour supply equation\n",
    "labour_supply_function = sm.lambdify((w,v,k,a,t),L_star_subs)"
   ]
  },
  {
   "cell_type": "code",
   "execution_count": 11,
   "metadata": {},
   "outputs": [
    {
     "data": {
      "text/plain": [
       "Text(0.5, 1.0, 'Optimal labour supply')"
      ]
     },
     "execution_count": 11,
     "metadata": {},
     "output_type": "execute_result"
    },
    {
     "data": {
      "image/png": "[encoded data removed]",
      "text/plain": [
       "<Figure size 640x480 with 1 Axes>"
      ]
     },
     "metadata": {},
     "output_type": "display_data"
    }
   ],
   "source": [
    "#creating a vector of omega-values\n",
    "w_vec = np.linspace(0.1,200,100)\n",
    "\n",
    "#defining parameters\n",
    "a_val = 0.5\n",
    "k_val = 1\n",
    "v_val = 1/(2*16**2)\n",
    "w_val = 1\n",
    "t_val = 0.3\n",
    "\n",
    "# find optimal labour supply given a vector of omega-values\n",
    "labour_supply_vec = labour_supply_function(w_vec,v_val, k_val, a_val, t_val)\n",
    "\n",
    "# plot optimal labour supply given omega\n",
    "fig = plt.figure()\n",
    "ax = fig.add_subplot(1,1,1)\n",
    "ax.plot(w_vec,labour_supply_vec)\n",
    "plt.xlabel(r\"$\\omega$\")\n",
    "plt.ylabel(\"L\")\n",
    "plt.title(\"Optimal labour supply\")"
   ]
  },
  {
   "attachments": {},
   "cell_type": "markdown",
   "metadata": {},
   "source": [
    "\n",
    "We now consider a government, who chooses $\\tau$ and spend all of the taxes on government consumption so:\n",
    "\n",
    "$$\n",
    "G = \\tau w L^{\\star}((1-\\tau)w)\n",
    "$$\n",
    "\n",
    "**Question 3:** Plot the implied $L$, $G$ and worker utility for a grid of $\\tau$-values.\n"
   ]
  },
  {
   "cell_type": "code",
   "execution_count": 12,
   "metadata": {},
   "outputs": [
    {
     "data": {
      "text/plain": [
       "<matplotlib.legend.Legend at 0x7fc322cac790>"
      ]
     },
     "execution_count": 12,
     "metadata": {},
     "output_type": "execute_result"
    },
    {
     "data": {
      "image/png": "[encoded data removed]",
      "text/plain": [
       "<Figure size 1500x500 with 3 Axes>"
      ]
     },
     "metadata": {},
     "output_type": "display_data"
    }
   ],
   "source": [
    "# creating vector of tau-values\n",
    "t_vec = np.linspace(0.1,0.9,100)\n",
    "\n",
    "# find optimal labour supply, government spending and utility given tau\n",
    "optimal_L = labour_supply_function(w_val,v_val, k_val, a_val, t_vec)\n",
    "\n",
    "optimal_G = t_vec*w_val*optimal_L\n",
    "\n",
    "optimal_U = np.log((k_val+(1-t_vec)*w_val*optimal_L)**a_val*optimal_G**(1-a_val))-v_val*optimal_L**2/2\n",
    "\n",
    "# find tau values that maximises labour supply, government spending and utility\n",
    "opt_L_val = t_vec[np.argmax(optimal_L)]\n",
    "opt_G_val = t_vec[np.argmax(optimal_G)]\n",
    "opt_t_val = t_vec[np.argmax(optimal_U)]\n",
    "\n",
    "fig = plt.figure(figsize=(15,5))\n",
    "ax = fig.add_subplot(1,3,1)\n",
    "ax.plot(t_vec,optimal_L, c=\"purple\")\n",
    "plt.xlabel(r\"$\\tau$\")\n",
    "plt.ylabel(\"L\")\n",
    "plt.title(\"Optimal labour\")\n",
    "plt.axvline(x=opt_L_val, color='r', linestyle='--', label=f\"Optimal Delta: {opt_L_val:.2f}\")\n",
    "plt.legend()\n",
    "\n",
    "ax = fig.add_subplot(1,3,2)\n",
    "ax.plot(t_vec,optimal_G, c=\"green\")\n",
    "plt.xlabel(r\"$\\tau$\")\n",
    "plt.ylabel(\"G\")\n",
    "plt.title(\"Optimal government spending\")\n",
    "plt.axvline(x=opt_G_val, color='r', linestyle='--', label=f\"Optimal Delta: {opt_G_val:.2f}\")\n",
    "plt.legend()\n",
    "\n",
    "\n",
    "ax = fig.add_subplot(1,3,3)\n",
    "ax.plot(t_vec,optimal_U,  c=\"blue\")\n",
    "plt.xlabel(r\"$\\tau$\")\n",
    "plt.ylabel(\"V\")\n",
    "plt.title(\"Optimal utility\")\n",
    "plt.axvline(x=opt_t_val, color='r', linestyle='--', label=f\"Optimal Delta: {opt_t_val:.2f}\")\n",
    "plt.legend()\n"
   ]
  },
  {
   "attachments": {},
   "cell_type": "markdown",
   "metadata": {},
   "source": [
    "**Question 4:** Find the socially optimal tax rate $\\tau^{\\star}\\in(0,1)$ maximizing worker utility. Illustrate your result."
   ]
  },
  {
   "cell_type": "code",
   "execution_count": 13,
   "metadata": {},
   "outputs": [
    {
     "name": "stdout",
     "output_type": "stream",
     "text": [
      "Optimization terminated successfully    (Exit mode 0)\n",
      "            Current function value: -1.890066163493521\n",
      "            Iterations: 4\n",
      "            Function evaluations: 9\n",
      "            Gradient evaluations: 4\n",
      "\n",
      " t =  0.5312487542087085\n"
     ]
    }
   ],
   "source": [
    "def objective(tau,L):\n",
    "    U = np.log((k_val + (1 - tau) * w_val * L)**a_val * (tau*w_val*L)**(1 - a_val)) - v_val * L**2 / 2\n",
    "    return -U\n",
    "\n",
    "# a. setup\n",
    "bound = [(0,1)]\n",
    "#ineq_con = {'type': 'ineq', 'fun': ineq_constraint} \n",
    "#eq_con = {'type': 'eq', 'fun': eq_constraint}\n",
    "\n",
    "# b. call optimizer\n",
    "t0 = [0.4,16] # fit the equality constraint\n",
    "result = optimize.minimize(objective,t0[0],t0[1],\n",
    "                             method='SLSQP',\n",
    "                             bounds=bound,\n",
    "                             #constraints=[eq_con],\n",
    "                             options={'disp':True})\n",
    "\n",
    "print('\\n t = ',result.x[0])"
   ]
  },
  {
   "attachments": {},
   "cell_type": "markdown",
   "metadata": {},
   "source": [
    "A more general preference formulation for the worker is:\n",
    "\n",
    "$$\n",
    "\\begin{align*}\n",
    "\\mathcal{V}(w,\\tau,G)&=\\max_{L\\in[0,24]}\\frac{\\left[ \\left( \\alpha C^{\\frac{\\sigma-1}{\\sigma}}+(1-\\alpha) G^{\\frac{\\sigma-1}{\\sigma}} \\right)^{\\frac{\\sigma}{\\sigma-1} }\\right]^{1-\\rho}-1}{1-\\rho}- \\nu\\frac{L^{1+\\varepsilon}}{1+\\varepsilon},\\,\\,\\,\\varepsilon,\\rho,\\sigma>0,\\,\\,\\,\\rho,\\sigma\\neq1\\\\&\\text{s.t.}\\\\&C=\\kappa+(1-\\tau)wL\n",
    "\\end{align*}    \n",
    "$$\n",
    "\n",
    "Optimal labor supply is now $L^{\\star}(\\tilde{w},G)$."
   ]
  },
  {
   "attachments": {},
   "cell_type": "markdown",
   "metadata": {},
   "source": [
    "Questions 5 and 6 must be answered with the general formulation, and for 2 different set of parameters:\n",
    "\n",
    "- Set 1:  $\\sigma = 1.001$, $\\rho = 1.001$ and $\\varepsilon = 1.0$.\n",
    "- Set 2:  $\\sigma = 1.5$, $\\rho = 1.5$ and $\\varepsilon = 1.0 $."
   ]
  },
  {
   "attachments": {},
   "cell_type": "markdown",
   "metadata": {},
   "source": [
    "**Question 5:** Find the $G$ that solves $G = \\tau w L^{\\star}((1-\\tau)w,G)$ using the $\\tau$ found in question 4.\n",
    "\n",
    "*Hint: First write code that solves the worker problem for given values of $G$ and $\\tau$. Then find the correct G based on this.*"
   ]
  },
  {
   "cell_type": "code",
   "execution_count": 14,
   "metadata": {},
   "outputs": [],
   "source": [
    "# write your code here"
   ]
  },
  {
   "attachments": {},
   "cell_type": "markdown",
   "metadata": {},
   "source": [
    "**Question 6:** Find the socially optimal tax rate, $\\tau^{\\star}$, maximizing worker utility, while keeping $G = \\tau w L^{\\star}((1-\\tau)w,G)$."
   ]
  },
  {
   "cell_type": "code",
   "execution_count": 15,
   "metadata": {},
   "outputs": [],
   "source": [
    "# write your code here  "
   ]
  },
  {
   "attachments": {},
   "cell_type": "markdown",
   "metadata": {},
   "source": [
    "## 2. <a id='toc2_'></a>[Problem 2: Labor adjustment costs](#toc0_)"
   ]
  },
  {
   "attachments": {},
   "cell_type": "markdown",
   "metadata": {},
   "source": [
    "You own a hair salon. You employ hairdressers, $\\ell_t$, to produce haircuts, $y_t = \\ell_t$.\n",
    "\n",
    "The wage for each haridresser is $w$.\n",
    "\n",
    "The demand for haircuts implies that the price of haircuts you can charge is $p_t = \\kappa_t y_t^{-\\eta}$, where $\\kappa_t$ is a demand-shock and $\\eta \\in (0,1)$ measures the elasticity of demand.\n",
    "\n",
    "Profits are:\n",
    "\n",
    "$$\n",
    "\\Pi_t = p_t y_t - w \\ell_t = \\kappa_t \\ell_t^{1-\\eta} - w \\ell_t\n",
    "$$\n",
    "Baseline parameters are:\n",
    "- $\\eta = 0.5$\n",
    "- $w = 1.0$"
   ]
  },
  {
   "attachments": {},
   "cell_type": "markdown",
   "metadata": {},
   "source": [
    "**Question 1:** Verify numerically that $\\ell_{t}=\\left(\\frac{(1-\\eta)\\kappa_{t}}{w}\\right)^{\\frac{1}{\\eta}}$ maximises profits, for $\\kappa\\in\\left\\{1.0 , 2.0\\right\\}$."
   ]
  },
  {
   "cell_type": "code",
   "execution_count": 16,
   "metadata": {},
   "outputs": [
    {
     "data": {
      "text/latex": [
       "$\\displaystyle l^{*} = \\left(\\frac{\\kappa_{t} \\left(1 - \\eta\\right)}{\\omega}\\right)^{\\frac{1}{\\eta}}$"
      ],
      "text/plain": [
       "Eq(l^*, (kappa_t*(1 - eta)/omega)**(1/eta))"
      ]
     },
     "execution_count": 16,
     "metadata": {},
     "output_type": "execute_result"
    }
   ],
   "source": [
    "# defining parameters\n",
    "kappa = sm.symbols('kappa_t') \n",
    "n = sm.symbols('eta')\n",
    "l = sm.symbols('l_t')\n",
    "w = sm.symbols('omega')\n",
    "l_star = sm.symbols('l^*')\n",
    "\n",
    "# defining profit function\n",
    "pi = kappa*l**(1-n)-w*l\n",
    "\n",
    "#calculating foc\n",
    "foc = sm.diff(pi, l)\n",
    "\n",
    "#maximising profit\n",
    "sol = sm.solve(sm.Eq(foc,0), l)[0]\n",
    "sol_opt = sm.Eq(l_star,sol)\n",
    "sol_opt"
   ]
  },
  {
   "cell_type": "code",
   "execution_count": 17,
   "metadata": {},
   "outputs": [],
   "source": [
    "def calculate_profit(eta, w, kappa, l):\n",
    "    return kappa * l**(1-eta) - w * l"
   ]
  },
  {
   "cell_type": "code",
   "execution_count": 18,
   "metadata": {},
   "outputs": [],
   "source": [
    "def find_optimal_l(eta, w, kappa_values):\n",
    "    optimal_l_values = []\n",
    "    \n",
    "    for kappa in kappa_values:\n",
    "        optimal_l = ((1 - eta) * kappa / w) ** (1 / eta)\n",
    "        optimal_l_values.append(optimal_l)\n",
    "        \n",
    "    return optimal_l_values"
   ]
  },
  {
   "cell_type": "code",
   "execution_count": 19,
   "metadata": {},
   "outputs": [
    {
     "data": {
      "image/png": "[encoded data removed]",
      "text/plain": [
       "<Figure size 1000x500 with 2 Axes>"
      ]
     },
     "metadata": {},
     "output_type": "display_data"
    }
   ],
   "source": [
    "eta = 0.5\n",
    "w = 1.0\n",
    "kappa_values = np.linspace(1,2,5)\n",
    "\n",
    "profits = []\n",
    "\n",
    "optimal_l_values = find_optimal_l(eta, w, kappa_values)\n",
    "\n",
    "for i, kappa in enumerate(kappa_values):\n",
    "    profit = calculate_profit(eta, w, kappa, optimal_l_values[i])\n",
    "    profits.append(profit)\n",
    "    #print(f\"For kappa = {kappa}, optimal l = {optimal_l_values[i]}, profit = {profit}\")\n",
    "\n",
    "# Plot optimal l\n",
    "fig = plt.figure(figsize=(10,5))\n",
    "ax = fig.add_subplot(1,2,1)\n",
    "plt.plot(kappa_values, optimal_l_values)\n",
    "plt.xlabel(r'$\\kappa$')\n",
    "plt.ylabel('l')\n",
    "plt.title('Optimal labour')\n",
    "\n",
    "# Plot profits\n",
    "ax = fig.add_subplot(1,2,2)\n",
    "plt.plot(kappa_values, profits)\n",
    "plt.xlabel(r'$\\kappa$')\n",
    "plt.ylabel(r'$\\Pi$')\n",
    "plt.title('Profits')\n",
    "\n",
    "plt.tight_layout()\n",
    "plt.show()"
   ]
  },
  {
   "attachments": {},
   "cell_type": "markdown",
   "metadata": {},
   "source": [
    "We now consider a *dynamic* version of the model.\n",
    "\n",
    "* The demand-shock is a so-called AR(1) in logs, \n",
    "\n",
    "$$\n",
    "\\log \\kappa_{t} = \\rho \\log \\kappa_{t-1} + \\epsilon_{t},\\,\\,\\, \\epsilon_{t+1} \\sim \\mathcal{N}(-0.5\\sigma_{\\epsilon}^2,\\sigma_{\\epsilon})\n",
    "$$\n",
    "\n",
    "* Any hiring or firing implies a fixed adjustment cost, $\\iota > 0 $.\n",
    "* Future profits are discounted with a monthly factor of $R \\in (0,1)$.\n",
    "\n",
    "The initial demand shock is $\\kappa_{-1} = 1$ and the planning horizon is 10 years, i.e. 120 months so $t \\in \\{0,1,2,\\dots,119\\}$. Initially you don't have any employees, $\\ell_{-1}=0$"
   ]
  },
  {
   "attachments": {},
   "cell_type": "markdown",
   "metadata": {},
   "source": [
    "\n",
    "The *ex post* value of the salon is *conditional* on the shock series is:\n",
    "\n",
    "$$\n",
    "h(\\epsilon_0,\\epsilon_1,\\dots,\\epsilon_{119}) = \\left[\\sum_{t=0}^{119}R^{-t}\\left[\\kappa_{t}\\ell_{t}^{1-\\eta}-w\\ell_{t}-\\boldsymbol{1}_{\\ell_{t}\\neq\\ell_{t-1}}\\iota\\right]\\right]\n",
    "$$\n",
    "\n",
    "The *ex ante* expected value of the salon can be approximated by\n",
    "\n",
    "$$\n",
    "H = \\mathbb{E}[h(\\epsilon_0,\\epsilon_1,\\dots,\\epsilon_{119})] \\approx \\frac{1}{K}\\sum_{k=0}^{K} h(\\epsilon_0^k,\\epsilon_1^k,\\dots,\\epsilon_{119}^k)\n",
    "$$\n",
    "\n",
    "where each $k\\in\\{0,1,\\dots,K-1\\}$ is a random shock series. Maximizing profitability means maximizing $H$.\n"
   ]
  },
  {
   "attachments": {},
   "cell_type": "markdown",
   "metadata": {},
   "source": [
    "Baseline parameters are: \n",
    "\n",
    "- $\\rho = 0.90$\n",
    "- $\\iota = 0.01$\n",
    "- $\\sigma_{\\epsilon} = 0.10$\n",
    "- $R = \\left(1+0.01\\right)^{1/12}$"
   ]
  },
  {
   "attachments": {},
   "cell_type": "markdown",
   "metadata": {},
   "source": [
    "**Question 2:** Calculate $H$ if the policy  $\\ell_{t}=\\left(\\frac{(1-\\eta)\\kappa_{t}}{w}\\right)^{\\frac{1}{\\eta}}$ from question 1 is followed. Choose $K$ so the approximation is good enough to not affect your results substantially."
   ]
  },
  {
   "cell_type": "code",
   "execution_count": 20,
   "metadata": {},
   "outputs": [
    {
     "name": "stdout",
     "output_type": "stream",
     "text": [
      "Expected value of the salon (H) = 27.75319379491799\n"
     ]
    }
   ],
   "source": [
    "# Define the parameters\n",
    "rho = 0.90\n",
    "iota = 0.01\n",
    "sigma_epsilon = 0.10\n",
    "R = (1 + 0.01) ** (1 / 12)\n",
    "eta = 0.5\n",
    "w = 1.0\n",
    "K = 10000  # Number of shock series for approximation\n",
    "delta = 0.05\n",
    "\n",
    "# Generate K random shock series\n",
    "np.random.seed(2023)  # Set a seed for reproducibility\n",
    "epsilon_list = np.random.normal(loc=-0.5 * sigma_epsilon ** 2, scale=sigma_epsilon, size=(K, 120))\n",
    "\n",
    "# Function to calculate h(epsilon_0, epsilon_1, ..., epsilon_119)\n",
    "def calculate_h(epsilon):\n",
    "    kappa_t_minus_1 = 1  # Initial demand shock\n",
    "    l_t_minus_1 = 0  # Initial number of employees\n",
    "    h_value = 0  # Accumulator for h function\n",
    "\n",
    "    for t in range(120):\n",
    "        epsilon_t = epsilon[t]\n",
    "        log_kappa_t = rho * np.log(kappa_t_minus_1) + epsilon_t\n",
    "        kappa_t = np.exp(log_kappa_t)\n",
    "\n",
    "        # Calculate l_t based on the policy\n",
    "        l_t = ((1 - eta) * kappa_t / w) ** (1 / eta)\n",
    "\n",
    "        # Calculate the h function value for this period\n",
    "        h_value += R ** (-t) * (kappa_t * l_t ** (1 - eta) - w * l_t - (l_t != l_t_minus_1) * iota)\n",
    "\n",
    "        # Update the variables for the next period\n",
    "        kappa_t_minus_1 = kappa_t\n",
    "        l_t_minus_1 = l_t\n",
    "\n",
    "    return h_value\n",
    "\n",
    "H = np.mean([calculate_h(epsilon) for epsilon in epsilon_list])\n",
    "print(\"Expected value of the salon (H) =\", H)\n"
   ]
  },
  {
   "attachments": {},
   "cell_type": "markdown",
   "metadata": {},
   "source": [
    "Next, we consider policies on the form:\n",
    "\n",
    "$$\n",
    "\n",
    "\\ell_{t}=\\begin{cases}\n",
    "\\ell_t^{\\ast}  & \\text{if }\\left|\\ell_{t-1}-\\ell_t^{\\ast} \\right|>\\Delta\\\\\n",
    "\\ell_{t-1} & \\text{else }\n",
    "\\end{cases}\n",
    "\\\\\n",
    "\\text{where}\\,\\,\\ell_t^{\\ast} = \\left(\\frac{(1-\\eta)\\kappa_{t}}{w}\\right)^{\\frac{1}{\\eta}} \\\\\n",
    "\n",
    "$$\n",
    "With $\\Delta \\geq 0$ and $\\Delta = 0$ being the previous policy.\n"
   ]
  },
  {
   "attachments": {},
   "cell_type": "markdown",
   "metadata": {},
   "source": [
    "\n",
    "**Question 3:** Calculate $H$ if the policy above was followed with $\\Delta = 0.05$. Does it improve profitability?"
   ]
  },
  {
   "cell_type": "code",
   "execution_count": 31,
   "metadata": {},
   "outputs": [
    {
     "name": "stdout",
     "output_type": "stream",
     "text": [
      "Expected value of the salon (H) with the policy = 28.43388844189881\n"
     ]
    }
   ],
   "source": [
    "# Function to calculate h(epsilon_0, epsilon_1, ..., epsilon_119)\n",
    "def calculate_h_delta(epsilon):\n",
    "    kappa_t_minus_1 = 1  # Initial demand shock\n",
    "    l_t_minus_1 = 0  # Initial number of employees\n",
    "    h_value = 0  # Accumulator for h function\n",
    "\n",
    "    for t in range(120):\n",
    "        epsilon_t = epsilon[t]\n",
    "        log_kappa_t = rho * np.log(kappa_t_minus_1) + epsilon_t\n",
    "        kappa_t = np.exp(log_kappa_t)\n",
    "\n",
    "        # Calculate l_t based on the policy\n",
    "        l_t_star = ((1 - eta) * kappa_t / w) ** (1 / eta)\n",
    "\n",
    "        if np.abs(l_t_minus_1 - l_t_star) > delta:\n",
    "            l_t = l_t_star\n",
    "        else:\n",
    "            l_t = l_t_minus_1\n",
    "\n",
    "        # Calculate the h function value for this period\n",
    "        h_value += R ** (-t) * (kappa_t * l_t ** (1 - eta) - w * l_t - (l_t != l_t_minus_1) * iota)\n",
    "\n",
    "        # Update the variables for the next period\n",
    "        kappa_t_minus_1 = kappa_t\n",
    "        l_t_minus_1 = l_t\n",
    "\n",
    "    return h_value\n",
    "\n",
    "H = np.mean([calculate_h_delta(epsilon) for epsilon in epsilon_list])\n",
    "print(\"Expected value of the salon (H) with the policy =\", H)\n"
   ]
  },
  {
   "cell_type": "code",
   "execution_count": 30,
   "metadata": {},
   "outputs": [
    {
     "name": "stdout",
     "output_type": "stream",
     "text": [
      "Expected value of the salon (H) with Delta = -2.030709143585511\n"
     ]
    }
   ],
   "source": [
    "import numpy as np\n",
    "\n",
    "# Parameters\n",
    "rho = 0.90\n",
    "iota = 0.01\n",
    "sigma_epsilon = 0.10\n",
    "R = (1 + 0.01)**(1/12)\n",
    "eta = 0.5\n",
    "w = 1\n",
    "delta = 0.05\n",
    "\n",
    "# Number of shock series\n",
    "K = 1000\n",
    "\n",
    "# Function to calculate value function for a given shock series\n",
    "def calculate_value_function(shock_series):\n",
    "    value = 0\n",
    "    kappa = 1\n",
    "    ell_prev = 0\n",
    "\n",
    "    for t in range(len(shock_series)):\n",
    "        ell_ast = ((1 - eta) * kappa / w)**(1 / eta)\n",
    "\n",
    "        if abs(ell_prev - ell_ast) > delta:\n",
    "            ell = ell_ast\n",
    "        else:\n",
    "            ell = ell_prev\n",
    "\n",
    "        adjustment_cost = 1 if ell != ell_prev else 0\n",
    "\n",
    "        value += R**(-t) * (kappa * ell**(1 - eta) - w * ell - adjustment_cost * iota)\n",
    "\n",
    "        kappa = rho * kappa + shock_series[t]\n",
    "        ell_prev = ell\n",
    "\n",
    "    return value\n",
    "\n",
    "# Simulate shock series and calculate expected value\n",
    "expected_value = 0\n",
    "\n",
    "for _ in range(K):\n",
    "    shock_series = np.random.normal(-0.5 * sigma_epsilon**2, sigma_epsilon, size=120)\n",
    "    expected_value += calculate_value_function(shock_series)\n",
    "\n",
    "expected_value /= K\n",
    "\n",
    "print(\"Expected value of the salon (H) with Delta =\", expected_value)\n"
   ]
  },
  {
   "attachments": {},
   "cell_type": "markdown",
   "metadata": {},
   "source": [
    "**Question 4:** Find the optimal $\\Delta$ maximizing $H$. Illustrate your result."
   ]
  },
  {
   "cell_type": "code",
   "execution_count": 23,
   "metadata": {},
   "outputs": [
    {
     "data": {
      "image/png": "[encoded data removed]",
      "text/plain": [
       "<Figure size 640x480 with 1 Axes>"
      ]
     },
     "metadata": {},
     "output_type": "display_data"
    },
    {
     "name": "stdout",
     "output_type": "stream",
     "text": [
      "Optimal Delta: 0.014141414141414142\n",
      "Max Expected Value of the Salon (H): -0.9288158931096253\n"
     ]
    }
   ],
   "source": [
    "import numpy as np\n",
    "import matplotlib.pyplot as plt\n",
    "\n",
    "# Parameters\n",
    "rho = 0.90\n",
    "iota = 0.01\n",
    "sigma_epsilon = 0.10\n",
    "R = (1 + 0.01)**(1/12)\n",
    "eta = 0.5\n",
    "w = 1\n",
    "\n",
    "# Range of Δ values\n",
    "delta_values = np.linspace(0, 0.2, 100)  # Adjust the range as desired\n",
    "\n",
    "# Number of shock series\n",
    "K = 1000\n",
    "\n",
    "# Function to calculate value function for a given shock series and Δ\n",
    "def calculate_value_function(shock_series, delta):\n",
    "    value = 0\n",
    "    kappa = 1\n",
    "    ell_prev = 0\n",
    "\n",
    "    for t in range(len(shock_series)):\n",
    "        ell_ast = ((1 - eta) * kappa / w)**(1 / eta)\n",
    "\n",
    "        if abs(ell_prev - ell_ast) > delta:\n",
    "            ell = ell_ast\n",
    "        else:\n",
    "            ell = ell_prev\n",
    "\n",
    "        adjustment_cost = 1 if ell != ell_prev else 0\n",
    "\n",
    "        value += R**(-t) * (kappa * ell**(1 - eta) - w * ell - adjustment_cost * iota)\n",
    "\n",
    "        kappa = rho * kappa + shock_series[t]\n",
    "        ell_prev = ell\n",
    "\n",
    "    return value\n",
    "\n",
    "# Calculate H for each Δ value\n",
    "expected_values = []\n",
    "\n",
    "for delta in delta_values:\n",
    "    expected_value = 0\n",
    "\n",
    "    for _ in range(K):\n",
    "        shock_series = np.random.normal(-0.5 * sigma_epsilon**2, sigma_epsilon, size=120)\n",
    "        expected_value += calculate_value_function(shock_series, delta)\n",
    "\n",
    "    expected_value /= K\n",
    "    expected_values.append(expected_value)\n",
    "\n",
    "# Find optimal Δ\n",
    "optimal_delta = delta_values[np.argmax(expected_values)]\n",
    "max_expected_value = max(expected_values)\n",
    "\n",
    "# Plot the results\n",
    "plt.plot(delta_values, expected_values)\n",
    "plt.xlabel(\"Delta (Δ)\")\n",
    "plt.ylabel(\"Expected Value of the Salon (H)\")\n",
    "plt.title(\"Optimal Delta for Maximizing H\")\n",
    "plt.axvline(x=optimal_delta, color='r', linestyle='--', label=f\"Optimal Delta: {optimal_delta:.2f}\")\n",
    "plt.legend()\n",
    "plt.show()\n",
    "\n",
    "print(\"Optimal Delta:\", optimal_delta)\n",
    "print(\"Max Expected Value of the Salon (H):\", max_expected_value)\n"
   ]
  },
  {
   "attachments": {},
   "cell_type": "markdown",
   "metadata": {},
   "source": [
    "\n",
    "**Question 5:** Suggest an alternative policy you believe might improve profitability. Implement and test your policy.\n",
    "\n"
   ]
  },
  {
   "cell_type": "code",
   "execution_count": 24,
   "metadata": {},
   "outputs": [
    {
     "name": "stdout",
     "output_type": "stream",
     "text": [
      "Expected value of the salon (H) with alternative policy: -3.8688777270641657\n"
     ]
    }
   ],
   "source": [
    "import numpy as np\n",
    "import matplotlib.pyplot as plt\n",
    "\n",
    "# Parameters\n",
    "rho = 0.90\n",
    "iota = 0.01\n",
    "sigma_epsilon = 0.10\n",
    "R = (1 + 0.01)**(1/12)\n",
    "eta = 0.5\n",
    "w = 1\n",
    "delta = 0.05\n",
    "\n",
    "# Number of shock series\n",
    "K = 1000\n",
    "\n",
    "# Function to calculate value function for a given shock series\n",
    "def calculate_value_function(shock_series):\n",
    "    value = 0\n",
    "    kappa = 1\n",
    "    ell_prev = 0\n",
    "\n",
    "    for t in range(len(shock_series)):\n",
    "        ell_ast = ((1 - eta) * kappa / w)**(1 / eta)\n",
    "\n",
    "        if abs(ell_prev - ell_ast) > delta:\n",
    "            if ell_prev < ell_ast:\n",
    "                ell = ell_prev + 0.05 * (ell_ast - ell_prev)\n",
    "            else:\n",
    "                ell = ell_prev - 0.05 * (ell_prev - ell_ast)\n",
    "        else:\n",
    "            ell = ell_prev\n",
    "\n",
    "        adjustment_cost = 1 if ell != ell_prev else 0\n",
    "\n",
    "        value += R**(-t) * (kappa * ell**(1 - eta) - w * ell - adjustment_cost * iota)\n",
    "\n",
    "        kappa = rho * kappa + shock_series[t]\n",
    "        ell_prev = ell\n",
    "\n",
    "    return value\n",
    "\n",
    "# Simulate shock series and calculate expected value\n",
    "expected_value = 0\n",
    "\n",
    "for _ in range(K):\n",
    "    shock_series = np.random.normal(-0.5 * sigma_epsilon**2, sigma_epsilon, size=120)\n",
    "    expected_value += calculate_value_function(shock_series)\n",
    "\n",
    "expected_value /= K\n",
    "\n",
    "print(\"Expected value of the salon (H) with alternative policy:\", expected_value)\n"
   ]
  },
  {
   "attachments": {},
   "cell_type": "markdown",
   "metadata": {},
   "source": [
    "## 3. <a id='toc3_'></a>[Problem 3: Global optimizer with refined multi-start](#toc0_)"
   ]
  },
  {
   "attachments": {},
   "cell_type": "markdown",
   "metadata": {},
   "source": [
    "We consider the Griewank function:\n",
    "\n",
    "$$ f(\\boldsymbol{x}) = \\sum^n_{i=1} \\frac{x^2_i}{4000}-\\prod^n_{i=1}\\cos\\left(\\frac{x_i}{\\sqrt{i}}\\right)+1$$\n",
    "\n",
    "The **global minimum** of this function is $f(0,0) = 0$ (remember: $\\cos(0)=1$).<br>\n",
    "But the function also have a lot of **local minima**."
   ]
  },
  {
   "cell_type": "code",
   "execution_count": 25,
   "metadata": {},
   "outputs": [],
   "source": [
    "def griewank(x):\n",
    "    return griewank_(x[0],x[1])\n",
    "    \n",
    "def griewank_(x1,x2):\n",
    "    A = x1**2/4000 + x2**2/4000\n",
    "    B = np.cos(x1/np.sqrt(1))*np.cos(x2/np.sqrt(2))\n",
    "    return A-B+1"
   ]
  },
  {
   "attachments": {},
   "cell_type": "markdown",
   "metadata": {},
   "source": [
    "A **refined global optimizer with multi-start** is:\n",
    "\n",
    "1. Choose *bounds* for $\\mathbf{x}$ and *tolerance* $\\tau > 0$.\n",
    "2. Choose number of *warm-up iterations*, $\\underline{K} > 0$ and *maximum number of iterations*, $K > \\underline{K}$.\n",
    "3. In each iteration for $k \\in \\{0,1,\\dots,K-1\\}$:\n",
    "\n",
    "    A. Draw random $\\mathbf{x}^k$ uniformly within chosen bounds.\n",
    "\n",
    "    B. If $k < \\underline{K}$ go to step E.\n",
    "\n",
    "    C. Calculate $\\chi^k = 0.50\\cdot\\frac{2}{1+\\exp((k-\\underline{K})/100)}$  \n",
    "\n",
    "    D. Set $\\mathbf{x}^{k0} = \\chi^k \\mathbf{x}^k + (1-\\chi^k)\\mathbf{x}^{\\ast} $\n",
    "\n",
    "    E. Run optimizer with $\\mathbf{x}^{k0}$ as initial guess and $\\mathbf{x}^{k\\ast}$ as result.\n",
    "\n",
    "    F. Set $\\mathbf{x}^{\\ast} = \\mathbf{x}^{k\\ast}$ if $k = 0$ or $f(\\mathbf{x}^{k\\ast}) < f(\\mathbf{x}^{\\ast})$\n",
    "\n",
    "    G. If $f(\\mathbf{x}^{\\ast}) < \\tau$ go to step 4.\n",
    "\n",
    "4. Return the result $\\mathbf{x}^{\\ast}$."
   ]
  },
  {
   "attachments": {},
   "cell_type": "markdown",
   "metadata": {},
   "source": [
    "As settings we choose:\n",
    "\n",
    "* $x_1,x_2 \\in  [-600,600]$\n",
    "* $\\tau = 10^{-8}$\n",
    "* $\\underline{K}=10$\n",
    "* $K=1000$\n",
    "\n",
    "The optimizer in Step 3.E is `BFGS` with a tolerance of $\\tau$."
   ]
  },
  {
   "attachments": {},
   "cell_type": "markdown",
   "metadata": {},
   "source": [
    "**Question 1:** Implement the refined global optimizer with multi-start. Illustrate how the effective initial guesses $\\mathbf{x}^{k0}$ vary with the iteration counter $k$."
   ]
  },
  {
   "cell_type": "code",
   "execution_count": 26,
   "metadata": {},
   "outputs": [],
   "source": [
    "# write your code here"
   ]
  },
  {
   "attachments": {},
   "cell_type": "markdown",
   "metadata": {},
   "source": [
    "**Question 2:** Is it a better idea to set $\\underline{K} = 100$? Is the convergence faster?"
   ]
  },
  {
   "cell_type": "code",
   "execution_count": 27,
   "metadata": {},
   "outputs": [],
   "source": [
    "# write your code here"
   ]
  }
 ],
 "metadata": {
  "kernelspec": {
   "display_name": "base",
   "language": "python",
   "name": "python3"
  },
  "language_info": {
   "codemirror_mode": {
    "name": "ipython",
    "version": 3
   },
   "file_extension": ".py",
   "mimetype": "text/x-python",
   "name": "python",
   "nbconvert_exporter": "python",
   "pygments_lexer": "ipython3",
   "version": "3.9.13"
  },
  "orig_nbformat": 4,
  "vscode": {
   "interpreter": {
    "hash": "81ba5019e37842368fc49be8de08a0e006194f34fe1ed2c457994b200a6baabe"
   }
  }
 },
 "nbformat": 4,
 "nbformat_minor": 2
}
