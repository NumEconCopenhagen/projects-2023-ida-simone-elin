{
 "cells": [
  {
   "attachments": {},
   "cell_type": "markdown",
   "metadata": {},
   "source": [
    "**Table of contents**<a id='toc0_'></a>    \n",
    "- 1. [Problem 1: Optimal taxation with government consumption](#toc1_)    \n",
    "- 2. [Problem 2: Labor adjustment costs](#toc2_)    \n",
    "- 3. [Problem 3: Global optimizer with refined multi-start](#toc3_)    \n",
    "\n",
    "<!-- vscode-jupyter-toc-config\n",
    "\tnumbering=true\n",
    "\tanchor=true\n",
    "\tflat=false\n",
    "\tminLevel=2\n",
    "\tmaxLevel=6\n",
    "\t/vscode-jupyter-toc-config -->\n",
    "<!-- THIS CELL WILL BE REPLACED ON TOC UPDATE. DO NOT WRITE YOUR TEXT IN THIS CELL -->"
   ]
  },
  {
   "cell_type": "code",
   "execution_count": 1,
   "metadata": {},
   "outputs": [],
   "source": [
    "import sympy as sm\n",
    "import numpy as np\n",
    "import matplotlib.pyplot as plt\n",
    "from scipy import optimize\n",
    "\n",
    "# autoreload modules when code is run\n",
    "%load_ext autoreload\n",
    "%autoreload 2\n"
   ]
  },
  {
   "attachments": {},
   "cell_type": "markdown",
   "metadata": {},
   "source": [
    "## 1. <a id='toc1_'></a>[Problem 1: Optimal taxation with government consumption](#toc0_)"
   ]
  },
  {
   "attachments": {},
   "cell_type": "markdown",
   "metadata": {},
   "source": [
    "\n",
    "Consider a worker choosing hours of labor, $L\\in[0,24]$, to maximize utility: \n",
    "\n",
    "$$\n",
    "\\begin{align*}\n",
    "V(w,\\tau,G)&=\\max_{L\\in[0,24]}\\ln\\left(C^{\\alpha}G^{1-\\alpha}\\right)-\\nu\\frac{L^{2}}{2}\\\\&\\text{s.t.}\\\\&C=\\kappa+(1-\\tau)wL\n",
    "\\end{align*}\n",
    "$$\n",
    "\n",
    "where \n",
    "\n",
    "* $C$ is *private* consumption with weight $\\alpha\\in(0,1)$.\n",
    "* $\\kappa > 0$ is the *free private* consumption component.\n",
    "* $C = (1-\\tau)wL$ is the *costly private* consumption component.\n",
    "* $w > 0 $ is the real wage.\n",
    "* $\\tau \\in (0,1)$ is the labor-income tax rate.\n",
    "* $G > 0 $ is *government* consumption with weight $1-\\alpha$.\n",
    "* $\\nu > 0$ is the disutility of labor scaling factor"
   ]
  },
  {
   "attachments": {},
   "cell_type": "markdown",
   "metadata": {},
   "source": [
    "\n",
    "The baseline parameters are:\n",
    "\n",
    "$$\n",
    "\\begin{align*}\n",
    "\\alpha &= 0.5\\\\\n",
    "\\kappa &= 1.0\\\\\n",
    "\\nu &= \\frac{1}{2\\cdot16^2} \\\\\n",
    "w &= 1.0 \\\\ \n",
    "\\tau &= 0.30 \\\\\n",
    "\\end{align*}\n",
    "$$"
   ]
  },
  {
   "attachments": {},
   "cell_type": "markdown",
   "metadata": {},
   "source": [
    "**Question 1:** Verify that the optimal labor supply choice is $L^{\\star}(\\tilde{w}) =\\frac{-\\kappa+\\sqrt{\\kappa^{2}+4\\frac{\\alpha}{\\nu}\\tilde{w}^2}}{2\\tilde{w}}$, where $\\tilde{w} = (1-\\tau)w$, for $G\\in\\left\\{1.0 , 2.0\\right\\}$."
   ]
  },
  {
   "cell_type": "code",
   "execution_count": 2,
   "metadata": {},
   "outputs": [],
   "source": [
    "C = sm.symbols('C') \n",
    "k = sm.symbols('kappa')\n",
    "w = sm.symbols('omega')\n",
    "t = sm.symbols('tau')\n",
    "G = sm.symbols('G')\n",
    "v = sm.symbols('nu')\n",
    "L = sm.symbols('L')\n",
    "a = sm.symbols('alpha')\n",
    "w_tilde = sm.symbols('omegatilde')\n",
    "L_star = sm.symbols('L^*')"
   ]
  },
  {
   "cell_type": "code",
   "execution_count": 3,
   "metadata": {},
   "outputs": [],
   "source": [
    "#q1_solution = sm.Eq((-k+(k**2+4*a/v*w_tilde**2)**0.5)/(2*w_tilde),L_star)\n",
    "#q1_solution"
   ]
  },
  {
   "cell_type": "code",
   "execution_count": 4,
   "metadata": {},
   "outputs": [
    {
     "data": {
      "text/latex": [
       "$\\displaystyle - \\frac{L^{2} \\nu}{2} + \\log{\\left(C^{\\alpha} G^{1 - \\alpha} \\right)}$"
      ],
      "text/plain": [
       "-L**2*nu/2 + log(C**alpha*G**(1 - alpha))"
      ]
     },
     "execution_count": 4,
     "metadata": {},
     "output_type": "execute_result"
    }
   ],
   "source": [
    "utility = sm.log(C**a*G**(1-a))-v*(L**2)/2\n",
    "utility"
   ]
  },
  {
   "cell_type": "code",
   "execution_count": 5,
   "metadata": {},
   "outputs": [
    {
     "data": {
      "text/latex": [
       "$\\displaystyle L \\tilde{\\omega} + \\kappa = C$"
      ],
      "text/plain": [
       "Eq(L*omegatilde + kappa, C)"
      ]
     },
     "execution_count": 5,
     "metadata": {},
     "output_type": "execute_result"
    }
   ],
   "source": [
    "# define the budget constraint as an equality\n",
    "consumption_constraint = sm.Eq(k+w_tilde*L,C)\n",
    "consumption_constraint"
   ]
  },
  {
   "cell_type": "code",
   "execution_count": 6,
   "metadata": {},
   "outputs": [
    {
     "data": {
      "text/latex": [
       "$\\displaystyle L \\tilde{\\omega} + \\kappa$"
      ],
      "text/plain": [
       "L*omegatilde + kappa"
      ]
     },
     "execution_count": 6,
     "metadata": {},
     "output_type": "execute_result"
    }
   ],
   "source": [
    "C_from_constraint = sm.solve(consumption_constraint,C)\n",
    "C_from_constraint[0]"
   ]
  },
  {
   "cell_type": "code",
   "execution_count": 7,
   "metadata": {},
   "outputs": [
    {
     "data": {
      "text/latex": [
       "$\\displaystyle - \\frac{L^{2} \\nu}{2} + \\log{\\left(G^{1 - \\alpha} \\left(L \\tilde{\\omega} + \\kappa\\right)^{\\alpha} \\right)}$"
      ],
      "text/plain": [
       "-L**2*nu/2 + log(G**(1 - alpha)*(L*omegatilde + kappa)**alpha)"
      ]
     },
     "execution_count": 7,
     "metadata": {},
     "output_type": "execute_result"
    }
   ],
   "source": [
    "utility_subs = utility.subs(C,C_from_constraint[0])\n",
    "utility_subs"
   ]
  },
  {
   "cell_type": "code",
   "execution_count": 8,
   "metadata": {},
   "outputs": [
    {
     "name": "stdout",
     "output_type": "stream",
     "text": [
      "- \\frac{L^{2} \\nu}{2} + \\log{\\left(G^{1 - \\alpha} \\left(L \\tilde{\\omega} + \\kappa\\right)^{\\alpha} \\right)}\n"
     ]
    }
   ],
   "source": [
    "print(sm.latex(utility_subs))"
   ]
  },
  {
   "cell_type": "code",
   "execution_count": 9,
   "metadata": {},
   "outputs": [
    {
     "data": {
      "text/latex": [
       "$\\displaystyle \\frac{G^{1 - \\alpha} G^{\\alpha - 1} \\alpha \\tilde{\\omega}}{L \\tilde{\\omega} + \\kappa} - L \\nu$"
      ],
      "text/plain": [
       "G**(1 - alpha)*G**(alpha - 1)*alpha*omegatilde/(L*omegatilde + kappa) - L*nu"
      ]
     },
     "execution_count": 9,
     "metadata": {},
     "output_type": "execute_result"
    }
   ],
   "source": [
    "foc = sm.diff(utility_subs, L)\n",
    "foc"
   ]
  },
  {
   "cell_type": "code",
   "execution_count": 10,
   "metadata": {},
   "outputs": [
    {
     "data": {
      "text/latex": [
       "$\\displaystyle L^{*} = \\frac{- \\kappa \\nu + \\sqrt{\\nu \\left(4 \\alpha \\tilde{\\omega}^{2} + \\kappa^{2} \\nu\\right)}}{2 \\nu \\tilde{\\omega}}$"
      ],
      "text/plain": [
       "Eq(L^*, (-kappa*nu + sqrt(nu*(4*alpha*omegatilde**2 + kappa**2*nu)))/(2*nu*omegatilde))"
      ]
     },
     "execution_count": 10,
     "metadata": {},
     "output_type": "execute_result"
    }
   ],
   "source": [
    "sol = sm.solve(sm.Eq(foc,0), L)[1]\n",
    "sol_opt = sm.Eq(L_star,sol)\n",
    "sol_opt"
   ]
  },
  {
   "attachments": {},
   "cell_type": "markdown",
   "metadata": {},
   "source": [
    "**Question 2:** Illustrate how $L^{\\star}(\\tilde{w})$ depends on $w$."
   ]
  },
  {
   "cell_type": "code",
   "execution_count": 11,
   "metadata": {},
   "outputs": [],
   "source": [
    "w_tilde_eq = (1-t)*w\n"
   ]
  },
  {
   "cell_type": "code",
   "execution_count": 26,
   "metadata": {},
   "outputs": [
    {
     "data": {
      "text/latex": [
       "$\\displaystyle \\frac{- \\kappa \\nu + \\sqrt{\\nu \\left(4 \\alpha \\omega^{2} \\left(1 - \\tau\\right)^{2} + \\kappa^{2} \\nu\\right)}}{2 \\nu \\omega \\left(1 - \\tau\\right)}$"
      ],
      "text/plain": [
       "(-kappa*nu + sqrt(nu*(4*alpha*omega**2*(1 - tau)**2 + kappa**2*nu)))/(2*nu*omega*(1 - tau))"
      ]
     },
     "execution_count": 26,
     "metadata": {},
     "output_type": "execute_result"
    }
   ],
   "source": [
    "L_star_subs = sol.subs(w_tilde,w_tilde_eq)\n",
    "L_star_subs"
   ]
  },
  {
   "cell_type": "code",
   "execution_count": 27,
   "metadata": {},
   "outputs": [
    {
     "name": "stdout",
     "output_type": "stream",
     "text": [
      "\\frac{- \\kappa \\nu + \\sqrt{\\nu \\left(4 \\alpha \\omega^{2} \\left(1 - \\tau\\right)^{2} + \\kappa^{2} \\nu\\right)}}{2 \\nu \\omega \\left(1 - \\tau\\right)}\n"
     ]
    }
   ],
   "source": [
    "print(sm.latex(L_star_subs))"
   ]
  },
  {
   "cell_type": "code",
   "execution_count": 13,
   "metadata": {},
   "outputs": [
    {
     "data": {
      "text/plain": [
       "<function _lambdifygenerated(omega, nu, kappa, alpha, tau)>"
      ]
     },
     "execution_count": 13,
     "metadata": {},
     "output_type": "execute_result"
    }
   ],
   "source": [
    "# we lambdify L\n",
    "solution_function = sm.lambdify((w,v,k,a,t),L_star_subs)\n",
    "solution_function"
   ]
  },
  {
   "cell_type": "code",
   "execution_count": 14,
   "metadata": {},
   "outputs": [],
   "source": [
    "w_vec = np.linspace(0.1,200,100)"
   ]
  },
  {
   "cell_type": "code",
   "execution_count": 15,
   "metadata": {},
   "outputs": [],
   "source": [
    "a_val = 0.5\n",
    "k_val = 1\n",
    "v_val = 1/(2*16**2)\n",
    "w_val = 1\n",
    "t_val = 0.3\n",
    "\n",
    "# run solution function with vector of w\n",
    "solutions = solution_function(w_vec,v_val, k_val, a_val, t_val)"
   ]
  },
  {
   "cell_type": "code",
   "execution_count": 16,
   "metadata": {},
   "outputs": [
    {
     "data": {
      "text/plain": [
       "[<matplotlib.lines.Line2D at 0x7fee09fedd00>]"
      ]
     },
     "execution_count": 16,
     "metadata": {},
     "output_type": "execute_result"
    },
    {
     "data": {
      "image/png": "[encoded data removed]",
      "text/plain": [
       "<Figure size 640x480 with 1 Axes>"
      ]
     },
     "metadata": {},
     "output_type": "display_data"
    }
   ],
   "source": [
    "fig = plt.figure()\n",
    "ax = fig.add_subplot(1,1,1)\n",
    "ax.plot(w_vec,solutions)"
   ]
  },
  {
   "attachments": {},
   "cell_type": "markdown",
   "metadata": {},
   "source": [
    "\n",
    "We now consider a government, who chooses $\\tau$ and spend all of the taxes on government consumption so:\n",
    "\n",
    "$$\n",
    "G = \\tau w L^{\\star}((1-\\tau)w)\n",
    "$$\n",
    "\n",
    "**Question 3:** Plot the implied $L$, $G$ and worker utility for a grid of $\\tau$-values.\n"
   ]
  },
  {
   "cell_type": "code",
   "execution_count": 17,
   "metadata": {},
   "outputs": [],
   "source": [
    "t_vec = np.linspace(0.1,0.9,100)"
   ]
  },
  {
   "cell_type": "code",
   "execution_count": 18,
   "metadata": {},
   "outputs": [
    {
     "data": {
      "text/plain": [
       "array([15.4540866 , 15.44922871, 15.44428361, 15.43924894, 15.43412224,\n",
       "       15.42890096, 15.42358246, 15.41816401, 15.41264277, 15.40701577,\n",
       "       15.40127995, 15.39543212, 15.38946898, 15.38338708, 15.37718284,\n",
       "       15.37085253, 15.36439228, 15.35779803, 15.35106558, 15.34419054,\n",
       "       15.33716833, 15.32999418, 15.32266311, 15.31516992, 15.30750916,\n",
       "       15.29967517, 15.29166198, 15.28346341, 15.27507292, 15.26648372,\n",
       "       15.25768866, 15.24868026, 15.23945066, 15.22999162, 15.22029449,\n",
       "       15.21035015, 15.20014906, 15.18968113, 15.17893578, 15.16790182,\n",
       "       15.15656749, 15.14492035, 15.1329473 , 15.12063446, 15.10796719,\n",
       "       15.09492995, 15.08150633, 15.0676789 , 15.05342918, 15.03873754,\n",
       "       15.02358314, 15.00794377, 14.9917958 , 14.97511405, 14.95787164,\n",
       "       14.94003985, 14.92158797, 14.90248314, 14.88269013, 14.86217112,\n",
       "       14.84088548, 14.81878949, 14.79583608, 14.77197442, 14.74714962,\n",
       "       14.72130227, 14.694368  , 14.66627691, 14.63695301, 14.6063135 ,\n",
       "       14.57426804, 14.54071782, 14.5055546 , 14.4686595 , 14.42990175,\n",
       "       14.38913707, 14.34620597, 14.30093165, 14.25311761, 14.20254485,\n",
       "       14.14896856, 14.09211421, 14.03167295, 13.96729611, 13.89858856,\n",
       "       13.82510084, 13.74631948, 13.66165534, 13.57042928, 13.47185441,\n",
       "       13.36501412, 13.24883459, 13.12205002, 12.98315842, 12.83036493,\n",
       "       12.66150829, 12.47396473, 12.26452088, 12.02920426, 11.76305461])"
      ]
     },
     "execution_count": 18,
     "metadata": {},
     "output_type": "execute_result"
    }
   ],
   "source": [
    "a_val = 0.5\n",
    "k_val = 1\n",
    "v_val = 1/(2*16**2)\n",
    "w_val = 1\n",
    "t_val = 0.3\n",
    "\n",
    "# run solution function with vector of t\n",
    "optimal_L = solution_function(w_val,v_val, k_val, a_val, t_vec)\n",
    "optimal_L"
   ]
  },
  {
   "cell_type": "code",
   "execution_count": 21,
   "metadata": {},
   "outputs": [
    {
     "data": {
      "text/plain": [
       "array([1.39086779, 1.48929556, 1.58563518, 1.67988669, 1.77205014,\n",
       "       1.86212556, 1.95011301, 2.03601253, 2.11982416, 2.20154796,\n",
       "       2.28118397, 2.35873225, 2.43419287, 2.50756586, 2.57885131,\n",
       "       2.64804926, 2.71515979, 2.78018296, 2.84311884, 2.90396751,\n",
       "       2.96272905, 3.01940354, 3.07399106, 3.1264917 , 3.17690555,\n",
       "       3.22523272, 3.2714733 , 3.31562739, 3.35769512, 3.39767659,\n",
       "       3.43557193, 3.47138128, 3.50510475, 3.5367425 , 3.56629467,\n",
       "       3.59376143, 3.61914293, 3.64243935, 3.66365088, 3.6827777 ,\n",
       "       3.69982003, 3.71477808, 3.72765208, 3.73844227, 3.7471489 ,\n",
       "       3.75377225, 3.75831261, 3.76077028, 3.76114559, 3.75943888,\n",
       "       3.75565053, 3.74978092, 3.74183047, 3.73179964, 3.71968891,\n",
       "       3.70549877, 3.68922979, 3.67088256, 3.6504577 , 3.6279559 ,\n",
       "       3.6033779 , 3.57672448, 3.5479965 , 3.5171949 , 3.48432067,\n",
       "       3.44937491, 3.41235879, 3.37327362, 3.3321208 , 3.28890187,\n",
       "       3.24361852, 3.19627261, 3.14686618, 3.09540148, 3.041881  ,\n",
       "       2.9863075 , 2.92868405, 2.86901407, 2.80730137, 2.74355026,\n",
       "       2.67776556, 2.60995272, 2.54011792, 2.46826819, 2.39441157,\n",
       "       2.31855729, 2.24071599, 2.16090003, 2.07912379, 1.99540418,\n",
       "       1.90976111, 1.8222183 , 1.73280413, 1.64155288, 1.54850631,\n",
       "       1.45371581, 1.35724525, 1.259175  , 1.15960744, 1.05867492])"
      ]
     },
     "execution_count": 21,
     "metadata": {},
     "output_type": "execute_result"
    }
   ],
   "source": [
    "optimal_G = t_vec*w_val*optimal_L*((1-t_vec)*w_val)\n",
    "optimal_G"
   ]
  },
  {
   "cell_type": "code",
   "execution_count": 22,
   "metadata": {},
   "outputs": [
    {
     "data": {
      "text/plain": [
       "array([1.28270442, 1.31268629, 1.33978581, 1.36437886, 1.38676986,\n",
       "       1.40720874, 1.42590314, 1.44302737, 1.45872911, 1.47313454,\n",
       "       1.4863522 , 1.49847614, 1.50958828, 1.5197604 , 1.52905565,\n",
       "       1.53752985, 1.54523256, 1.55220787, 1.55849517, 1.56412974,\n",
       "       1.56914324, 1.57356415, 1.57741814, 1.58072836, 1.58351572,\n",
       "       1.58579911, 1.58759562, 1.5889207 , 1.58978828, 1.59021098,\n",
       "       1.59020012, 1.58976591, 1.58891749, 1.58766301, 1.58600972,\n",
       "       1.58396399, 1.58153143, 1.57871683, 1.57552432, 1.5719573 ,\n",
       "       1.56801854, 1.56371016, 1.55903367, 1.55399001, 1.5485795 ,\n",
       "       1.54280192, 1.53665647, 1.53014179, 1.52325598, 1.51599655,\n",
       "       1.50836047, 1.50034411, 1.49194329, 1.48315321, 1.47396846,\n",
       "       1.464383  , 1.45439014, 1.44398249, 1.43315195, 1.42188967,\n",
       "       1.41018603, 1.39803055, 1.38541187, 1.3723177 , 1.35873472,\n",
       "       1.34464856, 1.33004369, 1.31490332, 1.29920932, 1.2829421 ,\n",
       "       1.2660805 , 1.24860163, 1.23048069, 1.21169083, 1.19220293,\n",
       "       1.17198535, 1.15100367, 1.12922039, 1.10659458, 1.08308145,\n",
       "       1.05863193, 1.03319206, 1.00670241, 0.97909729, 0.9503039 ,\n",
       "       0.92024124, 0.88881889, 0.85593549, 0.8214769 , 0.78531397,\n",
       "       0.74729979, 0.70726626, 0.66501975, 0.62033565, 0.57295128,\n",
       "       0.52255665, 0.46878223, 0.41118234, 0.34921243, 0.28219695])"
      ]
     },
     "execution_count": 22,
     "metadata": {},
     "output_type": "execute_result"
    }
   ],
   "source": [
    "optimal_U = np.log((k_val+(1-t_vec)*w_val*optimal_L)**a_val*optimal_G**(1-a_val))-v_val*optimal_L**2/2\n",
    "optimal_U"
   ]
  },
  {
   "cell_type": "code",
   "execution_count": 23,
   "metadata": {},
   "outputs": [
    {
     "data": {
      "text/plain": [
       "[<matplotlib.lines.Line2D at 0x7fee0108a190>]"
      ]
     },
     "execution_count": 23,
     "metadata": {},
     "output_type": "execute_result"
    },
    {
     "data": {
      "image/png": "[encoded data removed]",
      "text/plain": [
       "<Figure size 1500x500 with 3 Axes>"
      ]
     },
     "metadata": {},
     "output_type": "display_data"
    }
   ],
   "source": [
    "fig = plt.figure(figsize=(15,5))\n",
    "ax = fig.add_subplot(1,3,1)\n",
    "ax.plot(t_vec,optimal_L, c=\"purple\")\n",
    "ax = fig.add_subplot(1,3,2)\n",
    "ax.plot(t_vec,optimal_G, c=\"green\")\n",
    "ax = fig.add_subplot(1,3,3)\n",
    "ax.plot(t_vec,optimal_U,  c=\"blue\")"
   ]
  },
  {
   "attachments": {},
   "cell_type": "markdown",
   "metadata": {},
   "source": [
    "**Question 4:** Find the socially optimal tax rate $\\tau^{\\star}\\in(0,1)$ maximizing worker utility. Illustrate your result."
   ]
  },
  {
   "cell_type": "code",
   "execution_count": 32,
   "metadata": {},
   "outputs": [
    {
     "ename": "ValueError",
     "evalue": "not enough values to unpack (expected 2, got 1)",
     "output_type": "error",
     "traceback": [
      "\u001b[0;31m---------------------------------------------------------------------------\u001b[0m",
      "\u001b[0;31mValueError\u001b[0m                                Traceback (most recent call last)",
      "\u001b[0;32m/var/folders/7l/ds0r5wcs2pz7_scg8504fft00000gn/T/ipykernel_76927/1018032575.py\u001b[0m in \u001b[0;36m<module>\u001b[0;34m\u001b[0m\n\u001b[1;32m     34\u001b[0m \u001b[0;34m\u001b[0m\u001b[0m\n\u001b[1;32m     35\u001b[0m \u001b[0;31m# Use the minimize function to solve the optimization problem\u001b[0m\u001b[0;34m\u001b[0m\u001b[0;34m\u001b[0m\u001b[0m\n\u001b[0;32m---> 36\u001b[0;31m \u001b[0mresult\u001b[0m \u001b[0;34m=\u001b[0m \u001b[0moptimize\u001b[0m\u001b[0;34m.\u001b[0m\u001b[0mminimize\u001b[0m\u001b[0;34m(\u001b[0m\u001b[0mobjective_function\u001b[0m\u001b[0;34m,\u001b[0m \u001b[0minitial_guess\u001b[0m\u001b[0;34m,\u001b[0m \u001b[0mbounds\u001b[0m\u001b[0;34m=\u001b[0m\u001b[0mbounds\u001b[0m\u001b[0;34m,\u001b[0m \u001b[0mconstraints\u001b[0m\u001b[0;34m=\u001b[0m\u001b[0;34m[\u001b[0m\u001b[0mconstraint\u001b[0m\u001b[0;34m,\u001b[0m \u001b[0mpositivity_constraint\u001b[0m\u001b[0;34m]\u001b[0m\u001b[0;34m)\u001b[0m\u001b[0;34m\u001b[0m\u001b[0;34m\u001b[0m\u001b[0m\n\u001b[0m\u001b[1;32m     37\u001b[0m \u001b[0;34m\u001b[0m\u001b[0m\n\u001b[1;32m     38\u001b[0m \u001b[0;31m# Get the optimized value for t\u001b[0m\u001b[0;34m\u001b[0m\u001b[0;34m\u001b[0m\u001b[0m\n",
      "\u001b[0;32m~/opt/anaconda3/lib/python3.9/site-packages/scipy/optimize/_minimize.py\u001b[0m in \u001b[0;36mminimize\u001b[0;34m(fun, x0, args, method, jac, hess, hessp, bounds, constraints, tol, callback, options)\u001b[0m\n\u001b[1;32m    706\u001b[0m                                 **options)\n\u001b[1;32m    707\u001b[0m     \u001b[0;32melif\u001b[0m \u001b[0mmeth\u001b[0m \u001b[0;34m==\u001b[0m \u001b[0;34m'slsqp'\u001b[0m\u001b[0;34m:\u001b[0m\u001b[0;34m\u001b[0m\u001b[0;34m\u001b[0m\u001b[0m\n\u001b[0;32m--> 708\u001b[0;31m         res = _minimize_slsqp(fun, x0, args, jac, bounds,\n\u001b[0m\u001b[1;32m    709\u001b[0m                               constraints, callback=callback, **options)\n\u001b[1;32m    710\u001b[0m     \u001b[0;32melif\u001b[0m \u001b[0mmeth\u001b[0m \u001b[0;34m==\u001b[0m \u001b[0;34m'trust-constr'\u001b[0m\u001b[0;34m:\u001b[0m\u001b[0;34m\u001b[0m\u001b[0;34m\u001b[0m\u001b[0m\n",
      "\u001b[0;32m~/opt/anaconda3/lib/python3.9/site-packages/scipy/optimize/_slsqp_py.py\u001b[0m in \u001b[0;36m_minimize_slsqp\u001b[0;34m(func, x0, args, jac, bounds, constraints, maxiter, ftol, iprint, disp, eps, callback, finite_diff_rel_step, **unknown_options)\u001b[0m\n\u001b[1;32m    327\u001b[0m     meq = sum(map(len, [atleast_1d(c['fun'](x, *c['args']))\n\u001b[1;32m    328\u001b[0m               for c in cons['eq']]))\n\u001b[0;32m--> 329\u001b[0;31m     mieq = sum(map(len, [atleast_1d(c['fun'](x, *c['args']))\n\u001b[0m\u001b[1;32m    330\u001b[0m                for c in cons['ineq']]))\n\u001b[1;32m    331\u001b[0m     \u001b[0;31m# m = The total number of constraints\u001b[0m\u001b[0;34m\u001b[0m\u001b[0;34m\u001b[0m\u001b[0m\n",
      "\u001b[0;32m~/opt/anaconda3/lib/python3.9/site-packages/scipy/optimize/_slsqp_py.py\u001b[0m in \u001b[0;36m<listcomp>\u001b[0;34m(.0)\u001b[0m\n\u001b[1;32m    327\u001b[0m     meq = sum(map(len, [atleast_1d(c['fun'](x, *c['args']))\n\u001b[1;32m    328\u001b[0m               for c in cons['eq']]))\n\u001b[0;32m--> 329\u001b[0;31m     mieq = sum(map(len, [atleast_1d(c['fun'](x, *c['args']))\n\u001b[0m\u001b[1;32m    330\u001b[0m                for c in cons['ineq']]))\n\u001b[1;32m    331\u001b[0m     \u001b[0;31m# m = The total number of constraints\u001b[0m\u001b[0;34m\u001b[0m\u001b[0;34m\u001b[0m\u001b[0m\n",
      "\u001b[0;32m/var/folders/7l/ds0r5wcs2pz7_scg8504fft00000gn/T/ipykernel_76927/1018032575.py\u001b[0m in \u001b[0;36mpositivity_constraint\u001b[0;34m(x)\u001b[0m\n\u001b[1;32m     12\u001b[0m \u001b[0;34m\u001b[0m\u001b[0m\n\u001b[1;32m     13\u001b[0m \u001b[0;32mdef\u001b[0m \u001b[0mpositivity_constraint\u001b[0m\u001b[0;34m(\u001b[0m\u001b[0mx\u001b[0m\u001b[0;34m)\u001b[0m\u001b[0;34m:\u001b[0m\u001b[0;34m\u001b[0m\u001b[0;34m\u001b[0m\u001b[0m\n\u001b[0;32m---> 14\u001b[0;31m     \u001b[0moptimal_L\u001b[0m\u001b[0;34m,\u001b[0m \u001b[0moptimal_G\u001b[0m \u001b[0;34m=\u001b[0m \u001b[0mx\u001b[0m\u001b[0;34m\u001b[0m\u001b[0;34m\u001b[0m\u001b[0m\n\u001b[0m\u001b[1;32m     15\u001b[0m     \u001b[0;32mreturn\u001b[0m \u001b[0;34m[\u001b[0m\u001b[0moptimal_L\u001b[0m\u001b[0;34m,\u001b[0m \u001b[0moptimal_G\u001b[0m\u001b[0;34m]\u001b[0m\u001b[0;34m\u001b[0m\u001b[0;34m\u001b[0m\u001b[0m\n\u001b[1;32m     16\u001b[0m \u001b[0;34m\u001b[0m\u001b[0m\n",
      "\u001b[0;31mValueError\u001b[0m: not enough values to unpack (expected 2, got 1)"
     ]
    }
   ],
   "source": [
    "import numpy as np\n",
    "from scipy.optimize import minimize\n",
    "\n",
    "def objective_function(t):\n",
    "    optimal_L = (-k_val * v_val + np.sqrt(v_val * (4 * a_val * w_val**2 * (1 - t)**2 + k_val**2 * v_val))) / (2 * v_val * w_val * (1 - w_val))\n",
    "    optimal_G = t * w_val * optimal_L * ((1 - t) * w_val)\n",
    "    U = np.log((k_val + (1 - t) * w_val * optimal_L)**a_val * optimal_G**(1 - a_val)) - v_val * optimal_L**2 / 2\n",
    "    return -U\n",
    "\n",
    "def constraint(t):\n",
    "    return C - k_val + (1 - t) * w_val * optimal_L\n",
    "\n",
    "def positivity_constraint(x):\n",
    "    optimal_L, optimal_G = x\n",
    "    return [optimal_L, optimal_G]\n",
    "\n",
    "# Set the values for k_val, w_val, a_val, v_val, and C\n",
    "k_val = 1.0\n",
    "w_val = 1.0\n",
    "a_val = 0.5\n",
    "v_val = 1/2*16**2\n",
    "\n",
    "# Set the initial guess for t\n",
    "initial_guess = 0.5\n",
    "\n",
    "# Define the bounds for t (assuming it's between 0 and 1)\n",
    "bounds = [(0, 1)]\n",
    "\n",
    "# Define the constraint\n",
    "constraint = {'type': 'eq', 'fun': constraint}\n",
    "\n",
    "# Define the positivity constraint\n",
    "positivity_constraint = {'type': 'ineq', 'fun': positivity_constraint}\n",
    "\n",
    "# Use the minimize function to solve the optimization problem\n",
    "result = optimize.minimize(objective_function, initial_guess, bounds=bounds, constraints=[constraint, positivity_constraint])\n",
    "\n",
    "# Get the optimized value for t\n",
    "optimized_t = result.x[0]\n",
    "\n",
    "# Calculate optimal_L and optimal_G using the optimized t\n",
    "optimal_L = (-k_val * v_val + np.sqrt(v_val * (4 * a_val * w_val**2 * (1 - optimized_t)**2 + k_val**2 * v_val))) / (2 * v_val * w_val * (1 - w_val))\n",
    "optimal_G = optimized_t * w_val * optimal_L * ((1 - optimized_t) * w_val)\n",
    "\n",
    "# Print the optimized values\n",
    "print(\"Optimized t:\", optimized_t)\n",
    "print(\"Optimal L:\", optimal_L)\n",
    "print(\"Optimal G:\", optimal_G)\n"
   ]
  },
  {
   "cell_type": "code",
   "execution_count": null,
   "metadata": {},
   "outputs": [],
   "source": [
    "def objective(k_val, t_val, w_val, optimal_L, a_val, optimal_G, v_val):\n",
    "    return -np.log((k_val+(1-t_val)*w_val*optimal_L)**a_val*optimal_G**(1-a_val))-v_val*optimal_L**2/2\n",
    "\n",
    "def eq_constraint(C,k_val,t_val,w_val,optimal_L):\n",
    "    return C - k_val+(1-t_val)*w_val*optimal_L \n",
    "\n",
    "# a. setup\n",
    "bound = [(0,1)]\n",
    "#ineq_con = {'type': 'ineq', 'fun': ineq_constraint} \n",
    "eq_con = {'type': 'eq', 'fun': eq_constraint, 'args': (0.4,  # Example value for t_val\n",
    "                                                       1.0,  # Example value for C\n",
    "                                                       2.0,  # Example value for k_val\n",
    "                                                       3.0,  # Example value for w_val\n",
    "                                                       4.0)}\n",
    "\n",
    "# b. call optimizer\n",
    "t_0 = (0.4,) # fit the equality constraint\n",
    "result = optimize.minimize(objective,t_0,\n",
    "                             method='SLSQP',\n",
    "                             bounds=bound,\n",
    "                             constraints=[eq_con],\n",
    "                             options={'disp':True})\n",
    "\n",
    "print('\\n t = ',result.t_val)\n",
    "\n",
    "\n"
   ]
  },
  {
   "attachments": {},
   "cell_type": "markdown",
   "metadata": {},
   "source": [
    "A more general preference formulation for the worker is:\n",
    "\n",
    "$$\n",
    "\\begin{align*}\n",
    "\\mathcal{V}(w,\\tau,G)&=\\max_{L\\in[0,24]}\\frac{\\left[ \\left( \\alpha C^{\\frac{\\sigma-1}{\\sigma}}+(1-\\alpha) G^{\\frac{\\sigma-1}{\\sigma}} \\right)^{\\frac{\\sigma}{1-\\sigma} }\\right]^{1-\\rho}-1}{1-\\rho}- \\nu\\frac{L^{1+\\varepsilon}}{1+\\varepsilon},\\,\\,\\,\\varepsilon,\\rho,\\sigma>0,\\,\\,\\,\\rho,\\sigma\\neq1\\\\&\\text{s.t.}\\\\&C=\\kappa+(1-\\tau)wL\n",
    "\\end{align*}    \n",
    "$$\n",
    "\n",
    "Optimal labor supply is now $L^{\\star}(\\tilde{w},G)$."
   ]
  },
  {
   "attachments": {},
   "cell_type": "markdown",
   "metadata": {},
   "source": [
    "Questions 5 and 6 must be answered with the general formulation, and for 2 different set of parameters:\n",
    "\n",
    "- Set 1:  $\\sigma = 1.001$, $\\rho = 1.001$ and $\\varepsilon = 1.0$.\n",
    "- Set 2:  $\\sigma = 1.5$, $\\rho = 1.5$ and $\\varepsilon = 1.0 $."
   ]
  },
  {
   "attachments": {},
   "cell_type": "markdown",
   "metadata": {},
   "source": [
    "**Question 5:** Find the $G$ that solves $G = \\tau w L^{\\star}((1-\\tau)w,G)$ using the $\\tau$ found in question 4.\n",
    "\n",
    "*Hint: First write code that solves the worker problem for given values of $G$ and $\\tau$. Then find the correct G based on this.*"
   ]
  },
  {
   "cell_type": "code",
   "execution_count": null,
   "metadata": {},
   "outputs": [],
   "source": [
    "# write your code here"
   ]
  },
  {
   "attachments": {},
   "cell_type": "markdown",
   "metadata": {},
   "source": [
    "**Question 6:** Find the socially optimal tax rate, $\\tau^{\\star}$, maximizing worker utility, while keeping $G = \\tau w L^{\\star}((1-\\tau)w,G)$."
   ]
  },
  {
   "cell_type": "code",
   "execution_count": null,
   "metadata": {},
   "outputs": [],
   "source": [
    "# write your code here  "
   ]
  },
  {
   "attachments": {},
   "cell_type": "markdown",
   "metadata": {},
   "source": [
    "## 2. <a id='toc2_'></a>[Problem 2: Labor adjustment costs](#toc0_)"
   ]
  },
  {
   "attachments": {},
   "cell_type": "markdown",
   "metadata": {},
   "source": [
    "You own a hair salon. You employ hairdressers, $\\ell_t$, to produce haircuts, $y_t = \\ell_t$.\n",
    "\n",
    "The wage for each haridresser is $w$.\n",
    "\n",
    "The demand for haircuts implies that the price of haircuts you can charge is $p_t = \\kappa_t y_t^{-\\eta}$, where $\\kappa_t$ is a demand-shock and $\\eta \\in (0,1)$ measures the elasticity of demand.\n",
    "\n",
    "Profits are:\n",
    "\n",
    "$$\n",
    "\\Pi_t = p_t y_t - w \\ell_t = \\kappa_t \\ell_t^{1-\\eta} - w \\ell_t\n",
    "$$"
   ]
  },
  {
   "attachments": {},
   "cell_type": "markdown",
   "metadata": {},
   "source": [
    "Baseline parameters are:\n",
    "- $\\eta = 0.5$\n",
    "- $w = 1.0$"
   ]
  },
  {
   "attachments": {},
   "cell_type": "markdown",
   "metadata": {},
   "source": [
    "**Question 1:** Verify numerically that $\\ell_{t}=\\left(\\frac{(1-\\eta)\\kappa_{t}}{w}\\right)^{\\frac{1}{\\eta}}$ maximises profits, for $\\kappa\\in\\left\\{1.0 , 2.0\\right\\}$."
   ]
  },
  {
   "cell_type": "code",
   "execution_count": null,
   "metadata": {},
   "outputs": [],
   "source": [
    "# write your code here"
   ]
  },
  {
   "attachments": {},
   "cell_type": "markdown",
   "metadata": {},
   "source": [
    "We now consider a *dynamic* version of the model.\n",
    "\n",
    "* The demand-shock is a so-called AR(1) in logs, \n",
    "\n",
    "$$\n",
    "\\log \\kappa_{t} = \\rho \\log \\kappa_{t-1} + \\epsilon_{t},\\,\\,\\, \\epsilon_{t+1} \\sim \\mathcal{N}(-0.5\\sigma_{\\epsilon}^2,\\sigma_{\\epsilon})\n",
    "$$\n",
    "\n",
    "* Any hiring or firing implies a fixed adjustment cost, $\\iota > 0 $.\n",
    "* Future profits are discounted with a monthly factor of $R \\in (0,1)$.\n",
    "\n",
    "The initial demand shock is $\\kappa_{-1} = 1$ and the planning horizon is 10 years, i.e. 120 months so $t \\in \\{0,1,2,\\dots,119\\}$. Initially you don't have any employees, $\\ell_{-1}=0$"
   ]
  },
  {
   "attachments": {},
   "cell_type": "markdown",
   "metadata": {},
   "source": [
    "\n",
    "The *ex post* value of the salon is *conditional* on the shock series is:\n",
    "\n",
    "$$\n",
    "h(\\epsilon_0,\\epsilon_1,\\dots,\\epsilon_{119}) = \\left[\\sum_{t=0}^{119}R^{-t}\\left[\\kappa_{t}\\ell_{t}^{1-\\eta}-w\\ell_{t}-\\boldsymbol{1}_{\\ell_{t}\\neq\\ell_{t-1}}\\iota\\right]\\right]\n",
    "$$\n",
    "\n",
    "The *ex ante* expected value of the salon can be approximated by\n",
    "\n",
    "$$\n",
    "H = \\mathbb{E}[h(\\epsilon_0,\\epsilon_1,\\dots,\\epsilon_{119})] \\approx \\frac{1}{K}\\sum_{k=0}^{K} h(\\epsilon_0^k,\\epsilon_1^k,\\dots,\\epsilon_{119}^k)\n",
    "$$\n",
    "\n",
    "where each $k\\in\\{0,1,\\dots,K-1\\}$ is a random shock series. Maximizing profitability means maximizing $H$.\n"
   ]
  },
  {
   "attachments": {},
   "cell_type": "markdown",
   "metadata": {},
   "source": [
    "Baseline parameters are: \n",
    "\n",
    "- $\\rho = 0.90$\n",
    "- $\\iota = 0.01$\n",
    "- $\\sigma_{\\epsilon} = 0.10$\n",
    "- $R = \\left(1+0.01\\right)^{1/12}$"
   ]
  },
  {
   "attachments": {},
   "cell_type": "markdown",
   "metadata": {},
   "source": [
    "**Question 2:** Calculate $H$ if the policy  $\\ell_{t}=\\left(\\frac{(1-\\eta)\\kappa_{t}}{w}\\right)^{\\frac{1}{\\eta}}$ from question 1 is followed. Choose $K$ so the approximation is good enough to not affect your results substantially."
   ]
  },
  {
   "cell_type": "code",
   "execution_count": null,
   "metadata": {},
   "outputs": [],
   "source": [
    "# write your code here "
   ]
  },
  {
   "attachments": {},
   "cell_type": "markdown",
   "metadata": {},
   "source": [
    "Next, we consider policies on the form:\n",
    "\n",
    "$$\n",
    "\n",
    "\\ell_{t}=\\begin{cases}\n",
    "\\ell_t^{\\ast}  & \\text{if }\\left|\\ell_{t-1}-\\ell_t^{\\ast} \\right|>\\Delta\\\\\n",
    "\\ell_{t-1} & \\text{else }\n",
    "\\end{cases}\n",
    "\\\\\n",
    "\\text{where}\\,\\,\\ell_t^{\\ast} = \\left(\\frac{(1-\\eta)\\kappa_{t}}{w}\\right)^{\\frac{1}{\\eta}} \\\\\n",
    "\n",
    "$$\n",
    "With $\\Delta \\geq 0$ and $\\Delta = 0$ being the previous policy.\n"
   ]
  },
  {
   "attachments": {},
   "cell_type": "markdown",
   "metadata": {},
   "source": [
    "\n",
    "**Question 3:** Calculate $H$ if the policy above was followed with $\\Delta = 0.05$. Does it improve profitability?"
   ]
  },
  {
   "cell_type": "code",
   "execution_count": null,
   "metadata": {},
   "outputs": [],
   "source": [
    "# write your code here"
   ]
  },
  {
   "attachments": {},
   "cell_type": "markdown",
   "metadata": {},
   "source": [
    "**Question 4:** Find the optimal $\\Delta$ maximizing $H$. Illustrate your result."
   ]
  },
  {
   "cell_type": "code",
   "execution_count": null,
   "metadata": {},
   "outputs": [],
   "source": [
    "# write your code here"
   ]
  },
  {
   "attachments": {},
   "cell_type": "markdown",
   "metadata": {},
   "source": [
    "\n",
    "**Question 5:** Suggest an alternative policy you believe might improve profitability. Implement and test your policy.\n",
    "\n"
   ]
  },
  {
   "cell_type": "code",
   "execution_count": null,
   "metadata": {},
   "outputs": [],
   "source": [
    "# write your code here"
   ]
  },
  {
   "attachments": {},
   "cell_type": "markdown",
   "metadata": {},
   "source": [
    "## 3. <a id='toc3_'></a>[Problem 3: Global optimizer with refined multi-start](#toc0_)"
   ]
  },
  {
   "attachments": {},
   "cell_type": "markdown",
   "metadata": {},
   "source": [
    "We consider the Griewank function:\n",
    "\n",
    "$$ f(\\boldsymbol{x}) = \\sum^n_{i=1} \\frac{x^2_i}{4000}-\\prod^n_{i=1}\\cos\\left(\\frac{x_i}{\\sqrt{i}}\\right)+1$$\n",
    "\n",
    "The **global minimum** of this function is $f(0,0) = 0$ (remember: $\\cos(0)=1$).<br>\n",
    "But the function also have a lot of **local minima**."
   ]
  },
  {
   "cell_type": "code",
   "execution_count": null,
   "metadata": {},
   "outputs": [],
   "source": [
    "def griewank(x):\n",
    "    return griewank_(x[0],x[1])\n",
    "    \n",
    "def griewank_(x1,x2):\n",
    "    A = x1**2/4000 + x2**2/4000\n",
    "    B = np.cos(x1/np.sqrt(1))*np.cos(x2/np.sqrt(2))\n",
    "    return A-B+1"
   ]
  },
  {
   "attachments": {},
   "cell_type": "markdown",
   "metadata": {},
   "source": [
    "A **refined global optimizer with multi-start** is:\n",
    "\n",
    "1. Choose *bounds* for $\\mathbf{x}$ and *tolerance* $\\tau > 0$.\n",
    "2. Choose number of *warm-up iterations*, $\\underline{K} > 0$ and *maximum number of iterations*, $K > \\underline{K}$.\n",
    "3. In each iteration for $k \\in \\{0,1,\\dots,K-1\\}$:\n",
    "\n",
    "    A. Draw random $\\mathbf{x}^k$ uniformly within chosen bounds.\n",
    "\n",
    "    B. If $k < \\underline{K}$ go to step E.\n",
    "\n",
    "    C. Calculate $\\chi^k = 0.50\\cdot\\frac{2}{1+\\exp((k-\\underline{K})/100)}$  \n",
    "\n",
    "    D. Set $\\mathbf{x}^{k0} = \\chi^k \\mathbf{x}^k + (1-\\chi^k)\\mathbf{x}^{\\ast} $\n",
    "\n",
    "    E. Run optimizer with $\\mathbf{x}^{k0}$ as initial guess and $\\mathbf{x}^{k\\ast}$ as result.\n",
    "\n",
    "    F. Set $\\mathbf{x}^{\\ast} = \\mathbf{x}^{k\\ast}$ if $k = 0$ or $f(\\mathbf{x}^{k\\ast}) < f(\\mathbf{x}^{\\ast})$\n",
    "\n",
    "    G. If $f(\\mathbf{x}^{\\ast}) < \\tau$ go to step 4.\n",
    "\n",
    "4. Return the result $\\mathbf{x}^{\\ast}$."
   ]
  },
  {
   "attachments": {},
   "cell_type": "markdown",
   "metadata": {},
   "source": [
    "As settings we choose:\n",
    "\n",
    "* $x_1,x_2 \\in  [-600,600]$\n",
    "* $\\tau = 10^{-8}$\n",
    "* $\\underline{K}=10$\n",
    "* $K=1000$\n",
    "\n",
    "The optimizer in Step 3.E is `BFGS` with a tolerance of $\\tau$."
   ]
  },
  {
   "attachments": {},
   "cell_type": "markdown",
   "metadata": {},
   "source": [
    "**Question 1:** Implement the refined global optimizer with multi-start. Illustrate how the effective initial guesses $\\mathbf{x}^{k0}$ vary with the iteration counter $k$."
   ]
  },
  {
   "cell_type": "code",
   "execution_count": null,
   "metadata": {},
   "outputs": [],
   "source": [
    "# write your code here"
   ]
  },
  {
   "attachments": {},
   "cell_type": "markdown",
   "metadata": {},
   "source": [
    "**Question 2:** Is it a better idea to set $\\underline{K} = 100$? Is the convergence faster?"
   ]
  },
  {
   "cell_type": "code",
   "execution_count": null,
   "metadata": {},
   "outputs": [],
   "source": [
    "# write your code here"
   ]
  }
 ],
 "metadata": {
  "kernelspec": {
   "display_name": "base",
   "language": "python",
   "name": "python3"
  },
  "language_info": {
   "codemirror_mode": {
    "name": "ipython",
    "version": 3
   },
   "file_extension": ".py",
   "mimetype": "text/x-python",
   "name": "python",
   "nbconvert_exporter": "python",
   "pygments_lexer": "ipython3",
   "version": "3.9.13"
  },
  "orig_nbformat": 4,
  "vscode": {
   "interpreter": {
    "hash": "81ba5019e37842368fc49be8de08a0e006194f34fe1ed2c457994b200a6baabe"
   }
  }
 },
 "nbformat": 4,
 "nbformat_minor": 2
}
