{
 "cells": [
  {
   "attachments": {},
   "cell_type": "markdown",
   "metadata": {},
   "source": [
    "**Table of contents**<a id='toc0_'></a>    \n",
    "- 1. [Problem 1: Optimal taxation with government consumption](#toc1_)    \n",
    "- 2. [Problem 2: Labor adjustment costs](#toc2_)    \n",
    "- 3. [Problem 3: Global optimizer with refined multi-start](#toc3_)    \n",
    "\n",
    "<!-- vscode-jupyter-toc-config\n",
    "\tnumbering=true\n",
    "\tanchor=true\n",
    "\tflat=false\n",
    "\tminLevel=2\n",
    "\tmaxLevel=6\n",
    "\t/vscode-jupyter-toc-config -->\n",
    "<!-- THIS CELL WILL BE REPLACED ON TOC UPDATE. DO NOT WRITE YOUR TEXT IN THIS CELL -->"
   ]
  },
  {
   "cell_type": "code",
   "execution_count": 2,
   "metadata": {},
   "outputs": [],
   "source": [
    "import sympy as sm\n",
    "import numpy as np\n",
    "import matplotlib.pyplot as plt\n",
    "from scipy import optimize\n",
    "from scipy.optimize import minimize_scalar\n",
    "\n",
    "# autoreload modules when code is run\n",
    "%load_ext autoreload\n",
    "%autoreload 2"
   ]
  },
  {
   "attachments": {},
   "cell_type": "markdown",
   "metadata": {},
   "source": [
    "## 1. <a id='toc1_'></a>[Problem 1: Optimal taxation with government consumption](#toc0_)"
   ]
  },
  {
   "attachments": {},
   "cell_type": "markdown",
   "metadata": {},
   "source": [
    "\n",
    "Consider a worker choosing hours of labor, $L\\in[0,24]$, to maximize utility: \n",
    "\n",
    "$$\n",
    "\\begin{align*}\n",
    "V(w,\\tau,G)&=\\max_{L\\in[0,24]}\\ln\\left(C^{\\alpha}G^{1-\\alpha}\\right)-\\nu\\frac{L^{2}}{2}\\\\&\\text{s.t.}\\\\&C=\\kappa+(1-\\tau)wL\n",
    "\\end{align*}\n",
    "$$\n",
    "\n",
    "where \n",
    "\n",
    "* $C$ is *private* consumption with weight $\\alpha\\in(0,1)$.\n",
    "* $\\kappa > 0$ is the *free private* consumption component.\n",
    "* $C = (1-\\tau)wL$ is the *costly private* consumption component.\n",
    "* $w > 0 $ is the real wage.\n",
    "* $\\tau \\in (0,1)$ is the labor-income tax rate.\n",
    "* $G > 0 $ is *government* consumption with weight $1-\\alpha$.\n",
    "* $\\nu > 0$ is the disutility of labor scaling factor"
   ]
  },
  {
   "attachments": {},
   "cell_type": "markdown",
   "metadata": {},
   "source": [
    "\n",
    "The baseline parameters are:\n",
    "\n",
    "$$\n",
    "\\begin{align*}\n",
    "\\alpha &= 0.5\\\\\n",
    "\\kappa &= 1.0\\\\\n",
    "\\nu &= \\frac{1}{2\\cdot16^2} \\\\\n",
    "w &= 1.0 \\\\ \n",
    "\\tau &= 0.30 \\\\\n",
    "\\end{align*}\n",
    "$$"
   ]
  },
  {
   "attachments": {},
   "cell_type": "markdown",
   "metadata": {},
   "source": [
    "**Question 1:** Verify that the optimal labor supply choice is $L^{\\star}(\\tilde{w}) =\\frac{-\\kappa+\\sqrt{\\kappa^{2}+4\\frac{\\alpha}{\\nu}\\tilde{w}^2}}{2\\tilde{w}}$, where $\\tilde{w} = (1-\\tau)w$, for $G\\in\\left\\{1.0 , 2.0\\right\\}$."
   ]
  },
  {
   "cell_type": "code",
   "execution_count": 3,
   "metadata": {},
   "outputs": [],
   "source": [
    "# creating symbols\n",
    "C = sm.symbols('C') \n",
    "k = sm.symbols('kappa')\n",
    "w = sm.symbols('omega')\n",
    "t = sm.symbols('tau')\n",
    "G = sm.symbols('G')\n",
    "v = sm.symbols('nu')\n",
    "L = sm.symbols('L')\n",
    "a = sm.symbols('alpha')\n",
    "w_tilde = sm.symbols('omegatilde')\n",
    "L_star = sm.symbols('L^*')"
   ]
  },
  {
   "cell_type": "code",
   "execution_count": 4,
   "metadata": {},
   "outputs": [
    {
     "data": {
      "text/latex": [
       "$\\displaystyle - \\frac{L^{2} \\nu}{2} + \\log{\\left(C^{\\alpha} G^{1 - \\alpha} \\right)}$"
      ],
      "text/plain": [
       "-L**2*nu/2 + log(C**alpha*G**(1 - alpha))"
      ]
     },
     "execution_count": 4,
     "metadata": {},
     "output_type": "execute_result"
    }
   ],
   "source": [
    "# defining the utility function in symbols\n",
    "utility = sm.log(C**a*G**(1-a))-v*(L**2)/2\n",
    "utility"
   ]
  },
  {
   "cell_type": "code",
   "execution_count": 5,
   "metadata": {},
   "outputs": [
    {
     "data": {
      "text/latex": [
       "$\\displaystyle L \\tilde{\\omega} + \\kappa = C$"
      ],
      "text/plain": [
       "Eq(L*omegatilde + kappa, C)"
      ]
     },
     "execution_count": 5,
     "metadata": {},
     "output_type": "execute_result"
    }
   ],
   "source": [
    "# defining the budget constraint as an equality in symbols\n",
    "consumption_constraint = sm.Eq(k+w_tilde*L,C)\n",
    "consumption_constraint"
   ]
  },
  {
   "cell_type": "code",
   "execution_count": 6,
   "metadata": {},
   "outputs": [
    {
     "data": {
      "text/latex": [
       "$\\displaystyle L \\tilde{\\omega} + \\kappa$"
      ],
      "text/plain": [
       "L*omegatilde + kappa"
      ]
     },
     "execution_count": 6,
     "metadata": {},
     "output_type": "execute_result"
    }
   ],
   "source": [
    "# isolating C in the budget constraint\n",
    "C_from_constraint = sm.solve(consumption_constraint,C)\n",
    "C_from_constraint[0]"
   ]
  },
  {
   "cell_type": "code",
   "execution_count": 7,
   "metadata": {},
   "outputs": [
    {
     "data": {
      "text/latex": [
       "$\\displaystyle - \\frac{L^{2} \\nu}{2} + \\log{\\left(G^{1 - \\alpha} \\left(L \\tilde{\\omega} + \\kappa\\right)^{\\alpha} \\right)}$"
      ],
      "text/plain": [
       "-L**2*nu/2 + log(G**(1 - alpha)*(L*omegatilde + kappa)**alpha)"
      ]
     },
     "execution_count": 7,
     "metadata": {},
     "output_type": "execute_result"
    }
   ],
   "source": [
    "# substituting C from the constraint into the utility function\n",
    "utility_subs = utility.subs(C,C_from_constraint[0])\n",
    "utility_subs"
   ]
  },
  {
   "cell_type": "code",
   "execution_count": 8,
   "metadata": {},
   "outputs": [
    {
     "data": {
      "text/latex": [
       "$\\displaystyle \\frac{G^{1 - \\alpha} G^{\\alpha - 1} \\alpha \\tilde{\\omega}}{L \\tilde{\\omega} + \\kappa} - L \\nu$"
      ],
      "text/plain": [
       "G**(1 - alpha)*G**(alpha - 1)*alpha*omegatilde/(L*omegatilde + kappa) - L*nu"
      ]
     },
     "execution_count": 8,
     "metadata": {},
     "output_type": "execute_result"
    }
   ],
   "source": [
    "# calculating the first order condition\n",
    "foc = sm.diff(utility_subs, L)\n",
    "foc"
   ]
  },
  {
   "cell_type": "code",
   "execution_count": 9,
   "metadata": {},
   "outputs": [
    {
     "data": {
      "text/latex": [
       "$\\displaystyle L^{*} = \\frac{- \\kappa \\nu + \\sqrt{\\nu \\left(4 \\alpha \\tilde{\\omega}^{2} + \\kappa^{2} \\nu\\right)}}{2 \\nu \\tilde{\\omega}}$"
      ],
      "text/plain": [
       "Eq(L^*, (-kappa*nu + sqrt(nu*(4*alpha*omegatilde**2 + kappa**2*nu)))/(2*nu*omegatilde))"
      ]
     },
     "execution_count": 9,
     "metadata": {},
     "output_type": "execute_result"
    }
   ],
   "source": [
    "# solving for optimal labour supply\n",
    "sol = sm.solve(sm.Eq(foc,0), L)[1] # we choose the 1. element to get the positive solution\n",
    "sol_opt = sm.Eq(L_star,sol)\n",
    "sol_opt"
   ]
  },
  {
   "attachments": {},
   "cell_type": "markdown",
   "metadata": {},
   "source": [
    "**Question 2:** Illustrate how $L^{\\star}(\\tilde{w})$ depends on $w$."
   ]
  },
  {
   "cell_type": "code",
   "execution_count": 10,
   "metadata": {},
   "outputs": [
    {
     "data": {
      "text/latex": [
       "$\\displaystyle L^{*} = \\frac{- \\kappa \\nu + \\sqrt{\\nu \\left(4 \\alpha \\omega^{2} \\left(1 - \\tau\\right)^{2} + \\kappa^{2} \\nu\\right)}}{2 \\nu \\omega \\left(1 - \\tau\\right)}$"
      ],
      "text/plain": [
       "Eq(L^*, (-kappa*nu + sqrt(nu*(4*alpha*omega**2*(1 - tau)**2 + kappa**2*nu)))/(2*nu*omega*(1 - tau)))"
      ]
     },
     "execution_count": 10,
     "metadata": {},
     "output_type": "execute_result"
    }
   ],
   "source": [
    "# defining w_tilde\n",
    "w_tilde_eq = (1-t)*w\n",
    "\n",
    "#substituting the expression for w_tilde into the optimal labour supply\n",
    "L_star_subs = sol.subs(w_tilde,w_tilde_eq)\n",
    "L_star_subs_opt = sm.Eq(L_star, L_star_subs)\n",
    "L_star_subs_opt\n"
   ]
  },
  {
   "cell_type": "code",
   "execution_count": 11,
   "metadata": {},
   "outputs": [],
   "source": [
    "# we lambdify the labour supply equation\n",
    "labour_supply_function = sm.lambdify((w,v,k,a,t),L_star_subs)"
   ]
  },
  {
   "cell_type": "code",
   "execution_count": 12,
   "metadata": {},
   "outputs": [
    {
     "data": {
      "text/plain": [
       "Text(0.5, 1.0, 'Optimal labour supply')"
      ]
     },
     "execution_count": 12,
     "metadata": {},
     "output_type": "execute_result"
    },
    {
     "data": {
      "image/png": "[encoded data removed]",
      "text/plain": [
       "<Figure size 640x480 with 1 Axes>"
      ]
     },
     "metadata": {},
     "output_type": "display_data"
    }
   ],
   "source": [
    "#creating a vector of omega-values\n",
    "w_vec = np.linspace(0.1,200,100)\n",
    "\n",
    "# adding value to parameters\n",
    "a_val = 0.5\n",
    "k_val = 1\n",
    "v_val = 1/(2*16**2)\n",
    "w_val = 1\n",
    "t_val = 0.3\n",
    "\n",
    "# find optimal labour supply given a vector of omega-values\n",
    "labour_supply_vec = labour_supply_function(w_vec,v_val, k_val, a_val, t_val)\n",
    "\n",
    "# plot optimal labour supply given omega\n",
    "fig = plt.figure()\n",
    "ax = fig.add_subplot(1,1,1)\n",
    "ax.plot(w_vec,labour_supply_vec)\n",
    "plt.xlabel(r\"$\\omega$\")\n",
    "plt.ylabel(\"L\")\n",
    "plt.title(\"Optimal labour supply\")"
   ]
  },
  {
   "attachments": {},
   "cell_type": "markdown",
   "metadata": {},
   "source": [
    "We see that optimal labour supply...."
   ]
  },
  {
   "attachments": {},
   "cell_type": "markdown",
   "metadata": {},
   "source": [
    "\n",
    "We now consider a government, who chooses $\\tau$ and spend all of the taxes on government consumption so:\n",
    "\n",
    "$$\n",
    "G = \\tau w L^{\\star}((1-\\tau)w)\n",
    "$$\n",
    "\n",
    "**Question 3:** Plot the implied $L$, $G$ and worker utility for a grid of $\\tau$-values.\n"
   ]
  },
  {
   "cell_type": "code",
   "execution_count": 13,
   "metadata": {},
   "outputs": [
    {
     "data": {
      "text/plain": [
       "<matplotlib.legend.Legend at 0x7fadea8e7cd0>"
      ]
     },
     "execution_count": 13,
     "metadata": {},
     "output_type": "execute_result"
    },
    {
     "data": {
      "image/png": "[encoded data removed]",
      "text/plain": [
       "<Figure size 1500x500 with 3 Axes>"
      ]
     },
     "metadata": {},
     "output_type": "display_data"
    }
   ],
   "source": [
    "# creating vector of tau-values\n",
    "t_vec = np.linspace(0.1,0.9,100)\n",
    "\n",
    "# find optimal labour supply, government spending and utility given tau\n",
    "optimal_L = labour_supply_function(w_val,v_val, k_val, a_val, t_vec)\n",
    "\n",
    "optimal_G = t_vec*w_val*optimal_L\n",
    "\n",
    "optimal_U = np.log((k_val+(1-t_vec)*w_val*optimal_L)**a_val*optimal_G**(1-a_val))-v_val*optimal_L**2/2\n",
    "\n",
    "# find tau values that maximises labour supply, government spending and utility\n",
    "opt_L_val = t_vec[np.argmax(optimal_L)]\n",
    "opt_G_val = t_vec[np.argmax(optimal_G)]\n",
    "opt_t_val = t_vec[np.argmax(optimal_U)]\n",
    "\n",
    "fig = plt.figure(figsize=(15,5))\n",
    "ax = fig.add_subplot(1,3,1)\n",
    "ax.plot(t_vec,optimal_L, c=\"orange\")\n",
    "plt.xlabel(r\"$\\tau$\")\n",
    "plt.ylabel(\"L\")\n",
    "plt.title(\"Optimal labour\")\n",
    "plt.axvline(x=opt_L_val, color='r', linestyle='--', label=f\"Optimal tau: {opt_L_val:.3f}\")\n",
    "plt.legend()\n",
    "\n",
    "ax = fig.add_subplot(1,3,2)\n",
    "ax.plot(t_vec,optimal_G, c=\"green\")\n",
    "plt.xlabel(r\"$\\tau$\")\n",
    "plt.ylabel(\"G\")\n",
    "plt.title(\"Optimal government spending\")\n",
    "plt.axvline(x=opt_G_val, color='r', linestyle='--', label=f\"Optimal tau: {opt_G_val:.3f}\")\n",
    "plt.legend()\n",
    "\n",
    "\n",
    "ax = fig.add_subplot(1,3,3)\n",
    "ax.plot(t_vec,optimal_U,  c=\"blue\")\n",
    "plt.xlabel(r\"$\\tau$\")\n",
    "plt.ylabel(\"V\")\n",
    "plt.title(\"Optimal utility\")\n",
    "plt.axvline(x=opt_t_val, color='r', linestyle='--', label=f\"Optimal tau: {opt_t_val:.3f}\")\n",
    "plt.legend()\n"
   ]
  },
  {
   "attachments": {},
   "cell_type": "markdown",
   "metadata": {},
   "source": [
    "**Question 4:** Find the socially optimal tax rate $\\tau^{\\star}\\in(0,1)$ maximizing worker utility. Illustrate your result."
   ]
  },
  {
   "cell_type": "code",
   "execution_count": 14,
   "metadata": {},
   "outputs": [
    {
     "name": "stdout",
     "output_type": "stream",
     "text": [
      "Optimization terminated successfully    (Exit mode 0)\n",
      "            Current function value: -1.8591992398624537\n",
      "            Iterations: 12\n",
      "            Function evaluations: 37\n",
      "            Gradient evaluations: 12\n",
      "tau = 0.5145208445856817\n",
      "L = 15.000769114735492\n"
     ]
    }
   ],
   "source": [
    "import numpy as np\n",
    "from scipy import optimize\n",
    "\n",
    "# Define utility function\n",
    "def utility_function(tau, L):\n",
    "    U = np.log((k_val + (1 - tau) * w_val * L)**a_val * (tau*w_val*(labour_supply_function(w_val,v_val, k_val, a_val, tau)))**(1 - a_val)) - v_val * L**2 / 2\n",
    "    return U\n",
    "\n",
    "# Define objective function\n",
    "obj_func = lambda x: -utility_function(x[0], x[1])\n",
    "\n",
    "# Define bounds\n",
    "bound = [(0.1, 0.9), (0, 24)]\n",
    "\n",
    "# Define initial values\n",
    "x0 = [0.4, 16]\n",
    "\n",
    "# Call optimizer\n",
    "result = optimize.minimize(obj_func, x0, method='SLSQP', bounds=bound, options={'disp': True})\n",
    "\n",
    "# Retrieve optimized values\n",
    "tau_opt = result.x[0]\n",
    "L_opt = result.x[1]\n",
    "\n",
    "print('tau =', tau_opt)\n",
    "print('L =', L_opt)\n"
   ]
  },
  {
   "cell_type": "code",
   "execution_count": 15,
   "metadata": {},
   "outputs": [
    {
     "data": {
      "text/plain": [
       "<matplotlib.lines.Line2D at 0x7fadd8f13850>"
      ]
     },
     "execution_count": 15,
     "metadata": {},
     "output_type": "execute_result"
    },
    {
     "data": {
      "image/png": "[encoded data removed]",
      "text/plain": [
       "<Figure size 1500x700 with 2 Axes>"
      ]
     },
     "metadata": {},
     "output_type": "display_data"
    }
   ],
   "source": [
    "fig = plt.figure(figsize=(15,7))\n",
    "ax = fig.add_subplot(2,1,1)\n",
    "ax.plot(t_vec,optimal_L, c=\"orange\")\n",
    "plt.xlabel(r\"$\\tau$\")\n",
    "plt.ylabel(\"L\")\n",
    "plt.title(\"Labour and utility given the socially optimal tax rate \")\n",
    "plt.axvline(x=opt_t_val, color='r', linestyle='--', label=f\"Optimal tau: {opt_t_val:.3f}\")\n",
    "plt.legend()\n",
    "\n",
    "ax = fig.add_subplot(2,1,2)\n",
    "ax.plot(t_vec,optimal_U,  c=\"blue\")\n",
    "plt.xlabel(r\"$\\tau$\")\n",
    "plt.ylabel(\"V\")\n",
    "plt.axvline(x=opt_t_val, color='r', linestyle='--', label=f\"Optimal tau: {opt_t_val:.3f}\")"
   ]
  },
  {
   "attachments": {},
   "cell_type": "markdown",
   "metadata": {},
   "source": [
    "A more general preference formulation for the worker is:\n",
    "\n",
    "$$\n",
    "\\begin{align*}\n",
    "\\mathcal{V}(w,\\tau,G)&=\\max_{L\\in[0,24]}\\frac{\\left[ \\left( \\alpha C^{\\frac{\\sigma-1}{\\sigma}}+(1-\\alpha) G^{\\frac{\\sigma-1}{\\sigma}} \\right)^{\\frac{\\sigma}{\\sigma-1} }\\right]^{1-\\rho}-1}{1-\\rho}- \\nu\\frac{L^{1+\\varepsilon}}{1+\\varepsilon},\\,\\,\\,\\varepsilon,\\rho,\\sigma>0,\\,\\,\\,\\rho,\\sigma\\neq1\\\\&\\text{s.t.}\\\\&C=\\kappa+(1-\\tau)wL\n",
    "\\end{align*}    \n",
    "$$\n",
    "\n",
    "Optimal labor supply is now $L^{\\star}(\\tilde{w},G)$.\n",
    "Questions 5 and 6 must be answered with the general formulation, and for 2 different set of parameters:\n",
    "\n",
    "- Set 1:  $\\sigma = 1.001$, $\\rho = 1.001$ and $\\varepsilon = 1.0$.\n",
    "- Set 2:  $\\sigma = 1.5$, $\\rho = 1.5$ and $\\varepsilon = 1.0 $.\n",
    "**Question 5:** Find the $G$ that solves $G = \\tau w L^{\\star}((1-\\tau)w,G)$ using the $\\tau$ found in question 4.\n",
    "\n",
    "*Hint: First write code that solves the worker problem for given values of $G$ and $\\tau$. Then find the correct G based on this.*"
   ]
  },
  {
   "cell_type": "code",
   "execution_count": 97,
   "metadata": {},
   "outputs": [
    {
     "ename": "KeyboardInterrupt",
     "evalue": "",
     "output_type": "error",
     "traceback": [
      "\u001b[0;31m---------------------------------------------------------------------------\u001b[0m",
      "\u001b[0;31mKeyboardInterrupt\u001b[0m                         Traceback (most recent call last)",
      "\u001b[0;32m/var/folders/7l/ds0r5wcs2pz7_scg8504fft00000gn/T/ipykernel_2674/1114663381.py\u001b[0m in \u001b[0;36m<module>\u001b[0;34m\u001b[0m\n\u001b[1;32m     23\u001b[0m \u001b[0;31m# Find the value of L that maximizes V\u001b[0m\u001b[0;34m\u001b[0m\u001b[0;34m\u001b[0m\u001b[0m\n\u001b[1;32m     24\u001b[0m \u001b[0mdV_dL\u001b[0m \u001b[0;34m=\u001b[0m \u001b[0msm\u001b[0m\u001b[0;34m.\u001b[0m\u001b[0mdiff\u001b[0m\u001b[0;34m(\u001b[0m\u001b[0mV\u001b[0m\u001b[0;34m,\u001b[0m \u001b[0mL\u001b[0m\u001b[0;34m)\u001b[0m\u001b[0;34m\u001b[0m\u001b[0;34m\u001b[0m\u001b[0m\n\u001b[0;32m---> 25\u001b[0;31m \u001b[0mL_optimal\u001b[0m \u001b[0;34m=\u001b[0m \u001b[0msm\u001b[0m\u001b[0;34m.\u001b[0m\u001b[0msolve\u001b[0m\u001b[0;34m(\u001b[0m\u001b[0mdV_dL\u001b[0m\u001b[0;34m,\u001b[0m \u001b[0mL\u001b[0m\u001b[0;34m)\u001b[0m\u001b[0;34m\u001b[0m\u001b[0;34m\u001b[0m\u001b[0m\n\u001b[0m\u001b[1;32m     26\u001b[0m \u001b[0;34m\u001b[0m\u001b[0m\n\u001b[1;32m     27\u001b[0m \u001b[0;31m# Substitute the expression for L_optimal in terms of G\u001b[0m\u001b[0;34m\u001b[0m\u001b[0;34m\u001b[0m\u001b[0m\n",
      "\u001b[0;32m~/opt/anaconda3/lib/python3.9/site-packages/sympy/solvers/solvers.py\u001b[0m in \u001b[0;36msolve\u001b[0;34m(f, *symbols, **flags)\u001b[0m\n\u001b[1;32m   1104\u001b[0m     \u001b[0;31m###########################################################################\u001b[0m\u001b[0;34m\u001b[0m\u001b[0;34m\u001b[0m\u001b[0m\n\u001b[1;32m   1105\u001b[0m     \u001b[0;32mif\u001b[0m \u001b[0mbare_f\u001b[0m\u001b[0;34m:\u001b[0m\u001b[0;34m\u001b[0m\u001b[0;34m\u001b[0m\u001b[0m\n\u001b[0;32m-> 1106\u001b[0;31m         \u001b[0msolution\u001b[0m \u001b[0;34m=\u001b[0m \u001b[0m_solve\u001b[0m\u001b[0;34m(\u001b[0m\u001b[0mf\u001b[0m\u001b[0;34m[\u001b[0m\u001b[0;36m0\u001b[0m\u001b[0;34m]\u001b[0m\u001b[0;34m,\u001b[0m \u001b[0;34m*\u001b[0m\u001b[0msymbols\u001b[0m\u001b[0;34m,\u001b[0m \u001b[0;34m**\u001b[0m\u001b[0mflags\u001b[0m\u001b[0;34m)\u001b[0m\u001b[0;34m\u001b[0m\u001b[0;34m\u001b[0m\u001b[0m\n\u001b[0m\u001b[1;32m   1107\u001b[0m     \u001b[0;32melse\u001b[0m\u001b[0;34m:\u001b[0m\u001b[0;34m\u001b[0m\u001b[0;34m\u001b[0m\u001b[0m\n\u001b[1;32m   1108\u001b[0m         \u001b[0msolution\u001b[0m \u001b[0;34m=\u001b[0m \u001b[0m_solve_system\u001b[0m\u001b[0;34m(\u001b[0m\u001b[0mf\u001b[0m\u001b[0;34m,\u001b[0m \u001b[0msymbols\u001b[0m\u001b[0;34m,\u001b[0m \u001b[0;34m**\u001b[0m\u001b[0mflags\u001b[0m\u001b[0;34m)\u001b[0m\u001b[0;34m\u001b[0m\u001b[0;34m\u001b[0m\u001b[0m\n",
      "\u001b[0;32m~/opt/anaconda3/lib/python3.9/site-packages/sympy/solvers/solvers.py\u001b[0m in \u001b[0;36m_solve\u001b[0;34m(f, *symbols, **flags)\u001b[0m\n\u001b[1;32m   1484\u001b[0m         \u001b[0;32mtry\u001b[0m\u001b[0;34m:\u001b[0m\u001b[0;34m\u001b[0m\u001b[0;34m\u001b[0m\u001b[0m\n\u001b[1;32m   1485\u001b[0m             \u001b[0;32mif\u001b[0m \u001b[0mpoly\u001b[0m \u001b[0;32mis\u001b[0m \u001b[0;32mNone\u001b[0m\u001b[0;34m:\u001b[0m\u001b[0;34m\u001b[0m\u001b[0;34m\u001b[0m\u001b[0m\n\u001b[0;32m-> 1486\u001b[0;31m                 \u001b[0mpoly\u001b[0m \u001b[0;34m=\u001b[0m \u001b[0mPoly\u001b[0m\u001b[0;34m(\u001b[0m\u001b[0mf_num\u001b[0m\u001b[0;34m)\u001b[0m\u001b[0;34m\u001b[0m\u001b[0;34m\u001b[0m\u001b[0m\n\u001b[0m\u001b[1;32m   1487\u001b[0m             \u001b[0;32mif\u001b[0m \u001b[0mpoly\u001b[0m \u001b[0;32mis\u001b[0m \u001b[0;32mNone\u001b[0m\u001b[0;34m:\u001b[0m\u001b[0;34m\u001b[0m\u001b[0;34m\u001b[0m\u001b[0m\n\u001b[1;32m   1488\u001b[0m                 \u001b[0;32mraise\u001b[0m \u001b[0mValueError\u001b[0m\u001b[0;34m(\u001b[0m\u001b[0;34m'could not convert %s to Poly'\u001b[0m \u001b[0;34m%\u001b[0m \u001b[0mf_num\u001b[0m\u001b[0;34m)\u001b[0m\u001b[0;34m\u001b[0m\u001b[0;34m\u001b[0m\u001b[0m\n",
      "\u001b[0;32m~/opt/anaconda3/lib/python3.9/site-packages/sympy/polys/polytools.py\u001b[0m in \u001b[0;36m__new__\u001b[0;34m(cls, rep, *gens, **args)\u001b[0m\n\u001b[1;32m    179\u001b[0m                 \u001b[0;32mreturn\u001b[0m \u001b[0mcls\u001b[0m\u001b[0;34m.\u001b[0m\u001b[0m_from_poly\u001b[0m\u001b[0;34m(\u001b[0m\u001b[0mrep\u001b[0m\u001b[0;34m,\u001b[0m \u001b[0mopt\u001b[0m\u001b[0;34m)\u001b[0m\u001b[0;34m\u001b[0m\u001b[0;34m\u001b[0m\u001b[0m\n\u001b[1;32m    180\u001b[0m             \u001b[0;32melse\u001b[0m\u001b[0;34m:\u001b[0m\u001b[0;34m\u001b[0m\u001b[0;34m\u001b[0m\u001b[0m\n\u001b[0;32m--> 181\u001b[0;31m                 \u001b[0;32mreturn\u001b[0m \u001b[0mcls\u001b[0m\u001b[0;34m.\u001b[0m\u001b[0m_from_expr\u001b[0m\u001b[0;34m(\u001b[0m\u001b[0mrep\u001b[0m\u001b[0;34m,\u001b[0m \u001b[0mopt\u001b[0m\u001b[0;34m)\u001b[0m\u001b[0;34m\u001b[0m\u001b[0;34m\u001b[0m\u001b[0m\n\u001b[0m\u001b[1;32m    182\u001b[0m \u001b[0;34m\u001b[0m\u001b[0m\n\u001b[1;32m    183\u001b[0m     \u001b[0;31m# Poly does not pass its args to Basic.__new__ to be stored in _args so we\u001b[0m\u001b[0;34m\u001b[0m\u001b[0;34m\u001b[0m\u001b[0m\n",
      "\u001b[0;32m~/opt/anaconda3/lib/python3.9/site-packages/sympy/polys/polytools.py\u001b[0m in \u001b[0;36m_from_expr\u001b[0;34m(cls, rep, opt)\u001b[0m\n\u001b[1;32m    309\u001b[0m         \u001b[0;34m\"\"\"Construct a polynomial from an expression. \"\"\"\u001b[0m\u001b[0;34m\u001b[0m\u001b[0;34m\u001b[0m\u001b[0m\n\u001b[1;32m    310\u001b[0m         \u001b[0mrep\u001b[0m\u001b[0;34m,\u001b[0m \u001b[0mopt\u001b[0m \u001b[0;34m=\u001b[0m \u001b[0m_dict_from_expr\u001b[0m\u001b[0;34m(\u001b[0m\u001b[0mrep\u001b[0m\u001b[0;34m,\u001b[0m \u001b[0mopt\u001b[0m\u001b[0;34m)\u001b[0m\u001b[0;34m\u001b[0m\u001b[0;34m\u001b[0m\u001b[0m\n\u001b[0;32m--> 311\u001b[0;31m         \u001b[0;32mreturn\u001b[0m \u001b[0mcls\u001b[0m\u001b[0;34m.\u001b[0m\u001b[0m_from_dict\u001b[0m\u001b[0;34m(\u001b[0m\u001b[0mrep\u001b[0m\u001b[0;34m,\u001b[0m \u001b[0mopt\u001b[0m\u001b[0;34m)\u001b[0m\u001b[0;34m\u001b[0m\u001b[0;34m\u001b[0m\u001b[0m\n\u001b[0m\u001b[1;32m    312\u001b[0m \u001b[0;34m\u001b[0m\u001b[0m\n\u001b[1;32m    313\u001b[0m     \u001b[0;34m@\u001b[0m\u001b[0mclassmethod\u001b[0m\u001b[0;34m\u001b[0m\u001b[0;34m\u001b[0m\u001b[0m\n",
      "\u001b[0;32m~/opt/anaconda3/lib/python3.9/site-packages/sympy/polys/polytools.py\u001b[0m in \u001b[0;36m_from_dict\u001b[0;34m(cls, rep, opt)\u001b[0m\n\u001b[1;32m    258\u001b[0m                 \u001b[0mrep\u001b[0m\u001b[0;34m[\u001b[0m\u001b[0mmonom\u001b[0m\u001b[0;34m]\u001b[0m \u001b[0;34m=\u001b[0m \u001b[0mdomain\u001b[0m\u001b[0;34m.\u001b[0m\u001b[0mconvert\u001b[0m\u001b[0;34m(\u001b[0m\u001b[0mcoeff\u001b[0m\u001b[0;34m)\u001b[0m\u001b[0;34m\u001b[0m\u001b[0;34m\u001b[0m\u001b[0m\n\u001b[1;32m    259\u001b[0m \u001b[0;34m\u001b[0m\u001b[0m\n\u001b[0;32m--> 260\u001b[0;31m         \u001b[0;32mreturn\u001b[0m \u001b[0mcls\u001b[0m\u001b[0;34m.\u001b[0m\u001b[0mnew\u001b[0m\u001b[0;34m(\u001b[0m\u001b[0mDMP\u001b[0m\u001b[0;34m.\u001b[0m\u001b[0mfrom_dict\u001b[0m\u001b[0;34m(\u001b[0m\u001b[0mrep\u001b[0m\u001b[0;34m,\u001b[0m \u001b[0mlevel\u001b[0m\u001b[0;34m,\u001b[0m \u001b[0mdomain\u001b[0m\u001b[0;34m)\u001b[0m\u001b[0;34m,\u001b[0m \u001b[0;34m*\u001b[0m\u001b[0mgens\u001b[0m\u001b[0;34m)\u001b[0m\u001b[0;34m\u001b[0m\u001b[0;34m\u001b[0m\u001b[0m\n\u001b[0m\u001b[1;32m    261\u001b[0m \u001b[0;34m\u001b[0m\u001b[0m\n\u001b[1;32m    262\u001b[0m     \u001b[0;34m@\u001b[0m\u001b[0mclassmethod\u001b[0m\u001b[0;34m\u001b[0m\u001b[0;34m\u001b[0m\u001b[0m\n",
      "\u001b[0;32m~/opt/anaconda3/lib/python3.9/site-packages/sympy/polys/polyclasses.py\u001b[0m in \u001b[0;36mfrom_dict\u001b[0;34m(cls, rep, lev, dom)\u001b[0m\n\u001b[1;32m    277\u001b[0m     \u001b[0;32mdef\u001b[0m \u001b[0mfrom_dict\u001b[0m\u001b[0;34m(\u001b[0m\u001b[0mcls\u001b[0m\u001b[0;34m,\u001b[0m \u001b[0mrep\u001b[0m\u001b[0;34m,\u001b[0m \u001b[0mlev\u001b[0m\u001b[0;34m,\u001b[0m \u001b[0mdom\u001b[0m\u001b[0;34m)\u001b[0m\u001b[0;34m:\u001b[0m\u001b[0;34m\u001b[0m\u001b[0;34m\u001b[0m\u001b[0m\n\u001b[1;32m    278\u001b[0m         \u001b[0;34m\"\"\"Construct and instance of ``cls`` from a ``dict`` representation. \"\"\"\u001b[0m\u001b[0;34m\u001b[0m\u001b[0;34m\u001b[0m\u001b[0m\n\u001b[0;32m--> 279\u001b[0;31m         \u001b[0;32mreturn\u001b[0m \u001b[0mcls\u001b[0m\u001b[0;34m(\u001b[0m\u001b[0mdmp_from_dict\u001b[0m\u001b[0;34m(\u001b[0m\u001b[0mrep\u001b[0m\u001b[0;34m,\u001b[0m \u001b[0mlev\u001b[0m\u001b[0;34m,\u001b[0m \u001b[0mdom\u001b[0m\u001b[0;34m)\u001b[0m\u001b[0;34m,\u001b[0m \u001b[0mdom\u001b[0m\u001b[0;34m,\u001b[0m \u001b[0mlev\u001b[0m\u001b[0;34m)\u001b[0m\u001b[0;34m\u001b[0m\u001b[0;34m\u001b[0m\u001b[0m\n\u001b[0m\u001b[1;32m    280\u001b[0m \u001b[0;34m\u001b[0m\u001b[0m\n\u001b[1;32m    281\u001b[0m     \u001b[0;34m@\u001b[0m\u001b[0mclassmethod\u001b[0m\u001b[0;34m\u001b[0m\u001b[0;34m\u001b[0m\u001b[0m\n",
      "\u001b[0;32m~/opt/anaconda3/lib/python3.9/site-packages/sympy/polys/densebasic.py\u001b[0m in \u001b[0;36mdmp_from_dict\u001b[0;34m(f, u, K)\u001b[0m\n\u001b[1;32m   1010\u001b[0m \u001b[0;34m\u001b[0m\u001b[0m\n\u001b[1;32m   1011\u001b[0m         \u001b[0;32mif\u001b[0m \u001b[0mcoeff\u001b[0m \u001b[0;32mis\u001b[0m \u001b[0;32mnot\u001b[0m \u001b[0;32mNone\u001b[0m\u001b[0;34m:\u001b[0m\u001b[0;34m\u001b[0m\u001b[0;34m\u001b[0m\u001b[0m\n\u001b[0;32m-> 1012\u001b[0;31m             \u001b[0mh\u001b[0m\u001b[0;34m.\u001b[0m\u001b[0mappend\u001b[0m\u001b[0;34m(\u001b[0m\u001b[0mdmp_from_dict\u001b[0m\u001b[0;34m(\u001b[0m\u001b[0mcoeff\u001b[0m\u001b[0;34m,\u001b[0m \u001b[0mv\u001b[0m\u001b[0;34m,\u001b[0m \u001b[0mK\u001b[0m\u001b[0;34m)\u001b[0m\u001b[0;34m)\u001b[0m\u001b[0;34m\u001b[0m\u001b[0;34m\u001b[0m\u001b[0m\n\u001b[0m\u001b[1;32m   1013\u001b[0m         \u001b[0;32melse\u001b[0m\u001b[0;34m:\u001b[0m\u001b[0;34m\u001b[0m\u001b[0;34m\u001b[0m\u001b[0m\n\u001b[1;32m   1014\u001b[0m             \u001b[0mh\u001b[0m\u001b[0;34m.\u001b[0m\u001b[0mappend\u001b[0m\u001b[0;34m(\u001b[0m\u001b[0mdmp_zero\u001b[0m\u001b[0;34m(\u001b[0m\u001b[0mv\u001b[0m\u001b[0;34m)\u001b[0m\u001b[0;34m)\u001b[0m\u001b[0;34m\u001b[0m\u001b[0;34m\u001b[0m\u001b[0m\n",
      "\u001b[0;32m~/opt/anaconda3/lib/python3.9/site-packages/sympy/polys/densebasic.py\u001b[0m in \u001b[0;36mdmp_from_dict\u001b[0;34m(f, u, K)\u001b[0m\n\u001b[1;32m   1010\u001b[0m \u001b[0;34m\u001b[0m\u001b[0m\n\u001b[1;32m   1011\u001b[0m         \u001b[0;32mif\u001b[0m \u001b[0mcoeff\u001b[0m \u001b[0;32mis\u001b[0m \u001b[0;32mnot\u001b[0m \u001b[0;32mNone\u001b[0m\u001b[0;34m:\u001b[0m\u001b[0;34m\u001b[0m\u001b[0;34m\u001b[0m\u001b[0m\n\u001b[0;32m-> 1012\u001b[0;31m             \u001b[0mh\u001b[0m\u001b[0;34m.\u001b[0m\u001b[0mappend\u001b[0m\u001b[0;34m(\u001b[0m\u001b[0mdmp_from_dict\u001b[0m\u001b[0;34m(\u001b[0m\u001b[0mcoeff\u001b[0m\u001b[0;34m,\u001b[0m \u001b[0mv\u001b[0m\u001b[0;34m,\u001b[0m \u001b[0mK\u001b[0m\u001b[0;34m)\u001b[0m\u001b[0;34m)\u001b[0m\u001b[0;34m\u001b[0m\u001b[0;34m\u001b[0m\u001b[0m\n\u001b[0m\u001b[1;32m   1013\u001b[0m         \u001b[0;32melse\u001b[0m\u001b[0;34m:\u001b[0m\u001b[0;34m\u001b[0m\u001b[0;34m\u001b[0m\u001b[0m\n\u001b[1;32m   1014\u001b[0m             \u001b[0mh\u001b[0m\u001b[0;34m.\u001b[0m\u001b[0mappend\u001b[0m\u001b[0;34m(\u001b[0m\u001b[0mdmp_zero\u001b[0m\u001b[0;34m(\u001b[0m\u001b[0mv\u001b[0m\u001b[0;34m)\u001b[0m\u001b[0;34m)\u001b[0m\u001b[0;34m\u001b[0m\u001b[0;34m\u001b[0m\u001b[0m\n",
      "\u001b[0;32m~/opt/anaconda3/lib/python3.9/site-packages/sympy/polys/densebasic.py\u001b[0m in \u001b[0;36mdmp_from_dict\u001b[0;34m(f, u, K)\u001b[0m\n\u001b[1;32m   1010\u001b[0m \u001b[0;34m\u001b[0m\u001b[0m\n\u001b[1;32m   1011\u001b[0m         \u001b[0;32mif\u001b[0m \u001b[0mcoeff\u001b[0m \u001b[0;32mis\u001b[0m \u001b[0;32mnot\u001b[0m \u001b[0;32mNone\u001b[0m\u001b[0;34m:\u001b[0m\u001b[0;34m\u001b[0m\u001b[0;34m\u001b[0m\u001b[0m\n\u001b[0;32m-> 1012\u001b[0;31m             \u001b[0mh\u001b[0m\u001b[0;34m.\u001b[0m\u001b[0mappend\u001b[0m\u001b[0;34m(\u001b[0m\u001b[0mdmp_from_dict\u001b[0m\u001b[0;34m(\u001b[0m\u001b[0mcoeff\u001b[0m\u001b[0;34m,\u001b[0m \u001b[0mv\u001b[0m\u001b[0;34m,\u001b[0m \u001b[0mK\u001b[0m\u001b[0;34m)\u001b[0m\u001b[0;34m)\u001b[0m\u001b[0;34m\u001b[0m\u001b[0;34m\u001b[0m\u001b[0m\n\u001b[0m\u001b[1;32m   1013\u001b[0m         \u001b[0;32melse\u001b[0m\u001b[0;34m:\u001b[0m\u001b[0;34m\u001b[0m\u001b[0;34m\u001b[0m\u001b[0m\n\u001b[1;32m   1014\u001b[0m             \u001b[0mh\u001b[0m\u001b[0;34m.\u001b[0m\u001b[0mappend\u001b[0m\u001b[0;34m(\u001b[0m\u001b[0mdmp_zero\u001b[0m\u001b[0;34m(\u001b[0m\u001b[0mv\u001b[0m\u001b[0;34m)\u001b[0m\u001b[0;34m)\u001b[0m\u001b[0;34m\u001b[0m\u001b[0;34m\u001b[0m\u001b[0m\n",
      "\u001b[0;32m~/opt/anaconda3/lib/python3.9/site-packages/sympy/polys/densebasic.py\u001b[0m in \u001b[0;36mdmp_from_dict\u001b[0;34m(f, u, K)\u001b[0m\n\u001b[1;32m   1010\u001b[0m \u001b[0;34m\u001b[0m\u001b[0m\n\u001b[1;32m   1011\u001b[0m         \u001b[0;32mif\u001b[0m \u001b[0mcoeff\u001b[0m \u001b[0;32mis\u001b[0m \u001b[0;32mnot\u001b[0m \u001b[0;32mNone\u001b[0m\u001b[0;34m:\u001b[0m\u001b[0;34m\u001b[0m\u001b[0;34m\u001b[0m\u001b[0m\n\u001b[0;32m-> 1012\u001b[0;31m             \u001b[0mh\u001b[0m\u001b[0;34m.\u001b[0m\u001b[0mappend\u001b[0m\u001b[0;34m(\u001b[0m\u001b[0mdmp_from_dict\u001b[0m\u001b[0;34m(\u001b[0m\u001b[0mcoeff\u001b[0m\u001b[0;34m,\u001b[0m \u001b[0mv\u001b[0m\u001b[0;34m,\u001b[0m \u001b[0mK\u001b[0m\u001b[0;34m)\u001b[0m\u001b[0;34m)\u001b[0m\u001b[0;34m\u001b[0m\u001b[0;34m\u001b[0m\u001b[0m\n\u001b[0m\u001b[1;32m   1013\u001b[0m         \u001b[0;32melse\u001b[0m\u001b[0;34m:\u001b[0m\u001b[0;34m\u001b[0m\u001b[0;34m\u001b[0m\u001b[0m\n\u001b[1;32m   1014\u001b[0m             \u001b[0mh\u001b[0m\u001b[0;34m.\u001b[0m\u001b[0mappend\u001b[0m\u001b[0;34m(\u001b[0m\u001b[0mdmp_zero\u001b[0m\u001b[0;34m(\u001b[0m\u001b[0mv\u001b[0m\u001b[0;34m)\u001b[0m\u001b[0;34m)\u001b[0m\u001b[0;34m\u001b[0m\u001b[0;34m\u001b[0m\u001b[0m\n",
      "\u001b[0;32m~/opt/anaconda3/lib/python3.9/site-packages/sympy/polys/densebasic.py\u001b[0m in \u001b[0;36mdmp_from_dict\u001b[0;34m(f, u, K)\u001b[0m\n\u001b[1;32m   1010\u001b[0m \u001b[0;34m\u001b[0m\u001b[0m\n\u001b[1;32m   1011\u001b[0m         \u001b[0;32mif\u001b[0m \u001b[0mcoeff\u001b[0m \u001b[0;32mis\u001b[0m \u001b[0;32mnot\u001b[0m \u001b[0;32mNone\u001b[0m\u001b[0;34m:\u001b[0m\u001b[0;34m\u001b[0m\u001b[0;34m\u001b[0m\u001b[0m\n\u001b[0;32m-> 1012\u001b[0;31m             \u001b[0mh\u001b[0m\u001b[0;34m.\u001b[0m\u001b[0mappend\u001b[0m\u001b[0;34m(\u001b[0m\u001b[0mdmp_from_dict\u001b[0m\u001b[0;34m(\u001b[0m\u001b[0mcoeff\u001b[0m\u001b[0;34m,\u001b[0m \u001b[0mv\u001b[0m\u001b[0;34m,\u001b[0m \u001b[0mK\u001b[0m\u001b[0;34m)\u001b[0m\u001b[0;34m)\u001b[0m\u001b[0;34m\u001b[0m\u001b[0;34m\u001b[0m\u001b[0m\n\u001b[0m\u001b[1;32m   1013\u001b[0m         \u001b[0;32melse\u001b[0m\u001b[0;34m:\u001b[0m\u001b[0;34m\u001b[0m\u001b[0;34m\u001b[0m\u001b[0m\n\u001b[1;32m   1014\u001b[0m             \u001b[0mh\u001b[0m\u001b[0;34m.\u001b[0m\u001b[0mappend\u001b[0m\u001b[0;34m(\u001b[0m\u001b[0mdmp_zero\u001b[0m\u001b[0;34m(\u001b[0m\u001b[0mv\u001b[0m\u001b[0;34m)\u001b[0m\u001b[0;34m)\u001b[0m\u001b[0;34m\u001b[0m\u001b[0;34m\u001b[0m\u001b[0m\n",
      "\u001b[0;32m~/opt/anaconda3/lib/python3.9/site-packages/sympy/polys/densebasic.py\u001b[0m in \u001b[0;36mdmp_from_dict\u001b[0;34m(f, u, K)\u001b[0m\n\u001b[1;32m   1012\u001b[0m             \u001b[0mh\u001b[0m\u001b[0;34m.\u001b[0m\u001b[0mappend\u001b[0m\u001b[0;34m(\u001b[0m\u001b[0mdmp_from_dict\u001b[0m\u001b[0;34m(\u001b[0m\u001b[0mcoeff\u001b[0m\u001b[0;34m,\u001b[0m \u001b[0mv\u001b[0m\u001b[0;34m,\u001b[0m \u001b[0mK\u001b[0m\u001b[0;34m)\u001b[0m\u001b[0;34m)\u001b[0m\u001b[0;34m\u001b[0m\u001b[0;34m\u001b[0m\u001b[0m\n\u001b[1;32m   1013\u001b[0m         \u001b[0;32melse\u001b[0m\u001b[0;34m:\u001b[0m\u001b[0;34m\u001b[0m\u001b[0;34m\u001b[0m\u001b[0m\n\u001b[0;32m-> 1014\u001b[0;31m             \u001b[0mh\u001b[0m\u001b[0;34m.\u001b[0m\u001b[0mappend\u001b[0m\u001b[0;34m(\u001b[0m\u001b[0mdmp_zero\u001b[0m\u001b[0;34m(\u001b[0m\u001b[0mv\u001b[0m\u001b[0;34m)\u001b[0m\u001b[0;34m)\u001b[0m\u001b[0;34m\u001b[0m\u001b[0;34m\u001b[0m\u001b[0m\n\u001b[0m\u001b[1;32m   1015\u001b[0m \u001b[0;34m\u001b[0m\u001b[0m\n\u001b[1;32m   1016\u001b[0m     \u001b[0;32mreturn\u001b[0m \u001b[0mdmp_strip\u001b[0m\u001b[0;34m(\u001b[0m\u001b[0mh\u001b[0m\u001b[0;34m,\u001b[0m \u001b[0mu\u001b[0m\u001b[0;34m)\u001b[0m\u001b[0;34m\u001b[0m\u001b[0;34m\u001b[0m\u001b[0m\n",
      "\u001b[0;31mKeyboardInterrupt\u001b[0m: "
     ]
    }
   ],
   "source": [
    "# Define symbolic variables\n",
    "L = sm.symbols('L', real=True)\n",
    "sigma = 1.001\n",
    "rho = 1.001\n",
    "epsilon = 1.0\n",
    "tau = 0.5\n",
    "alpha = 0.5\n",
    "kappa = 1.0\n",
    "w = 1.0\n",
    "G = sm.symbols('G', real=True)\n",
    "nu = 1.0\n",
    "\n",
    "# Define the expression for C\n",
    "C = kappa + (1 - tau) * w * L\n",
    "\n",
    "# Define the expression for V\n",
    "term1 = (alpha * C**((sigma - 1) / sigma) + (1 - alpha) * G**((sigma - 1) / sigma))**(sigma / (sigma - 1))\n",
    "term2 = (1 - rho)\n",
    "term3 = (1 + epsilon)\n",
    "term4 = (L**(1 + epsilon)) / (1 + epsilon)\n",
    "V = ((term1**term2) - 1) / term2 - nu * term4\n",
    "\n",
    "# Find the value of L that maximizes V\n",
    "dV_dL = sm.diff(V, L)\n",
    "L_optimal = sm.solve(dV_dL, L)\n",
    "\n",
    "# Substitute the expression for L_optimal in terms of G\n",
    "L_optimal_expr = L_optimal[0].subs(G, sm.Symbol('G'))\n",
    "L_optimal_expr_simplified = sm.simplify(L_optimal_expr)\n",
    "\n",
    "print(f\"The expression for L that maximizes V in terms of G is: L = {L_optimal_expr_simplified}\")\n"
   ]
  },
  {
   "cell_type": "code",
   "execution_count": null,
   "metadata": {},
   "outputs": [],
   "source": [
    "sigma_val = 1.001\n",
    "rho_val = 1.001\n",
    "epsilon_val = 1.0\n",
    "t_val = 0.5"
   ]
  },
  {
   "cell_type": "code",
   "execution_count": 93,
   "metadata": {},
   "outputs": [
    {
     "name": "stdout",
     "output_type": "stream",
     "text": [
      "Set 1:\n",
      "G: 5.363445511637438e-06\n",
      "L*: 4.6391640893973474e-06\n",
      "V: [1.00594647]\n",
      "\n",
      "Set 2:\n",
      "G: 5.363445511637438e-06\n",
      "L*: 4.6391640893973474e-06\n",
      "V: [7.94390536]\n"
     ]
    }
   ],
   "source": [
    "import numpy as np\n",
    "from scipy.optimize import minimize_scalar\n",
    "from scipy.interpolate import RegularGridInterpolator\n",
    "\n",
    "# Given values\n",
    "alpha = 0.5\n",
    "kappa = 0.1\n",
    "nu = 0.2\n",
    "w = 1.0\n",
    "tau_set = 0.5  # Value of tau from question 4\n",
    "\n",
    "# Set 1 parameters\n",
    "sigma_val_set1 = 1.001\n",
    "rho_val_set1 = 1.001\n",
    "epsilon_val_set1 = 1.0\n",
    "\n",
    "# Set 2 parameters\n",
    "sigma_val_set2 = 1.5\n",
    "rho_val_set2 = 1.5\n",
    "epsilon_val_set2 = 1.0\n",
    "\n",
    "# Generate grid of G and L values\n",
    "G_values = np.linspace(0, 10, 101)  # Adjust the range as needed\n",
    "L_values = np.linspace(0, 24, 101)  # Adjust the range as needed\n",
    "\n",
    "# Calculate V for each G and L combination for set 1\n",
    "V_values_set1 = np.zeros((len(G_values), len(L_values)))\n",
    "for i, G in enumerate(G_values):\n",
    "    for j, L in enumerate(L_values):\n",
    "        C = kappa + (1 - tau_set) * w * L\n",
    "        V = ((alpha * C ** ((sigma_val_set1 - 1) / sigma_val_set1) + (1 - alpha) * G ** ((sigma_val_set1 - 1) / sigma_val_set1)) **\n",
    "             (sigma_val_set1 / (sigma_val_set1 - 1))) ** (1 - rho_val_set1) - 1\n",
    "        disutility = nu * (L ** (1 + epsilon_val_set1)) / (1 + epsilon_val_set1)\n",
    "        V_values_set1[i, j] = V - disutility\n",
    "\n",
    "# Create the interpolator for set 1\n",
    "interpolator_set1 = RegularGridInterpolator([G_values, L_values], V_values_set1, bounds_error=False, fill_value=None)\n",
    "\n",
    "# Calculate V for each G and L combination for set 2\n",
    "V_values_set2 = np.zeros((len(G_values), len(L_values)))\n",
    "for i, G in enumerate(G_values):\n",
    "    for j, L in enumerate(L_values):\n",
    "        C = kappa + (1 - tau_set) * w * L\n",
    "        V = ((alpha * C ** ((sigma_val_set2 - 1) / sigma_val_set2) + (1 - alpha) * G ** ((sigma_val_set2 - 1) / sigma_val_set2)) **\n",
    "             (sigma_val_set2 / (sigma_val_set2 - 1))) ** (1 - rho_val_set2) - 1\n",
    "        disutility = nu * (L ** (1 + epsilon_val_set2)) / (1 + epsilon_val_set2)\n",
    "        V_values_set2[i, j] = V - disutility\n",
    "\n",
    "# Create the interpolator for set 2\n",
    "interpolator_set2 = RegularGridInterpolator([G_values, L_values], V_values_set2, bounds_error=False, fill_value=None)\n",
    "\n",
    "# Function to solve for optimal L given G\n",
    "def solve_for_L(G, sigma_val, rho_val, epsilon_val):\n",
    "    def objective(L):\n",
    "        C = kappa + (1 - tau_set) * w * L\n",
    "        V = ((alpha * C ** ((sigma_val - 1) / sigma_val) + (1 - alpha) * G ** ((sigma_val - 1) / sigma_val)) **\n",
    "             (sigma_val / (sigma_val - 1))) ** (1 - rho_val) - 1\n",
    "        disutility = nu * (L ** (1 + epsilon_val)) / (1 + epsilon_val)\n",
    "        return -(V - disutility)\n",
    "    \n",
    "    result = minimize_scalar(objective, bounds=(0, 24), method='bounded')\n",
    "    return result.x\n",
    "\n",
    "# Solve for set 1\n",
    "G_solution_set1 = minimize_scalar(lambda G: abs(G - tau_set * w * solve_for_L(G, sigma_val_set1, rho_val_set1, epsilon_val_set1)), bounds=(0, 10), method='bounded').x\n",
    "L_star_solution_set1 = solve_for_L(G_solution_set1, sigma_val_set1, rho_val_set1, epsilon_val_set1)\n",
    "V_solution_set1 = interpolator_set1([G_solution_set1, L_star_solution_set1])\n",
    "\n",
    "# Solve for set 2\n",
    "G_solution_set2 = minimize_scalar(lambda G: abs(G - tau_set * w * solve_for_L(G, sigma_val_set2, rho_val_set2, epsilon_val_set2)), bounds=(0, 10), method='bounded').x\n",
    "L_star_solution_set2 = solve_for_L(G_solution_set2, sigma_val_set2, rho_val_set2, epsilon_val_set2)\n",
    "V_solution_set2 = interpolator_set2([G_solution_set2, L_star_solution_set2])\n",
    "\n",
    "# Print the results\n",
    "print(\"Set 1:\")\n",
    "print(\"G:\", G_solution_set1)\n",
    "print(\"L*:\", L_star_solution_set1)\n",
    "print(\"V:\", V_solution_set1)\n",
    "\n",
    "print(\"\\nSet 2:\")\n",
    "print(\"G:\", G_solution_set2)\n",
    "print(\"L*:\", L_star_solution_set2)\n",
    "print(\"V:\", V_solution_set2)\n"
   ]
  },
  {
   "cell_type": "code",
   "execution_count": 63,
   "metadata": {},
   "outputs": [],
   "source": [
    "t_val_opt = tau_opt\n",
    "t_val_opt\n",
    "sigma_val = 1.001\n",
    "rho_val = 1.001\n",
    "epsilon_val = 1.0"
   ]
  },
  {
   "cell_type": "code",
   "execution_count": 88,
   "metadata": {},
   "outputs": [
    {
     "name": "stdout",
     "output_type": "stream",
     "text": [
      "Set 1:\n",
      "G: 2.3195820446986737e-06\n",
      "L*: 4.6391640893973474e-06\n",
      "V: 0.006486989379849144\n"
     ]
    }
   ],
   "source": [
    "import numpy as np\n",
    "from scipy.optimize import minimize_scalar, fsolve\n",
    "from scipy.interpolate import RegularGridInterpolator\n",
    "\n",
    "# Parameters\n",
    "sigma_set1 = 1.001\n",
    "rho_set1 = 1.001\n",
    "epsilon_set1 = 1.0\n",
    "\n",
    "sigma_set2 = 1.5\n",
    "rho_set2 = 1.5\n",
    "epsilon_set2 = 1.0\n",
    "\n",
    "# Define the worker's optimization problem\n",
    "def worker_optimization(G, tau, w, sigma, rho, epsilon):\n",
    "    def objective_function(L):\n",
    "        C = kappa + (1 - tau) * w * L\n",
    "        value = ((alpha * C ** ((sigma - 1) / sigma) + (1 - alpha) * G ** ((sigma - 1) / sigma)) **\n",
    "                 (sigma / (sigma - 1))) ** (1 - rho) - 1\n",
    "        disutility = nu * (L ** (1 + epsilon)) / (1 + epsilon)\n",
    "        return -(value - disutility)\n",
    "\n",
    "    # Find optimal labor supply\n",
    "    result = minimize_scalar(objective_function, bounds=(0, 24), method='bounded')\n",
    "    return result.x\n",
    "\n",
    "# Given values\n",
    "alpha = 0.5\n",
    "kappa = 1\n",
    "nu = 1/2*16**2\n",
    "w = 1.0\n",
    "tau_set1 = 0.5  # Value of tau from question 4\n",
    "\n",
    "# Set 1 parameters\n",
    "sigma_val_set1 = 1.001\n",
    "rho_val_set1 = 1.001\n",
    "epsilon_val_set1 = 1.0\n",
    "\n",
    "# Generate grid of (G, tau) points\n",
    "G_values = np.linspace(0, 10, 101)  # Adjust the range as needed\n",
    "tau_values = np.linspace(0, 1, 101)  # Adjust the range as needed\n",
    "G_grid, tau_grid = np.meshgrid(G_values, tau_values)\n",
    "\n",
    "# Calculate V for each (G, tau) point in the grid\n",
    "V_values_set1 = np.zeros_like(G_grid)\n",
    "for i in range(len(G_values)):\n",
    "    for j in range(len(tau_values)):\n",
    "        G = G_grid[i, j]\n",
    "        tau = tau_grid[i, j]\n",
    "        L_star = worker_optimization(G, tau, w, sigma_val_set1, rho_val_set1, epsilon_val_set1)\n",
    "        C = kappa + (1 - tau) * w * L_star\n",
    "        V = ((alpha * C ** ((sigma_val_set1 - 1) / sigma_val_set1) + (1 - alpha) * G ** ((sigma_val_set1 - 1) / sigma_val_set1)) **\n",
    "             (sigma_val_set1 / (sigma_val_set1 - 1))) ** (1 - rho_val_set1) - 1\n",
    "        disutility = nu * (L_star ** (1 + epsilon_val_set1)) / (1 + epsilon_val_set1)\n",
    "        V_values_set1[i, j] = V - disutility\n",
    "\n",
    "# Interpolate the values of V over the grid\n",
    "interpolator_set1 = RegularGridInterpolator([G_values, tau_values], V_values_set1,\n",
    "                                            bounds_error=False, fill_value=None)\n",
    "\n",
    "# Solve for G that satisfies G = tau w L^star[(1 - tau)w, G]\n",
    "def equation_to_solve(G, tau, w, sigma, rho, epsilon):\n",
    "    L_star = worker_optimization(G, tau, w, sigma, rho, epsilon)\n",
    "    return G - tau * w * L_star\n",
    "\n",
    "# Solve the equation using the interpolated function\n",
    "G_solution_set1 = fsolve(equation_to_solve, 1.0, args=(tau_set1, w, sigma_val_set1, rho_val_set1, epsilon_val_set1))\n",
    "\n",
    "# Calculate the corresponding value of L* for the solution\n",
    "L_star_solution_set1 = worker_optimization(G_solution_set1[0], tau_set1, w, sigma_val_set1, rho_val_set1, epsilon_val_set1)\n",
    "\n",
    "# Calculate the value of V for the solution\n",
    "C_solution_set1 = kappa + (1 - tau_set1) * w * L_star_solution_set1\n",
    "V_solution_set1 = ((alpha * C_solution_set1 ** ((sigma_val_set1 - 1) / sigma_val_set1) + (1 - alpha) * G_solution_set1[0] ** ((sigma_val_set1 - 1) / sigma_val_set1)) **\n",
    "                   (sigma_val_set1 / (sigma_val_set1 - 1))) ** (1 - rho_val_set1) - 1\n",
    "disutility_solution_set1 = nu * (L_star_solution_set1 ** (1 + epsilon_val_set1)) / (1 + epsilon_val_set1)\n",
    "\n",
    "# Print the results\n",
    "print(\"Set 1:\")\n",
    "print(\"G:\", G_solution_set1[0])\n",
    "print(\"L*:\", L_star_solution_set1)\n",
    "print(\"V:\", V_solution_set1 - disutility_solution_set1)\n"
   ]
  },
  {
   "cell_type": "code",
   "execution_count": 82,
   "metadata": {},
   "outputs": [
    {
     "name": "stdout",
     "output_type": "stream",
     "text": [
      "The value of L that maximizes V-function: 0.8706\n",
      "The corresponding value of G: 0.4353\n"
     ]
    }
   ],
   "source": [
    "from scipy.optimize import minimize_scalar\n",
    "\n",
    "def V_function(L, w, tau, alpha, sigma, rho, nu, kappa, epsilon, G):\n",
    "    C = kappa + (1 - tau) * w * L\n",
    "    V = (((alpha * C**((sigma-1)/sigma) + (1 - alpha) * G**((sigma-1)/sigma))**(sigma/(sigma-1)))**(1-rho) - 1) / (1 - rho) - nu * (L**(1 + epsilon)) / (1 + epsilon)\n",
    "    return -V  # Negative sign because we want to maximize the function\n",
    "\n",
    "# Constants\n",
    "alpha = 0.5\n",
    "sigma = 1.5\n",
    "rho = 1.5\n",
    "nu = 1.0\n",
    "kappa = 0.0\n",
    "epsilon = 1.0\n",
    "tau = 0.5\n",
    "w = 1.0\n",
    "\n",
    "# Initial guess for L and G\n",
    "L_guess = 16.0\n",
    "G_guess = tau * w * L_guess\n",
    "\n",
    "# Perform iterations to find L_star and G_star\n",
    "max_iterations = 1000\n",
    "tolerance = 1e-6\n",
    "\n",
    "for _ in range(max_iterations):\n",
    "    # Fix G and find the optimal L\n",
    "    result = minimize_scalar(V_function, args=(w, tau, alpha, sigma, rho, nu, kappa, epsilon, G_guess), bounds=(0, 24), method='bounded')\n",
    "    L_star = result.x\n",
    "\n",
    "    # Fix L and calculate the corresponding G\n",
    "    G_star = tau * w * L_star\n",
    "\n",
    "    # Check for convergence\n",
    "    if abs(G_star - G_guess) < tolerance:\n",
    "        break\n",
    "\n",
    "    # Update the guess for G\n",
    "    G_guess = G_star\n",
    "\n",
    "print(f\"The value of L that maximizes V-function: {L_star:.4f}\")\n",
    "print(f\"The corresponding value of G: {G_star:.4f}\")\n"
   ]
  },
  {
   "cell_type": "code",
   "execution_count": 78,
   "metadata": {},
   "outputs": [
    {
     "name": "stdout",
     "output_type": "stream",
     "text": [
      "The value of L that maximizes V-function: 0.7074742501792439\n",
      "The corresponding value of G: 0.35373712508962196\n"
     ]
    }
   ],
   "source": [
    "from scipy.optimize import minimize_scalar\n",
    "\n",
    "def V_function(L, w, tau, alpha, sigma, rho, nu, kappa, epsilon, G):\n",
    "    C = kappa + (1 - tau) * w * L\n",
    "    V = (((alpha * C**((sigma-1)/sigma) + (1 - alpha) * G**((sigma-1)/sigma))**(sigma/(sigma-1)))**(1-rho) - 1) / (1 - rho) - nu * (L**(1 + epsilon)) / (1 + epsilon)\n",
    "    return -V  # Negative sign because we want to maximize the function\n",
    "\n",
    "# Constants\n",
    "alpha = 0.5\n",
    "sigma = 1.001\n",
    "rho = 1.001\n",
    "nu = 1.0\n",
    "kappa = 0.0\n",
    "epsilon = 1.0\n",
    "tau = 0.5\n",
    "w = 1.0\n",
    "\n",
    "def find_L_star(G):\n",
    "    # Define a function that calculates V_function with fixed G\n",
    "    def V_fixed_G(L):\n",
    "        return V_function(L, w, tau, alpha, sigma, rho, nu, kappa, epsilon, G)\n",
    "\n",
    "    # Find the maximum of V_fixed_G using interpolation\n",
    "    result = minimize_scalar(V_fixed_G, bounds=(0, 24), method='bounded')\n",
    "    L_star = result.x\n",
    "    return L_star\n",
    "\n",
    "# Initial guess for G\n",
    "G_guess = 1.0\n",
    "\n",
    "# Find L_star and G_star\n",
    "tolerance = 1e-6\n",
    "max_iterations = 100\n",
    "G_prev = G_guess\n",
    "\n",
    "for _ in range(max_iterations):\n",
    "    L_star = find_L_star(G_prev)\n",
    "    G_star = tau * w * L_star\n",
    "\n",
    "    # Check for convergence\n",
    "    if abs(G_star - G_prev) < tolerance:\n",
    "        break\n",
    "\n",
    "    # Update the previous guess for G\n",
    "    G_prev = G_star\n",
    "\n",
    "print(f\"The value of L that maximizes V-function: {L_star}\")\n",
    "print(f\"The corresponding value of G: {G_star}\")\n"
   ]
  },
  {
   "cell_type": "code",
   "execution_count": 79,
   "metadata": {},
   "outputs": [],
   "source": [
    "s = sm.symbols('sigma')\n",
    "rho = sm.symbols('rho')\n",
    "eps = sm.symbols('epsilon')"
   ]
  },
  {
   "cell_type": "code",
   "execution_count": 66,
   "metadata": {},
   "outputs": [
    {
     "data": {
      "text/latex": [
       "$\\displaystyle - \\frac{L^{\\epsilon + 1} \\nu}{\\epsilon + 1} + \\frac{\\left(\\left(G^{\\frac{\\sigma - 1}{\\sigma}} \\left(1 - \\alpha\\right) + \\alpha \\left(L \\left(1.0 - 1.0 \\tau\\right) + \\kappa\\right)^{\\frac{\\sigma - 1}{\\sigma}}\\right)^{\\frac{\\sigma}{\\sigma - 1}}\\right)^{1 - \\rho} - 1}{1 - \\rho}$"
      ],
      "text/plain": [
       "-L**(epsilon + 1)*nu/(epsilon + 1) + (((G**((sigma - 1)/sigma)*(1 - alpha) + alpha*(L*(1.0 - 1.0*tau) + kappa)**((sigma - 1)/sigma))**(sigma/(sigma - 1)))**(1 - rho) - 1)/(1 - rho)"
      ]
     },
     "execution_count": 66,
     "metadata": {},
     "output_type": "execute_result"
    }
   ],
   "source": [
    "# defining the utility function\n",
    "utility_new = (((a * (k+(1-t)*w*L)**((s - 1) / s) + (1 - a) * G**((s - 1) / s))**(s / (s- 1)))**(1 - rho) - 1) / (1 - rho) - v * L**(1 + eps) / (1 + eps)\n",
    "utility_new"
   ]
  },
  {
   "cell_type": "code",
   "execution_count": 67,
   "metadata": {},
   "outputs": [
    {
     "data": {
      "text/latex": [
       "$\\displaystyle L \\left(1.0 - 1.0 \\tau\\right) + \\kappa = C$"
      ],
      "text/plain": [
       "Eq(L*(1.0 - 1.0*tau) + kappa, C)"
      ]
     },
     "execution_count": 67,
     "metadata": {},
     "output_type": "execute_result"
    }
   ],
   "source": [
    "# defining the budget constraint as an equality\n",
    "consumption_constraint = sm.Eq(k+(1-t)*w*L,C)\n",
    "consumption_constraint"
   ]
  },
  {
   "cell_type": "code",
   "execution_count": 68,
   "metadata": {},
   "outputs": [
    {
     "data": {
      "text/latex": [
       "$\\displaystyle - \\frac{L^{\\epsilon + 1} \\nu}{\\epsilon + 1} + \\frac{\\left(\\left(G^{\\frac{\\sigma - 1}{\\sigma}} \\left(1 - \\alpha\\right) + \\alpha \\left(L \\left(1.0 - 1.0 \\tau\\right) + \\kappa\\right)^{\\frac{\\sigma - 1}{\\sigma}}\\right)^{\\frac{\\sigma}{\\sigma - 1}}\\right)^{1 - \\rho} - 1}{1 - \\rho}$"
      ],
      "text/plain": [
       "-L**(epsilon + 1)*nu/(epsilon + 1) + (((G**((sigma - 1)/sigma)*(1 - alpha) + alpha*(L*(1.0 - 1.0*tau) + kappa)**((sigma - 1)/sigma))**(sigma/(sigma - 1)))**(1 - rho) - 1)/(1 - rho)"
      ]
     },
     "execution_count": 68,
     "metadata": {},
     "output_type": "execute_result"
    }
   ],
   "source": [
    "# substituting C from the constraint into the utility function\n",
    "utility_subs_new = utility_new.subs(C,C_from_constraint[0])\n",
    "utility_subs_new"
   ]
  },
  {
   "cell_type": "code",
   "execution_count": 69,
   "metadata": {},
   "outputs": [
    {
     "data": {
      "text/latex": [
       "$\\displaystyle \\frac{\\alpha \\left(1.0 - 1.0 \\tau\\right) \\left(L \\left(1.0 - 1.0 \\tau\\right) + \\kappa\\right)^{\\frac{\\sigma - 1}{\\sigma}} \\left(\\left(G^{\\frac{\\sigma - 1}{\\sigma}} \\left(1 - \\alpha\\right) + \\alpha \\left(L \\left(1.0 - 1.0 \\tau\\right) + \\kappa\\right)^{\\frac{\\sigma - 1}{\\sigma}}\\right)^{\\frac{\\sigma}{\\sigma - 1}}\\right)^{1 - \\rho}}{\\left(G^{\\frac{\\sigma - 1}{\\sigma}} \\left(1 - \\alpha\\right) + \\alpha \\left(L \\left(1.0 - 1.0 \\tau\\right) + \\kappa\\right)^{\\frac{\\sigma - 1}{\\sigma}}\\right) \\left(L \\left(1.0 - 1.0 \\tau\\right) + \\kappa\\right)} - \\frac{L^{\\epsilon + 1} \\nu}{L}$"
      ],
      "text/plain": [
       "alpha*(1.0 - 1.0*tau)*(L*(1.0 - 1.0*tau) + kappa)**((sigma - 1)/sigma)*((G**((sigma - 1)/sigma)*(1 - alpha) + alpha*(L*(1.0 - 1.0*tau) + kappa)**((sigma - 1)/sigma))**(sigma/(sigma - 1)))**(1 - rho)/((G**((sigma - 1)/sigma)*(1 - alpha) + alpha*(L*(1.0 - 1.0*tau) + kappa)**((sigma - 1)/sigma))*(L*(1.0 - 1.0*tau) + kappa)) - L**(epsilon + 1)*nu/L"
      ]
     },
     "execution_count": 69,
     "metadata": {},
     "output_type": "execute_result"
    }
   ],
   "source": [
    "# calculating the foc\n",
    "foc_new = sm.diff(utility_subs_new, L)\n",
    "foc_new"
   ]
  },
  {
   "cell_type": "code",
   "execution_count": 70,
   "metadata": {},
   "outputs": [
    {
     "ename": "NotImplementedError",
     "evalue": "multiple generators [((-G*alpha/G**(1/sigma) + G/G**(1/sigma) - L*alpha*tau/(-L*tau + L + kappa)**(1/sigma) + L*alpha/(-L*tau + L + kappa)**(1/sigma) + alpha*kappa/(-L*tau + L + kappa)**(1/sigma))**(sigma/(sigma - 1)))**(-rho), (-G*alpha/G**(1/sigma) + G/G**(1/sigma) - L*alpha*tau/(-L*tau + L + kappa)**(1/sigma) + L*alpha/(-L*tau + L + kappa)**(1/sigma) + alpha*kappa/(-L*tau + L + kappa)**(1/sigma))**(sigma/(sigma - 1)), (-L*tau + L + kappa)**(-1/sigma), L, L**epsilon]\nNo algorithms are implemented to solve equation alpha*(1 - tau)*(L*(1 - tau) + kappa)**((sigma - 1)/sigma)*((G**((sigma - 1)/sigma)*(1 - alpha) + alpha*(L*(1 - tau) + kappa)**((sigma - 1)/sigma))**(sigma/(sigma - 1)))**(1 - rho)/((G**((sigma - 1)/sigma)*(1 - alpha) + alpha*(L*(1 - tau) + kappa)**((sigma - 1)/sigma))*(L*(1 - tau) + kappa)) - L**(epsilon + 1)*nu/L",
     "output_type": "error",
     "traceback": [
      "\u001b[0;31m---------------------------------------------------------------------------\u001b[0m",
      "\u001b[0;31mNotImplementedError\u001b[0m                       Traceback (most recent call last)",
      "\u001b[0;32m/var/folders/7l/ds0r5wcs2pz7_scg8504fft00000gn/T/ipykernel_2674/2433307015.py\u001b[0m in \u001b[0;36m<module>\u001b[0;34m\u001b[0m\n\u001b[1;32m      1\u001b[0m \u001b[0;31m# solving for optimal labour supply\u001b[0m\u001b[0;34m\u001b[0m\u001b[0;34m\u001b[0m\u001b[0m\n\u001b[0;32m----> 2\u001b[0;31m \u001b[0msol_new\u001b[0m \u001b[0;34m=\u001b[0m \u001b[0msm\u001b[0m\u001b[0;34m.\u001b[0m\u001b[0msolve\u001b[0m\u001b[0;34m(\u001b[0m\u001b[0msm\u001b[0m\u001b[0;34m.\u001b[0m\u001b[0mEq\u001b[0m\u001b[0;34m(\u001b[0m\u001b[0mfoc_new\u001b[0m\u001b[0;34m,\u001b[0m\u001b[0;36m0\u001b[0m\u001b[0;34m)\u001b[0m\u001b[0;34m,\u001b[0m \u001b[0mL\u001b[0m\u001b[0;34m)\u001b[0m\u001b[0;34m[\u001b[0m\u001b[0;36m0\u001b[0m\u001b[0;34m]\u001b[0m\u001b[0;34m\u001b[0m\u001b[0;34m\u001b[0m\u001b[0m\n\u001b[0m\u001b[1;32m      3\u001b[0m \u001b[0msol_opt_new\u001b[0m \u001b[0;34m=\u001b[0m \u001b[0msm\u001b[0m\u001b[0;34m.\u001b[0m\u001b[0mEq\u001b[0m\u001b[0;34m(\u001b[0m\u001b[0mL_star\u001b[0m\u001b[0;34m,\u001b[0m\u001b[0msol_new\u001b[0m\u001b[0;34m)\u001b[0m\u001b[0;34m\u001b[0m\u001b[0;34m\u001b[0m\u001b[0m\n\u001b[1;32m      4\u001b[0m \u001b[0msol_opt_new\u001b[0m\u001b[0;34m\u001b[0m\u001b[0;34m\u001b[0m\u001b[0m\n",
      "\u001b[0;32m~/opt/anaconda3/lib/python3.9/site-packages/sympy/solvers/solvers.py\u001b[0m in \u001b[0;36msolve\u001b[0;34m(f, *symbols, **flags)\u001b[0m\n\u001b[1;32m   1104\u001b[0m     \u001b[0;31m###########################################################################\u001b[0m\u001b[0;34m\u001b[0m\u001b[0;34m\u001b[0m\u001b[0m\n\u001b[1;32m   1105\u001b[0m     \u001b[0;32mif\u001b[0m \u001b[0mbare_f\u001b[0m\u001b[0;34m:\u001b[0m\u001b[0;34m\u001b[0m\u001b[0;34m\u001b[0m\u001b[0m\n\u001b[0;32m-> 1106\u001b[0;31m         \u001b[0msolution\u001b[0m \u001b[0;34m=\u001b[0m \u001b[0m_solve\u001b[0m\u001b[0;34m(\u001b[0m\u001b[0mf\u001b[0m\u001b[0;34m[\u001b[0m\u001b[0;36m0\u001b[0m\u001b[0;34m]\u001b[0m\u001b[0;34m,\u001b[0m \u001b[0;34m*\u001b[0m\u001b[0msymbols\u001b[0m\u001b[0;34m,\u001b[0m \u001b[0;34m**\u001b[0m\u001b[0mflags\u001b[0m\u001b[0;34m)\u001b[0m\u001b[0;34m\u001b[0m\u001b[0;34m\u001b[0m\u001b[0m\n\u001b[0m\u001b[1;32m   1107\u001b[0m     \u001b[0;32melse\u001b[0m\u001b[0;34m:\u001b[0m\u001b[0;34m\u001b[0m\u001b[0;34m\u001b[0m\u001b[0m\n\u001b[1;32m   1108\u001b[0m         \u001b[0msolution\u001b[0m \u001b[0;34m=\u001b[0m \u001b[0m_solve_system\u001b[0m\u001b[0;34m(\u001b[0m\u001b[0mf\u001b[0m\u001b[0;34m,\u001b[0m \u001b[0msymbols\u001b[0m\u001b[0;34m,\u001b[0m \u001b[0;34m**\u001b[0m\u001b[0mflags\u001b[0m\u001b[0;34m)\u001b[0m\u001b[0;34m\u001b[0m\u001b[0;34m\u001b[0m\u001b[0m\n",
      "\u001b[0;32m~/opt/anaconda3/lib/python3.9/site-packages/sympy/solvers/solvers.py\u001b[0m in \u001b[0;36m_solve\u001b[0;34m(f, *symbols, **flags)\u001b[0m\n\u001b[1;32m   1718\u001b[0m \u001b[0;34m\u001b[0m\u001b[0m\n\u001b[1;32m   1719\u001b[0m     \u001b[0;32mif\u001b[0m \u001b[0mresult\u001b[0m \u001b[0;32mis\u001b[0m \u001b[0;32mFalse\u001b[0m\u001b[0;34m:\u001b[0m\u001b[0;34m\u001b[0m\u001b[0;34m\u001b[0m\u001b[0m\n\u001b[0;32m-> 1720\u001b[0;31m         \u001b[0;32mraise\u001b[0m \u001b[0mNotImplementedError\u001b[0m\u001b[0;34m(\u001b[0m\u001b[0;34m'\\n'\u001b[0m\u001b[0;34m.\u001b[0m\u001b[0mjoin\u001b[0m\u001b[0;34m(\u001b[0m\u001b[0;34m[\u001b[0m\u001b[0mmsg\u001b[0m\u001b[0;34m,\u001b[0m \u001b[0mnot_impl_msg\u001b[0m \u001b[0;34m%\u001b[0m \u001b[0mf\u001b[0m\u001b[0;34m]\u001b[0m\u001b[0;34m)\u001b[0m\u001b[0;34m)\u001b[0m\u001b[0;34m\u001b[0m\u001b[0;34m\u001b[0m\u001b[0m\n\u001b[0m\u001b[1;32m   1721\u001b[0m \u001b[0;34m\u001b[0m\u001b[0m\n\u001b[1;32m   1722\u001b[0m     \u001b[0;32mif\u001b[0m \u001b[0mflags\u001b[0m\u001b[0;34m.\u001b[0m\u001b[0mget\u001b[0m\u001b[0;34m(\u001b[0m\u001b[0;34m'simplify'\u001b[0m\u001b[0;34m,\u001b[0m \u001b[0;32mTrue\u001b[0m\u001b[0;34m)\u001b[0m\u001b[0;34m:\u001b[0m\u001b[0;34m\u001b[0m\u001b[0;34m\u001b[0m\u001b[0m\n",
      "\u001b[0;31mNotImplementedError\u001b[0m: multiple generators [((-G*alpha/G**(1/sigma) + G/G**(1/sigma) - L*alpha*tau/(-L*tau + L + kappa)**(1/sigma) + L*alpha/(-L*tau + L + kappa)**(1/sigma) + alpha*kappa/(-L*tau + L + kappa)**(1/sigma))**(sigma/(sigma - 1)))**(-rho), (-G*alpha/G**(1/sigma) + G/G**(1/sigma) - L*alpha*tau/(-L*tau + L + kappa)**(1/sigma) + L*alpha/(-L*tau + L + kappa)**(1/sigma) + alpha*kappa/(-L*tau + L + kappa)**(1/sigma))**(sigma/(sigma - 1)), (-L*tau + L + kappa)**(-1/sigma), L, L**epsilon]\nNo algorithms are implemented to solve equation alpha*(1 - tau)*(L*(1 - tau) + kappa)**((sigma - 1)/sigma)*((G**((sigma - 1)/sigma)*(1 - alpha) + alpha*(L*(1 - tau) + kappa)**((sigma - 1)/sigma))**(sigma/(sigma - 1)))**(1 - rho)/((G**((sigma - 1)/sigma)*(1 - alpha) + alpha*(L*(1 - tau) + kappa)**((sigma - 1)/sigma))*(L*(1 - tau) + kappa)) - L**(epsilon + 1)*nu/L"
     ]
    }
   ],
   "source": [
    "# solving for optimal labour supply\n",
    "sol_new = sm.solve(sm.Eq(foc_new,0), L)[0]\n",
    "sol_opt_new = sm.Eq(L_star,sol_new)\n",
    "sol_opt_new"
   ]
  },
  {
   "cell_type": "code",
   "execution_count": null,
   "metadata": {},
   "outputs": [
    {
     "name": "stderr",
     "output_type": "stream",
     "text": [
      "/var/folders/7l/ds0r5wcs2pz7_scg8504fft00000gn/T/ipykernel_96771/164656282.py:7: SymPyDeprecationWarning: \n",
      "\n",
      "Eq(expr) with a single argument with the right-hand side\n",
      "defaulting to 0 is deprecated. Use Eq(expr, 0) instead.\n",
      "\n",
      "See https://docs.sympy.org/latest/explanation/active-deprecations.html#deprecated-eq-expr\n",
      "for details.\n",
      "\n",
      "This has been deprecated since SymPy version 1.5. It\n",
      "will be removed in a future version of SymPy.\n",
      "\n",
      "  equation = Eq(alpha*omega*(1 - tau)*(L*omega*(1 - tau) + kappa)**((sigma - 1)/sigma)*((G**((sigma - 1)/sigma)*(1 - alpha) + alpha*(L*omega*(1 - tau) + kappa)**((sigma - 1)/sigma))**(sigma/(sigma - 1)))**(1 - rho)/((G**((sigma - 1)/sigma)*(1 - alpha) + alpha*(L*omega*(1 - tau) + kappa)**((sigma - 1)/sigma))*(L*omega*(1 - tau) + kappa)) - L**(epsilon + 1)*nu/L)\n"
     ]
    },
    {
     "ename": "ValueError",
     "evalue": "\nexpected a one-dimensional and numerical function",
     "output_type": "error",
     "traceback": [
      "\u001b[0;31m---------------------------------------------------------------------------\u001b[0m",
      "\u001b[0;31mValueError\u001b[0m                                Traceback (most recent call last)",
      "\u001b[0;32m/var/folders/7l/ds0r5wcs2pz7_scg8504fft00000gn/T/ipykernel_96771/164656282.py\u001b[0m in \u001b[0;36m<module>\u001b[0;34m\u001b[0m\n\u001b[1;32m      8\u001b[0m \u001b[0;34m\u001b[0m\u001b[0m\n\u001b[1;32m      9\u001b[0m \u001b[0;31m# Solve numerically\u001b[0m\u001b[0;34m\u001b[0m\u001b[0;34m\u001b[0m\u001b[0m\n\u001b[0;32m---> 10\u001b[0;31m \u001b[0msolution\u001b[0m \u001b[0;34m=\u001b[0m \u001b[0mnsolve\u001b[0m\u001b[0;34m(\u001b[0m\u001b[0mequation\u001b[0m\u001b[0;34m,\u001b[0m \u001b[0mL\u001b[0m\u001b[0;34m,\u001b[0m \u001b[0;36m1\u001b[0m\u001b[0;34m)\u001b[0m  \u001b[0;31m# Assuming an initial guess of L = 1\u001b[0m\u001b[0;34m\u001b[0m\u001b[0;34m\u001b[0m\u001b[0m\n\u001b[0m\u001b[1;32m     11\u001b[0m \u001b[0;34m\u001b[0m\u001b[0m\n\u001b[1;32m     12\u001b[0m \u001b[0mprint\u001b[0m\u001b[0;34m(\u001b[0m\u001b[0msolution\u001b[0m\u001b[0;34m)\u001b[0m\u001b[0;34m\u001b[0m\u001b[0;34m\u001b[0m\u001b[0m\n",
      "\u001b[0;32m~/opt/anaconda3/lib/python3.9/site-packages/sympy/utilities/decorator.py\u001b[0m in \u001b[0;36mfunc_wrapper\u001b[0;34m(*args, **kwargs)\u001b[0m\n\u001b[1;32m     86\u001b[0m         \u001b[0mdps\u001b[0m \u001b[0;34m=\u001b[0m \u001b[0mmpmath\u001b[0m\u001b[0;34m.\u001b[0m\u001b[0mmp\u001b[0m\u001b[0;34m.\u001b[0m\u001b[0mdps\u001b[0m\u001b[0;34m\u001b[0m\u001b[0;34m\u001b[0m\u001b[0m\n\u001b[1;32m     87\u001b[0m         \u001b[0;32mtry\u001b[0m\u001b[0;34m:\u001b[0m\u001b[0;34m\u001b[0m\u001b[0;34m\u001b[0m\u001b[0m\n\u001b[0;32m---> 88\u001b[0;31m             \u001b[0;32mreturn\u001b[0m \u001b[0mfunc\u001b[0m\u001b[0;34m(\u001b[0m\u001b[0;34m*\u001b[0m\u001b[0margs\u001b[0m\u001b[0;34m,\u001b[0m \u001b[0;34m**\u001b[0m\u001b[0mkwargs\u001b[0m\u001b[0;34m)\u001b[0m\u001b[0;34m\u001b[0m\u001b[0;34m\u001b[0m\u001b[0m\n\u001b[0m\u001b[1;32m     89\u001b[0m         \u001b[0;32mfinally\u001b[0m\u001b[0;34m:\u001b[0m\u001b[0;34m\u001b[0m\u001b[0;34m\u001b[0m\u001b[0m\n\u001b[1;32m     90\u001b[0m             \u001b[0mmpmath\u001b[0m\u001b[0;34m.\u001b[0m\u001b[0mmp\u001b[0m\u001b[0;34m.\u001b[0m\u001b[0mdps\u001b[0m \u001b[0;34m=\u001b[0m \u001b[0mdps\u001b[0m\u001b[0;34m\u001b[0m\u001b[0;34m\u001b[0m\u001b[0m\n",
      "\u001b[0;32m~/opt/anaconda3/lib/python3.9/site-packages/sympy/solvers/solvers.py\u001b[0m in \u001b[0;36mnsolve\u001b[0;34m(dict, *args, **kwargs)\u001b[0m\n\u001b[1;32m   2929\u001b[0m             \u001b[0mfargs\u001b[0m \u001b[0;34m=\u001b[0m \u001b[0msyms\u001b[0m\u001b[0;34m.\u001b[0m\u001b[0mcopy\u001b[0m\u001b[0;34m(\u001b[0m\u001b[0;34m)\u001b[0m\u001b[0;34m.\u001b[0m\u001b[0mpop\u001b[0m\u001b[0;34m(\u001b[0m\u001b[0;34m)\u001b[0m\u001b[0;34m\u001b[0m\u001b[0;34m\u001b[0m\u001b[0m\n\u001b[1;32m   2930\u001b[0m         \u001b[0;32mif\u001b[0m \u001b[0;32mnot\u001b[0m \u001b[0;34m(\u001b[0m\u001b[0mlen\u001b[0m\u001b[0;34m(\u001b[0m\u001b[0msyms\u001b[0m\u001b[0;34m)\u001b[0m \u001b[0;34m==\u001b[0m \u001b[0;36m1\u001b[0m \u001b[0;32mand\u001b[0m \u001b[0;34m(\u001b[0m\u001b[0mfargs\u001b[0m \u001b[0;32min\u001b[0m \u001b[0msyms\u001b[0m \u001b[0;32mor\u001b[0m \u001b[0mfargs\u001b[0m\u001b[0;34m[\u001b[0m\u001b[0;36m0\u001b[0m\u001b[0;34m]\u001b[0m \u001b[0;32min\u001b[0m \u001b[0msyms\u001b[0m\u001b[0;34m)\u001b[0m\u001b[0;34m)\u001b[0m\u001b[0;34m:\u001b[0m\u001b[0;34m\u001b[0m\u001b[0;34m\u001b[0m\u001b[0m\n\u001b[0;32m-> 2931\u001b[0;31m             raise ValueError(filldedent('''\n\u001b[0m\u001b[1;32m   2932\u001b[0m                 expected a one-dimensional and numerical function'''))\n\u001b[1;32m   2933\u001b[0m \u001b[0;34m\u001b[0m\u001b[0m\n",
      "\u001b[0;31mValueError\u001b[0m: \nexpected a one-dimensional and numerical function"
     ]
    }
   ],
   "source": [
    "from sympy import symbols, Eq, nsolve\n",
    "\n",
    "# Define the symbols in the equation\n",
    "L, G, alpha, sigma, omega, tau, kappa, rho, epsilon, nu = symbols('L G alpha sigma omega tau kappa rho epsilon nu')\n",
    "\n",
    "# Define the equation\n",
    "equation = Eq(alpha*omega*(1 - tau)*(L*omega*(1 - tau) + kappa)**((sigma - 1)/sigma)*((G**((sigma - 1)/sigma)*(1 - alpha) + alpha*(L*omega*(1 - tau) + kappa)**((sigma - 1)/sigma))**(sigma/(sigma - 1)))**(1 - rho)/((G**((sigma - 1)/sigma)*(1 - alpha) + alpha*(L*omega*(1 - tau) + kappa)**((sigma - 1)/sigma))*(L*omega*(1 - tau) + kappa)) - L**(epsilon + 1)*nu/L)\n",
    "\n",
    "# Solve numerically\n",
    "solution = nsolve(equation, L, 1)  # Assuming an initial guess of L = 1\n",
    "\n",
    "print(solution)\n"
   ]
  },
  {
   "cell_type": "code",
   "execution_count": null,
   "metadata": {},
   "outputs": [
    {
     "name": "stdout",
     "output_type": "stream",
     "text": [
      "Optimization terminated successfully    (Exit mode 0)\n",
      "            Current function value: -1.3854722537021904\n",
      "            Iterations: 8\n",
      "            Function evaluations: 25\n",
      "            Gradient evaluations: 8\n",
      "L = 14.99416357087824\n",
      "G = 3.0\n"
     ]
    }
   ],
   "source": [
    "# Define utility function\n",
    "def utility_function(L, G):\n",
    "    U = (((a_val * (k_val+(1-t_val_opt)*w_val*L)**((sigma_val - 1) / sigma_val) + (1 - a_val) * G**((sigma_val - 1) / sigma_val))**(sigma_val / (sigma_val - 1)))**(1 - rho_val) - 1) / (1 - rho_val) - v_val * L**(1 + epsilon_val) / (1 + epsilon_val)\n",
    "    return U\n",
    "\n",
    "# Define objective function\n",
    "obj_func_2 = lambda x: -utility_function(x[0], x[1])\n",
    "\n",
    "# Define bounds\n",
    "bound = [(0, 24),(1,3)]\n",
    "\n",
    "# Define initial values\n",
    "x0_2 = [16, 1.5]\n",
    "\n",
    "# Call optimizer\n",
    "result = optimize.minimize(obj_func_2, x0_2, method='SLSQP', bounds=bound, options={'disp': True})\n",
    "\n",
    "# Retrieve optimized values\n",
    "L_opt = result.x[0]\n",
    "G_opt = result.x[1]\n",
    "\n",
    "print('L =', L_opt)\n",
    "print('G =', G_opt)\n"
   ]
  },
  {
   "attachments": {},
   "cell_type": "markdown",
   "metadata": {},
   "source": [
    "**Question 6:** Find the socially optimal tax rate, $\\tau^{\\star}$, maximizing worker utility, while keeping $G = \\tau w L^{\\star}((1-\\tau)w,G)$."
   ]
  },
  {
   "cell_type": "code",
   "execution_count": null,
   "metadata": {},
   "outputs": [],
   "source": [
    "# write your code here  "
   ]
  },
  {
   "attachments": {},
   "cell_type": "markdown",
   "metadata": {},
   "source": [
    "## 2. <a id='toc2_'></a>[Problem 2: Labor adjustment costs](#toc0_)"
   ]
  },
  {
   "attachments": {},
   "cell_type": "markdown",
   "metadata": {},
   "source": [
    "You own a hair salon. You employ hairdressers, $\\ell_t$, to produce haircuts, $y_t = \\ell_t$.\n",
    "\n",
    "The wage for each haridresser is $w$.\n",
    "\n",
    "The demand for haircuts implies that the price of haircuts you can charge is $p_t = \\kappa_t y_t^{-\\eta}$, where $\\kappa_t$ is a demand-shock and $\\eta \\in (0,1)$ measures the elasticity of demand.\n",
    "\n",
    "Profits are:\n",
    "\n",
    "$$\n",
    "\\Pi_t = p_t y_t - w \\ell_t = \\kappa_t \\ell_t^{1-\\eta} - w \\ell_t\n",
    "$$\n",
    "Baseline parameters are:\n",
    "- $\\eta = 0.5$\n",
    "- $w = 1.0$"
   ]
  },
  {
   "attachments": {},
   "cell_type": "markdown",
   "metadata": {},
   "source": [
    "**Question 1:** Verify numerically that $\\ell_{t}=\\left(\\frac{(1-\\eta)\\kappa_{t}}{w}\\right)^{\\frac{1}{\\eta}}$ maximises profits, for $\\kappa\\in\\left\\{1.0 , 2.0\\right\\}$."
   ]
  },
  {
   "cell_type": "code",
   "execution_count": null,
   "metadata": {},
   "outputs": [
    {
     "data": {
      "text/latex": [
       "$\\displaystyle l^{*} = \\left(\\frac{\\kappa_{t} \\left(1 - \\eta\\right)}{\\omega}\\right)^{\\frac{1}{\\eta}}$"
      ],
      "text/plain": [
       "Eq(l^*, (kappa_t*(1 - eta)/omega)**(1/eta))"
      ]
     },
     "execution_count": 36,
     "metadata": {},
     "output_type": "execute_result"
    }
   ],
   "source": [
    "# defining parameters\n",
    "kappa = sm.symbols('kappa_t') \n",
    "n = sm.symbols('eta')\n",
    "l = sm.symbols('l_t')\n",
    "w = sm.symbols('omega')\n",
    "l_star = sm.symbols('l^*')\n",
    "\n",
    "# defining profit function\n",
    "pi = kappa*l**(1-n)-w*l\n",
    "\n",
    "# calculating foc\n",
    "foc = sm.diff(pi, l)\n",
    "\n",
    "# maximising profit\n",
    "sol = sm.solve(sm.Eq(foc,0), l)[0]\n",
    "sol_opt = sm.Eq(l_star,sol)\n",
    "sol_opt"
   ]
  },
  {
   "attachments": {},
   "cell_type": "markdown",
   "metadata": {},
   "source": [
    "Showing it numerically"
   ]
  },
  {
   "cell_type": "code",
   "execution_count": null,
   "metadata": {},
   "outputs": [
    {
     "data": {
      "image/png": "[encoded data removed]",
      "text/plain": [
       "<Figure size 1000x500 with 2 Axes>"
      ]
     },
     "metadata": {},
     "output_type": "display_data"
    }
   ],
   "source": [
    "eta = 0.5\n",
    "w = 1.0\n",
    "kappa_values = np.linspace(1,2,5)\n",
    "\n",
    "def find_optimal_l_and_pi(eta, w, kappa_values):\n",
    "    optimal_l_values = []\n",
    "    profits = []\n",
    "    \n",
    "    for kappa in kappa_values:\n",
    "        optimal_l = ((1 - eta) * kappa / w) ** (1 / eta)\n",
    "        optimal_l_values.append(optimal_l)\n",
    "\n",
    "    for i, kappa in enumerate(kappa_values):\n",
    "        profit = calculate_profit(eta, w, kappa, optimal_l_values[i])\n",
    "        profits.append(profit)\n",
    "\n",
    "    return optimal_l_values, profits\n",
    "\n",
    "# Plot optimal l\n",
    "fig = plt.figure(figsize=(10,5))\n",
    "ax = fig.add_subplot(1,2,1)\n",
    "plt.plot(kappa_values, optimal_l_values)\n",
    "plt.xlabel(r'$\\kappa$')\n",
    "plt.ylabel('l')\n",
    "plt.title('Optimal labour')\n",
    "\n",
    "# Plot profits\n",
    "ax = fig.add_subplot(1,2,2)\n",
    "plt.plot(kappa_values, profits)\n",
    "plt.xlabel(r'$\\kappa$')\n",
    "plt.ylabel(r'$\\Pi$')\n",
    "plt.title('Profits')\n",
    "\n",
    "plt.tight_layout()\n",
    "plt.show()"
   ]
  },
  {
   "attachments": {},
   "cell_type": "markdown",
   "metadata": {},
   "source": [
    "We now consider a *dynamic* version of the model.\n",
    "\n",
    "* The demand-shock is a so-called AR(1) in logs, \n",
    "\n",
    "$$\n",
    "\\log \\kappa_{t} = \\rho \\log \\kappa_{t-1} + \\epsilon_{t},\\,\\,\\, \\epsilon_{t+1} \\sim \\mathcal{N}(-0.5\\sigma_{\\epsilon}^2,\\sigma_{\\epsilon})\n",
    "$$\n",
    "\n",
    "* Any hiring or firing implies a fixed adjustment cost, $\\iota > 0 $.\n",
    "* Future profits are discounted with a monthly factor of $R \\in (0,1)$.\n",
    "\n",
    "The initial demand shock is $\\kappa_{-1} = 1$ and the planning horizon is 10 years, i.e. 120 months so $t \\in \\{0,1,2,\\dots,119\\}$. Initially you don't have any employees, $\\ell_{-1}=0$\n",
    "\n",
    "The *ex post* value of the salon is *conditional* on the shock series is:\n",
    "\n",
    "$$\n",
    "h(\\epsilon_0,\\epsilon_1,\\dots,\\epsilon_{119}) = \\left[\\sum_{t=0}^{119}R^{-t}\\left[\\kappa_{t}\\ell_{t}^{1-\\eta}-w\\ell_{t}-\\boldsymbol{1}_{\\ell_{t}\\neq\\ell_{t-1}}\\iota\\right]\\right]\n",
    "$$\n",
    "\n",
    "The *ex ante* expected value of the salon can be approximated by\n",
    "\n",
    "$$\n",
    "H = \\mathbb{E}[h(\\epsilon_0,\\epsilon_1,\\dots,\\epsilon_{119})] \\approx \\frac{1}{K}\\sum_{k=0}^{K} h(\\epsilon_0^k,\\epsilon_1^k,\\dots,\\epsilon_{119}^k)\n",
    "$$\n",
    "\n",
    "where each $k\\in\\{0,1,\\dots,K-1\\}$ is a random shock series. Maximizing profitability means maximizing $H$.\n",
    "\n",
    "Baseline parameters are: \n",
    "\n",
    "- $\\rho = 0.90$\n",
    "- $\\iota = 0.01$\n",
    "- $\\sigma_{\\epsilon} = 0.10$\n",
    "- $R = \\left(1+0.01\\right)^{1/12}$"
   ]
  },
  {
   "attachments": {},
   "cell_type": "markdown",
   "metadata": {},
   "source": [
    "**Question 2:** Calculate $H$ if the policy  $\\ell_{t}=\\left(\\frac{(1-\\eta)\\kappa_{t}}{w}\\right)^{\\frac{1}{\\eta}}$ from question 1 is followed. Choose $K$ so the approximation is good enough to not affect your results substantially."
   ]
  },
  {
   "cell_type": "code",
   "execution_count": null,
   "metadata": {},
   "outputs": [
    {
     "name": "stdout",
     "output_type": "stream",
     "text": [
      "Expected value of the salon (H) = 27.75319379491799\n"
     ]
    }
   ],
   "source": [
    "# define the parameters\n",
    "rho = 0.90\n",
    "iota = 0.01\n",
    "sigma_epsilon = 0.10\n",
    "R = (1 + 0.01) ** (1 / 12)\n",
    "eta = 0.5\n",
    "w = 1.0\n",
    "K = 10000  # Number of shock series for approximation\n",
    "\n",
    "# generating K random shock series\n",
    "np.random.seed(2023)  # setting a seed for reproducibility\n",
    "epsilon_list = np.random.normal(loc=-0.5 * sigma_epsilon ** 2, scale=sigma_epsilon, size=(K, 120))\n",
    "\n",
    "# function to calculate h(epsilon_0, epsilon_1, ..., epsilon_119)\n",
    "def calculate_h(epsilon):\n",
    "    kappa_t_minus_1 = 1  # Initial demand shock\n",
    "    l_t_minus_1 = 0  # Initial number of employees\n",
    "    h_value = 0  # Accumulator for h function\n",
    "\n",
    "    for t in range(120):\n",
    "        epsilon_t = epsilon[t]\n",
    "        log_kappa_t = rho * np.log(kappa_t_minus_1) + epsilon_t\n",
    "        kappa_t = np.exp(log_kappa_t)\n",
    "\n",
    "        # calculate l_t\n",
    "        l_t = ((1 - eta) * kappa_t / w) ** (1 / eta)\n",
    "\n",
    "        # calculate the h function value for this period\n",
    "        h_value += R ** (-t) * (kappa_t * l_t ** (1 - eta) - w * l_t - (l_t != l_t_minus_1) * iota)\n",
    "\n",
    "        # update the variables for the next period\n",
    "        kappa_t_minus_1 = kappa_t\n",
    "        l_t_minus_1 = l_t\n",
    "\n",
    "    return h_value\n",
    "\n",
    "# calculating the ex ante expected value of the salon\n",
    "H = np.mean([calculate_h(epsilon) for epsilon in epsilon_list])\n",
    "print(\"Expected value of the salon (H) =\", H)\n"
   ]
  },
  {
   "attachments": {},
   "cell_type": "markdown",
   "metadata": {},
   "source": [
    "Next, we consider policies on the form:\n",
    "\n",
    "$$\n",
    "\n",
    "\\ell_{t}=\\begin{cases}\n",
    "\\ell_t^{\\ast}  & \\text{if }\\left|\\ell_{t-1}-\\ell_t^{\\ast} \\right|>\\Delta\\\\\n",
    "\\ell_{t-1} & \\text{else }\n",
    "\\end{cases}\n",
    "\\\\\n",
    "\\text{where}\\,\\,\\ell_t^{\\ast} = \\left(\\frac{(1-\\eta)\\kappa_{t}}{w}\\right)^{\\frac{1}{\\eta}} \\\\\n",
    "\n",
    "$$\n",
    "With $\\Delta \\geq 0$ and $\\Delta = 0$ being the previous policy.\n"
   ]
  },
  {
   "attachments": {},
   "cell_type": "markdown",
   "metadata": {},
   "source": [
    "\n",
    "**Question 3:** Calculate $H$ if the policy above was followed with $\\Delta = 0.05$. Does it improve profitability?"
   ]
  },
  {
   "cell_type": "code",
   "execution_count": null,
   "metadata": {},
   "outputs": [
    {
     "name": "stdout",
     "output_type": "stream",
     "text": [
      "Expected value of the salon (H) with the policy = 28.43388844189881\n"
     ]
    }
   ],
   "source": [
    "# defining parameter\n",
    "delta = 0.05\n",
    "\n",
    "# function to calculate h(epsilon_0, epsilon_1, ..., epsilon_119)\n",
    "def calculate_h_delta(epsilon, delta):\n",
    "    kappa_t_minus_1 = 1  # Initial demand shock\n",
    "    l_t_minus_1 = 0  # Initial number of employees\n",
    "    h_value = 0  # Accumulator for h function\n",
    "\n",
    "    for t in range(120):\n",
    "        epsilon_t = epsilon[t]\n",
    "        log_kappa_t = rho * np.log(kappa_t_minus_1) + epsilon_t\n",
    "        kappa_t = np.exp(log_kappa_t)\n",
    "\n",
    "        # calculating l_t b\n",
    "        l_t_star = ((1 - eta) * kappa_t / w) ** (1 / eta)\n",
    "\n",
    "        # implementing policy\n",
    "        if np.abs(l_t_minus_1 - l_t_star) > delta:\n",
    "            l_t = l_t_star\n",
    "        else:\n",
    "            l_t = l_t_minus_1\n",
    "\n",
    "        # calculating the h function value for this period\n",
    "        h_value += R ** (-t) * (kappa_t * l_t ** (1 - eta) - w * l_t - (l_t != l_t_minus_1) * iota)\n",
    "\n",
    "        # updating the variables for the next period\n",
    "        kappa_t_minus_1 = kappa_t\n",
    "        l_t_minus_1 = l_t\n",
    "\n",
    "    return h_value\n",
    "\n",
    "# calculating the ex ante expected value of the salon\n",
    "H = np.mean([calculate_h_delta(epsilon, delta) for epsilon in epsilon_list])\n",
    "print(\"Expected value of the salon (H) with the policy =\", H)\n"
   ]
  },
  {
   "attachments": {},
   "cell_type": "markdown",
   "metadata": {},
   "source": [
    "**Question 4:** Find the optimal $\\Delta$ maximizing $H$. Illustrate your result."
   ]
  },
  {
   "cell_type": "code",
   "execution_count": null,
   "metadata": {},
   "outputs": [],
   "source": [
    "# defining parameter vector\n",
    "delta_vec = np.linspace(0.01, 0.5, 10)\n",
    "\n",
    "# calculating H for each delta value\n",
    "H_vec = []\n",
    "for delta in delta_vec:\n",
    "    H = np.mean([calculate_h_delta(epsilon, delta) for epsilon in epsilon_list])\n",
    "    H_vec.append(H)\n",
    "\n",
    "# finding the optimal delta value\n",
    "optimal_delta = delta_vec[np.argmax(H_vec)]\n",
    "max_H = np.max(H_vec)\n"
   ]
  },
  {
   "cell_type": "code",
   "execution_count": null,
   "metadata": {},
   "outputs": [
    {
     "data": {
      "image/png": "[encoded data removed]",
      "text/plain": [
       "<Figure size 640x480 with 1 Axes>"
      ]
     },
     "metadata": {},
     "output_type": "display_data"
    },
    {
     "name": "stdout",
     "output_type": "stream",
     "text": [
      "Optimal Delta (Δ): 0.06444444444444444\n",
      "Maximum Expected Value of the Salon (H): 28.480739651741715\n"
     ]
    }
   ],
   "source": [
    "# plotting the results\n",
    "plt.plot(delta_vec, H_vec)\n",
    "plt.xlabel(\"Delta (Δ)\")\n",
    "plt.ylabel(\"Expected Value of the Salon (H)\")\n",
    "plt.title(\"Optimization of Delta\")\n",
    "plt.axvline(x=optimal_delta, color='r', linestyle='--', label=f\"Optimal Δ: {optimal_delta:.3f}\")\n",
    "plt.legend()\n",
    "plt.show()\n",
    "\n",
    "print(\"Optimal Delta (Δ):\", optimal_delta)\n",
    "print(\"Maximum Expected Value of the Salon (H):\", max_H)"
   ]
  },
  {
   "attachments": {},
   "cell_type": "markdown",
   "metadata": {},
   "source": [
    "\n",
    "**Question 5:** Suggest an alternative policy you believe might improve profitability. Implement and test your policy.\n",
    "\n"
   ]
  },
  {
   "cell_type": "code",
   "execution_count": null,
   "metadata": {},
   "outputs": [
    {
     "name": "stdout",
     "output_type": "stream",
     "text": [
      "Expected value of the salon (H) with the policy = 66.61464253753715\n"
     ]
    }
   ],
   "source": [
    "# function to calculate h(epsilon_0, epsilon_1, ..., epsilon_119)\n",
    "def calculate_h_iota(epsilon, iota):\n",
    "    kappa_t_minus_1 = 1  # Initial demand shock\n",
    "    l_t_minus_1 = 0  # Initial number of employees\n",
    "    h_value = 0  # Accumulator for h function\n",
    "\n",
    "    for t in range(120):\n",
    "        epsilon_t = epsilon[t]\n",
    "        log_kappa_t = rho * np.log(kappa_t_minus_1) + epsilon_t\n",
    "        kappa_t = np.exp(log_kappa_t)\n",
    "\n",
    "        # Calculate l_t based on the policy\n",
    "        l_t = ((1 - eta) * kappa_t / w) ** (1 / eta)\n",
    "\n",
    "        if kappa_t >= 0:\n",
    "            iota = 0.01*kappa_t**0.5\n",
    "        else:\n",
    "            iota = 0.01*-kappa_t\n",
    "\n",
    "        # Calculate the h function value for this period\n",
    "        h_value += R ** (-t) * (kappa_t * l_t ** (1 - eta) - w * l_t - (l_t != l_t_minus_1) * iota)\n",
    "\n",
    "        # Update the variables for the next period\n",
    "        kappa_t_minus_1 = kappa_t\n",
    "        l_t_minus_1 = l_t\n",
    "\n",
    "    return h_value\n",
    "\n",
    "H = np.mean([calculate_h_iota(epsilon, iota) for epsilon in epsilon_list])\n",
    "print(\"Expected value of the salon (H) with the policy =\", H)\n"
   ]
  },
  {
   "attachments": {},
   "cell_type": "markdown",
   "metadata": {},
   "source": [
    "Forklaring: Det er dyrere at fyre end at hyre"
   ]
  },
  {
   "attachments": {},
   "cell_type": "markdown",
   "metadata": {},
   "source": [
    "## 3. <a id='toc3_'></a>[Problem 3: Global optimizer with refined multi-start](#toc0_)"
   ]
  },
  {
   "attachments": {},
   "cell_type": "markdown",
   "metadata": {},
   "source": [
    "We consider the Griewank function:\n",
    "\n",
    "$$ f(\\boldsymbol{x}) = \\sum^n_{i=1} \\frac{x^2_i}{4000}-\\prod^n_{i=1}\\cos\\left(\\frac{x_i}{\\sqrt{i}}\\right)+1$$\n",
    "\n",
    "The **global minimum** of this function is $f(0,0) = 0$ (remember: $\\cos(0)=1$).<br>\n",
    "But the function also have a lot of **local minima**."
   ]
  },
  {
   "cell_type": "code",
   "execution_count": null,
   "metadata": {},
   "outputs": [],
   "source": [
    "def griewank(x):\n",
    "    return griewank_(x[0],x[1])\n",
    "    \n",
    "def griewank_(x1,x2):\n",
    "    A = x1**2/4000 + x2**2/4000\n",
    "    B = np.cos(x1/np.sqrt(1))*np.cos(x2/np.sqrt(2))\n",
    "    return A-B+1"
   ]
  },
  {
   "attachments": {},
   "cell_type": "markdown",
   "metadata": {},
   "source": [
    "A **refined global optimizer with multi-start** is:\n",
    "\n",
    "1. Choose *bounds* for $\\mathbf{x}$ and *tolerance* $\\tau > 0$.\n",
    "2. Choose number of *warm-up iterations*, $\\underline{K} > 0$ and *maximum number of iterations*, $K > \\underline{K}$.\n",
    "3. In each iteration for $k \\in \\{0,1,\\dots,K-1\\}$:\n",
    "\n",
    "    A. Draw random $\\mathbf{x}^k$ uniformly within chosen bounds.\n",
    "\n",
    "    B. If $k < \\underline{K}$ go to step E.\n",
    "\n",
    "    C. Calculate $\\chi^k = 0.50\\cdot\\frac{2}{1+\\exp((k-\\underline{K})/100)}$  \n",
    "\n",
    "    D. Set $\\mathbf{x}^{k0} = \\chi^k \\mathbf{x}^k + (1-\\chi^k)\\mathbf{x}^{\\ast} $\n",
    "\n",
    "    E. Run optimizer with $\\mathbf{x}^{k0}$ as initial guess and $\\mathbf{x}^{k\\ast}$ as result.\n",
    "\n",
    "    F. Set $\\mathbf{x}^{\\ast} = \\mathbf{x}^{k\\ast}$ if $k = 0$ or $f(\\mathbf{x}^{k\\ast}) < f(\\mathbf{x}^{\\ast})$\n",
    "\n",
    "    G. If $f(\\mathbf{x}^{\\ast}) < \\tau$ go to step 4.\n",
    "\n",
    "4. Return the result $\\mathbf{x}^{\\ast}$.\n",
    "As settings we choose:\n",
    "\n",
    "* $x_1,x_2 \\in  [-600,600]$\n",
    "* $\\tau = 10^{-8}$\n",
    "* $\\underline{K}=10$\n",
    "* $K=1000$\n",
    "\n",
    "The optimizer in Step 3.E is `BFGS` with a tolerance of $\\tau$."
   ]
  },
  {
   "attachments": {},
   "cell_type": "markdown",
   "metadata": {},
   "source": [
    "**Question 1:** Implement the refined global optimizer with multi-start. Illustrate how the effective initial guesses $\\mathbf{x}^{k0}$ vary with the iteration counter $k$."
   ]
  },
  {
   "cell_type": "code",
   "execution_count": null,
   "metadata": {},
   "outputs": [],
   "source": [
    "import numpy as np\n",
    "from scipy.optimize import minimize\n",
    "\n",
    "def griewank(x):\n",
    "    return griewank_(x[0], x[1])\n",
    "\n",
    "def griewank_(x1, x2):\n",
    "    A = x1**2/4000 + x2**2/4000\n",
    "    B = np.cos(x1/np.sqrt(1)) * np.cos(x2/np.sqrt(2))\n",
    "    return A - B + 1"
   ]
  },
  {
   "cell_type": "code",
   "execution_count": null,
   "metadata": {},
   "outputs": [
    {
     "name": "stdout",
     "output_type": "stream",
     "text": [
      "Optimal solution:\n",
      "x_ast: [-1.00730251e-08 -2.33079834e-08]\n",
      "\n",
      "Effective initial guesses:\n",
      "k = 0 : [192.60025924 350.50490938]\n",
      "k = 1 : [-201.58900626  -79.02538216]\n",
      "k = 2 : [-454.12984188  441.04158742]\n",
      "k = 3 : [-503.69405282  395.8658801 ]\n",
      "k = 4 : [-174.41804225  -19.67989675]\n",
      "k = 5 : [-366.36686356 -378.32308439]\n",
      "k = 6 : [-535.30381893 -532.08979776]\n",
      "k = 7 : [-52.78519451  23.23546814]\n",
      "k = 8 : [361.13461605 460.84976202]\n",
      "k = 9 : [ 377.9380072  -359.15548958]\n",
      "k = 10 : [232.41201669  70.49857419]\n",
      "k = 11 : [-283.63246182   96.26980054]\n",
      "k = 12 : [-100.46381    -213.90302138]\n",
      "k = 13 : [ 226.3951016  -249.15264198]\n",
      "k = 14 : [179.17266414 -70.20912504]\n",
      "k = 15 : [258.96982773  -0.49167347]\n",
      "k = 16 : [ -70.1427746  -161.76794549]\n",
      "k = 17 : [-20.55621115  49.80529918]\n",
      "k = 18 : [ 37.54256811 286.96306062]\n",
      "k = 19 : [114.21836576 168.14490345]\n",
      "k = 20 : [ -30.40558655 -215.7662451 ]\n",
      "k = 21 : [-204.20055627  222.41262622]\n",
      "k = 22 : [-235.41165454   84.47165378]\n",
      "k = 23 : [ 76.4508127  219.09096978]\n",
      "k = 24 : [-131.44298582   -1.38170999]\n",
      "k = 25 : [-153.03155896 -101.35554702]\n",
      "k = 26 : [-102.7249018    53.41079515]\n",
      "k = 27 : [208.53428715 204.41927976]\n",
      "k = 28 : [-162.09432175 -100.09666853]\n",
      "k = 29 : [ 203.96338648 -197.8557121 ]\n",
      "k = 30 : [-116.31229884  143.72672826]\n",
      "k = 31 : [ 80.80130791 233.0619091 ]\n",
      "k = 32 : [-258.37943816  186.39942535]\n",
      "k = 33 : [10.3867096  49.51821992]\n",
      "k = 34 : [-240.35469477   37.91627814]\n",
      "k = 35 : [  14.71601858 -132.79248778]\n",
      "k = 36 : [-134.53116131 -194.81972363]\n",
      "k = 37 : [ -97.58818851 -224.71592369]\n",
      "k = 38 : [92.76614628 93.89717534]\n",
      "k = 39 : [ 40.46051303 -72.24605054]\n",
      "k = 40 : [-79.33843122 152.73282216]\n",
      "k = 41 : [203.27795438  53.5954867 ]\n",
      "k = 42 : [  75.88206748 -150.05483806]\n",
      "k = 43 : [-165.93198241  123.40317544]\n",
      "k = 44 : [-181.63731627   20.14825694]\n",
      "k = 45 : [ -18.59528097 -174.06986418]\n",
      "k = 46 : [-239.22596706   97.90517254]\n",
      "k = 47 : [ 97.59454121 127.3224285 ]\n",
      "k = 48 : [-148.70968313  -70.23772206]\n",
      "k = 49 : [-94.61132258 165.35321694]\n",
      "k = 50 : [192.96623054 -54.14973652]\n",
      "k = 51 : [-197.57742108 -101.94719965]\n",
      "k = 52 : [  48.86242849 -211.23278588]\n",
      "k = 53 : [ 83.02739712 187.75088482]\n",
      "k = 54 : [-233.25504406  210.04987363]\n",
      "k = 55 : [ 23.80459517 131.51202025]\n",
      "k = 56 : [160.9750092 -99.4055328]\n",
      "k = 57 : [146.55670449  23.70447129]\n",
      "k = 58 : [132.54329954 -26.57402685]\n",
      "k = 59 : [-223.1525272  -201.82695262]\n",
      "k = 60 : [127.87895231 -66.85907672]\n",
      "k = 61 : [202.66472602  72.38605364]\n",
      "k = 62 : [161.98268193 147.52512691]\n",
      "k = 63 : [-159.88490953 -161.02644695]\n",
      "k = 64 : [-138.26055304  -18.27475592]\n",
      "k = 65 : [135.87396251 -20.63292948]\n",
      "k = 66 : [-122.20566059  -49.51791775]\n",
      "k = 67 : [-103.74406689  158.40772577]\n",
      "k = 68 : [  68.59022102 -212.16543199]\n",
      "k = 69 : [  69.93986122 -190.65135248]\n",
      "k = 70 : [-195.96890125  -58.30518712]\n",
      "k = 71 : [-125.93645935    8.19720201]\n",
      "k = 72 : [-188.82386819 -152.66696714]\n",
      "k = 73 : [-88.69137788 149.87117987]\n",
      "k = 74 : [-78.30593966  55.86772796]\n",
      "k = 75 : [-53.54445896  51.76812554]\n",
      "k = 76 : [-18.69234253 -44.22541913]\n",
      "k = 77 : [-70.38414172 184.0418743 ]\n",
      "k = 78 : [  76.68642787 -199.65673705]\n",
      "k = 79 : [  67.23071699 -116.33245037]\n",
      "k = 80 : [ -86.82686652 -191.47020172]\n",
      "k = 81 : [-170.52559259  166.43627434]\n",
      "k = 82 : [ 46.14893849 -28.96467813]\n",
      "k = 83 : [-103.53699567  175.77454983]\n",
      "k = 84 : [ -93.42839804 -135.70717605]\n",
      "k = 85 : [ 66.64277389 -17.02510016]\n",
      "k = 86 : [66.85924775 30.74329187]\n",
      "k = 87 : [ 106.44887954 -147.33744836]\n",
      "k = 88 : [-173.0558955  -163.38056599]\n",
      "k = 89 : [-46.67118183  75.05235778]\n",
      "k = 90 : [19.01584251  3.47635185]\n",
      "k = 91 : [ 180.45797001 -182.0103824 ]\n",
      "k = 92 : [ 43.90938575 -65.09514022]\n",
      "k = 93 : [186.97198257 115.4540671 ]\n",
      "k = 94 : [138.0796434  157.32203391]\n",
      "k = 95 : [-41.14142814 149.48614303]\n",
      "k = 96 : [   9.43136145 -123.10378282]\n",
      "k = 97 : [  32.10724661 -136.39085113]\n",
      "k = 98 : [ 71.01871238 105.83307268]\n",
      "k = 99 : [-54.9422705   91.80409683]\n",
      "k = 100 : [-39.27894511 -96.22953239]\n",
      "k = 101 : [138.09245004  41.78698567]\n",
      "k = 102 : [-153.16363525  125.95177003]\n",
      "k = 103 : [  67.56712968 -164.22229496]\n",
      "k = 104 : [-103.35909734   14.71909006]\n",
      "k = 105 : [109.31044556 -73.74922185]\n",
      "k = 106 : [-8.55119201 82.6543471 ]\n",
      "k = 107 : [165.65502381 -11.92219877]\n",
      "k = 108 : [ -91.89006063 -119.20031289]\n",
      "k = 109 : [-101.0282238    14.30392765]\n",
      "k = 110 : [  28.43550236 -149.59694044]\n",
      "k = 111 : [-32.85830385 101.07107538]\n",
      "k = 112 : [127.13595484  21.5095929 ]\n",
      "k = 113 : [-60.32096628  10.37057566]\n",
      "k = 114 : [-132.93988548    9.84794021]\n",
      "k = 115 : [ -63.071387   -112.24369727]\n",
      "k = 116 : [108.7344369 117.9443734]\n",
      "k = 117 : [ 97.19544415 132.94256749]\n",
      "k = 118 : [-12.83317948 -61.24046172]\n",
      "k = 119 : [-31.07101616  55.76342357]\n",
      "k = 120 : [-54.80651718  74.1459846 ]\n",
      "k = 121 : [-34.83938018 -62.38935264]\n",
      "k = 122 : [115.71477215 -24.55493244]\n",
      "k = 123 : [151.11417941 -61.59745653]\n",
      "k = 124 : [ 94.39119134 124.94121401]\n",
      "k = 125 : [143.79716112  57.24138944]\n",
      "k = 126 : [147.30614379  96.84753276]\n",
      "k = 127 : [  75.49155596 -107.71036519]\n",
      "k = 128 : [-64.16180244 -13.2918148 ]\n",
      "k = 129 : [-78.29463704 -25.80899856]\n",
      "k = 130 : [111.52340821 131.75538413]\n",
      "k = 131 : [84.19492598 17.49807648]\n",
      "k = 132 : [102.71861973 -92.78467471]\n",
      "k = 133 : [-27.71172334 112.06450309]\n",
      "k = 134 : [146.55099925  76.89624679]\n",
      "k = 135 : [-110.00487149   10.11973755]\n",
      "k = 136 : [119.80973308 -85.26632643]\n",
      "k = 137 : [20.850652   93.21901102]\n",
      "k = 138 : [98.58092175 37.67721228]\n",
      "k = 139 : [-98.45984239 -98.47265365]\n",
      "k = 140 : [ 69.83758597 110.16622686]\n",
      "k = 141 : [58.51330707 88.3155839 ]\n",
      "k = 142 : [-32.9535824  -52.53683884]\n",
      "k = 143 : [120.06419555 -73.03672353]\n",
      "k = 144 : [134.7952661   77.58587571]\n",
      "k = 145 : [134.29220204  29.83025264]\n",
      "k = 146 : [-16.89526134  60.19585924]\n",
      "k = 147 : [-82.26602236 -10.52405503]\n",
      "k = 148 : [132.69534383  15.6789984 ]\n",
      "k = 149 : [-93.86601344  -0.42558846]\n",
      "k = 150 : [-77.32451022  18.67958173]\n",
      "k = 151 : [-98.6428569  -52.46975013]\n",
      "k = 152 : [-46.66459275  14.85917305]\n",
      "k = 153 : [110.84145509  69.3703652 ]\n",
      "k = 154 : [-30.44865595  80.6040742 ]\n",
      "k = 155 : [119.32919415 -18.24925992]\n",
      "k = 156 : [-70.73972865  38.79286209]\n",
      "k = 157 : [ 59.9786045  104.19735833]\n",
      "k = 158 : [ 17.44679442 -39.26323304]\n",
      "k = 159 : [-91.36273159  37.96014392]\n",
      "k = 160 : [-68.77622726  26.71178328]\n",
      "k = 161 : [122.18089828  24.5942777 ]\n",
      "k = 162 : [-18.4592526   90.48909371]\n",
      "k = 163 : [-72.94833275  56.49522621]\n",
      "k = 164 : [-58.69299602  96.97245394]\n",
      "k = 165 : [-66.75771003  17.49557491]\n",
      "k = 166 : [-59.69389569 -62.45453298]\n",
      "k = 167 : [66.39515301 15.16532805]\n",
      "k = 168 : [46.92550534  1.32116355]\n",
      "k = 169 : [  9.86069567 -49.19608114]\n",
      "k = 170 : [ 6.98061498 42.97310547]\n",
      "k = 171 : [54.32326224 48.091692  ]\n",
      "k = 172 : [-60.76229953 -62.77674033]\n",
      "k = 173 : [ 34.13871354 -78.92897902]\n",
      "k = 174 : [ 24.28937825 -60.85225391]\n",
      "k = 175 : [99.07434308 -8.97616859]\n",
      "k = 176 : [-26.70263991 -51.943442  ]\n",
      "k = 177 : [-73.21533914  12.92555245]\n",
      "k = 178 : [ 89.44604478 -17.090345  ]\n",
      "k = 179 : [-10.12518063 -58.08832904]\n",
      "k = 180 : [68.61547617 -4.75242902]\n",
      "k = 181 : [-31.89918763  55.55592519]\n",
      "k = 182 : [-44.69687551  10.3062551 ]\n",
      "k = 183 : [ 37.54478723 -31.93534501]\n",
      "k = 184 : [ 30.18972789 -54.13214124]\n",
      "k = 185 : [  0.03422873 -29.90078088]\n",
      "k = 186 : [-71.24327519  80.13221354]\n",
      "k = 187 : [-48.38831815   1.96058936]\n",
      "k = 188 : [ 28.95501513 -22.96719427]\n",
      "k = 189 : [-31.96849884 -35.4251297 ]\n",
      "k = 190 : [91.87774874 77.12973098]\n",
      "k = 191 : [-40.75690379 -82.25491837]\n",
      "k = 192 : [28.50983211 -6.05476059]\n",
      "k = 193 : [-27.08782     53.92675605]\n",
      "k = 194 : [65.02992379 -4.64655005]\n",
      "k = 195 : [15.80576353 -0.77429836]\n",
      "k = 196 : [-30.26989423 -42.56870564]\n",
      "k = 197 : [71.72699822 54.35338736]\n",
      "k = 198 : [-43.60153217  66.17357704]\n",
      "k = 199 : [-36.06767391  -6.97825263]\n",
      "k = 200 : [-38.62634786 -66.66161144]\n",
      "k = 201 : [-34.40654997  33.6050403 ]\n",
      "k = 202 : [-56.34922063 -10.59681351]\n",
      "k = 203 : [-40.64111742 -52.17984976]\n",
      "k = 204 : [-57.67646903  16.37394164]\n",
      "k = 205 : [ 36.84508597 -27.05215847]\n",
      "k = 206 : [  8.2246921  -31.84746981]\n",
      "k = 207 : [ -0.34013314 -68.30904023]\n",
      "k = 208 : [ 74.24721513 -65.89962548]\n",
      "k = 209 : [-21.6211738   -9.03747924]\n",
      "k = 210 : [  4.70963743 -51.84663495]\n",
      "k = 211 : [ 77.642241   -26.54883016]\n",
      "k = 212 : [ 31.3984181 -64.841411 ]\n",
      "k = 213 : [ 73.70109567 -18.4795889 ]\n",
      "k = 214 : [-23.19056798 -50.50935632]\n",
      "k = 215 : [24.16086168 47.20484911]\n",
      "k = 216 : [-42.75735749 -25.2873495 ]\n",
      "k = 217 : [-19.4697797   23.41768614]\n",
      "k = 218 : [-19.45511271  17.43837053]\n",
      "k = 219 : [ -1.57357945 -11.25991647]\n",
      "k = 220 : [-36.15624312  10.00328199]\n",
      "k = 221 : [ 12.07711107 -49.42671137]\n",
      "k = 222 : [36.59445473 -5.94486321]\n",
      "k = 223 : [-10.87756953 -20.40688979]\n",
      "k = 224 : [-19.82675984 -40.06462918]\n",
      "k = 225 : [59.02569405 -8.66275476]\n",
      "k = 226 : [27.92689287 18.85425148]\n",
      "k = 227 : [-13.10748065  24.05285858]\n",
      "k = 228 : [-43.19298833  36.90560111]\n",
      "k = 229 : [-16.72904234 -35.57903387]\n",
      "k = 230 : [-55.91649373   2.70061529]\n",
      "k = 231 : [44.89684392 13.21057525]\n",
      "k = 232 : [-43.88829246 -26.96978479]\n",
      "k = 233 : [ 39.74504237 -18.56499657]\n",
      "k = 234 : [-48.21126866 -39.61245166]\n",
      "k = 235 : [-6.24821877  3.97422659]\n",
      "k = 236 : [42.16845492 15.07691315]\n",
      "k = 237 : [-6.88926556 -3.01683535]\n",
      "k = 238 : [-32.1729966   14.45193542]\n",
      "k = 239 : [-59.04757791 -50.03469831]\n",
      "k = 240 : [16.35656306 32.61154432]\n",
      "k = 241 : [ 42.6622126 -37.31197  ]\n",
      "k = 242 : [-11.01599008  21.75575268]\n",
      "k = 243 : [-53.53539161  17.71078238]\n",
      "k = 244 : [-40.10013716  20.62432519]\n",
      "k = 245 : [45.41946304 -8.70374169]\n",
      "k = 246 : [ -9.73011723 -20.86221803]\n",
      "k = 247 : [ -0.94987835 -30.19090177]\n",
      "k = 248 : [12.39097672 29.67251471]\n",
      "k = 249 : [ 40.9695665  -18.69030247]\n",
      "k = 250 : [23.79712823 39.82325804]\n",
      "k = 251 : [-17.64494948 -47.31711432]\n",
      "k = 252 : [-22.99338129 -10.46275683]\n",
      "k = 253 : [ 40.23034002 -38.96748024]\n",
      "k = 254 : [-40.09470171  45.34804141]\n",
      "k = 255 : [-45.72625927  -6.51638233]\n",
      "k = 256 : [-16.35289993  22.90036739]\n",
      "k = 257 : [-16.99760106  11.97030534]\n",
      "k = 258 : [39.55581433 -1.99712132]\n",
      "k = 259 : [-31.82527739  28.60716105]\n",
      "k = 260 : [-8.84277463  2.32751041]\n",
      "k = 261 : [11.40204032 44.63811933]\n",
      "k = 262 : [-21.32108722 -35.09712966]\n",
      "k = 263 : [ -9.70123501 -13.19487994]\n",
      "k = 264 : [ 35.65769568 -29.22296465]\n",
      "k = 265 : [-28.13859847  20.34961881]\n",
      "k = 266 : [-15.42884427  27.3087908 ]\n",
      "k = 267 : [21.81920947 -3.75156218]\n",
      "k = 268 : [ 18.46823049 -38.11176133]\n",
      "k = 269 : [27.73927351  2.50082255]\n",
      "k = 270 : [-1.11533947 27.16246141]\n",
      "k = 271 : [11.71734439 16.19418537]\n",
      "k = 272 : [-19.87663803 -13.69174623]\n",
      "k = 273 : [24.83611043 31.13989848]\n",
      "k = 274 : [18.92991215 29.68967177]\n",
      "k = 275 : [ 0.34049421 32.14233818]\n",
      "k = 276 : [-24.26727727 -35.75620025]\n",
      "k = 277 : [30.02327053 32.55560406]\n",
      "k = 278 : [  2.10837544 -37.59096764]\n",
      "k = 279 : [-7.82728861 24.21219933]\n",
      "k = 280 : [-19.63247337  18.66877125]\n",
      "k = 281 : [ -1.77612877 -22.14750704]\n",
      "k = 282 : [30.75226898  4.65659775]\n",
      "k = 283 : [  0.2977982  -15.27749645]\n",
      "k = 284 : [ 21.48830354 -34.00886222]\n",
      "k = 285 : [1.47001824 5.22185872]\n",
      "k = 286 : [38.34242834 -0.91341406]\n",
      "k = 287 : [-29.72267483  16.90792422]\n",
      "k = 288 : [-9.33248201 21.55597632]\n",
      "k = 289 : [-2.27475854 -5.99125342]\n",
      "k = 290 : [-21.85527653 -10.43080795]\n",
      "k = 291 : [22.42542172  1.49759733]\n",
      "k = 292 : [-23.11236673  -1.15289963]\n",
      "k = 293 : [ 20.64854291 -22.13785519]\n",
      "k = 294 : [-22.98291347  19.54549308]\n",
      "k = 295 : [-7.12973446 15.91387745]\n",
      "k = 296 : [-11.73677857  -8.09984027]\n",
      "k = 297 : [25.73598359 25.61636629]\n",
      "k = 298 : [5.32486884 7.27852455]\n",
      "k = 299 : [-17.85628118 -23.85571441]\n",
      "k = 300 : [26.00469273 19.27613155]\n",
      "k = 301 : [-12.62228835  15.05017608]\n",
      "k = 302 : [ 20.87659457 -19.47817898]\n",
      "k = 303 : [-22.89500416  23.48116059]\n",
      "k = 304 : [-21.98947533 -20.69359491]\n",
      "k = 305 : [-12.14688921  13.69843488]\n",
      "k = 306 : [20.49148966  6.61245385]\n",
      "k = 307 : [29.44827925 26.16424601]\n",
      "k = 308 : [  5.25797209 -20.45310468]\n",
      "k = 309 : [-19.49607964  18.29420897]\n",
      "k = 310 : [-1.52016037 20.35800459]\n",
      "k = 311 : [-10.94897943  -6.64892471]\n",
      "k = 312 : [-15.37052824   7.58805504]\n",
      "k = 313 : [15.34456672 20.48491189]\n",
      "k = 314 : [ 6.46831993 -0.82910632]\n",
      "k = 315 : [  5.7925203  -20.68751623]\n",
      "k = 316 : [ 11.95423931 -20.32769337]\n",
      "k = 317 : [-17.90004918   2.3378866 ]\n",
      "k = 318 : [-20.13136099 -11.45347174]\n",
      "k = 319 : [-16.31667508  11.58986529]\n",
      "k = 320 : [ 0.87384063 24.98114614]\n",
      "k = 321 : [28.49701506 21.18586648]\n",
      "k = 322 : [-13.9173476    1.43358558]\n",
      "k = 323 : [17.64813141  5.57713403]\n",
      "k = 324 : [-15.72074822   8.24968196]\n",
      "k = 325 : [18.35592722 25.74294249]\n",
      "k = 326 : [-6.87386503  7.15199606]\n",
      "k = 327 : [-4.24114767 22.01524406]\n",
      "k = 328 : [-16.23912838   1.48790739]\n"
     ]
    }
   ],
   "source": [
    "\n",
    "\n",
    "def refined_global_optimizer(bounds, tol, warmup_iters, max_iters):\n",
    "    # Step 3.E: BFGS optimizer with tolerance `tol`\n",
    "    def optimizer(x0):\n",
    "        return minimize(griewank, x0, method='BFGS', tol=tol)\n",
    "\n",
    "    best_x = None\n",
    "    x_ast = None\n",
    "\n",
    "    for k in range(max_iters):\n",
    "        # Step 3.A: Draw random x^k uniformly within chosen bounds\n",
    "        x_k = np.random.uniform(bounds[0], bounds[1], size=2)\n",
    "\n",
    "        if k < warmup_iters:\n",
    "            x_k0 = x_k  # Step 3.B: Use x^k as the initial guess during warm-up iterations\n",
    "        else:\n",
    "            # Step 3.C: Calculate chi^k\n",
    "            chi_k = 0.50 * (2 / (1 + np.exp((k - warmup_iters) / 100)))\n",
    "\n",
    "            # Step 3.D: Calculate x_k0 using chi^k and x_ast\n",
    "            x_k0 = chi_k * x_k + (1 - chi_k) * x_ast\n",
    "\n",
    "        # Step 3.E: Run optimizer with x_k0 as the initial guess\n",
    "        result = optimizer(x_k0)\n",
    "\n",
    "        # Step 3.F: Update x_ast if the result is better\n",
    "        if x_ast is None or result.fun < griewank(x_ast):\n",
    "            x_ast = result.x\n",
    "\n",
    "        # Step 3.G: Check termination condition\n",
    "        if griewank(x_ast) < tol:\n",
    "            break\n",
    "\n",
    "        # Store the effective initial guess for each iteration\n",
    "        if best_x is None:\n",
    "            best_x = x_k0\n",
    "        else:\n",
    "            best_x = np.vstack((best_x, x_k0))\n",
    "\n",
    "    return x_ast, best_x\n",
    "\n",
    "# Define the settings\n",
    "bounds = [-600, 600]\n",
    "tol = 1e-8\n",
    "warmup_iters = 10\n",
    "max_iters = 1000\n",
    "\n",
    "# Run the optimizer\n",
    "x_ast, best_x = refined_global_optimizer(bounds, tol, warmup_iters, max_iters)\n",
    "\n",
    "# Print the final result\n",
    "print(\"Optimal solution:\")\n",
    "print(\"x_ast:\", x_ast)\n",
    "\n",
    "# Illustrate how the effective initial guesses x_k0 vary with the iteration counter k\n",
    "print(\"\\nEffective initial guesses:\")\n",
    "for k, x_k0 in enumerate(best_x):\n",
    "    print(\"k =\", k, \":\", x_k0)\n"
   ]
  },
  {
   "cell_type": "code",
   "execution_count": null,
   "metadata": {},
   "outputs": [
    {
     "name": "stdout",
     "output_type": "stream",
     "text": [
      "The optimal solution is: [3.14263714e-10 5.51301154e-10]\n",
      "And the objective value is: 0.0\n"
     ]
    },
    {
     "data": {
      "image/png": "[encoded data removed]",
      "text/plain": [
       "<Figure size 640x480 with 1 Axes>"
      ]
     },
     "metadata": {},
     "output_type": "display_data"
    }
   ],
   "source": [
    "# defining the refined global optimizer with multi-start\n",
    "def multi_start():\n",
    "\n",
    "    # step 1\n",
    "    x_min, x_max = [-600,600] # bounds\n",
    "    tau = 1e-8 # tolerance\n",
    "    np.random.seed(1998)\n",
    "\n",
    "    # step 2\n",
    "    K_warm = 10 # warm-up iterations\n",
    "    K = 1000 # maximum nb. of iterations\n",
    "\n",
    "    # step 3\n",
    "    # A\n",
    "    x_opt = np.random.uniform(x_min, x_max, size=2) # initial best solution\n",
    "    f_opt = griewank(x_opt) # function evaluated at best solution\n",
    "    f_opt_store1 = [f_opt]  # storing best solutions\n",
    "\n",
    "    for k in range(K):\n",
    "        x = np.random.uniform(x_min, x_max, size=2) # generate random solution\n",
    "\n",
    "        # B\n",
    "        if k < K_warm:\n",
    "            x_k0 = x\n",
    "        else:\n",
    "            # C: calculate chi\n",
    "            Chi_k = 0.50 * 2 / (1 + np.exp((k - K_warm) / 100)) \n",
    "            # D: refine initial guess\n",
    "            x_k0 = Chi_k * x + (1 - Chi_k) * x_opt \n",
    "\n",
    "        # E: optimize with x_k0 as initial guess\n",
    "        result = optimize.minimize(griewank, x_k0, method='BFGS', tol=tau)\n",
    "        x_k_star = result.x # optimized solution\n",
    "\n",
    "        # F: updating best solution (x_opt) if necessary\n",
    "        f_k_star = griewank(x_k_star)\n",
    "        if f_k_star < f_opt:\n",
    "            x_opt = x_k_star\n",
    "            f_opt = f_k_star\n",
    "\n",
    "        # G: check tolerance\n",
    "        if f_opt < tau:\n",
    "            break\n",
    "\n",
    "        f_opt_store1.append(f_opt)  # storing best objective for each iteration\n",
    "\n",
    "    # step 4 \n",
    "    return x_opt, f_opt_store1 # return result and stored history\n",
    "\n",
    "#printing results\n",
    "result, f_opt_store1 = multi_start()\n",
    "print(\"The optimal solution is:\", result)\n",
    "print(\"And the objective value is:\", griewank(result))\n",
    "\n",
    "# plotting the best objective value as a function of iteration counter\n",
    "iterations = range(len(f_opt_store1))\n",
    "plt.plot(iterations, f_opt_store1, c='blue')\n",
    "plt.xlabel(\"Iteration count\")\n",
    "plt.ylabel(\"Function Value\")\n",
    "plt.title(\"Effectiveness of Initial Guesses\")\n",
    "plt.show()"
   ]
  },
  {
   "attachments": {},
   "cell_type": "markdown",
   "metadata": {},
   "source": [
    "Implementing the refined global optimizer with multistart indicates that the best objective value is zero after about 150 iterations (when using the chosen seed). "
   ]
  },
  {
   "attachments": {},
   "cell_type": "markdown",
   "metadata": {},
   "source": [
    "**Question 2:** Is it a better idea to set $\\underline{K} = 100$? Is the convergence faster?"
   ]
  },
  {
   "cell_type": "code",
   "execution_count": null,
   "metadata": {},
   "outputs": [
    {
     "name": "stdout",
     "output_type": "stream",
     "text": [
      "The optimal solution is: [-2.78820218e-09 -9.20510420e-09]\n",
      "And the objective value is: 0.0\n"
     ]
    },
    {
     "data": {
      "image/png": "[encoded data removed]",
      "text/plain": [
       "<Figure size 640x480 with 1 Axes>"
      ]
     },
     "metadata": {},
     "output_type": "display_data"
    }
   ],
   "source": [
    "# defining the refined global optimizer with multi-start\n",
    "def multi_start_new():\n",
    "\n",
    "    # step 1\n",
    "    x_min, x_max = [-600,600] # bounds\n",
    "    tau = 1e-8 # tolerance\n",
    "    np.random.seed(1998)\n",
    "\n",
    "    # step 2\n",
    "    K_warm = 100 # warm-up iterations\n",
    "    K = 1000 # maximum nb. of iterations\n",
    "\n",
    "    # step 3\n",
    "    # A\n",
    "    x_opt = np.random.uniform(x_min, x_max, size=2) # initial best solution\n",
    "    f_opt = griewank(x_opt) # function evaluated at best solution\n",
    "    f_opt_store2 = [f_opt]  # storing best solutions\n",
    "\n",
    "    for k in range(K):\n",
    "        x = np.random.uniform(x_min, x_max, size=2) # generate random solution\n",
    "\n",
    "        # B\n",
    "        if k < K_warm:\n",
    "            x_k0 = x\n",
    "        else:\n",
    "            # C: calculate chi\n",
    "            Chi_k = 0.50 * 2 / (1 + np.exp((k - K_warm) / 100)) \n",
    "            # D: refine initial guess\n",
    "            x_k0 = Chi_k * x + (1 - Chi_k) * x_opt \n",
    "\n",
    "        # E: optimize with x_k0 as initial guess\n",
    "        result = optimize.minimize(griewank, x_k0, method='BFGS', tol=tau)\n",
    "        x_k_star = result.x # optimized solution\n",
    "\n",
    "        # F: updating best solution (x_opt) if necessary\n",
    "        f_k_star = griewank(x_k_star)\n",
    "        if f_k_star < f_opt:\n",
    "            x_opt = x_k_star\n",
    "            f_opt = f_k_star\n",
    "\n",
    "        # G: check tolerance\n",
    "        if f_opt < tau:\n",
    "            break\n",
    "\n",
    "        f_opt_store2.append(f_opt)  # storing best objective for each iteration\n",
    "\n",
    "    # step 4 \n",
    "    return x_opt, f_opt_store2 # return result and stored history\n",
    "\n",
    "#printing results\n",
    "result, f_opt_store2 = multi_start_new()\n",
    "print(\"The optimal solution is:\", result)\n",
    "print(\"And the objective value is:\", griewank(result))\n",
    "\n",
    "# plotting the best objective value as a function of iteration counter\n",
    "iterations1 = range(len(f_opt_store1))\n",
    "iterations2 = range(len(f_opt_store2))\n",
    "\n",
    "plt.plot(iterations1, f_opt_store1, c='blue', label='K=10')\n",
    "plt.plot(iterations2, f_opt_store2, c='red', label='K=100')\n",
    "\n",
    "plt.xlabel(\"Iteration count\")\n",
    "plt.ylabel(\"Function Value\")\n",
    "plt.title(\"Effectiveness of Initial Guesses\")\n",
    "plt.legend()\n",
    "plt.show()"
   ]
  },
  {
   "attachments": {},
   "cell_type": "markdown",
   "metadata": {},
   "source": [
    "We see that setting a higher value of $\\underline{K}$ makes the convergence slower compared to the first case where $\\underline{K} = 10$. This might be due to..."
   ]
  },
  {
   "cell_type": "markdown",
   "metadata": {},
   "source": []
  }
 ],
 "metadata": {
  "kernelspec": {
   "display_name": "base",
   "language": "python",
   "name": "python3"
  },
  "language_info": {
   "codemirror_mode": {
    "name": "ipython",
    "version": 3
   },
   "file_extension": ".py",
   "mimetype": "text/x-python",
   "name": "python",
   "nbconvert_exporter": "python",
   "pygments_lexer": "ipython3",
   "version": "3.9.13"
  },
  "orig_nbformat": 4,
  "vscode": {
   "interpreter": {
    "hash": "81ba5019e37842368fc49be8de08a0e006194f34fe1ed2c457994b200a6baabe"
   }
  }
 },
 "nbformat": 4,
 "nbformat_minor": 2
}
