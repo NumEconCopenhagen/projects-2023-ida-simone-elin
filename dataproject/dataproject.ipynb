{
 "cells": [
  {
   "attachments": {},
   "cell_type": "markdown",
   "metadata": {},
   "source": [
    "# Dataproject on life expectancy"
   ]
  },
  {
   "cell_type": "markdown",
   "metadata": {},
   "source": [
    "Imports and set magics:"
   ]
  },
  {
   "cell_type": "code",
   "execution_count": null,
   "metadata": {},
   "outputs": [],
   "source": [
    "import pandas as pd\n",
    "import geopandas as gpd\n",
    "import numpy as np\n",
    "import matplotlib.pyplot as plt\n",
    "from mpl_toolkits.axes_grid1.axes_divider import make_axes_locatable\n",
    "import plotly.graph_objects as go\n",
    "import ipywidgets as widgets\n",
    "\n",
    "# autoreload modules when code is run\n",
    "%load_ext autoreload\n",
    "%autoreload 2\n",
    "\n",
    "# user written modules\n",
    "import dataproject\n"
   ]
  },
  {
   "cell_type": "code",
   "execution_count": null,
   "metadata": {},
   "outputs": [],
   "source": [
    "#pip install geopandas"
   ]
  },
  {
   "cell_type": "code",
   "execution_count": null,
   "metadata": {},
   "outputs": [],
   "source": [
    "#pip install linearmodels"
   ]
  },
  {
   "attachments": {},
   "cell_type": "markdown",
   "metadata": {},
   "source": [
    "# Our data \n",
    "\n",
    "In this data project we will investigate how daily smoking, social support and alcohol consumption affects life expectancy at age 65 years old. The explanatory variabels are chosen based on an expected effect. All data are taken from the OECD database (https://data.oecd.org) and are imported as csv-files. All datasets contain observations in the interval from 1960 to 2021. We import at the following datasets:\n",
    "\n",
    "-  **lifeexp65.csv:** Life expectancy at 65 is measured as the average number of years that a person at 65 years can be expected to live assuming that age-specifikc mortality levels remain constant. The dataset contains observations for men and women individually. We also import the two datasets *men_lifeexp65.csv* and *women_lifeexp65.csv* which contain *lifeexp65* data for men and women respectively in 2020. \n",
    "\n",
    "-  **alcohol.csv:** Alchol consumption is defined as annual sales of pure alcohol in litres per person aged 15 years and older. The dataset contains obervations for the entire population.\n",
    "\n",
    "-  **smokers.csv:** Daily smokers are defined as the population aged 15 years and older who are reporting to smoke every day. The indicator is measured as a percentage of the population aged 15 years and older and is stated for men, women and the total population.\n",
    "\n",
    "-  **socsupport.csv:** Social support indicates the share of people who report having friends or relatives whom they can count on in times of trouble. The indicator is measures as a percentage of survey respondent. Due to small sample sizes, country averages are pooled between 2010 and 2020. The survey sample is designed to be nationally representative of the population ages 15 years and older. \n",
    "\n",
    "To give an overview of the current lifeexpectancy on a global plan we present *lifeexp65* in two maps showing life expectancy at 65 for men and women respectively, in 2020 for data in our dataset. "
   ]
  },
  {
   "cell_type": "code",
   "execution_count": null,
   "metadata": {},
   "outputs": [],
   "source": [
    "# making overview map for countries in data set\n",
    "\n",
    "for data in ['men_lifeexp65.csv', 'women_lifeexp65.csv']:\n",
    "    # rewrite to use in titles in final plot\n",
    "    data_title = data.rstrip('_lifeexp65.csv')\n",
    "    # load and clean data\n",
    "    mapdata = pd.read_csv(data)\n",
    "    drop = ['INDICATOR','SUBJECT','MEASURE','FREQUENCY','TIME','Flag Codes']\n",
    "    mapdata.drop(drop, axis=1, inplace=True)\n",
    "\n",
    "    # load data to make world map\n",
    "    df_world = gpd.read_file(gpd.datasets.get_path('naturalearth_lowres'))\n",
    "\n",
    "    # merge map data to world map\n",
    "    df_world_mapdata = df_world.merge(mapdata, how=\"left\", left_on=['iso_a3'], right_on=['LOCATION'])\n",
    "\n",
    "    # add visuals, axes, labels and title\n",
    "    fig, ax = plt.subplots(1, 1, figsize=(20, 16))\n",
    "    divider = make_axes_locatable(ax)\n",
    "    cax = divider.append_axes(\"right\", size=\"2%\", pad=\"0.5%\")\n",
    "    df_world_mapdata.plot(column=\"Value\", ax=ax, cax=cax, cmap='OrRd',legend=True, legend_kwds={\"label\": \"Life expectancy at 65\"}, missing_kwds={'color':'lightgrey'}, vmin=5, vmax=28)\n",
    "    ax.set_title(f'Life expectancy at 65 for countries in data set (2020), {data_title}')\n",
    "\n",
    "\n"
   ]
  },
  {
   "cell_type": "markdown",
   "metadata": {},
   "source": [
    "# Read and clean data"
   ]
  },
  {
   "attachments": {},
   "cell_type": "markdown",
   "metadata": {},
   "source": [
    "#### We import the 4 different CSV files"
   ]
  },
  {
   "cell_type": "code",
   "execution_count": null,
   "metadata": {},
   "outputs": [],
   "source": [
    "# importing data\n",
    "alcohol = pd.read_csv('alcohol.csv')\n",
    "life_exp_65 = pd.read_csv('lifeexp65.csv')\n",
    "smokers = pd.read_csv('smokers.csv')\n",
    "social_support = pd.read_csv('socsupport.csv')"
   ]
  },
  {
   "attachments": {},
   "cell_type": "markdown",
   "metadata": {},
   "source": [
    "Forsøg på at loope csv filerne ind - men hvordan gemmer hver for sig og ikke i en liste"
   ]
  },
  {
   "cell_type": "code",
   "execution_count": null,
   "metadata": {},
   "outputs": [],
   "source": [
    "dataframes = []\n",
    "filename = ['alcohol','smokers','lifeexp65','socsupport']\n",
    "for i in range(len(filename)):\n",
    "    temp_df = pd.read_csv(f\"{filename[i]}.csv\")\n",
    "    dataframes.append(temp_df)\n",
    "\n",
    "alcohol = dataframes[0]\n",
    "smokers = dataframes[1]\n",
    "life_exp_65 = dataframes[2]\n",
    "social_support = dataframes[3]\n"
   ]
  },
  {
   "attachments": {},
   "cell_type": "markdown",
   "metadata": {},
   "source": [
    "### Cleaning each dataset"
   ]
  },
  {
   "attachments": {},
   "cell_type": "markdown",
   "metadata": {},
   "source": [
    "Prøver at rense alle datasættene samtidig"
   ]
  },
  {
   "cell_type": "code",
   "execution_count": null,
   "metadata": {},
   "outputs": [],
   "source": [
    "drop_these = ['INDICATOR','MEASURE','FREQUENCY','Flag Codes'] \n",
    "for df in range(len(dataframes)) : \n",
    "   df = dataframes[i]\n",
    "   df.drop(drop_these, axis=1, inplace=True)"
   ]
  },
  {
   "cell_type": "code",
   "execution_count": 4,
   "metadata": {},
   "outputs": [
    {
     "ename": "AttributeError",
     "evalue": "'str' object has no attribute 'drop'",
     "output_type": "error",
     "traceback": [
      "\u001b[0;31m---------------------------------------------------------------------------\u001b[0m",
      "\u001b[0;31mAttributeError\u001b[0m                            Traceback (most recent call last)",
      "\u001b[0;32m/var/folders/qv/pb7dpxz14wl35c78zxg1rrzw0000gn/T/ipykernel_18514/2659128281.py\u001b[0m in \u001b[0;36m<module>\u001b[0;34m\u001b[0m\n\u001b[1;32m      1\u001b[0m \u001b[0;32mfor\u001b[0m \u001b[0mdf\u001b[0m \u001b[0;32min\u001b[0m \u001b[0;34m[\u001b[0m\u001b[0;34m'alcohol'\u001b[0m\u001b[0;34m,\u001b[0m\u001b[0;34m'life_exp_65'\u001b[0m\u001b[0;34m,\u001b[0m\u001b[0;34m'smokers'\u001b[0m\u001b[0;34m,\u001b[0m\u001b[0;34m'social_support'\u001b[0m\u001b[0;34m]\u001b[0m\u001b[0;34m:\u001b[0m\u001b[0;34m\u001b[0m\u001b[0;34m\u001b[0m\u001b[0m\n\u001b[0;32m----> 2\u001b[0;31m     \u001b[0mdf\u001b[0m\u001b[0;34m.\u001b[0m\u001b[0mdrop\u001b[0m\u001b[0;34m(\u001b[0m\u001b[0mdrop\u001b[0m\u001b[0;34m,\u001b[0m \u001b[0maxis\u001b[0m\u001b[0;34m=\u001b[0m\u001b[0;36m1\u001b[0m\u001b[0;34m,\u001b[0m \u001b[0minplace\u001b[0m\u001b[0;34m=\u001b[0m\u001b[0;32mTrue\u001b[0m\u001b[0;34m)\u001b[0m\u001b[0;34m\u001b[0m\u001b[0;34m\u001b[0m\u001b[0m\n\u001b[0m",
      "\u001b[0;31mAttributeError\u001b[0m: 'str' object has no attribute 'drop'"
     ]
    }
   ],
   "source": [
    "for df in ['alcohol','life_exp_65','smokers','social_support']:\n",
    "    df.drop(drop, axis=1, inplace=True)"
   ]
  },
  {
   "attachments": {},
   "cell_type": "markdown",
   "metadata": {},
   "source": [
    "#### Life expentancy at 65"
   ]
  },
  {
   "cell_type": "code",
   "execution_count": null,
   "metadata": {},
   "outputs": [],
   "source": [
    "# clean life_exp_65 data\n",
    "drop = ['INDICATOR','MEASURE','FREQUENCY','Flag Codes']\n",
    "life_exp_65.drop(drop, axis=1, inplace=True)\n",
    "\n",
    "life_exp_65.rename(columns={'LOCATION':'country', 'SUBJECT':'sex','TIME':'year', 'Value':'exp_years'}, inplace=True)\n",
    "\n",
    "life_exp_65_wide = pd.pivot_table(life_exp_65,index='country',columns='year',values='exp_years')"
   ]
  },
  {
   "attachments": {},
   "cell_type": "markdown",
   "metadata": {},
   "source": [
    "#### Alcohol"
   ]
  },
  {
   "cell_type": "code",
   "execution_count": null,
   "metadata": {},
   "outputs": [],
   "source": [
    "# clean alcohol data\n",
    "drop = ['INDICATOR','SUBJECT','MEASURE','FREQUENCY','Flag Codes']\n",
    "alcohol.drop(drop, axis=1, inplace=True)\n",
    "\n",
    "alcohol.rename(columns={'LOCATION':'country', 'TIME':'year', 'Value':'alcohol_sale'}, inplace=True)"
   ]
  },
  {
   "attachments": {},
   "cell_type": "markdown",
   "metadata": {},
   "source": [
    "#### Smokers"
   ]
  },
  {
   "cell_type": "code",
   "execution_count": null,
   "metadata": {},
   "outputs": [],
   "source": [
    "# clean smokers data\n",
    "I = smokers.SUBJECT.str.contains('WOMEN')\n",
    "I |= smokers.SUBJECT.str.contains('MEN')\n",
    "smokers.loc[I,:]\n",
    "smokers = smokers.loc[I == False]\n",
    "\n",
    "drop = ['INDICATOR','SUBJECT','MEASURE','FREQUENCY','Flag Codes']\n",
    "smokers.drop(drop, axis=1, inplace=True)\n",
    "\n",
    "smokers.rename(columns={'LOCATION':'country', 'TIME':'year', 'Value':'smoking'}, inplace=True)"
   ]
  },
  {
   "attachments": {},
   "cell_type": "markdown",
   "metadata": {},
   "source": [
    "#### Social support"
   ]
  },
  {
   "cell_type": "code",
   "execution_count": null,
   "metadata": {},
   "outputs": [],
   "source": [
    "# clean social_support data\n",
    "I = social_support.SUBJECT.str.contains('TOT')\n",
    "social_support.loc[I,:]\n",
    "social_support = social_support.loc[I == True]\n",
    "\n",
    "drop = ['INDICATOR','SUBJECT','MEASURE','FREQUENCY','Flag Codes']\n",
    "social_support.drop(drop, axis=1, inplace=True)\n",
    "\n",
    "social_support.rename(columns={'LOCATION':'country', 'TIME':'year', 'Value':'share_support'}, inplace=True)"
   ]
  },
  {
   "cell_type": "markdown",
   "metadata": {},
   "source": [
    "## Explore each data set"
   ]
  },
  {
   "cell_type": "markdown",
   "metadata": {},
   "source": [
    "In order to be able to **explore the raw data**, you may provide **static** and **interactive plots** to show important developments "
   ]
  },
  {
   "cell_type": "markdown",
   "metadata": {},
   "source": [
    "# Merge data sets"
   ]
  },
  {
   "attachments": {},
   "cell_type": "markdown",
   "metadata": {},
   "source": [
    "We stack the wide dataset of life expectancy to create a long format, we can merge with the other datasets. "
   ]
  },
  {
   "cell_type": "code",
   "execution_count": null,
   "metadata": {},
   "outputs": [],
   "source": [
    "life_exp_stack = life_exp_65_wide.stack().reset_index()\n",
    "life_exp_stack.rename(columns={0:'avg_life_exp65'},inplace=True)\n",
    "life_exp_stack"
   ]
  },
  {
   "cell_type": "code",
   "execution_count": null,
   "metadata": {},
   "outputs": [],
   "source": [
    "mergedtest = life_exp_stack.merge(alcohol, on=['country','year'],how='left').merge(smokers, on=['country','year'],how='left').merge(social_support,on=['country','year'],how='left')\n",
    "mergedtest.set_index(['country','year'])"
   ]
  },
  {
   "attachments": {},
   "cell_type": "markdown",
   "metadata": {},
   "source": [
    "Gammel kode"
   ]
  },
  {
   "cell_type": "code",
   "execution_count": null,
   "metadata": {},
   "outputs": [],
   "source": [
    "#merging the data\n",
    "\n",
    "smokeralc = pd.merge(smokers,alcohol,on=['country','year'],how='left')\n",
    "smokalcsoc = pd.merge(smokeralc, social_support,on=['country','year'],how='left')\n",
    "merged = pd.merge(life_exp_stack, smokalcsoc ,on=['country','year'],how='left')\n",
    "\n",
    "merged.rename(columns = {'0':'life_exp'},inplace=True)\n",
    "merged.set_index(['country','year'])\n",
    "merged.loc[merged.country == 'AUS'].head(40)"
   ]
  },
  {
   "attachments": {},
   "cell_type": "markdown",
   "metadata": {},
   "source": [
    "### KODE TIL FÆLLES WIDGET"
   ]
  },
  {
   "attachments": {},
   "cell_type": "markdown",
   "metadata": {},
   "source": [
    "Forsøg på ny kode med life exp og det nye mergede dataset OBS problemer"
   ]
  },
  {
   "cell_type": "code",
   "execution_count": null,
   "metadata": {},
   "outputs": [],
   "source": [
    "def plot(df, country, var):\n",
    "    I=df['country']== country\n",
    "    ax=df.loc[I,:].plot(x='year', y=str(var), legend=False) \n",
    "    \n",
    "def plot_timeseries(df):\n",
    "    widgets.interact(plot, \n",
    "    df = widgets.fixed(df),\n",
    "    var = widgets.Dropdown(\n",
    "        description='variable', \n",
    "        options=['avg_life_exp65', 'alcohol_sale','smoking','share_support'], \n",
    "        value='avg_life_exp65'),\n",
    "    country = widgets.Dropdown(\n",
    "        description='country', \n",
    "        options=df.country.value_counts().index.to_list(), \n",
    "        value='AUS')          \n",
    ");"
   ]
  },
  {
   "cell_type": "code",
   "execution_count": null,
   "metadata": {},
   "outputs": [],
   "source": [
    "plot_timeseries(mergedtest)"
   ]
  },
  {
   "attachments": {},
   "cell_type": "markdown",
   "metadata": {},
   "source": [
    "Original kode"
   ]
  },
  {
   "cell_type": "code",
   "execution_count": null,
   "metadata": {},
   "outputs": [],
   "source": [
    "def plot(df, country, var):\n",
    "    I=df['country']== country\n",
    "    ax=df.loc[I,:].plot(x='year', y=str(var), legend=False) \n",
    "    \n",
    "def plot_timeseries(df):\n",
    "    widgets.interact(plot, \n",
    "    df = widgets.fixed(df),\n",
    "    var = widgets.Dropdown(\n",
    "        description='variable', \n",
    "        options=['smoking','alcohol_sale','share_support'], \n",
    "        value='smoking'),\n",
    "    country = widgets.Dropdown(\n",
    "        description='country', \n",
    "        options=df.country.value_counts().index.to_list(), \n",
    "        value='AUS')          \n",
    ");"
   ]
  },
  {
   "cell_type": "code",
   "execution_count": null,
   "metadata": {},
   "outputs": [],
   "source": [
    "plot_timeseries(merged)"
   ]
  },
  {
   "cell_type": "markdown",
   "metadata": {},
   "source": [
    "Now you create combinations of your loaded data sets. Remember the illustration of a (inner) **merge**:"
   ]
  },
  {
   "cell_type": "markdown",
   "metadata": {},
   "source": [
    "Here we are dropping elements from both data set X and data set Y. A left join would keep all observations in data X intact and subset only from Y. \n",
    "\n",
    "Make sure that your resulting data sets have the correct number of rows and columns. That is, be clear about which observations are thrown away. \n",
    "\n",
    "**Note:** Don't make Venn diagrams in your own data project. It is just for exposition. "
   ]
  },
  {
   "cell_type": "markdown",
   "metadata": {},
   "source": [
    "# Analysis"
   ]
  },
  {
   "attachments": {},
   "cell_type": "markdown",
   "metadata": {},
   "source": [
    "Vi laver inner merged til vores regression - kun år hvor hvert land har alle værdier"
   ]
  },
  {
   "attachments": {},
   "cell_type": "markdown",
   "metadata": {},
   "source": [
    "Ny merge kode"
   ]
  },
  {
   "cell_type": "code",
   "execution_count": null,
   "metadata": {},
   "outputs": [],
   "source": [
    "mergedregress2= life_exp_stack.merge(alcohol, on=['country','year'],how='inner').merge(smokers, on=['country','year'],how='inner').merge(social_support,on=['country','year'],how='inner')\n",
    "mergedregress2.set_index(['country','year'])"
   ]
  },
  {
   "attachments": {},
   "cell_type": "markdown",
   "metadata": {},
   "source": [
    "Gammel merge kode:"
   ]
  },
  {
   "cell_type": "code",
   "execution_count": null,
   "metadata": {},
   "outputs": [],
   "source": [
    "#merging the data for regression\n",
    "smokeralcregress = pd.merge(smokers,alcohol,on=['country','year'],how='inner')\n",
    "smokalcsocregress = pd.merge(smokeralcregress, social_support,on=['country','year'],how='inner')\n",
    "mergedregress = pd.merge(df1, smokalcsocregress ,on=['country','year'],how='inner')\n",
    "mergedregress.head(20)\n",
    "mergedregress.rename(columns={0:'life_exp'},inplace=True)\n",
    "mergedregress.head(20)"
   ]
  },
  {
   "cell_type": "code",
   "execution_count": null,
   "metadata": {},
   "outputs": [],
   "source": [
    "index = pd.MultiIndex.from_frame(mergedregress[['country', 'year']])\n",
    "\n",
    "regression = pd.DataFrame(mergedregress[mergedregress.columns.to_list()[2:]].values ,index=index, columns=['y','x1','x2','x3'])\n",
    "\n",
    "from linearmodels.panel import PanelOLS\n",
    "\n",
    "mod = PanelOLS.from_formula(\"y ~ 1 + x1 + x2 + x3 + EntityEffects + TimeEffects\", data=regression)\n",
    "\n",
    "res = mod.fit(cov_type='clustered', cluster_entity=True)\n",
    "\n",
    "print(res)"
   ]
  },
  {
   "cell_type": "code",
   "execution_count": null,
   "metadata": {},
   "outputs": [],
   "source": [
    "res.params"
   ]
  },
  {
   "cell_type": "markdown",
   "metadata": {},
   "source": [
    "To get a quick overview of the data, we show some **summary statistics** on a meaningful aggregation. "
   ]
  },
  {
   "cell_type": "markdown",
   "metadata": {},
   "source": [
    "MAKE FURTHER ANALYSIS. EXPLAIN THE CODE BRIEFLY AND SUMMARIZE THE RESULTS."
   ]
  },
  {
   "cell_type": "markdown",
   "metadata": {},
   "source": [
    "# Conclusion"
   ]
  },
  {
   "cell_type": "markdown",
   "metadata": {},
   "source": [
    "ADD CONCISE CONLUSION."
   ]
  }
 ],
 "metadata": {
  "kernelspec": {
   "display_name": "base",
   "language": "python",
   "name": "python3"
  },
  "language_info": {
   "codemirror_mode": {
    "name": "ipython",
    "version": 3
   },
   "file_extension": ".py",
   "mimetype": "text/x-python",
   "name": "python",
   "nbconvert_exporter": "python",
   "pygments_lexer": "ipython3",
   "version": "3.9.13"
  },
  "toc-autonumbering": true,
  "vscode": {
   "interpreter": {
    "hash": "a08668cbea4845e995468df5c9bd6d65f7b71debe4a0fed0e65bd522ad3a74b1"
   }
  }
 },
 "nbformat": 4,
 "nbformat_minor": 4
}
